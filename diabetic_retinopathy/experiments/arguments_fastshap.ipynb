{
 "cells": [
  {
   "cell_type": "code",
   "execution_count": 1,
   "id": "intensive-cylinder",
   "metadata": {},
   "outputs": [],
   "source": [
    "from sklearn.model_selection import ParameterGrid\n",
    "import pickle\n",
    "import pandas as pd\n",
    "\n",
    "pd.set_option('display.max_rows', 500)\n",
    "pd.set_option('display.max_columns', 500)\n",
    "pd.set_option('display.width', 1000)"
   ]
  },
  {
   "cell_type": "markdown",
   "id": "careful-prevention",
   "metadata": {},
   "source": [
    "# Hyperparameters"
   ]
  },
  {
   "cell_type": "code",
   "execution_count": 2,
   "id": "piano-cause",
   "metadata": {},
   "outputs": [],
   "source": [
    "# Specifiy Parameters\n",
    "params = {\n",
    "    \"lr\": [1e-4],\n",
    "    \"epochs\": [100],\n",
    "    \"batch_size\": [16],\n",
    "    \"lookback\": [20],\n",
    "    \"num_samples\": [1, 2, 4, 8, 16],\n",
    "    \"paired_sampling\": [False],\n",
    "    \"eff_lambda\": [0.],\n",
    "    \"normalization\": [None],\n",
    "}\n",
    "\n",
    "# Create Experiments as All Combinations\n",
    "exp_list = list(ParameterGrid(params))\n",
    "\n",
    "# Save Arguments To File\n",
    "with open('fastshap/arg_file.pkl', 'wb') as arg_file:\n",
    "    pickle.dump(exp_list, arg_file)"
   ]
  },
  {
   "cell_type": "code",
   "execution_count": 3,
   "id": "ready-flower",
   "metadata": {},
   "outputs": [
    {
     "data": {
      "text/plain": [
       "5"
      ]
     },
     "execution_count": 3,
     "metadata": {},
     "output_type": "execute_result"
    }
   ],
   "source": [
    "len(exp_list)"
   ]
  },
  {
   "cell_type": "markdown",
   "id": "425767c9",
   "metadata": {},
   "source": [
    "# Results"
   ]
  },
  {
   "cell_type": "code",
   "execution_count": 4,
   "id": "touched-shopping",
   "metadata": {},
   "outputs": [],
   "source": [
    "results = pd.read_csv('fastshap-dkl/results.csv')"
   ]
  },
  {
   "cell_type": "code",
   "execution_count": 5,
   "id": "205b38ba",
   "metadata": {},
   "outputs": [
    {
     "data": {
      "text/html": [
       "<div>\n",
       "<style scoped>\n",
       "    .dataframe tbody tr th:only-of-type {\n",
       "        vertical-align: middle;\n",
       "    }\n",
       "\n",
       "    .dataframe tbody tr th {\n",
       "        vertical-align: top;\n",
       "    }\n",
       "\n",
       "    .dataframe thead th {\n",
       "        text-align: right;\n",
       "    }\n",
       "</style>\n",
       "<table border=\"1\" class=\"dataframe\">\n",
       "  <thead>\n",
       "    <tr style=\"text-align: right;\">\n",
       "      <th></th>\n",
       "      <th>Unnamed: 0</th>\n",
       "      <th>model_dir</th>\n",
       "      <th>lr</th>\n",
       "      <th>epochs</th>\n",
       "      <th>batch_size</th>\n",
       "      <th>lookback</th>\n",
       "      <th>num_samples</th>\n",
       "      <th>paired_sampling</th>\n",
       "      <th>eff_lambda</th>\n",
       "      <th>normalization</th>\n",
       "      <th>training_time</th>\n",
       "      <th>explaining_time</th>\n",
       "      <th>AUC_acc-retro_ex_val</th>\n",
       "      <th>AUC_auroc-retro_ex_val</th>\n",
       "      <th>AUC_log_likelihood-retro_ex_val</th>\n",
       "      <th>AUC_log_odds-retro_ex_val</th>\n",
       "      <th>AUC_acc-retro_ex_test</th>\n",
       "      <th>AUC_auroc-retro_ex_test</th>\n",
       "      <th>AUC_log_likelihood-retro_ex_test</th>\n",
       "      <th>AUC_log_odds-retro_ex_test</th>\n",
       "      <th>AUC_acc-retro_ex_test_fixed</th>\n",
       "      <th>AUC_auroc-retro_ex_test_fixed</th>\n",
       "      <th>AUC_log_likelihood-retro_ex_test_fixed</th>\n",
       "      <th>AUC_log_odds-retro_ex_test_fixed</th>\n",
       "      <th>AUC_acc-retro_in_val</th>\n",
       "      <th>AUC_auroc-retro_in_val</th>\n",
       "      <th>AUC_log_likelihood-retro_in_val</th>\n",
       "      <th>AUC_log_odds-retro_in_val</th>\n",
       "      <th>AUC_acc-retro_in_test</th>\n",
       "      <th>AUC_auroc-retro_in_test</th>\n",
       "      <th>AUC_log_likelihood-retro_in_test</th>\n",
       "      <th>AUC_log_odds-retro_in_test</th>\n",
       "      <th>AUC_acc-retro_in_test_fixed</th>\n",
       "      <th>AUC_auroc-retro_in_test_fixed</th>\n",
       "      <th>AUC_log_likelihood-retro_in_test_fixed</th>\n",
       "      <th>AUC_log_odds-retro_in_test_fixed</th>\n",
       "      <th>AUC_acc-pro_ex_val</th>\n",
       "      <th>AUC_auroc-pro_ex_val</th>\n",
       "      <th>AUC_log_likelihood-pro_ex_val</th>\n",
       "      <th>AUC_log_odds-pro_ex_val</th>\n",
       "      <th>AUC_acc-pro_ex_test</th>\n",
       "      <th>AUC_auroc-pro_ex_test</th>\n",
       "      <th>AUC_log_likelihood-pro_ex_test</th>\n",
       "      <th>AUC_log_odds-pro_ex_test</th>\n",
       "      <th>AUC_acc-pro_ex_test_fixed</th>\n",
       "      <th>AUC_auroc-pro_ex_test_fixed</th>\n",
       "      <th>AUC_log_likelihood-pro_ex_test_fixed</th>\n",
       "      <th>AUC_log_odds-pro_ex_test_fixed</th>\n",
       "      <th>AUC_acc-pro_in_val</th>\n",
       "      <th>AUC_auroc-pro_in_val</th>\n",
       "      <th>AUC_log_likelihood-pro_in_val</th>\n",
       "      <th>AUC_log_odds-pro_in_val</th>\n",
       "      <th>AUC_acc-pro_in_test</th>\n",
       "      <th>AUC_auroc-pro_in_test</th>\n",
       "      <th>AUC_log_likelihood-pro_in_test</th>\n",
       "      <th>AUC_log_odds-pro_in_test</th>\n",
       "      <th>AUC_acc-pro_in_test_fixed</th>\n",
       "      <th>AUC_auroc-pro_in_test_fixed</th>\n",
       "      <th>AUC_log_likelihood-pro_in_test_fixed</th>\n",
       "      <th>AUC_log_odds-pro_in_test_fixed</th>\n",
       "    </tr>\n",
       "  </thead>\n",
       "  <tbody>\n",
       "    <tr>\n",
       "      <th>0</th>\n",
       "      <td>0</td>\n",
       "      <td>fastshap-dkl/0</td>\n",
       "      <td>0.0001</td>\n",
       "      <td>100</td>\n",
       "      <td>16</td>\n",
       "      <td>20</td>\n",
       "      <td>1</td>\n",
       "      <td>False</td>\n",
       "      <td>0.0</td>\n",
       "      <td>NaN</td>\n",
       "      <td>1864.460934</td>\n",
       "      <td>29.979987</td>\n",
       "      <td>0.19957</td>\n",
       "      <td>0.507176</td>\n",
       "      <td>-3.339623</td>\n",
       "      <td>-2.918541</td>\n",
       "      <td>0.201142</td>\n",
       "      <td>0.504927</td>\n",
       "      <td>-3.332784</td>\n",
       "      <td>-2.910891</td>\n",
       "      <td>0.361418</td>\n",
       "      <td>0.790404</td>\n",
       "      <td>-1.682155</td>\n",
       "      <td>-1.003787</td>\n",
       "      <td>0.20208</td>\n",
       "      <td>0.501434</td>\n",
       "      <td>-3.357946</td>\n",
       "      <td>-2.941732</td>\n",
       "      <td>0.208602</td>\n",
       "      <td>0.502429</td>\n",
       "      <td>-3.330352</td>\n",
       "      <td>-2.909036</td>\n",
       "      <td>0.371362</td>\n",
       "      <td>0.785713</td>\n",
       "      <td>-1.694191</td>\n",
       "      <td>-0.991494</td>\n",
       "      <td>0.19957</td>\n",
       "      <td>0.507176</td>\n",
       "      <td>-3.339623</td>\n",
       "      <td>-2.918541</td>\n",
       "      <td>0.201142</td>\n",
       "      <td>0.504927</td>\n",
       "      <td>-3.332784</td>\n",
       "      <td>-2.910891</td>\n",
       "      <td>0.361418</td>\n",
       "      <td>0.790404</td>\n",
       "      <td>-1.682155</td>\n",
       "      <td>-1.003787</td>\n",
       "      <td>0.20208</td>\n",
       "      <td>0.501434</td>\n",
       "      <td>-3.357946</td>\n",
       "      <td>-2.941732</td>\n",
       "      <td>0.208602</td>\n",
       "      <td>0.502429</td>\n",
       "      <td>-3.330352</td>\n",
       "      <td>-2.909036</td>\n",
       "      <td>0.371362</td>\n",
       "      <td>0.785713</td>\n",
       "      <td>-1.694191</td>\n",
       "      <td>-0.991494</td>\n",
       "    </tr>\n",
       "  </tbody>\n",
       "</table>\n",
       "</div>"
      ],
      "text/plain": [
       "   Unnamed: 0       model_dir      lr  epochs  batch_size  lookback  num_samples  paired_sampling  eff_lambda  normalization  training_time  explaining_time  AUC_acc-retro_ex_val  AUC_auroc-retro_ex_val  AUC_log_likelihood-retro_ex_val  AUC_log_odds-retro_ex_val  AUC_acc-retro_ex_test  AUC_auroc-retro_ex_test  AUC_log_likelihood-retro_ex_test  AUC_log_odds-retro_ex_test  AUC_acc-retro_ex_test_fixed  AUC_auroc-retro_ex_test_fixed  AUC_log_likelihood-retro_ex_test_fixed  AUC_log_odds-retro_ex_test_fixed  AUC_acc-retro_in_val  AUC_auroc-retro_in_val  AUC_log_likelihood-retro_in_val  AUC_log_odds-retro_in_val  AUC_acc-retro_in_test  AUC_auroc-retro_in_test  AUC_log_likelihood-retro_in_test  AUC_log_odds-retro_in_test  AUC_acc-retro_in_test_fixed  AUC_auroc-retro_in_test_fixed  AUC_log_likelihood-retro_in_test_fixed  AUC_log_odds-retro_in_test_fixed  AUC_acc-pro_ex_val  AUC_auroc-pro_ex_val  AUC_log_likelihood-pro_ex_val  AUC_log_odds-pro_ex_val  AUC_acc-pro_ex_test  \\\n",
       "0           0  fastshap-dkl/0  0.0001     100          16        20            1            False         0.0            NaN    1864.460934        29.979987               0.19957                0.507176                        -3.339623                  -2.918541               0.201142                 0.504927                         -3.332784                   -2.910891                     0.361418                       0.790404                               -1.682155                         -1.003787               0.20208                0.501434                        -3.357946                  -2.941732               0.208602                 0.502429                         -3.330352                   -2.909036                     0.371362                       0.785713                               -1.694191                         -0.991494             0.19957              0.507176                      -3.339623                -2.918541             0.201142   \n",
       "\n",
       "   AUC_auroc-pro_ex_test  AUC_log_likelihood-pro_ex_test  AUC_log_odds-pro_ex_test  AUC_acc-pro_ex_test_fixed  AUC_auroc-pro_ex_test_fixed  AUC_log_likelihood-pro_ex_test_fixed  AUC_log_odds-pro_ex_test_fixed  AUC_acc-pro_in_val  AUC_auroc-pro_in_val  AUC_log_likelihood-pro_in_val  AUC_log_odds-pro_in_val  AUC_acc-pro_in_test  AUC_auroc-pro_in_test  AUC_log_likelihood-pro_in_test  AUC_log_odds-pro_in_test  AUC_acc-pro_in_test_fixed  AUC_auroc-pro_in_test_fixed  AUC_log_likelihood-pro_in_test_fixed  AUC_log_odds-pro_in_test_fixed  \n",
       "0               0.504927                       -3.332784                 -2.910891                   0.361418                     0.790404                             -1.682155                       -1.003787             0.20208              0.501434                      -3.357946                -2.941732             0.208602               0.502429                       -3.330352                 -2.909036                   0.371362                     0.785713                             -1.694191                       -0.991494  "
      ]
     },
     "execution_count": 5,
     "metadata": {},
     "output_type": "execute_result"
    }
   ],
   "source": [
    "results"
   ]
  },
  {
   "cell_type": "code",
   "execution_count": null,
   "id": "410f6d0d",
   "metadata": {},
   "outputs": [],
   "source": []
  }
 ],
 "metadata": {
  "kernelspec": {
   "display_name": "Python 3 (ipykernel)",
   "language": "python",
   "name": "python3"
  },
  "language_info": {
   "codemirror_mode": {
    "name": "ipython",
    "version": 3
   },
   "file_extension": ".py",
   "mimetype": "text/x-python",
   "name": "python",
   "nbconvert_exporter": "python",
   "pygments_lexer": "ipython3",
   "version": "3.7.9"
  }
 },
 "nbformat": 4,
 "nbformat_minor": 5
}
