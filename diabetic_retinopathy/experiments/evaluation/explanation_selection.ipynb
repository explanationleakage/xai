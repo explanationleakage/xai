{
 "cells": [
  {
   "cell_type": "code",
   "execution_count": 2,
   "id": "016ca0bf",
   "metadata": {},
   "outputs": [],
   "source": [
    "import pickle\n",
    "import numpy as np\n",
    "import pandas as pd\n",
    "import os\n",
    "from tqdm.notebook import tqdm\n",
    "pd.set_option('display.max_rows', 500)\n",
    "pd.set_option('display.max_columns', 500)\n",
    "pd.set_option('display.width', 1000)"
   ]
  },
  {
   "cell_type": "code",
   "execution_count": 3,
   "id": "05816ea2",
   "metadata": {},
   "outputs": [],
   "source": [
    "methods = ['fastshap', 'fastshap-data', 'kernelshap', 'lime', 'smoothgrad', \n",
    "           'integratedgradients', 'kernelshap_s', 'kernelshap_s-data', 'kernelshap_s-dkl']"
   ]
  },
  {
   "cell_type": "code",
   "execution_count": 4,
   "id": "8ebea271",
   "metadata": {},
   "outputs": [
    {
     "name": "stdout",
     "output_type": "stream",
     "text": [
      "realx/4 AUC_auroc-retro_ex_val 0.504360534375\n",
      "realx/4 AUC_auroc-pro_ex_val 0.504360534375\n"
     ]
    }
   ],
   "source": [
    "for method in ['realx']:\n",
    "    # Load Tunning Results\n",
    "    results_dir = '../' + method\n",
    "    results_file = os.path.join(results_dir, 'results.csv')\n",
    "    results = pd.read_csv(results_file)\n",
    "    \n",
    "    for metric, evaluation in zip(['AUC_auroc-retro_ex_val', 'AUC_auroc-pro_ex_val'], \n",
    "                                  ['retrospective', 'prospective']):\n",
    "    \n",
    "        # Get Best Explanations\n",
    "        model_dir = results['model_dir'].iloc[results[metric].idxmin()]\n",
    "        print(model_dir, metric, results[metric].min())\n",
    "        if method  not in ['smoothgrad', 'integratedgradients', 'gradcam', 'realx', 'realx-data']:\n",
    "            exp_dir = os.path.join('..', model_dir, 'shap_values.pkl')\n",
    "        elif method in ['realx', 'realx-data']:\n",
    "            exp_dir = os.path.join('..', model_dir, 'explanations.npy')\n",
    "        else:\n",
    "            exp_dir = os.path.join('..', model_dir, 'explanations.pkl')\n",
    "\n",
    "        with open(exp_dir, 'rb') as f:\n",
    "            explanations = pickle.load(f)\n",
    "\n",
    "        # Get Times\n",
    "        explaining_time = results['explaining_time'].iloc[results[metric].idxmin()]\n",
    "        if method in ['fastshap-dkl', 'fastshap', 'fastshap-data', 'realx']:\n",
    "            training_time = results['training_time'].iloc[results[metric].idxmin()]\n",
    "\n",
    "        # Save Results\n",
    "        ## Times\n",
    "        with open(os.path.join(results_dir, 'explaining_time.pkl'), 'wb') as f:\n",
    "            pickle.dump(explaining_time, f)\n",
    "        if method in ['fastshap-dkl', 'fastshap', 'fastshap-data', 'realx']:\n",
    "            with open(os.path.join(results_dir, 'training_time.pkl'), 'wb') as f:\n",
    "                pickle.dump(training_time, f)\n",
    "\n",
    "        ## Explanations\n",
    "        if method  not in ['smoothgrad', 'integratedgradients', 'gradcam', 'realx', 'realx-data']:\n",
    "            exp_file = os.path.join(results_dir, 'shap_values-{}.pkl'.format(evaluation))\n",
    "        else:\n",
    "            exp_file = os.path.join(results_dir, 'explanations-{}.pkl'.format(evaluation))\n",
    "\n",
    "        with open(exp_file, 'wb') as f:\n",
    "            pickle.dump(explanations, f)"
   ]
  },
  {
   "cell_type": "code",
   "execution_count": 3,
   "id": "958e4ab1",
   "metadata": {},
   "outputs": [
    {
     "name": "stdout",
     "output_type": "stream",
     "text": [
      "fastshap-dkl/2 AUC_auroc-retro_ex_test_fixed 0.7161731165\n",
      "fastshap-dkl/2 AUC_auroc-pro_ex_test_fixed 0.7161731165\n"
     ]
    }
   ],
   "source": [
    "for method in ['fastshap-dkl']:\n",
    "    # Load Tunning Results\n",
    "    results_dir = '../' + method\n",
    "    results_file = os.path.join(results_dir, 'results.csv')\n",
    "    results = pd.read_csv(results_file)\n",
    "    \n",
    "    for metric, evaluation in zip(['AUC_auroc-retro_ex_test_fixed', 'AUC_auroc-pro_ex_test_fixed'], \n",
    "                                  ['retrospective', 'prospective']):\n",
    "    \n",
    "        # Get Best Explanations\n",
    "        model_dir = results['model_dir'].iloc[results[metric].idxmin()]\n",
    "        print(model_dir, metric, results[metric].min())\n",
    "        if method  not in ['smoothgrad', 'integratedgradients', 'gradcam', 'realx', 'realx-data']:\n",
    "            exp_dir = os.path.join('..', model_dir, 'shap_values.pkl')\n",
    "        elif method in ['realx', 'realx-data']:\n",
    "            exp_dir = os.path.join('..', model_dir, 'explanations.npy')\n",
    "        else:\n",
    "            exp_dir = os.path.join('..', model_dir, 'explanations.pkl')\n",
    "\n",
    "        with open(exp_dir, 'rb') as f:\n",
    "            explanations = pickle.load(f)\n",
    "\n",
    "        # Get Times\n",
    "        explaining_time = results['explaining_time'].iloc[results[metric].idxmin()]\n",
    "        if method in ['fastshap', 'fastshap-data', 'fastshap-dkl', 'realx']:\n",
    "            training_time = results['training_time'].iloc[results[metric].idxmin()]\n",
    "\n",
    "        # Save Results\n",
    "        ## Times\n",
    "        with open(os.path.join(results_dir, 'explaining_time.pkl'), 'wb') as f:\n",
    "            pickle.dump(explaining_time, f)\n",
    "        if method in ['fastshap', 'fastshap-data', 'fastshap-dkl']:\n",
    "            with open(os.path.join(results_dir, 'training_time.pkl'), 'wb') as f:\n",
    "                pickle.dump(training_time, f)\n",
    "\n",
    "        ## Explanations\n",
    "        if method  not in ['smoothgrad', 'integratedgradients', 'gradcam', 'realx', 'realx-data']:\n",
    "            exp_file = os.path.join(results_dir, 'shap_values-{}.pkl'.format(evaluation))\n",
    "        else:\n",
    "            exp_file = os.path.join(results_dir, 'explanations-{}.pkl'.format(evaluation))\n",
    "\n",
    "        with open(exp_file, 'wb') as f:\n",
    "            pickle.dump(explanations, f)"
   ]
  },
  {
   "cell_type": "code",
   "execution_count": null,
   "id": "dfa26c33",
   "metadata": {},
   "outputs": [],
   "source": []
  }
 ],
 "metadata": {
  "kernelspec": {
   "display_name": "Python 3 (ipykernel)",
   "language": "python",
   "name": "python3"
  },
  "language_info": {
   "codemirror_mode": {
    "name": "ipython",
    "version": 3
   },
   "file_extension": ".py",
   "mimetype": "text/x-python",
   "name": "python",
   "nbconvert_exporter": "python",
   "pygments_lexer": "ipython3",
   "version": "3.7.9"
  }
 },
 "nbformat": 4,
 "nbformat_minor": 5
}
