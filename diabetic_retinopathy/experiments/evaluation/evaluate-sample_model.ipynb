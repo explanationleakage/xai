{
 "cells": [
  {
   "cell_type": "code",
   "execution_count": 1,
   "id": "b62bba01",
   "metadata": {},
   "outputs": [],
   "source": [
    "import tensorflow as tf\n",
    "from tensorflow.keras.models import Model, Sequential\n",
    "from tensorflow.keras import regularizers\n",
    "from tensorflow.keras import backend as K\n",
    "from tensorflow.keras.callbacks import ModelCheckpoint, EarlyStopping, ReduceLROnPlateau\n",
    "from tensorflow.keras.layers import (Input, Layer, Dense, AveragePooling2D, UpSampling2D)\n",
    "\n",
    "import tensorflow_datasets as tfds\n",
    "\n",
    "from tensorflow.keras.applications.inception_v3 import InceptionV3\n",
    "\n",
    "import numpy as np\n",
    "import pandas as pd\n",
    "\n",
    "from datetime import datetime\n",
    "import os\n",
    "import sys\n",
    "import pickle\n",
    "import time\n",
    "import argparse\n",
    "from tqdm import tqdm\n",
    "import gc\n",
    "\n",
    "sys.path.insert(0, '/vast/nj594/xai/helpers')\n",
    "from evaluate import evaluate\n",
    "\n",
    "# IMPORTANT: SET RANDOM SEEDS FOR REPRODUCIBILITY\n",
    "os.environ['PYTHONHASHSEED'] = str(420)\n",
    "import random\n",
    "random.seed(420)\n",
    "np.random.seed(420)\n",
    "tf.random.set_seed(420)"
   ]
  },
  {
   "cell_type": "code",
   "execution_count": 2,
   "id": "ea5bd514",
   "metadata": {},
   "outputs": [],
   "source": [
    "# Load Data\n",
    "\n",
    "data_dir = os.path.join('..', 'data')\n",
    "\n",
    "X_val = np.load(os.path.join(data_dir, 'X_val_processed.npy'), allow_pickle=True)\n",
    "X_test = np.load(os.path.join(data_dir, 'X_test_processed.npy'), allow_pickle=True)\n",
    "\n",
    "y_val = np.load(os.path.join(data_dir, 'y_val.npy'), allow_pickle=True)\n",
    "y_test = np.load(os.path.join(data_dir, 'y_test.npy'), allow_pickle=True)\n",
    "y_test_fixed = np.load(os.path.join(data_dir, 'y_test_fixed.npy'), allow_pickle=True)\n",
    "\n",
    "preds = np.load(os.path.join(data_dir, 'predictions.npy'), allow_pickle=True)\n",
    "preds_discrete = np.eye(5)[preds.argmax(1)]\n",
    "preds_sample  = np.load(os.path.join(data_dir, 'predictions_sampled.npy'), allow_pickle=True)\n",
    "\n",
    "preds_val = np.load(os.path.join(data_dir, 'predictions_val.npy'), allow_pickle=True)\n",
    "preds_discrete_val = np.eye(5)[preds_val.argmax(1)]"
   ]
  },
  {
   "cell_type": "code",
   "execution_count": 3,
   "id": "344eabf3",
   "metadata": {},
   "outputs": [],
   "source": [
    "# Sample a Label from the Model Preds\n",
    "# cum_prob = np.cumsum(preds, axis=-1) # shape (n1, n2, m)\n",
    "# r = np.random.uniform(size=(preds.shape[0], 1))\n",
    "\n",
    "# preds_sample = np.argmax(cum_prob > r, axis=-1)\n",
    "# preds_sample = np.eye(5)[preds_sample]\n",
    "\n",
    "# np.save(os.path.join(data_dir, 'predictions_sampled.npy'), preds_sample)"
   ]
  },
  {
   "cell_type": "code",
   "execution_count": 4,
   "id": "56f1772e",
   "metadata": {},
   "outputs": [
    {
     "name": "stdout",
     "output_type": "stream",
     "text": [
      "Loading Evaluator\n"
     ]
    },
    {
     "name": "stderr",
     "output_type": "stream",
     "text": [
      "2022-05-16 23:10:03.108678: I tensorflow/core/platform/cpu_feature_guard.cc:142] This TensorFlow binary is optimized with oneAPI Deep Neural Network Library (oneDNN) to use the following CPU instructions in performance-critical operations:  SSE3 SSE4.1 SSE4.2 AVX AVX2 FMA\n",
      "To enable them in other operations, rebuild TensorFlow with the appropriate compiler flags.\n",
      "2022-05-16 23:10:03.109722: I tensorflow/core/common_runtime/gpu/gpu_device.cc:1510] Created device /job:localhost/replica:0/task:0/device:GPU:0 with 32252 MB memory:  -> device: 0, name: Vega 20, pci bus id: 0000:8a:00.0\n"
     ]
    },
    {
     "name": "stdout",
     "output_type": "stream",
     "text": [
      "WARNING:tensorflow:No training configuration found in the save file, so the model was *not* compiled. Compile it manually.\n"
     ]
    },
    {
     "data": {
      "text/plain": [
       "16588"
      ]
     },
     "execution_count": 4,
     "metadata": {},
     "output_type": "execute_result"
    }
   ],
   "source": [
    "# Load Evaluator Model\n",
    "print('Loading Evaluator')\n",
    "\n",
    "eval_dir = 'evaluator-data'\n",
    "evaluator_model = tf.keras.models.load_model(os.path.join(eval_dir, 'surrogate.h5'))\n",
    "\n",
    "OPTIMIZER = tf.keras.optimizers.Adam(1e-3)\n",
    "METRICS = [ \n",
    "  tf.keras.metrics.AUC(name='auroc'),\n",
    "  tf.keras.metrics.AUC(curve='PR', name='auprc'),\n",
    "  tf.keras.metrics.TopKCategoricalAccuracy(k=1, name='accuracy'),\n",
    "]\n",
    "\n",
    "evaluator_model.compile(\n",
    "    loss='categorical_crossentropy',\n",
    "    optimizer=OPTIMIZER,\n",
    "    metrics=METRICS,\n",
    ")\n",
    "\n",
    "gc.collect()"
   ]
  },
  {
   "cell_type": "code",
   "execution_count": null,
   "id": "94767641",
   "metadata": {},
   "outputs": [
    {
     "name": "stdout",
     "output_type": "stream",
     "text": [
      "fastshap-dkl\n",
      "100\n"
     ]
    },
    {
     "name": "stderr",
     "output_type": "stream",
     "text": [
      "2022-05-16 23:15:37.034216: I tensorflow/compiler/mlir/mlir_graph_optimization_pass.cc:185] None of the MLIR Optimization Passes are enabled (registered 2)\n",
      "2022-05-16 23:15:37.053916: I tensorflow/core/common_runtime/gpu_fusion_pass.cc:507] ROCm Fusion is enabled.\n",
      "2022-05-16 23:15:37.058116: I tensorflow/core/common_runtime/gpu_fusion_pass.cc:507] ROCm Fusion is enabled.\n",
      "2022-05-16 23:15:37.060542: I tensorflow/core/common_runtime/gpu_fusion_pass.cc:507] ROCm Fusion is enabled.\n",
      "2022-05-16 23:15:38.310747: I tensorflow/core/common_runtime/gpu_fusion_pass.cc:507] ROCm Fusion is enabled.\n",
      "MIOpen(HIP): Error [FindRecordUnsafe] Ill-formed record: key not found: /home/nj594/.config/miopen//gfx906_60.HIP.2_11_0_.ufdb.txt#486\n",
      "MIOpen(HIP): Error [FindRecordUnsafe] Ill-formed record: key not found: /home/nj594/.config/miopen//gfx906_60.HIP.2_11_0_.ufdb.txt#486\n",
      "MIOpen(HIP): Error [FindRecordUnsafe] Ill-formed record: key not found: /home/nj594/.config/miopen//gfx906_60.HIP.2_11_0_.ufdb.txt#486\n",
      "MIOpen(HIP): Error [FindRecordUnsafe] Ill-formed record: key not found: /home/nj594/.config/miopen//gfx906_60.HIP.2_11_0_.ufdb.txt#486\n"
     ]
    },
    {
     "name": "stdout",
     "output_type": "stream",
     "text": [
      "99\n"
     ]
    },
    {
     "name": "stderr",
     "output_type": "stream",
     "text": [
      "2022-05-16 23:16:38.950367: I tensorflow/core/common_runtime/gpu_fusion_pass.cc:507] ROCm Fusion is enabled.\n",
      "2022-05-16 23:16:38.954438: I tensorflow/core/common_runtime/gpu_fusion_pass.cc:507] ROCm Fusion is enabled.\n",
      "2022-05-16 23:16:38.956751: I tensorflow/core/common_runtime/gpu_fusion_pass.cc:507] ROCm Fusion is enabled.\n"
     ]
    },
    {
     "name": "stdout",
     "output_type": "stream",
     "text": [
      "95\n"
     ]
    },
    {
     "name": "stderr",
     "output_type": "stream",
     "text": [
      "2022-05-16 23:17:29.737586: I tensorflow/core/common_runtime/gpu_fusion_pass.cc:507] ROCm Fusion is enabled.\n",
      "2022-05-16 23:17:29.741540: I tensorflow/core/common_runtime/gpu_fusion_pass.cc:507] ROCm Fusion is enabled.\n",
      "2022-05-16 23:17:29.744000: I tensorflow/core/common_runtime/gpu_fusion_pass.cc:507] ROCm Fusion is enabled.\n"
     ]
    },
    {
     "name": "stdout",
     "output_type": "stream",
     "text": [
      "90\n"
     ]
    },
    {
     "name": "stderr",
     "output_type": "stream",
     "text": [
      "2022-05-16 23:18:20.747017: I tensorflow/core/common_runtime/gpu_fusion_pass.cc:507] ROCm Fusion is enabled.\n",
      "2022-05-16 23:18:20.750898: I tensorflow/core/common_runtime/gpu_fusion_pass.cc:507] ROCm Fusion is enabled.\n",
      "2022-05-16 23:18:20.753237: I tensorflow/core/common_runtime/gpu_fusion_pass.cc:507] ROCm Fusion is enabled.\n"
     ]
    },
    {
     "name": "stdout",
     "output_type": "stream",
     "text": [
      "85\n"
     ]
    },
    {
     "name": "stderr",
     "output_type": "stream",
     "text": [
      "2022-05-16 23:19:12.367630: I tensorflow/core/common_runtime/gpu_fusion_pass.cc:507] ROCm Fusion is enabled.\n",
      "2022-05-16 23:19:12.372318: I tensorflow/core/common_runtime/gpu_fusion_pass.cc:507] ROCm Fusion is enabled.\n",
      "2022-05-16 23:19:12.374623: I tensorflow/core/common_runtime/gpu_fusion_pass.cc:507] ROCm Fusion is enabled.\n"
     ]
    },
    {
     "name": "stdout",
     "output_type": "stream",
     "text": [
      "75\n"
     ]
    },
    {
     "name": "stderr",
     "output_type": "stream",
     "text": [
      "2022-05-16 23:20:04.168195: I tensorflow/core/common_runtime/gpu_fusion_pass.cc:507] ROCm Fusion is enabled.\n",
      "2022-05-16 23:20:04.172055: I tensorflow/core/common_runtime/gpu_fusion_pass.cc:507] ROCm Fusion is enabled.\n",
      "2022-05-16 23:20:04.174592: I tensorflow/core/common_runtime/gpu_fusion_pass.cc:507] ROCm Fusion is enabled.\n"
     ]
    },
    {
     "name": "stdout",
     "output_type": "stream",
     "text": [
      "50\n"
     ]
    },
    {
     "name": "stderr",
     "output_type": "stream",
     "text": [
      "2022-05-16 23:20:56.484727: I tensorflow/core/common_runtime/gpu_fusion_pass.cc:507] ROCm Fusion is enabled.\n",
      "2022-05-16 23:20:56.488603: I tensorflow/core/common_runtime/gpu_fusion_pass.cc:507] ROCm Fusion is enabled.\n",
      "2022-05-16 23:20:56.490932: I tensorflow/core/common_runtime/gpu_fusion_pass.cc:507] ROCm Fusion is enabled.\n"
     ]
    },
    {
     "name": "stdout",
     "output_type": "stream",
     "text": [
      "25\n"
     ]
    },
    {
     "name": "stderr",
     "output_type": "stream",
     "text": [
      "2022-05-16 23:21:47.703514: I tensorflow/core/common_runtime/gpu_fusion_pass.cc:507] ROCm Fusion is enabled.\n",
      "2022-05-16 23:21:47.707512: I tensorflow/core/common_runtime/gpu_fusion_pass.cc:507] ROCm Fusion is enabled.\n",
      "2022-05-16 23:21:47.709812: I tensorflow/core/common_runtime/gpu_fusion_pass.cc:507] ROCm Fusion is enabled.\n"
     ]
    },
    {
     "name": "stdout",
     "output_type": "stream",
     "text": [
      "15\n"
     ]
    },
    {
     "name": "stderr",
     "output_type": "stream",
     "text": [
      "2022-05-16 23:22:39.226171: I tensorflow/core/common_runtime/gpu_fusion_pass.cc:507] ROCm Fusion is enabled.\n",
      "2022-05-16 23:22:39.230293: I tensorflow/core/common_runtime/gpu_fusion_pass.cc:507] ROCm Fusion is enabled.\n",
      "2022-05-16 23:22:39.232592: I tensorflow/core/common_runtime/gpu_fusion_pass.cc:507] ROCm Fusion is enabled.\n"
     ]
    },
    {
     "name": "stdout",
     "output_type": "stream",
     "text": [
      "10\n"
     ]
    },
    {
     "name": "stderr",
     "output_type": "stream",
     "text": [
      "2022-05-16 23:23:30.379789: I tensorflow/core/common_runtime/gpu_fusion_pass.cc:507] ROCm Fusion is enabled.\n",
      "2022-05-16 23:23:30.383875: I tensorflow/core/common_runtime/gpu_fusion_pass.cc:507] ROCm Fusion is enabled.\n",
      "2022-05-16 23:23:30.386178: I tensorflow/core/common_runtime/gpu_fusion_pass.cc:507] ROCm Fusion is enabled.\n"
     ]
    },
    {
     "name": "stdout",
     "output_type": "stream",
     "text": [
      "5\n"
     ]
    },
    {
     "name": "stderr",
     "output_type": "stream",
     "text": [
      "2022-05-16 23:24:20.583717: I tensorflow/core/common_runtime/gpu_fusion_pass.cc:507] ROCm Fusion is enabled.\n",
      "2022-05-16 23:24:20.587617: I tensorflow/core/common_runtime/gpu_fusion_pass.cc:507] ROCm Fusion is enabled.\n",
      "2022-05-16 23:24:20.589933: I tensorflow/core/common_runtime/gpu_fusion_pass.cc:507] ROCm Fusion is enabled.\n"
     ]
    },
    {
     "name": "stdout",
     "output_type": "stream",
     "text": [
      "1\n"
     ]
    },
    {
     "name": "stderr",
     "output_type": "stream",
     "text": [
      "2022-05-16 23:25:10.992088: I tensorflow/core/common_runtime/gpu_fusion_pass.cc:507] ROCm Fusion is enabled.\n",
      "2022-05-16 23:25:10.996021: I tensorflow/core/common_runtime/gpu_fusion_pass.cc:507] ROCm Fusion is enabled.\n",
      "2022-05-16 23:25:10.998352: I tensorflow/core/common_runtime/gpu_fusion_pass.cc:507] ROCm Fusion is enabled.\n"
     ]
    },
    {
     "name": "stdout",
     "output_type": "stream",
     "text": [
      "0\n"
     ]
    },
    {
     "name": "stderr",
     "output_type": "stream",
     "text": [
      "2022-05-16 23:25:39.603213: I tensorflow/core/common_runtime/gpu_fusion_pass.cc:507] ROCm Fusion is enabled.\n",
      "2022-05-16 23:25:39.607229: I tensorflow/core/common_runtime/gpu_fusion_pass.cc:507] ROCm Fusion is enabled.\n",
      "2022-05-16 23:25:39.609671: I tensorflow/core/common_runtime/gpu_fusion_pass.cc:507] ROCm Fusion is enabled.\n",
      "/vast/nj594/xai/helpers/evaluate.py:59: VisibleDeprecationWarning: Creating an ndarray from ragged nested sequences (which is a list-or-tuple of lists-or-tuples-or ndarrays with different lengths or shapes) is deprecated. If you meant to do this, you must specify 'dtype=object' when creating the ndarray\n",
      "  r_ = np.array([[float(p), n] for p,n in r.items()])\n"
     ]
    },
    {
     "name": "stdout",
     "output_type": "stream",
     "text": [
      "100\n"
     ]
    },
    {
     "name": "stderr",
     "output_type": "stream",
     "text": [
      "2022-05-16 23:26:08.255304: I tensorflow/core/common_runtime/gpu_fusion_pass.cc:507] ROCm Fusion is enabled.\n",
      "2022-05-16 23:26:08.259230: I tensorflow/core/common_runtime/gpu_fusion_pass.cc:507] ROCm Fusion is enabled.\n",
      "2022-05-16 23:26:08.261535: I tensorflow/core/common_runtime/gpu_fusion_pass.cc:507] ROCm Fusion is enabled.\n"
     ]
    },
    {
     "name": "stdout",
     "output_type": "stream",
     "text": [
      "99\n"
     ]
    },
    {
     "name": "stderr",
     "output_type": "stream",
     "text": [
      "2022-05-16 23:26:59.803981: I tensorflow/core/common_runtime/gpu_fusion_pass.cc:507] ROCm Fusion is enabled.\n",
      "2022-05-16 23:26:59.807939: I tensorflow/core/common_runtime/gpu_fusion_pass.cc:507] ROCm Fusion is enabled.\n",
      "2022-05-16 23:26:59.810476: I tensorflow/core/common_runtime/gpu_fusion_pass.cc:507] ROCm Fusion is enabled.\n"
     ]
    },
    {
     "name": "stdout",
     "output_type": "stream",
     "text": [
      "95\n"
     ]
    },
    {
     "name": "stderr",
     "output_type": "stream",
     "text": [
      "2022-05-16 23:27:51.270374: I tensorflow/core/common_runtime/gpu_fusion_pass.cc:507] ROCm Fusion is enabled.\n",
      "2022-05-16 23:27:51.274254: I tensorflow/core/common_runtime/gpu_fusion_pass.cc:507] ROCm Fusion is enabled.\n",
      "2022-05-16 23:27:51.276565: I tensorflow/core/common_runtime/gpu_fusion_pass.cc:507] ROCm Fusion is enabled.\n"
     ]
    },
    {
     "name": "stdout",
     "output_type": "stream",
     "text": [
      "90\n"
     ]
    },
    {
     "name": "stderr",
     "output_type": "stream",
     "text": [
      "2022-05-16 23:28:42.937028: I tensorflow/core/common_runtime/gpu_fusion_pass.cc:507] ROCm Fusion is enabled.\n",
      "2022-05-16 23:28:42.941125: I tensorflow/core/common_runtime/gpu_fusion_pass.cc:507] ROCm Fusion is enabled.\n",
      "2022-05-16 23:28:42.943397: I tensorflow/core/common_runtime/gpu_fusion_pass.cc:507] ROCm Fusion is enabled.\n"
     ]
    },
    {
     "name": "stdout",
     "output_type": "stream",
     "text": [
      "85\n"
     ]
    },
    {
     "name": "stderr",
     "output_type": "stream",
     "text": [
      "2022-05-16 23:29:34.674799: I tensorflow/core/common_runtime/gpu_fusion_pass.cc:507] ROCm Fusion is enabled.\n",
      "2022-05-16 23:29:34.678910: I tensorflow/core/common_runtime/gpu_fusion_pass.cc:507] ROCm Fusion is enabled.\n",
      "2022-05-16 23:29:34.681231: I tensorflow/core/common_runtime/gpu_fusion_pass.cc:507] ROCm Fusion is enabled.\n"
     ]
    },
    {
     "name": "stdout",
     "output_type": "stream",
     "text": [
      "75\n"
     ]
    },
    {
     "name": "stderr",
     "output_type": "stream",
     "text": [
      "2022-05-16 23:30:26.768890: I tensorflow/core/common_runtime/gpu_fusion_pass.cc:507] ROCm Fusion is enabled.\n",
      "2022-05-16 23:30:26.772963: I tensorflow/core/common_runtime/gpu_fusion_pass.cc:507] ROCm Fusion is enabled.\n",
      "2022-05-16 23:30:26.775326: I tensorflow/core/common_runtime/gpu_fusion_pass.cc:507] ROCm Fusion is enabled.\n"
     ]
    },
    {
     "name": "stdout",
     "output_type": "stream",
     "text": [
      "50\n"
     ]
    },
    {
     "name": "stderr",
     "output_type": "stream",
     "text": [
      "2022-05-16 23:31:18.496154: I tensorflow/core/common_runtime/gpu_fusion_pass.cc:507] ROCm Fusion is enabled.\n",
      "2022-05-16 23:31:18.500197: I tensorflow/core/common_runtime/gpu_fusion_pass.cc:507] ROCm Fusion is enabled.\n",
      "2022-05-16 23:31:18.502643: I tensorflow/core/common_runtime/gpu_fusion_pass.cc:507] ROCm Fusion is enabled.\n"
     ]
    },
    {
     "name": "stdout",
     "output_type": "stream",
     "text": [
      "25\n"
     ]
    },
    {
     "name": "stderr",
     "output_type": "stream",
     "text": [
      "2022-05-16 23:32:10.207129: I tensorflow/core/common_runtime/gpu_fusion_pass.cc:507] ROCm Fusion is enabled.\n",
      "2022-05-16 23:32:10.211224: I tensorflow/core/common_runtime/gpu_fusion_pass.cc:507] ROCm Fusion is enabled.\n",
      "2022-05-16 23:32:10.213513: I tensorflow/core/common_runtime/gpu_fusion_pass.cc:507] ROCm Fusion is enabled.\n"
     ]
    },
    {
     "name": "stdout",
     "output_type": "stream",
     "text": [
      "15\n"
     ]
    },
    {
     "name": "stderr",
     "output_type": "stream",
     "text": [
      "2022-05-16 23:33:01.148715: I tensorflow/core/common_runtime/gpu_fusion_pass.cc:507] ROCm Fusion is enabled.\n",
      "2022-05-16 23:33:01.153524: I tensorflow/core/common_runtime/gpu_fusion_pass.cc:507] ROCm Fusion is enabled.\n",
      "2022-05-16 23:33:01.155823: I tensorflow/core/common_runtime/gpu_fusion_pass.cc:507] ROCm Fusion is enabled.\n"
     ]
    },
    {
     "name": "stdout",
     "output_type": "stream",
     "text": [
      "10\n"
     ]
    },
    {
     "name": "stderr",
     "output_type": "stream",
     "text": [
      "2022-05-16 23:33:51.745085: I tensorflow/core/common_runtime/gpu_fusion_pass.cc:507] ROCm Fusion is enabled.\n",
      "2022-05-16 23:33:51.749081: I tensorflow/core/common_runtime/gpu_fusion_pass.cc:507] ROCm Fusion is enabled.\n",
      "2022-05-16 23:33:51.751505: I tensorflow/core/common_runtime/gpu_fusion_pass.cc:507] ROCm Fusion is enabled.\n"
     ]
    },
    {
     "name": "stdout",
     "output_type": "stream",
     "text": [
      "5\n"
     ]
    },
    {
     "name": "stderr",
     "output_type": "stream",
     "text": [
      "2022-05-16 23:34:41.493492: I tensorflow/core/common_runtime/gpu_fusion_pass.cc:507] ROCm Fusion is enabled.\n",
      "2022-05-16 23:34:41.497447: I tensorflow/core/common_runtime/gpu_fusion_pass.cc:507] ROCm Fusion is enabled.\n",
      "2022-05-16 23:34:41.499746: I tensorflow/core/common_runtime/gpu_fusion_pass.cc:507] ROCm Fusion is enabled.\n"
     ]
    },
    {
     "name": "stdout",
     "output_type": "stream",
     "text": [
      "1\n"
     ]
    },
    {
     "name": "stderr",
     "output_type": "stream",
     "text": [
      "2022-05-16 23:35:31.170698: I tensorflow/core/common_runtime/gpu_fusion_pass.cc:507] ROCm Fusion is enabled.\n",
      "2022-05-16 23:35:31.176246: I tensorflow/core/common_runtime/gpu_fusion_pass.cc:507] ROCm Fusion is enabled.\n",
      "2022-05-16 23:35:31.179548: I tensorflow/core/common_runtime/gpu_fusion_pass.cc:507] ROCm Fusion is enabled.\n"
     ]
    },
    {
     "name": "stdout",
     "output_type": "stream",
     "text": [
      "0\n"
     ]
    },
    {
     "name": "stderr",
     "output_type": "stream",
     "text": [
      "2022-05-16 23:35:59.381680: I tensorflow/core/common_runtime/gpu_fusion_pass.cc:507] ROCm Fusion is enabled.\n",
      "2022-05-16 23:35:59.385694: I tensorflow/core/common_runtime/gpu_fusion_pass.cc:507] ROCm Fusion is enabled.\n",
      "2022-05-16 23:35:59.388078: I tensorflow/core/common_runtime/gpu_fusion_pass.cc:507] ROCm Fusion is enabled.\n",
      "/vast/nj594/xai/helpers/evaluate.py:59: VisibleDeprecationWarning: Creating an ndarray from ragged nested sequences (which is a list-or-tuple of lists-or-tuples-or ndarrays with different lengths or shapes) is deprecated. If you meant to do this, you must specify 'dtype=object' when creating the ndarray\n",
      "  r_ = np.array([[float(p), n] for p,n in r.items()])\n"
     ]
    },
    {
     "name": "stdout",
     "output_type": "stream",
     "text": [
      "{'retro_ex': {'acc': {100: 0.2, 99: 0.2, 95: 0.202, 90: 0.21, 85: 0.2136, 75: 0.2148, 50: 0.2252, 25: 0.2488, 15: 0.2704, 10: 0.2968, 5: 0.3312, 1: 0.3876, 0: 0.43}, 'auroc': {100: 0.50005, 99: 0.5280263000000001, 95: 0.6374905, 90: 0.6722045, 85: 0.6864469, 75: 0.7043085, 50: 0.7204468, 25: 0.7363464, 15: 0.7508408000000001, 10: 0.7628950999999999, 5: 0.7859535999999999, 1: 0.8173984000000001, 0: 0.84102}, 'preds': {100: array([[0.71269345, 0.07373445, 0.16777113, 0.02479381, 0.0210071 ],\n",
      "       [0.71269345, 0.07373445, 0.16777113, 0.02479381, 0.0210071 ],\n",
      "       [0.71269345, 0.07373445, 0.16777113, 0.02479381, 0.0210071 ],\n",
      "       ...,\n",
      "       [0.71269345, 0.07373445, 0.16777113, 0.02479381, 0.0210071 ],\n",
      "       [0.71269345, 0.07373445, 0.16777113, 0.02479381, 0.0210071 ],\n",
      "       [0.71269345, 0.07373445, 0.16777113, 0.02479381, 0.0210071 ]],\n",
      "      dtype=float32), 99: array([[0.7126945 , 0.07373358, 0.16777042, 0.02479379, 0.02100769],\n",
      "       [0.7077213 , 0.06935478, 0.16807733, 0.02623935, 0.02860727],\n",
      "       [0.7299222 , 0.07331215, 0.15987751, 0.02136965, 0.01551855],\n",
      "       ...,\n",
      "       [0.7126945 , 0.07373341, 0.16777046, 0.02479378, 0.02100787],\n",
      "       [0.73289526, 0.07246182, 0.15780987, 0.02083899, 0.01599398],\n",
      "       [0.76101595, 0.07137529, 0.14232825, 0.01556283, 0.00971764]],\n",
      "      dtype=float32), 95: array([[0.76515204, 0.07324285, 0.14124018, 0.01319584, 0.00716912],\n",
      "       [0.7308879 , 0.06897347, 0.15951876, 0.02077307, 0.01984678],\n",
      "       [0.71413034, 0.07387479, 0.17433679, 0.02266111, 0.01499692],\n",
      "       ...,\n",
      "       [0.7062065 , 0.07525638, 0.18011418, 0.02271057, 0.01571241],\n",
      "       [0.8206407 , 0.06006069, 0.10663433, 0.00781092, 0.00485336],\n",
      "       [0.7346923 , 0.07725027, 0.1597114 , 0.01752738, 0.01081871]],\n",
      "      dtype=float32), 90: array([[8.21772218e-01, 7.32628107e-02, 1.01267494e-01, 3.21201701e-03,\n",
      "        4.85455588e-04],\n",
      "       [8.40247810e-01, 4.52848189e-02, 1.02109291e-01, 7.33369961e-03,\n",
      "        5.02440892e-03],\n",
      "       [7.52904832e-01, 6.34148344e-02, 1.56500950e-01, 1.54941063e-02,\n",
      "        1.16853295e-02],\n",
      "       ...,\n",
      "       [6.98303521e-01, 7.05102831e-02, 1.89202651e-01, 2.40205731e-02,\n",
      "        1.79629233e-02],\n",
      "       [9.13274586e-01, 3.91083993e-02, 4.68743108e-02, 6.78897486e-04,\n",
      "        6.37863341e-05],\n",
      "       [8.71610880e-01, 5.96674643e-02, 6.65969923e-02, 1.82707922e-03,\n",
      "        2.97628838e-04]], dtype=float32), 85: array([[8.9751697e-01, 5.7676062e-02, 4.4168282e-02, 5.7939201e-04,\n",
      "        5.9357888e-05],\n",
      "       [7.5841135e-01, 4.4136602e-02, 1.6974242e-01, 1.6770784e-02,\n",
      "        1.0938978e-02],\n",
      "       [7.6757866e-01, 6.5028057e-02, 1.4593437e-01, 1.1856566e-02,\n",
      "        9.6022850e-03],\n",
      "       ...,\n",
      "       [7.6379442e-01, 7.4241258e-02, 1.4888050e-01, 9.6655106e-03,\n",
      "        3.4183811e-03],\n",
      "       [9.3233019e-01, 2.9561402e-02, 3.7213106e-02, 6.8908592e-04,\n",
      "        2.0622405e-04],\n",
      "       [8.8729364e-01, 5.3864781e-02, 5.6853097e-02, 1.6475728e-03,\n",
      "        3.4090775e-04]], dtype=float32), 75: array([[8.9476937e-01, 6.4368747e-02, 4.0351000e-02, 4.5837639e-04,\n",
      "        5.2499588e-05],\n",
      "       [8.5899502e-01, 4.7460876e-02, 8.9035355e-02, 3.5163164e-03,\n",
      "        9.9251093e-04],\n",
      "       [7.6832712e-01, 5.7369448e-02, 1.5271364e-01, 1.2525639e-02,\n",
      "        9.0641379e-03],\n",
      "       ...,\n",
      "       [6.7533946e-01, 7.4165374e-02, 2.2427095e-01, 1.7813481e-02,\n",
      "        8.4107649e-03],\n",
      "       [9.4193000e-01, 3.5303455e-02, 2.2510121e-02, 2.2369264e-04,\n",
      "        3.2780543e-05],\n",
      "       [8.9233315e-01, 5.5917531e-02, 5.0510969e-02, 1.0505709e-03,\n",
      "        1.8776047e-04]], dtype=float32), 50: array([[8.8546962e-01, 8.1559353e-02, 3.2705724e-02, 2.3728910e-04,\n",
      "        2.7988981e-05],\n",
      "       [9.2884427e-01, 3.6369015e-02, 3.4270745e-02, 3.8740042e-04,\n",
      "        1.2855449e-04],\n",
      "       [7.8575045e-01, 5.3992443e-02, 1.3697387e-01, 8.9399647e-03,\n",
      "        1.4343339e-02],\n",
      "       ...,\n",
      "       [5.9118181e-01, 7.8903280e-02, 2.9993522e-01, 2.0432780e-02,\n",
      "        9.5468927e-03],\n",
      "       [9.6560985e-01, 2.5728218e-02, 8.6143557e-03, 3.7598711e-05,\n",
      "        9.9572908e-06],\n",
      "       [9.1138262e-01, 5.8721047e-02, 2.9463770e-02, 3.5420246e-04,\n",
      "        7.8289791e-05]], dtype=float32), 25: array([[8.8642257e-01, 9.3141071e-02, 2.0367498e-02, 6.3027779e-05,\n",
      "        5.7636153e-06],\n",
      "       [8.9747095e-01, 4.8880961e-02, 5.3241655e-02, 3.2874016e-04,\n",
      "        7.7817764e-05],\n",
      "       [8.1954223e-01, 5.7987440e-02, 1.1375545e-01, 3.7522307e-03,\n",
      "        4.9627363e-03],\n",
      "       ...,\n",
      "       [6.0793197e-01, 7.1940459e-02, 2.9800519e-01, 1.4821898e-02,\n",
      "        7.3004519e-03],\n",
      "       [9.6534204e-01, 2.4571223e-02, 1.0016787e-02, 4.3131568e-05,\n",
      "        2.6933267e-05],\n",
      "       [9.2201167e-01, 5.7468154e-02, 2.0304628e-02, 1.6234873e-04,\n",
      "        5.3211566e-05]], dtype=float32), 15: array([[8.92501295e-01, 8.89521167e-02, 1.84933245e-02, 4.82285359e-05,\n",
      "        4.96945768e-06],\n",
      "       [8.82079899e-01, 4.76565436e-02, 6.97162002e-02, 4.44248144e-04,\n",
      "        1.03146136e-04],\n",
      "       [8.47385347e-01, 5.28621227e-02, 9.17500257e-02, 2.84138462e-03,\n",
      "        5.16123930e-03],\n",
      "       ...,\n",
      "       [6.15602851e-01, 7.57397935e-02, 2.90839851e-01, 1.19993109e-02,\n",
      "        5.81826363e-03],\n",
      "       [9.70326781e-01, 2.26092339e-02, 7.02729076e-03, 2.26324992e-05,\n",
      "        1.40347029e-05],\n",
      "       [9.12890255e-01, 6.51015714e-02, 2.17986591e-02, 1.59732663e-04,\n",
      "        4.97776491e-05]], dtype=float32), 10: array([[8.8275778e-01, 9.5342852e-02, 2.1833846e-02, 5.9820610e-05,\n",
      "        5.6531708e-06],\n",
      "       [9.0177447e-01, 4.6652619e-02, 5.1276788e-02, 2.4662723e-04,\n",
      "        4.9600967e-05],\n",
      "       [6.3373601e-01, 4.3123510e-02, 2.7220130e-01, 1.6376533e-02,\n",
      "        3.4562707e-02],\n",
      "       ...,\n",
      "       [3.9315543e-01, 7.2268620e-02, 4.9844700e-01, 2.6357194e-02,\n",
      "        9.7718118e-03],\n",
      "       [9.7388351e-01, 2.0689745e-02, 5.4004085e-03, 1.5747777e-05,\n",
      "        1.0682453e-05],\n",
      "       [9.0715754e-01, 6.9904946e-02, 2.2718377e-02, 1.6763569e-04,\n",
      "        5.1594845e-05]], dtype=float32), 5: array([[8.92643750e-01, 8.94549415e-02, 1.78531297e-02, 4.34989161e-05,\n",
      "        4.73100499e-06],\n",
      "       [9.07073259e-01, 4.40620296e-02, 4.86167856e-02, 2.07524994e-04,\n",
      "        4.04773527e-05],\n",
      "       [1.56072333e-01, 2.97579598e-02, 6.32961392e-01, 7.69841820e-02,\n",
      "        1.04224160e-01],\n",
      "       ...,\n",
      "       [3.37421805e-01, 6.29795343e-02, 5.54900050e-01, 3.29180732e-02,\n",
      "        1.17805675e-02],\n",
      "       [9.74055767e-01, 2.06393320e-02, 5.28073404e-03, 1.43348570e-05,\n",
      "        9.83514565e-06],\n",
      "       [8.93208444e-01, 7.74459615e-02, 2.90353782e-02, 2.33677682e-04,\n",
      "        7.65557998e-05]], dtype=float32), 1: array([[8.93301189e-01, 8.86911824e-02, 1.79588534e-02, 4.39665237e-05,\n",
      "        4.81935786e-06],\n",
      "       [9.08530772e-01, 4.08648513e-02, 5.02883717e-02, 2.39407032e-04,\n",
      "        7.65476216e-05],\n",
      "       [3.14614624e-02, 1.53806088e-02, 6.95685387e-01, 1.29131064e-01,\n",
      "        1.28341421e-01],\n",
      "       ...,\n",
      "       [3.23395848e-01, 5.94858937e-02, 5.71226954e-01, 3.34890261e-02,\n",
      "        1.24022234e-02],\n",
      "       [9.32806671e-01, 4.53832597e-02, 2.16373224e-02, 1.01599064e-04,\n",
      "        7.11189932e-05],\n",
      "       [8.97474408e-01, 7.47253671e-02, 2.74986178e-02, 2.18678251e-04,\n",
      "        8.29188648e-05]], dtype=float32), 0: array([[8.93752098e-01, 8.83543417e-02, 1.78448595e-02, 4.39195537e-05,\n",
      "        4.84293469e-06],\n",
      "       [9.08368826e-01, 4.09528874e-02, 5.03622368e-02, 2.39651723e-04,\n",
      "        7.64532961e-05],\n",
      "       [1.27890427e-02, 1.67057589e-02, 6.70378923e-01, 1.46436870e-01,\n",
      "        1.53689399e-01],\n",
      "       ...,\n",
      "       [1.77840471e-01, 4.10715304e-02, 7.09612131e-01, 5.46135008e-02,\n",
      "        1.68623831e-02],\n",
      "       [9.32725132e-01, 4.54182364e-02, 2.16827337e-02, 1.02160004e-04,\n",
      "        7.17712683e-05],\n",
      "       [8.97488832e-01, 7.47329444e-02, 2.74771824e-02, 2.18378118e-04,\n",
      "        8.27192562e-05]], dtype=float32)}, 'log_likelihood': {100: -2.458239895105362, 99: -2.451992901027203, 95: -2.375612611836195, 90: -2.3712348941534755, 85: -2.406747457253933, 75: -2.4429120538815856, 50: -2.492132367924601, 25: -2.3917412462584675, 15: -2.2468890933930874, 10: -2.1102070585083217, 5: -1.9060649168999866, 1: -1.6528156447399407, 0: -1.4965153186095879}, 'log_odds': {100: -2.1474829, 99: -2.1390526, 95: -2.0251122, 90: -1.9683447, 85: -1.9704957, 75: -1.9678769, 50: -1.9652308, 25: -1.8055031, 15: -1.6170871, 10: -1.441985, 5: -1.1759906, 1: -0.8465758, 0: -0.6110032}, 'AUC_acc': 0.24090399999999998, 'AUC_auroc': 0.7161738169999999, 'AUC_preds': array([[8.7533677e-01, 7.9573914e-02, 4.2387366e-02, 1.7021341e-03,\n",
      "        9.9976885e-04],\n",
      "       [8.7195039e-01, 4.5848962e-02, 7.5010777e-02, 4.1711419e-03,\n",
      "        3.0187455e-03],\n",
      "       [7.2659022e-01, 5.5187244e-02, 1.8204527e-01, 1.6882207e-02,\n",
      "        1.9295134e-02],\n",
      "       ...,\n",
      "       [6.0771394e-01, 7.3806994e-02, 2.8968114e-01, 1.9320533e-02,\n",
      "        9.4774552e-03],\n",
      "       [9.4286329e-01, 3.0986223e-02, 2.4247192e-02, 1.1443364e-03,\n",
      "        7.5904751e-04],\n",
      "       [8.9207685e-01, 6.1280034e-02, 4.3838840e-02, 1.8549416e-03,\n",
      "        9.4925507e-04]], dtype=float32), 'AUC_log_likelihood': -2.3572617369431574, 'AUC_log_odds': -1.8237171739339828}, 'retro_in': {'acc': {100: 0.43, 99: 0.43, 95: 0.4308, 90: 0.4364, 85: 0.4384, 75: 0.4524, 50: 0.4796, 25: 0.494, 15: 0.4824, 10: 0.4728, 5: 0.4416, 1: 0.3332, 0: 0.2}, 'auroc': {100: 0.84102, 99: 0.8410034, 95: 0.8409655999999999, 90: 0.8421291999999999, 85: 0.8427261999999999, 75: 0.8438378, 50: 0.8460840000000001, 25: 0.8381648, 15: 0.8236038000000001, 10: 0.8118828, 5: 0.7865829999999999, 1: 0.7264929, 0: 0.50005}, 'preds': {100: array([[8.93752098e-01, 8.83543417e-02, 1.78448595e-02, 4.39195537e-05,\n",
      "        4.84293469e-06],\n",
      "       [9.08368826e-01, 4.09528874e-02, 5.03622368e-02, 2.39651723e-04,\n",
      "        7.64532961e-05],\n",
      "       [1.27890427e-02, 1.67057589e-02, 6.70378923e-01, 1.46436870e-01,\n",
      "        1.53689399e-01],\n",
      "       ...,\n",
      "       [1.77840471e-01, 4.10715304e-02, 7.09612131e-01, 5.46135008e-02,\n",
      "        1.68623831e-02],\n",
      "       [9.32725132e-01, 4.54182364e-02, 2.16827337e-02, 1.02160004e-04,\n",
      "        7.17712683e-05],\n",
      "       [8.97488832e-01, 7.47329444e-02, 2.74771824e-02, 2.18378118e-04,\n",
      "        8.27192562e-05]], dtype=float32), 99: array([[8.93767834e-01, 8.83461162e-02, 1.78373847e-02, 4.38737770e-05,\n",
      "        4.83341819e-06],\n",
      "       [9.08132017e-01, 4.10771519e-02, 5.04726954e-02, 2.41664180e-04,\n",
      "        7.65353470e-05],\n",
      "       [1.28852474e-02, 1.66259930e-02, 6.67577088e-01, 1.47147954e-01,\n",
      "        1.55763671e-01],\n",
      "       ...,\n",
      "       [1.77872345e-01, 4.10742722e-02, 7.09597647e-01, 5.45968413e-02,\n",
      "        1.68589298e-02],\n",
      "       [9.32477534e-01, 4.55000736e-02, 2.18443684e-02, 1.04094644e-04,\n",
      "        7.39469033e-05],\n",
      "       [8.98252368e-01, 7.42821768e-02, 2.71724872e-02, 2.13406616e-04,\n",
      "        7.96112508e-05]], dtype=float32), 95: array([[8.89042079e-01, 9.01631638e-02, 2.07292810e-02, 5.91350872e-05,\n",
      "        6.32861429e-06],\n",
      "       [9.08280909e-01, 4.05749157e-02, 5.08071743e-02, 2.53872917e-04,\n",
      "        8.31410071e-05],\n",
      "       [1.27104875e-02, 1.66690033e-02, 6.61060393e-01, 1.45596638e-01,\n",
      "        1.63963422e-01],\n",
      "       ...,\n",
      "       [1.70454964e-01, 3.89077887e-02, 7.10307181e-01, 6.09280802e-02,\n",
      "        1.94020011e-02],\n",
      "       [9.34447587e-01, 4.32530977e-02, 2.21154075e-02, 1.14714952e-04,\n",
      "        6.92046233e-05],\n",
      "       [8.94979477e-01, 7.40544423e-02, 3.05905472e-02, 2.71845725e-04,\n",
      "        1.03725899e-04]], dtype=float32), 90: array([[8.80897701e-01, 9.23180059e-02, 2.66828202e-02, 9.18699661e-05,\n",
      "        9.63619823e-06],\n",
      "       [8.84872019e-01, 4.59569804e-02, 6.84806332e-02, 5.00124588e-04,\n",
      "        1.90315099e-04],\n",
      "       [1.25512965e-02, 1.45935798e-02, 6.32349253e-01, 1.57350406e-01,\n",
      "        1.83155477e-01],\n",
      "       ...,\n",
      "       [1.83365434e-01, 4.06207815e-02, 6.98944569e-01, 5.83396070e-02,\n",
      "        1.87296513e-02],\n",
      "       [9.25177872e-01, 4.67650890e-02, 2.77739037e-02, 1.78133283e-04,\n",
      "        1.05033425e-04],\n",
      "       [8.86391878e-01, 7.67598003e-02, 3.62891629e-02, 4.03247075e-04,\n",
      "        1.55834758e-04]], dtype=float32), 85: array([[8.5747898e-01, 1.0163069e-01, 4.0667381e-02, 2.0018505e-04,\n",
      "        2.2817385e-05],\n",
      "       [8.8357258e-01, 4.4199392e-02, 7.1340598e-02, 6.0725107e-04,\n",
      "        2.8019125e-04],\n",
      "       [1.1047347e-02, 1.4152347e-02, 6.0409212e-01, 1.6725042e-01,\n",
      "        2.0345780e-01],\n",
      "       ...,\n",
      "       [1.8912482e-01, 3.9089542e-02, 6.8580049e-01, 6.2746406e-02,\n",
      "        2.3238793e-02],\n",
      "       [9.1138607e-01, 5.2916005e-02, 3.5283286e-02, 2.7439205e-04,\n",
      "        1.4029539e-04],\n",
      "       [8.6263704e-01, 8.2046159e-02, 5.4159563e-02, 8.3900825e-04,\n",
      "        3.1821273e-04]], dtype=float32), 75: array([[8.4887362e-01, 1.0179262e-01, 4.8988663e-02, 3.1198619e-04,\n",
      "        3.3158045e-05],\n",
      "       [8.8486850e-01, 3.9100528e-02, 7.4599035e-02, 8.7331713e-04,\n",
      "        5.5864954e-04],\n",
      "       [9.6726110e-03, 1.1524030e-02, 5.6715584e-01, 1.9564292e-01,\n",
      "        2.1600460e-01],\n",
      "       ...,\n",
      "       [1.8600950e-01, 3.8291536e-02, 6.6996825e-01, 7.6154523e-02,\n",
      "        2.9576190e-02],\n",
      "       [9.0142006e-01, 5.3928807e-02, 4.3964602e-02, 4.5685115e-04,\n",
      "        2.2959850e-04],\n",
      "       [8.3531630e-01, 8.6675942e-02, 7.6209232e-02, 1.3935792e-03,\n",
      "        4.0496682e-04]], dtype=float32), 50: array([[8.2129931e-01, 8.6544476e-02, 9.0812832e-02, 1.2322103e-03,\n",
      "        1.1122111e-04],\n",
      "       [8.9295912e-01, 3.3598773e-02, 7.0483454e-02, 1.6245639e-03,\n",
      "        1.3340149e-03],\n",
      "       [3.4920878e-03, 4.0091979e-03, 3.7773240e-01, 2.9481947e-01,\n",
      "        3.1994683e-01],\n",
      "       ...,\n",
      "       [2.4621533e-01, 3.9012890e-02, 5.7784867e-01, 9.0068236e-02,\n",
      "        4.6854943e-02],\n",
      "       [8.4842587e-01, 5.4649815e-02, 9.3563333e-02, 2.1936873e-03,\n",
      "        1.1672699e-03],\n",
      "       [6.9242918e-01, 1.0050696e-01, 1.9654259e-01, 8.4938090e-03,\n",
      "        2.0274736e-03]], dtype=float32), 25: array([[8.4236646e-01, 5.6068953e-02, 9.6722268e-02, 3.9212960e-03,\n",
      "        9.2107937e-04],\n",
      "       [8.7946361e-01, 3.0654153e-02, 8.0082260e-02, 4.3171360e-03,\n",
      "        5.4828022e-03],\n",
      "       [6.4918806e-04, 6.8228081e-04, 1.5774453e-01, 3.7524876e-01,\n",
      "        4.6567532e-01],\n",
      "       ...,\n",
      "       [2.0171782e-01, 2.8072031e-02, 4.7845706e-01, 1.6671854e-01,\n",
      "        1.2503453e-01],\n",
      "       [8.2105297e-01, 5.5237804e-02, 1.1814280e-01, 4.3636700e-03,\n",
      "        1.2027568e-03],\n",
      "       [5.4391950e-01, 8.8369749e-02, 3.3185968e-01, 2.8822409e-02,\n",
      "        7.0286714e-03]], dtype=float32), 15: array([[8.1639564e-01, 5.8152780e-02, 1.1753381e-01, 6.4108968e-03,\n",
      "        1.5068481e-03],\n",
      "       [8.4995890e-01, 3.4306154e-02, 9.4461933e-02, 7.7560116e-03,\n",
      "        1.3517010e-02],\n",
      "       [4.1260882e-04, 7.3245168e-04, 1.6548045e-01, 4.0859446e-01,\n",
      "        4.2478004e-01],\n",
      "       ...,\n",
      "       [2.0475289e-01, 2.5112620e-02, 4.3243724e-01, 1.8497813e-01,\n",
      "        1.5271911e-01],\n",
      "       [8.4118855e-01, 5.2332822e-02, 9.9642061e-02, 4.9314955e-03,\n",
      "        1.9051142e-03],\n",
      "       [4.5366785e-01, 7.1639128e-02, 4.0406263e-01, 5.4565016e-02,\n",
      "        1.6065272e-02]], dtype=float32), 10: array([[7.7629936e-01, 6.6966131e-02, 1.4052765e-01, 1.1510265e-02,\n",
      "        4.6965932e-03],\n",
      "       [7.6274866e-01, 3.8313344e-02, 1.2747669e-01, 1.7601851e-02,\n",
      "        5.3859480e-02],\n",
      "       [2.2721745e-04, 6.8035495e-04, 1.5743923e-01, 4.5554313e-01,\n",
      "        3.8611010e-01],\n",
      "       ...,\n",
      "       [3.0295381e-01, 3.0037286e-02, 3.6422238e-01, 1.4323629e-01,\n",
      "        1.5955020e-01],\n",
      "       [8.3220905e-01, 5.4849122e-02, 1.0518199e-01, 5.4936665e-03,\n",
      "        2.2661958e-03],\n",
      "       [6.3590425e-01, 6.2684849e-02, 2.6792336e-01, 2.5691470e-02,\n",
      "        7.7960631e-03]], dtype=float32), 5: array([[7.2375029e-01, 6.8246059e-02, 1.7004833e-01, 2.2609292e-02,\n",
      "        1.5346053e-02],\n",
      "       [6.4954203e-01, 4.8081826e-02, 1.7910063e-01, 3.6186561e-02,\n",
      "        8.7088898e-02],\n",
      "       [3.1145432e-04, 1.3561860e-03, 2.1959029e-01, 1.8131493e-01,\n",
      "        5.9742713e-01],\n",
      "       ...,\n",
      "       [4.1117519e-01, 4.8089579e-02, 3.6008468e-01, 9.7190626e-02,\n",
      "        8.3459914e-02],\n",
      "       [6.2198400e-01, 5.6753367e-02, 2.1651657e-01, 4.5581076e-02,\n",
      "        5.9164990e-02],\n",
      "       [7.9853880e-01, 6.2550060e-02, 1.2496602e-01, 9.4130542e-03,\n",
      "        4.5320620e-03]], dtype=float32), 1: array([[0.7106943 , 0.07365145, 0.16895822, 0.02519104, 0.02150499],\n",
      "       [0.712719  , 0.07372865, 0.16775405, 0.02479149, 0.02100675],\n",
      "       [0.00203986, 0.02718647, 0.5538407 , 0.12549523, 0.29143775],\n",
      "       ...,\n",
      "       [0.33281904, 0.03806295, 0.3946841 , 0.1329096 , 0.1015243 ],\n",
      "       [0.71269876, 0.07373442, 0.1677666 , 0.02479354, 0.02100667],\n",
      "       [0.712704  , 0.07373191, 0.167765  , 0.0247925 , 0.02100655]],\n",
      "      dtype=float32), 0: array([[0.71269345, 0.07373445, 0.16777113, 0.02479381, 0.0210071 ],\n",
      "       [0.71269345, 0.07373445, 0.16777113, 0.02479381, 0.0210071 ],\n",
      "       [0.71269345, 0.07373445, 0.16777113, 0.02479381, 0.0210071 ],\n",
      "       ...,\n",
      "       [0.71269345, 0.07373445, 0.16777113, 0.02479381, 0.0210071 ],\n",
      "       [0.71269345, 0.07373445, 0.16777113, 0.02479381, 0.0210071 ],\n",
      "       [0.71269345, 0.07373445, 0.16777113, 0.02479381, 0.0210071 ]],\n",
      "      dtype=float32)}, 'log_likelihood': {100: -1.4965153186095879, 99: -1.4963722562465818, 95: -1.4899847858104855, 90: -1.470196052243188, 85: -1.4489540683217346, 75: -1.4120299497080966, 50: -1.344103555018641, 25: -1.3306219955300913, 15: -1.365525873092562, 10: -1.3909692259423434, 5: -1.4462585882052779, 1: -1.6478100364208221, 0: -2.458239895105362}, 'log_odds': {100: -0.6110032, 99: -0.61119026, 95: -0.6069239, 90: -0.58796984, 85: -0.57146895, 75: -0.5458295, 50: -0.5052147, 25: -0.5581014, 15: -0.6622321, 10: -0.7604576, 5: -0.9104705, 1: -1.2085838, 0: -2.1474829}, 'AUC_acc': 0.46152799999999994, 'AUC_auroc': 0.8326792494999999, 'AUC_preds': array([[0.8304117 , 0.08119866, 0.0826112 , 0.00389996, 0.0018785 ],\n",
      "       [0.8631224 , 0.03814133, 0.08381534, 0.00523763, 0.00968328],\n",
      "       [0.00876429, 0.00737711, 0.3928535 , 0.2698272 , 0.3211779 ],\n",
      "       ...,\n",
      "       [0.22665621, 0.03618225, 0.56262434, 0.10587801, 0.06865916],\n",
      "       [0.8522476 , 0.05381789, 0.0849528 , 0.00486928, 0.00411239],\n",
      "       [0.7138443 , 0.08484826, 0.18297474, 0.01405732, 0.00427532]],\n",
      "      dtype=float32), 'AUC_log_likelihood': -1.4006435239026613, 'AUC_log_odds': -0.6070100572705269}, 'pro_ex': {'acc': {100: 0.2, 99: 0.2, 95: 0.202, 90: 0.21, 85: 0.2136, 75: 0.2148, 50: 0.2252, 25: 0.2488, 15: 0.2704, 10: 0.2968, 5: 0.3312, 1: 0.3876, 0: 0.43}, 'auroc': {100: 0.50005, 99: 0.5280263000000001, 95: 0.6374905, 90: 0.6722045, 85: 0.6864469, 75: 0.7043085, 50: 0.7204468, 25: 0.7363464, 15: 0.7508408000000001, 10: 0.7628950999999999, 5: 0.7859535999999999, 1: 0.8173984000000001, 0: 0.84102}, 'preds': {100: array([[0.71269345, 0.07373445, 0.16777113, 0.02479381, 0.0210071 ],\n",
      "       [0.71269345, 0.07373445, 0.16777113, 0.02479381, 0.0210071 ],\n",
      "       [0.71269345, 0.07373445, 0.16777113, 0.02479381, 0.0210071 ],\n",
      "       ...,\n",
      "       [0.71269345, 0.07373445, 0.16777113, 0.02479381, 0.0210071 ],\n",
      "       [0.71269345, 0.07373445, 0.16777113, 0.02479381, 0.0210071 ],\n",
      "       [0.71269345, 0.07373445, 0.16777113, 0.02479381, 0.0210071 ]],\n",
      "      dtype=float32), 99: array([[0.7126945 , 0.07373358, 0.16777042, 0.02479379, 0.02100769],\n",
      "       [0.7077213 , 0.06935478, 0.16807733, 0.02623935, 0.02860727],\n",
      "       [0.7299222 , 0.07331215, 0.15987751, 0.02136965, 0.01551855],\n",
      "       ...,\n",
      "       [0.7126945 , 0.07373341, 0.16777046, 0.02479378, 0.02100787],\n",
      "       [0.73289526, 0.07246182, 0.15780987, 0.02083899, 0.01599398],\n",
      "       [0.76101595, 0.07137529, 0.14232825, 0.01556283, 0.00971764]],\n",
      "      dtype=float32), 95: array([[0.76515204, 0.07324285, 0.14124018, 0.01319584, 0.00716912],\n",
      "       [0.7308879 , 0.06897347, 0.15951876, 0.02077307, 0.01984678],\n",
      "       [0.71413034, 0.07387479, 0.17433679, 0.02266111, 0.01499692],\n",
      "       ...,\n",
      "       [0.7062065 , 0.07525638, 0.18011418, 0.02271057, 0.01571241],\n",
      "       [0.8206407 , 0.06006069, 0.10663433, 0.00781092, 0.00485336],\n",
      "       [0.7346923 , 0.07725027, 0.1597114 , 0.01752738, 0.01081871]],\n",
      "      dtype=float32), 90: array([[8.21772218e-01, 7.32628107e-02, 1.01267494e-01, 3.21201701e-03,\n",
      "        4.85455588e-04],\n",
      "       [8.40247810e-01, 4.52848189e-02, 1.02109291e-01, 7.33369961e-03,\n",
      "        5.02440892e-03],\n",
      "       [7.52904832e-01, 6.34148344e-02, 1.56500950e-01, 1.54941063e-02,\n",
      "        1.16853295e-02],\n",
      "       ...,\n",
      "       [6.98303521e-01, 7.05102831e-02, 1.89202651e-01, 2.40205731e-02,\n",
      "        1.79629233e-02],\n",
      "       [9.13274586e-01, 3.91083993e-02, 4.68743108e-02, 6.78897486e-04,\n",
      "        6.37863341e-05],\n",
      "       [8.71610880e-01, 5.96674643e-02, 6.65969923e-02, 1.82707922e-03,\n",
      "        2.97628838e-04]], dtype=float32), 85: array([[8.9751697e-01, 5.7676062e-02, 4.4168282e-02, 5.7939201e-04,\n",
      "        5.9357888e-05],\n",
      "       [7.5841135e-01, 4.4136602e-02, 1.6974242e-01, 1.6770784e-02,\n",
      "        1.0938978e-02],\n",
      "       [7.6757866e-01, 6.5028057e-02, 1.4593437e-01, 1.1856566e-02,\n",
      "        9.6022850e-03],\n",
      "       ...,\n",
      "       [7.6379442e-01, 7.4241258e-02, 1.4888050e-01, 9.6655106e-03,\n",
      "        3.4183811e-03],\n",
      "       [9.3233019e-01, 2.9561402e-02, 3.7213106e-02, 6.8908592e-04,\n",
      "        2.0622405e-04],\n",
      "       [8.8729364e-01, 5.3864781e-02, 5.6853097e-02, 1.6475728e-03,\n",
      "        3.4090775e-04]], dtype=float32), 75: array([[8.9476937e-01, 6.4368747e-02, 4.0351000e-02, 4.5837639e-04,\n",
      "        5.2499588e-05],\n",
      "       [8.5899502e-01, 4.7460876e-02, 8.9035355e-02, 3.5163164e-03,\n",
      "        9.9251093e-04],\n",
      "       [7.6832712e-01, 5.7369448e-02, 1.5271364e-01, 1.2525639e-02,\n",
      "        9.0641379e-03],\n",
      "       ...,\n",
      "       [6.7533946e-01, 7.4165374e-02, 2.2427095e-01, 1.7813481e-02,\n",
      "        8.4107649e-03],\n",
      "       [9.4193000e-01, 3.5303455e-02, 2.2510121e-02, 2.2369264e-04,\n",
      "        3.2780543e-05],\n",
      "       [8.9233315e-01, 5.5917531e-02, 5.0510969e-02, 1.0505709e-03,\n",
      "        1.8776047e-04]], dtype=float32), 50: array([[8.8546962e-01, 8.1559353e-02, 3.2705724e-02, 2.3728910e-04,\n",
      "        2.7988981e-05],\n",
      "       [9.2884427e-01, 3.6369015e-02, 3.4270745e-02, 3.8740042e-04,\n",
      "        1.2855449e-04],\n",
      "       [7.8575045e-01, 5.3992443e-02, 1.3697387e-01, 8.9399647e-03,\n",
      "        1.4343339e-02],\n",
      "       ...,\n",
      "       [5.9118181e-01, 7.8903280e-02, 2.9993522e-01, 2.0432780e-02,\n",
      "        9.5468927e-03],\n",
      "       [9.6560985e-01, 2.5728218e-02, 8.6143557e-03, 3.7598711e-05,\n",
      "        9.9572908e-06],\n",
      "       [9.1138262e-01, 5.8721047e-02, 2.9463770e-02, 3.5420246e-04,\n",
      "        7.8289791e-05]], dtype=float32), 25: array([[8.8642257e-01, 9.3141071e-02, 2.0367498e-02, 6.3027779e-05,\n",
      "        5.7636153e-06],\n",
      "       [8.9747095e-01, 4.8880961e-02, 5.3241655e-02, 3.2874016e-04,\n",
      "        7.7817764e-05],\n",
      "       [8.1954223e-01, 5.7987440e-02, 1.1375545e-01, 3.7522307e-03,\n",
      "        4.9627363e-03],\n",
      "       ...,\n",
      "       [6.0793197e-01, 7.1940459e-02, 2.9800519e-01, 1.4821898e-02,\n",
      "        7.3004519e-03],\n",
      "       [9.6534204e-01, 2.4571223e-02, 1.0016787e-02, 4.3131568e-05,\n",
      "        2.6933267e-05],\n",
      "       [9.2201167e-01, 5.7468154e-02, 2.0304628e-02, 1.6234873e-04,\n",
      "        5.3211566e-05]], dtype=float32), 15: array([[8.92501295e-01, 8.89521167e-02, 1.84933245e-02, 4.82285359e-05,\n",
      "        4.96945768e-06],\n",
      "       [8.82079899e-01, 4.76565436e-02, 6.97162002e-02, 4.44248144e-04,\n",
      "        1.03146136e-04],\n",
      "       [8.47385347e-01, 5.28621227e-02, 9.17500257e-02, 2.84138462e-03,\n",
      "        5.16123930e-03],\n",
      "       ...,\n",
      "       [6.15602851e-01, 7.57397935e-02, 2.90839851e-01, 1.19993109e-02,\n",
      "        5.81826363e-03],\n",
      "       [9.70326781e-01, 2.26092339e-02, 7.02729076e-03, 2.26324992e-05,\n",
      "        1.40347029e-05],\n",
      "       [9.12890255e-01, 6.51015714e-02, 2.17986591e-02, 1.59732663e-04,\n",
      "        4.97776491e-05]], dtype=float32), 10: array([[8.8275778e-01, 9.5342852e-02, 2.1833846e-02, 5.9820610e-05,\n",
      "        5.6531708e-06],\n",
      "       [9.0177447e-01, 4.6652619e-02, 5.1276788e-02, 2.4662723e-04,\n",
      "        4.9600967e-05],\n",
      "       [6.3373601e-01, 4.3123510e-02, 2.7220130e-01, 1.6376533e-02,\n",
      "        3.4562707e-02],\n",
      "       ...,\n",
      "       [3.9315543e-01, 7.2268620e-02, 4.9844700e-01, 2.6357194e-02,\n",
      "        9.7718118e-03],\n",
      "       [9.7388351e-01, 2.0689745e-02, 5.4004085e-03, 1.5747777e-05,\n",
      "        1.0682453e-05],\n",
      "       [9.0715754e-01, 6.9904946e-02, 2.2718377e-02, 1.6763569e-04,\n",
      "        5.1594845e-05]], dtype=float32), 5: array([[8.92643750e-01, 8.94549415e-02, 1.78531297e-02, 4.34989161e-05,\n",
      "        4.73100499e-06],\n",
      "       [9.07073259e-01, 4.40620296e-02, 4.86167856e-02, 2.07524994e-04,\n",
      "        4.04773527e-05],\n",
      "       [1.56072333e-01, 2.97579598e-02, 6.32961392e-01, 7.69841820e-02,\n",
      "        1.04224160e-01],\n",
      "       ...,\n",
      "       [3.37421805e-01, 6.29795343e-02, 5.54900050e-01, 3.29180732e-02,\n",
      "        1.17805675e-02],\n",
      "       [9.74055767e-01, 2.06393320e-02, 5.28073404e-03, 1.43348570e-05,\n",
      "        9.83514565e-06],\n",
      "       [8.93208444e-01, 7.74459764e-02, 2.90353782e-02, 2.33677682e-04,\n",
      "        7.65557998e-05]], dtype=float32), 1: array([[8.93301189e-01, 8.86911824e-02, 1.79588534e-02, 4.39665237e-05,\n",
      "        4.81935786e-06],\n",
      "       [9.08530772e-01, 4.08648513e-02, 5.02883717e-02, 2.39407032e-04,\n",
      "        7.65476216e-05],\n",
      "       [3.14614624e-02, 1.53806088e-02, 6.95685387e-01, 1.29131064e-01,\n",
      "        1.28341421e-01],\n",
      "       ...,\n",
      "       [3.23395848e-01, 5.94858937e-02, 5.71226954e-01, 3.34890261e-02,\n",
      "        1.24022234e-02],\n",
      "       [9.32806671e-01, 4.53832597e-02, 2.16373224e-02, 1.01599064e-04,\n",
      "        7.11189932e-05],\n",
      "       [8.97474408e-01, 7.47253671e-02, 2.74986178e-02, 2.18678251e-04,\n",
      "        8.29188648e-05]], dtype=float32), 0: array([[8.93752098e-01, 8.83543417e-02, 1.78448595e-02, 4.39195537e-05,\n",
      "        4.84293469e-06],\n",
      "       [9.08368826e-01, 4.09528874e-02, 5.03622368e-02, 2.39651723e-04,\n",
      "        7.64532961e-05],\n",
      "       [1.27890427e-02, 1.67057589e-02, 6.70378923e-01, 1.46436870e-01,\n",
      "        1.53689399e-01],\n",
      "       ...,\n",
      "       [1.77840471e-01, 4.10715304e-02, 7.09612131e-01, 5.46135008e-02,\n",
      "        1.68623831e-02],\n",
      "       [9.32725132e-01, 4.54182364e-02, 2.16827337e-02, 1.02160004e-04,\n",
      "        7.17712683e-05],\n",
      "       [8.97488832e-01, 7.47329444e-02, 2.74771824e-02, 2.18378118e-04,\n",
      "        8.27192562e-05]], dtype=float32)}, 'log_likelihood': {100: -2.458239895105362, 99: -2.451992901027203, 95: -2.375612611836195, 90: -2.3712348941534755, 85: -2.406747457253933, 75: -2.4429120538815856, 50: -2.492132367924601, 25: -2.3917412462584675, 15: -2.2468890933930874, 10: -2.1102070585083217, 5: -1.906064916804619, 1: -1.6528156447399407, 0: -1.4965153186095879}, 'log_odds': {100: -2.1474829, 99: -2.1390526, 95: -2.0251122, 90: -1.9683447, 85: -1.9704957, 75: -1.9678769, 50: -1.9652308, 25: -1.8055031, 15: -1.6170871, 10: -1.441985, 5: -1.1759906, 1: -0.8465758, 0: -0.6110032}, 'AUC_acc': 0.24090399999999998, 'AUC_auroc': 0.7161738169999999, 'AUC_preds': array([[8.7533677e-01, 7.9573914e-02, 4.2387366e-02, 1.7021341e-03,\n",
      "        9.9976885e-04],\n",
      "       [8.7195039e-01, 4.5848962e-02, 7.5010777e-02, 4.1711419e-03,\n",
      "        3.0187455e-03],\n",
      "       [7.2659022e-01, 5.5187244e-02, 1.8204527e-01, 1.6882207e-02,\n",
      "        1.9295134e-02],\n",
      "       ...,\n",
      "       [6.0771394e-01, 7.3806994e-02, 2.8968114e-01, 1.9320533e-02,\n",
      "        9.4774552e-03],\n",
      "       [9.4286329e-01, 3.0986223e-02, 2.4247192e-02, 1.1443364e-03,\n",
      "        7.5904751e-04],\n",
      "       [8.9207685e-01, 6.1280034e-02, 4.3838840e-02, 1.8549416e-03,\n",
      "        9.4925507e-04]], dtype=float32), 'AUC_log_likelihood': -2.3572617369388658, 'AUC_log_odds': -1.8237171739339828}, 'pro_in': {'acc': {100: 0.43, 99: 0.43, 95: 0.4308, 90: 0.4364, 85: 0.4384, 75: 0.4524, 50: 0.4796, 25: 0.494, 15: 0.4824, 10: 0.4728, 5: 0.4416, 1: 0.3332, 0: 0.2}, 'auroc': {100: 0.84102, 99: 0.8410034, 95: 0.8409655999999999, 90: 0.8421291999999999, 85: 0.8427261999999999, 75: 0.8438378, 50: 0.8460840000000001, 25: 0.8381648, 15: 0.8236038000000001, 10: 0.8118828, 5: 0.7865829999999999, 1: 0.7264929, 0: 0.50005}, 'preds': {100: array([[8.93752098e-01, 8.83543417e-02, 1.78448595e-02, 4.39195537e-05,\n",
      "        4.84293469e-06],\n",
      "       [9.08368826e-01, 4.09528874e-02, 5.03622368e-02, 2.39651723e-04,\n",
      "        7.64532961e-05],\n",
      "       [1.27890427e-02, 1.67057589e-02, 6.70378923e-01, 1.46436870e-01,\n",
      "        1.53689399e-01],\n",
      "       ...,\n",
      "       [1.77840471e-01, 4.10715304e-02, 7.09612131e-01, 5.46135008e-02,\n",
      "        1.68623831e-02],\n",
      "       [9.32725132e-01, 4.54182513e-02, 2.16827337e-02, 1.02160004e-04,\n",
      "        7.17712683e-05],\n",
      "       [8.97488832e-01, 7.47329444e-02, 2.74771824e-02, 2.18378118e-04,\n",
      "        8.27192562e-05]], dtype=float32), 99: array([[8.93767834e-01, 8.83461162e-02, 1.78373847e-02, 4.38737770e-05,\n",
      "        4.83341819e-06],\n",
      "       [9.08132017e-01, 4.10771519e-02, 5.04726954e-02, 2.41664180e-04,\n",
      "        7.65353470e-05],\n",
      "       [1.28852474e-02, 1.66259930e-02, 6.67577088e-01, 1.47147954e-01,\n",
      "        1.55763671e-01],\n",
      "       ...,\n",
      "       [1.77872345e-01, 4.10742722e-02, 7.09597647e-01, 5.45968413e-02,\n",
      "        1.68589298e-02],\n",
      "       [9.32477534e-01, 4.55000736e-02, 2.18443684e-02, 1.04094644e-04,\n",
      "        7.39469033e-05],\n",
      "       [8.98252368e-01, 7.42821768e-02, 2.71724872e-02, 2.13406616e-04,\n",
      "        7.96112508e-05]], dtype=float32), 95: array([[8.89042079e-01, 9.01631638e-02, 2.07292810e-02, 5.91350872e-05,\n",
      "        6.32861429e-06],\n",
      "       [9.08280909e-01, 4.05749157e-02, 5.08071743e-02, 2.53872917e-04,\n",
      "        8.31410071e-05],\n",
      "       [1.27104875e-02, 1.66690033e-02, 6.61060393e-01, 1.45596638e-01,\n",
      "        1.63963422e-01],\n",
      "       ...,\n",
      "       [1.70454964e-01, 3.89077887e-02, 7.10307181e-01, 6.09280802e-02,\n",
      "        1.94020011e-02],\n",
      "       [9.34447587e-01, 4.32530977e-02, 2.21154075e-02, 1.14714952e-04,\n",
      "        6.92046233e-05],\n",
      "       [8.94979477e-01, 7.40544423e-02, 3.05905472e-02, 2.71845725e-04,\n",
      "        1.03725899e-04]], dtype=float32), 90: array([[8.80897701e-01, 9.23180059e-02, 2.66828202e-02, 9.18699661e-05,\n",
      "        9.63619823e-06],\n",
      "       [8.84872019e-01, 4.59569804e-02, 6.84806332e-02, 5.00124588e-04,\n",
      "        1.90315099e-04],\n",
      "       [1.25512965e-02, 1.45935798e-02, 6.32349253e-01, 1.57350406e-01,\n",
      "        1.83155477e-01],\n",
      "       ...,\n",
      "       [1.83365434e-01, 4.06207815e-02, 6.98944569e-01, 5.83396070e-02,\n",
      "        1.87296513e-02],\n",
      "       [9.25177872e-01, 4.67650890e-02, 2.77739037e-02, 1.78133283e-04,\n",
      "        1.05033425e-04],\n",
      "       [8.86391878e-01, 7.67598003e-02, 3.62891629e-02, 4.03247075e-04,\n",
      "        1.55834758e-04]], dtype=float32), 85: array([[8.5747898e-01, 1.0163069e-01, 4.0667381e-02, 2.0018505e-04,\n",
      "        2.2817385e-05],\n",
      "       [8.8357258e-01, 4.4199392e-02, 7.1340598e-02, 6.0725107e-04,\n",
      "        2.8019125e-04],\n",
      "       [1.1047347e-02, 1.4152347e-02, 6.0409212e-01, 1.6725042e-01,\n",
      "        2.0345780e-01],\n",
      "       ...,\n",
      "       [1.8912482e-01, 3.9089542e-02, 6.8580049e-01, 6.2746406e-02,\n",
      "        2.3238793e-02],\n",
      "       [9.1138607e-01, 5.2916005e-02, 3.5283286e-02, 2.7439205e-04,\n",
      "        1.4029539e-04],\n",
      "       [8.6263704e-01, 8.2046159e-02, 5.4159563e-02, 8.3900825e-04,\n",
      "        3.1821273e-04]], dtype=float32), 75: array([[8.4887362e-01, 1.0179262e-01, 4.8988663e-02, 3.1198619e-04,\n",
      "        3.3158045e-05],\n",
      "       [8.8486850e-01, 3.9100528e-02, 7.4599035e-02, 8.7331713e-04,\n",
      "        5.5864954e-04],\n",
      "       [9.6726110e-03, 1.1524030e-02, 5.6715584e-01, 1.9564292e-01,\n",
      "        2.1600460e-01],\n",
      "       ...,\n",
      "       [1.8600945e-01, 3.8291540e-02, 6.6996831e-01, 7.6154508e-02,\n",
      "        2.9576192e-02],\n",
      "       [9.0142006e-01, 5.3928807e-02, 4.3964602e-02, 4.5685115e-04,\n",
      "        2.2959850e-04],\n",
      "       [8.3531630e-01, 8.6675942e-02, 7.6209232e-02, 1.3935792e-03,\n",
      "        4.0496682e-04]], dtype=float32), 50: array([[8.2129931e-01, 8.6544476e-02, 9.0812832e-02, 1.2322103e-03,\n",
      "        1.1122111e-04],\n",
      "       [8.9295912e-01, 3.3598773e-02, 7.0483454e-02, 1.6245639e-03,\n",
      "        1.3340149e-03],\n",
      "       [3.4920878e-03, 4.0091979e-03, 3.7773240e-01, 2.9481947e-01,\n",
      "        3.1994683e-01],\n",
      "       ...,\n",
      "       [2.4621533e-01, 3.9012890e-02, 5.7784867e-01, 9.0068236e-02,\n",
      "        4.6854943e-02],\n",
      "       [8.4842587e-01, 5.4649815e-02, 9.3563333e-02, 2.1936873e-03,\n",
      "        1.1672699e-03],\n",
      "       [6.9242918e-01, 1.0050696e-01, 1.9654259e-01, 8.4938090e-03,\n",
      "        2.0274736e-03]], dtype=float32), 25: array([[8.4236646e-01, 5.6068953e-02, 9.6722268e-02, 3.9212960e-03,\n",
      "        9.2107937e-04],\n",
      "       [8.7946361e-01, 3.0654153e-02, 8.0082260e-02, 4.3171360e-03,\n",
      "        5.4828022e-03],\n",
      "       [6.4918806e-04, 6.8228081e-04, 1.5774453e-01, 3.7524876e-01,\n",
      "        4.6567532e-01],\n",
      "       ...,\n",
      "       [2.0171782e-01, 2.8072031e-02, 4.7845706e-01, 1.6671854e-01,\n",
      "        1.2503453e-01],\n",
      "       [8.2105297e-01, 5.5237804e-02, 1.1814280e-01, 4.3636700e-03,\n",
      "        1.2027568e-03],\n",
      "       [5.4391950e-01, 8.8369749e-02, 3.3185968e-01, 2.8822409e-02,\n",
      "        7.0286714e-03]], dtype=float32), 15: array([[8.1639564e-01, 5.8152780e-02, 1.1753381e-01, 6.4108968e-03,\n",
      "        1.5068481e-03],\n",
      "       [8.4995890e-01, 3.4306154e-02, 9.4461933e-02, 7.7560116e-03,\n",
      "        1.3517010e-02],\n",
      "       [4.1260882e-04, 7.3245168e-04, 1.6548045e-01, 4.0859446e-01,\n",
      "        4.2478004e-01],\n",
      "       ...,\n",
      "       [2.0475289e-01, 2.5112620e-02, 4.3243724e-01, 1.8497813e-01,\n",
      "        1.5271911e-01],\n",
      "       [8.4118855e-01, 5.2332822e-02, 9.9642061e-02, 4.9314955e-03,\n",
      "        1.9051142e-03],\n",
      "       [4.5366785e-01, 7.1639128e-02, 4.0406263e-01, 5.4565016e-02,\n",
      "        1.6065272e-02]], dtype=float32), 10: array([[7.7629936e-01, 6.6966131e-02, 1.4052765e-01, 1.1510265e-02,\n",
      "        4.6965932e-03],\n",
      "       [7.6274866e-01, 3.8313344e-02, 1.2747669e-01, 1.7601851e-02,\n",
      "        5.3859480e-02],\n",
      "       [2.2721745e-04, 6.8035495e-04, 1.5743923e-01, 4.5554313e-01,\n",
      "        3.8611010e-01],\n",
      "       ...,\n",
      "       [3.0295381e-01, 3.0037286e-02, 3.6422238e-01, 1.4323629e-01,\n",
      "        1.5955020e-01],\n",
      "       [8.3220905e-01, 5.4849122e-02, 1.0518199e-01, 5.4936665e-03,\n",
      "        2.2661958e-03],\n",
      "       [6.3590425e-01, 6.2684849e-02, 2.6792336e-01, 2.5691470e-02,\n",
      "        7.7960631e-03]], dtype=float32), 5: array([[7.2375029e-01, 6.8246059e-02, 1.7004833e-01, 2.2609292e-02,\n",
      "        1.5346053e-02],\n",
      "       [6.4954203e-01, 4.8081826e-02, 1.7910063e-01, 3.6186561e-02,\n",
      "        8.7088898e-02],\n",
      "       [3.1145432e-04, 1.3561860e-03, 2.1959029e-01, 1.8131493e-01,\n",
      "        5.9742713e-01],\n",
      "       ...,\n",
      "       [4.1117519e-01, 4.8089579e-02, 3.6008468e-01, 9.7190626e-02,\n",
      "        8.3459914e-02],\n",
      "       [6.2198400e-01, 5.6753352e-02, 2.1651657e-01, 4.5581091e-02,\n",
      "        5.9164990e-02],\n",
      "       [7.9853880e-01, 6.2550046e-02, 1.2496598e-01, 9.4130542e-03,\n",
      "        4.5320597e-03]], dtype=float32), 1: array([[0.7106943 , 0.07365145, 0.16895822, 0.02519104, 0.02150499],\n",
      "       [0.712719  , 0.07372865, 0.16775405, 0.02479149, 0.02100675],\n",
      "       [0.00203986, 0.02718647, 0.5538407 , 0.12549523, 0.29143775],\n",
      "       ...,\n",
      "       [0.33281904, 0.03806295, 0.3946841 , 0.1329096 , 0.1015243 ],\n",
      "       [0.71269876, 0.07373442, 0.1677666 , 0.02479354, 0.02100667],\n",
      "       [0.712704  , 0.07373191, 0.167765  , 0.0247925 , 0.02100655]],\n",
      "      dtype=float32), 0: array([[0.71269345, 0.07373445, 0.16777113, 0.02479381, 0.0210071 ],\n",
      "       [0.71269345, 0.07373445, 0.16777113, 0.02479381, 0.0210071 ],\n",
      "       [0.71269345, 0.07373445, 0.16777113, 0.02479381, 0.0210071 ],\n",
      "       ...,\n",
      "       [0.71269345, 0.07373445, 0.16777113, 0.02479381, 0.0210071 ],\n",
      "       [0.71269345, 0.07373445, 0.16777113, 0.02479381, 0.0210071 ],\n",
      "       [0.71269345, 0.07373445, 0.16777113, 0.02479381, 0.0210071 ]],\n",
      "      dtype=float32)}, 'log_likelihood': {100: -1.4965153186095879, 99: -1.4963722562465818, 95: -1.4899847858104855, 90: -1.470196052243188, 85: -1.4489540683217346, 75: -1.412029949803464, 50: -1.344103555018641, 25: -1.3306219955300913, 15: -1.365525873092562, 10: -1.3909692259423434, 5: -1.4462585882052779, 1: -1.6478100364208221, 0: -2.458239895105362}, 'log_odds': {100: -0.6110032, 99: -0.61119026, 95: -0.6069239, 90: -0.58796984, 85: -0.57146895, 75: -0.5458295, 50: -0.5052147, 25: -0.5581014, 15: -0.6622321, 10: -0.7604576, 5: -0.9104705, 1: -1.2085838, 0: -2.1474829}, 'AUC_acc': 0.46152799999999994, 'AUC_auroc': 0.8326792494999999, 'AUC_preds': array([[0.8304117 , 0.08119866, 0.0826112 , 0.00389996, 0.0018785 ],\n",
      "       [0.8631224 , 0.03814133, 0.08381534, 0.00523763, 0.00968328],\n",
      "       [0.00876429, 0.00737711, 0.3928535 , 0.2698272 , 0.3211779 ],\n",
      "       ...,\n",
      "       [0.22665621, 0.03618225, 0.5626244 , 0.10587801, 0.06865916],\n",
      "       [0.8522476 , 0.05381789, 0.0849528 , 0.00486928, 0.00411239],\n",
      "       [0.7138443 , 0.08484826, 0.18297474, 0.01405732, 0.00427532]],\n",
      "      dtype=float32), 'AUC_log_likelihood': -1.4006435239193504, 'AUC_log_odds': -0.6070100572705269}}\n",
      "kernelshap_s-dkl\n"
     ]
    },
    {
     "name": "stdout",
     "output_type": "stream",
     "text": [
      "100\n"
     ]
    },
    {
     "name": "stderr",
     "output_type": "stream",
     "text": [
      "2022-05-16 23:36:37.751683: I tensorflow/core/common_runtime/gpu_fusion_pass.cc:507] ROCm Fusion is enabled.\n",
      "2022-05-16 23:36:37.755584: I tensorflow/core/common_runtime/gpu_fusion_pass.cc:507] ROCm Fusion is enabled.\n",
      "2022-05-16 23:36:37.757991: I tensorflow/core/common_runtime/gpu_fusion_pass.cc:507] ROCm Fusion is enabled.\n"
     ]
    },
    {
     "name": "stdout",
     "output_type": "stream",
     "text": [
      "99\n"
     ]
    },
    {
     "name": "stderr",
     "output_type": "stream",
     "text": [
      "2022-05-16 23:37:28.087337: I tensorflow/core/common_runtime/gpu_fusion_pass.cc:507] ROCm Fusion is enabled.\n",
      "2022-05-16 23:37:28.091331: I tensorflow/core/common_runtime/gpu_fusion_pass.cc:507] ROCm Fusion is enabled.\n",
      "2022-05-16 23:37:28.093633: I tensorflow/core/common_runtime/gpu_fusion_pass.cc:507] ROCm Fusion is enabled.\n"
     ]
    },
    {
     "name": "stdout",
     "output_type": "stream",
     "text": [
      "95\n"
     ]
    },
    {
     "name": "stderr",
     "output_type": "stream",
     "text": [
      "2022-05-16 23:38:18.957099: I tensorflow/core/common_runtime/gpu_fusion_pass.cc:507] ROCm Fusion is enabled.\n",
      "2022-05-16 23:38:18.960971: I tensorflow/core/common_runtime/gpu_fusion_pass.cc:507] ROCm Fusion is enabled.\n",
      "2022-05-16 23:38:18.963379: I tensorflow/core/common_runtime/gpu_fusion_pass.cc:507] ROCm Fusion is enabled.\n"
     ]
    },
    {
     "name": "stdout",
     "output_type": "stream",
     "text": [
      "90\n"
     ]
    },
    {
     "name": "stderr",
     "output_type": "stream",
     "text": [
      "2022-05-16 23:39:10.114515: I tensorflow/core/common_runtime/gpu_fusion_pass.cc:507] ROCm Fusion is enabled.\n",
      "2022-05-16 23:39:10.118416: I tensorflow/core/common_runtime/gpu_fusion_pass.cc:507] ROCm Fusion is enabled.\n",
      "2022-05-16 23:39:10.120745: I tensorflow/core/common_runtime/gpu_fusion_pass.cc:507] ROCm Fusion is enabled.\n"
     ]
    },
    {
     "name": "stdout",
     "output_type": "stream",
     "text": [
      "85\n"
     ]
    },
    {
     "name": "stderr",
     "output_type": "stream",
     "text": [
      "2022-05-16 23:40:01.415149: I tensorflow/core/common_runtime/gpu_fusion_pass.cc:507] ROCm Fusion is enabled.\n",
      "2022-05-16 23:40:01.419023: I tensorflow/core/common_runtime/gpu_fusion_pass.cc:507] ROCm Fusion is enabled.\n",
      "2022-05-16 23:40:01.421353: I tensorflow/core/common_runtime/gpu_fusion_pass.cc:507] ROCm Fusion is enabled.\n"
     ]
    },
    {
     "name": "stdout",
     "output_type": "stream",
     "text": [
      "75\n"
     ]
    },
    {
     "name": "stderr",
     "output_type": "stream",
     "text": [
      "2022-05-16 23:40:53.162849: I tensorflow/core/common_runtime/gpu_fusion_pass.cc:507] ROCm Fusion is enabled.\n",
      "2022-05-16 23:40:53.166688: I tensorflow/core/common_runtime/gpu_fusion_pass.cc:507] ROCm Fusion is enabled.\n",
      "2022-05-16 23:40:53.169015: I tensorflow/core/common_runtime/gpu_fusion_pass.cc:507] ROCm Fusion is enabled.\n"
     ]
    },
    {
     "name": "stdout",
     "output_type": "stream",
     "text": [
      "50\n"
     ]
    },
    {
     "name": "stderr",
     "output_type": "stream",
     "text": [
      "2022-05-16 23:41:44.727000: I tensorflow/core/common_runtime/gpu_fusion_pass.cc:507] ROCm Fusion is enabled.\n",
      "2022-05-16 23:41:44.730851: I tensorflow/core/common_runtime/gpu_fusion_pass.cc:507] ROCm Fusion is enabled.\n",
      "2022-05-16 23:41:44.733189: I tensorflow/core/common_runtime/gpu_fusion_pass.cc:507] ROCm Fusion is enabled.\n"
     ]
    },
    {
     "name": "stdout",
     "output_type": "stream",
     "text": [
      "25\n"
     ]
    },
    {
     "name": "stderr",
     "output_type": "stream",
     "text": [
      "2022-05-16 23:42:35.995965: I tensorflow/core/common_runtime/gpu_fusion_pass.cc:507] ROCm Fusion is enabled.\n",
      "2022-05-16 23:42:36.000024: I tensorflow/core/common_runtime/gpu_fusion_pass.cc:507] ROCm Fusion is enabled.\n",
      "2022-05-16 23:42:36.002356: I tensorflow/core/common_runtime/gpu_fusion_pass.cc:507] ROCm Fusion is enabled.\n"
     ]
    },
    {
     "name": "stdout",
     "output_type": "stream",
     "text": [
      "15\n"
     ]
    },
    {
     "name": "stderr",
     "output_type": "stream",
     "text": [
      "2022-05-16 23:43:27.295791: I tensorflow/core/common_runtime/gpu_fusion_pass.cc:507] ROCm Fusion is enabled.\n",
      "2022-05-16 23:43:27.299779: I tensorflow/core/common_runtime/gpu_fusion_pass.cc:507] ROCm Fusion is enabled.\n",
      "2022-05-16 23:43:27.302139: I tensorflow/core/common_runtime/gpu_fusion_pass.cc:507] ROCm Fusion is enabled.\n"
     ]
    },
    {
     "name": "stdout",
     "output_type": "stream",
     "text": [
      "10\n"
     ]
    },
    {
     "name": "stderr",
     "output_type": "stream",
     "text": [
      "2022-05-16 23:44:18.419029: I tensorflow/core/common_runtime/gpu_fusion_pass.cc:507] ROCm Fusion is enabled.\n",
      "2022-05-16 23:44:18.422885: I tensorflow/core/common_runtime/gpu_fusion_pass.cc:507] ROCm Fusion is enabled.\n",
      "2022-05-16 23:44:18.425215: I tensorflow/core/common_runtime/gpu_fusion_pass.cc:507] ROCm Fusion is enabled.\n"
     ]
    },
    {
     "name": "stdout",
     "output_type": "stream",
     "text": [
      "5\n"
     ]
    },
    {
     "name": "stderr",
     "output_type": "stream",
     "text": [
      "2022-05-16 23:45:09.896035: I tensorflow/core/common_runtime/gpu_fusion_pass.cc:507] ROCm Fusion is enabled.\n",
      "2022-05-16 23:45:09.899941: I tensorflow/core/common_runtime/gpu_fusion_pass.cc:507] ROCm Fusion is enabled.\n",
      "2022-05-16 23:45:09.902240: I tensorflow/core/common_runtime/gpu_fusion_pass.cc:507] ROCm Fusion is enabled.\n"
     ]
    },
    {
     "name": "stdout",
     "output_type": "stream",
     "text": [
      "1\n"
     ]
    },
    {
     "name": "stderr",
     "output_type": "stream",
     "text": [
      "2022-05-16 23:46:01.151764: I tensorflow/core/common_runtime/gpu_fusion_pass.cc:507] ROCm Fusion is enabled.\n",
      "2022-05-16 23:46:01.155649: I tensorflow/core/common_runtime/gpu_fusion_pass.cc:507] ROCm Fusion is enabled.\n",
      "2022-05-16 23:46:01.157951: I tensorflow/core/common_runtime/gpu_fusion_pass.cc:507] ROCm Fusion is enabled.\n"
     ]
    },
    {
     "name": "stdout",
     "output_type": "stream",
     "text": [
      "0\n"
     ]
    },
    {
     "name": "stderr",
     "output_type": "stream",
     "text": [
      "2022-05-16 23:46:29.832236: I tensorflow/core/common_runtime/gpu_fusion_pass.cc:507] ROCm Fusion is enabled.\n",
      "2022-05-16 23:46:29.836132: I tensorflow/core/common_runtime/gpu_fusion_pass.cc:507] ROCm Fusion is enabled.\n",
      "2022-05-16 23:46:29.838468: I tensorflow/core/common_runtime/gpu_fusion_pass.cc:507] ROCm Fusion is enabled.\n",
      "/vast/nj594/xai/helpers/evaluate.py:59: VisibleDeprecationWarning: Creating an ndarray from ragged nested sequences (which is a list-or-tuple of lists-or-tuples-or ndarrays with different lengths or shapes) is deprecated. If you meant to do this, you must specify 'dtype=object' when creating the ndarray\n",
      "  r_ = np.array([[float(p), n] for p,n in r.items()])\n"
     ]
    },
    {
     "name": "stdout",
     "output_type": "stream",
     "text": [
      "100\n"
     ]
    },
    {
     "name": "stderr",
     "output_type": "stream",
     "text": [
      "2022-05-16 23:46:58.455481: I tensorflow/core/common_runtime/gpu_fusion_pass.cc:507] ROCm Fusion is enabled.\n",
      "2022-05-16 23:46:58.459594: I tensorflow/core/common_runtime/gpu_fusion_pass.cc:507] ROCm Fusion is enabled.\n",
      "2022-05-16 23:46:58.461976: I tensorflow/core/common_runtime/gpu_fusion_pass.cc:507] ROCm Fusion is enabled.\n"
     ]
    },
    {
     "name": "stdout",
     "output_type": "stream",
     "text": [
      "99\n"
     ]
    },
    {
     "name": "stderr",
     "output_type": "stream",
     "text": [
      "2022-05-16 23:47:49.840982: I tensorflow/core/common_runtime/gpu_fusion_pass.cc:507] ROCm Fusion is enabled.\n",
      "2022-05-16 23:47:49.845098: I tensorflow/core/common_runtime/gpu_fusion_pass.cc:507] ROCm Fusion is enabled.\n",
      "2022-05-16 23:47:49.847443: I tensorflow/core/common_runtime/gpu_fusion_pass.cc:507] ROCm Fusion is enabled.\n"
     ]
    },
    {
     "name": "stdout",
     "output_type": "stream",
     "text": [
      "95\n"
     ]
    },
    {
     "name": "stderr",
     "output_type": "stream",
     "text": [
      "2022-05-16 23:48:40.996646: I tensorflow/core/common_runtime/gpu_fusion_pass.cc:507] ROCm Fusion is enabled.\n",
      "2022-05-16 23:48:41.001220: I tensorflow/core/common_runtime/gpu_fusion_pass.cc:507] ROCm Fusion is enabled.\n",
      "2022-05-16 23:48:41.003527: I tensorflow/core/common_runtime/gpu_fusion_pass.cc:507] ROCm Fusion is enabled.\n"
     ]
    },
    {
     "name": "stdout",
     "output_type": "stream",
     "text": [
      "90\n"
     ]
    },
    {
     "name": "stderr",
     "output_type": "stream",
     "text": [
      "2022-05-16 23:49:32.294982: I tensorflow/core/common_runtime/gpu_fusion_pass.cc:507] ROCm Fusion is enabled.\n",
      "2022-05-16 23:49:32.298960: I tensorflow/core/common_runtime/gpu_fusion_pass.cc:507] ROCm Fusion is enabled.\n",
      "2022-05-16 23:49:32.301272: I tensorflow/core/common_runtime/gpu_fusion_pass.cc:507] ROCm Fusion is enabled.\n"
     ]
    },
    {
     "name": "stdout",
     "output_type": "stream",
     "text": [
      "85\n"
     ]
    },
    {
     "name": "stderr",
     "output_type": "stream",
     "text": [
      "2022-05-16 23:50:23.720972: I tensorflow/core/common_runtime/gpu_fusion_pass.cc:507] ROCm Fusion is enabled.\n",
      "2022-05-16 23:50:23.724975: I tensorflow/core/common_runtime/gpu_fusion_pass.cc:507] ROCm Fusion is enabled.\n",
      "2022-05-16 23:50:23.727280: I tensorflow/core/common_runtime/gpu_fusion_pass.cc:507] ROCm Fusion is enabled.\n"
     ]
    },
    {
     "name": "stdout",
     "output_type": "stream",
     "text": [
      "75\n"
     ]
    },
    {
     "name": "stderr",
     "output_type": "stream",
     "text": [
      "2022-05-16 23:51:14.945383: I tensorflow/core/common_runtime/gpu_fusion_pass.cc:507] ROCm Fusion is enabled.\n",
      "2022-05-16 23:51:14.949210: I tensorflow/core/common_runtime/gpu_fusion_pass.cc:507] ROCm Fusion is enabled.\n",
      "2022-05-16 23:51:14.951583: I tensorflow/core/common_runtime/gpu_fusion_pass.cc:507] ROCm Fusion is enabled.\n"
     ]
    },
    {
     "name": "stdout",
     "output_type": "stream",
     "text": [
      "50\n"
     ]
    },
    {
     "name": "stderr",
     "output_type": "stream",
     "text": [
      "2022-05-16 23:52:06.376795: I tensorflow/core/common_runtime/gpu_fusion_pass.cc:507] ROCm Fusion is enabled.\n",
      "2022-05-16 23:52:06.380631: I tensorflow/core/common_runtime/gpu_fusion_pass.cc:507] ROCm Fusion is enabled.\n",
      "2022-05-16 23:52:06.382953: I tensorflow/core/common_runtime/gpu_fusion_pass.cc:507] ROCm Fusion is enabled.\n"
     ]
    },
    {
     "name": "stdout",
     "output_type": "stream",
     "text": [
      "25\n"
     ]
    },
    {
     "name": "stderr",
     "output_type": "stream",
     "text": [
      "2022-05-16 23:52:57.566969: I tensorflow/core/common_runtime/gpu_fusion_pass.cc:507] ROCm Fusion is enabled.\n",
      "2022-05-16 23:52:57.570935: I tensorflow/core/common_runtime/gpu_fusion_pass.cc:507] ROCm Fusion is enabled.\n",
      "2022-05-16 23:52:57.573255: I tensorflow/core/common_runtime/gpu_fusion_pass.cc:507] ROCm Fusion is enabled.\n"
     ]
    },
    {
     "name": "stdout",
     "output_type": "stream",
     "text": [
      "15\n"
     ]
    },
    {
     "name": "stderr",
     "output_type": "stream",
     "text": [
      "2022-05-16 23:53:48.561134: I tensorflow/core/common_runtime/gpu_fusion_pass.cc:507] ROCm Fusion is enabled.\n",
      "2022-05-16 23:53:48.564992: I tensorflow/core/common_runtime/gpu_fusion_pass.cc:507] ROCm Fusion is enabled.\n",
      "2022-05-16 23:53:48.567325: I tensorflow/core/common_runtime/gpu_fusion_pass.cc:507] ROCm Fusion is enabled.\n"
     ]
    },
    {
     "name": "stdout",
     "output_type": "stream",
     "text": [
      "10\n"
     ]
    },
    {
     "name": "stderr",
     "output_type": "stream",
     "text": [
      "2022-05-16 23:54:39.811758: I tensorflow/core/common_runtime/gpu_fusion_pass.cc:507] ROCm Fusion is enabled.\n",
      "2022-05-16 23:54:39.815613: I tensorflow/core/common_runtime/gpu_fusion_pass.cc:507] ROCm Fusion is enabled.\n",
      "2022-05-16 23:54:39.817938: I tensorflow/core/common_runtime/gpu_fusion_pass.cc:507] ROCm Fusion is enabled.\n"
     ]
    },
    {
     "name": "stdout",
     "output_type": "stream",
     "text": [
      "5\n"
     ]
    },
    {
     "name": "stderr",
     "output_type": "stream",
     "text": [
      "2022-05-16 23:55:30.876485: I tensorflow/core/common_runtime/gpu_fusion_pass.cc:507] ROCm Fusion is enabled.\n",
      "2022-05-16 23:55:30.880377: I tensorflow/core/common_runtime/gpu_fusion_pass.cc:507] ROCm Fusion is enabled.\n",
      "2022-05-16 23:55:30.882679: I tensorflow/core/common_runtime/gpu_fusion_pass.cc:507] ROCm Fusion is enabled.\n"
     ]
    },
    {
     "name": "stdout",
     "output_type": "stream",
     "text": [
      "1\n"
     ]
    },
    {
     "name": "stderr",
     "output_type": "stream",
     "text": [
      "2022-05-16 23:56:21.944014: I tensorflow/core/common_runtime/gpu_fusion_pass.cc:507] ROCm Fusion is enabled.\n",
      "2022-05-16 23:56:21.948135: I tensorflow/core/common_runtime/gpu_fusion_pass.cc:507] ROCm Fusion is enabled.\n",
      "2022-05-16 23:56:21.950510: I tensorflow/core/common_runtime/gpu_fusion_pass.cc:507] ROCm Fusion is enabled.\n"
     ]
    },
    {
     "name": "stdout",
     "output_type": "stream",
     "text": [
      "0\n"
     ]
    },
    {
     "name": "stderr",
     "output_type": "stream",
     "text": [
      "2022-05-16 23:56:50.467954: I tensorflow/core/common_runtime/gpu_fusion_pass.cc:507] ROCm Fusion is enabled.\n",
      "2022-05-16 23:56:50.471773: I tensorflow/core/common_runtime/gpu_fusion_pass.cc:507] ROCm Fusion is enabled.\n",
      "2022-05-16 23:56:50.474103: I tensorflow/core/common_runtime/gpu_fusion_pass.cc:507] ROCm Fusion is enabled.\n",
      "/vast/nj594/xai/helpers/evaluate.py:59: VisibleDeprecationWarning: Creating an ndarray from ragged nested sequences (which is a list-or-tuple of lists-or-tuples-or ndarrays with different lengths or shapes) is deprecated. If you meant to do this, you must specify 'dtype=object' when creating the ndarray\n",
      "  r_ = np.array([[float(p), n] for p,n in r.items()])\n"
     ]
    },
    {
     "name": "stdout",
     "output_type": "stream",
     "text": [
      "{'retro_ex': {'acc': {100: 0.2, 99: 0.198, 95: 0.1944, 90: 0.1984, 85: 0.202, 75: 0.212, 50: 0.2356, 25: 0.2564, 15: 0.2732, 10: 0.286, 5: 0.312, 1: 0.3824, 0: 0.43}, 'auroc': {100: 0.50005, 99: 0.3742758, 95: 0.3998354, 90: 0.42789920000000004, 85: 0.456377, 75: 0.5043518, 50: 0.5903205999999999, 25: 0.6652074, 15: 0.6986041000000001, 10: 0.7181351, 5: 0.7491491, 1: 0.8069704, 0: 0.84102}, 'preds': {100: array([[0.71269345, 0.07373445, 0.16777113, 0.02479381, 0.0210071 ],\n",
      "       [0.71269345, 0.07373445, 0.16777113, 0.02479381, 0.0210071 ],\n",
      "       [0.71269345, 0.07373445, 0.16777113, 0.02479381, 0.0210071 ],\n",
      "       ...,\n",
      "       [0.71269345, 0.07373445, 0.16777113, 0.02479381, 0.0210071 ],\n",
      "       [0.71269345, 0.07373445, 0.16777113, 0.02479381, 0.0210071 ],\n",
      "       [0.71269345, 0.07373445, 0.16777113, 0.02479381, 0.0210071 ]],\n",
      "      dtype=float32), 99: array([[0.6162578 , 0.05671772, 0.20903994, 0.04599977, 0.07198472],\n",
      "       [0.66509306, 0.06452591, 0.1939039 , 0.03631241, 0.04016469],\n",
      "       [0.73281556, 0.07441335, 0.16337694, 0.01842014, 0.010974  ],\n",
      "       ...,\n",
      "       [0.77031565, 0.07270076, 0.13657886, 0.01314486, 0.00725985],\n",
      "       [0.47865835, 0.04954525, 0.28894186, 0.08940888, 0.09344572],\n",
      "       [0.5818672 , 0.05816424, 0.23254623, 0.05671595, 0.0707064 ]],\n",
      "      dtype=float32), 95: array([[0.2973561 , 0.01935398, 0.2424151 , 0.1321561 , 0.30871868],\n",
      "       [0.26616997, 0.02236826, 0.28483656, 0.17382063, 0.2528046 ],\n",
      "       [0.71156484, 0.05935118, 0.17667615, 0.02281446, 0.02959331],\n",
      "       ...,\n",
      "       [0.8045691 , 0.07370718, 0.11520141, 0.00528388, 0.00123845],\n",
      "       [0.5019604 , 0.04818213, 0.260017  , 0.07715736, 0.11268308],\n",
      "       [0.37099072, 0.05826196, 0.38979694, 0.10801107, 0.07293921]],\n",
      "      dtype=float32), 90: array([[0.3354121 , 0.02784251, 0.27445138, 0.11504196, 0.24725208],\n",
      "       [0.2262038 , 0.02495662, 0.37922353, 0.21328516, 0.1563309 ],\n",
      "       [0.71753174, 0.06404188, 0.18515149, 0.01718709, 0.01608782],\n",
      "       ...,\n",
      "       [0.8153142 , 0.06960703, 0.10975178, 0.00430038, 0.00102661],\n",
      "       [0.5544631 , 0.05675953, 0.26418218, 0.05668425, 0.06791092],\n",
      "       [0.43789014, 0.06069943, 0.35862815, 0.0815853 , 0.06119694]],\n",
      "      dtype=float32), 85: array([[0.4527791 , 0.051908  , 0.3280635 , 0.07616347, 0.09108591],\n",
      "       [0.2958237 , 0.03242088, 0.37481666, 0.16465382, 0.13228491],\n",
      "       [0.7540204 , 0.06191098, 0.15574056, 0.01291971, 0.01540838],\n",
      "       ...,\n",
      "       [0.7959696 , 0.06501202, 0.13118279, 0.00583085, 0.00200475],\n",
      "       [0.47213012, 0.05234718, 0.32165676, 0.06998669, 0.08387924],\n",
      "       [0.57551396, 0.07587431, 0.2978364 , 0.03603351, 0.01474185]],\n",
      "      dtype=float32), 75: array([[0.50594   , 0.06562766, 0.33938327, 0.05086435, 0.03818476],\n",
      "       [0.39876926, 0.04437578, 0.39848307, 0.09943616, 0.05893572],\n",
      "       [0.8242136 , 0.04718211, 0.10189627, 0.00683916, 0.01986885],\n",
      "       ...,\n",
      "       [0.80125576, 0.06661156, 0.12554213, 0.00476055, 0.00182998],\n",
      "       [0.46547934, 0.08816121, 0.36829266, 0.04386335, 0.0342035 ],\n",
      "       [0.6535738 , 0.08544923, 0.23954456, 0.01629877, 0.0051336 ]],\n",
      "      dtype=float32), 50: array([[0.6775336 , 0.1013695 , 0.20369567, 0.01086259, 0.00653864],\n",
      "       [0.6164641 , 0.05469674, 0.29601628, 0.02021464, 0.01260822],\n",
      "       [0.85076386, 0.04322615, 0.0862293 , 0.00462931, 0.01515141],\n",
      "       ...,\n",
      "       [0.830161  , 0.06386048, 0.10225482, 0.00256482, 0.00115895],\n",
      "       [0.8130565 , 0.07766616, 0.10592457, 0.00212228, 0.00123043],\n",
      "       [0.6572627 , 0.11107296, 0.21949384, 0.00941745, 0.00275312]],\n",
      "      dtype=float32), 25: array([[6.97958589e-01, 1.40078679e-01, 1.58117905e-01, 2.92224460e-03,\n",
      "        9.22558538e-04],\n",
      "       [8.02859128e-01, 5.06282821e-02, 1.42166972e-01, 2.64229160e-03,\n",
      "        1.70334592e-03],\n",
      "       [6.99361503e-01, 4.32646200e-02, 2.05342978e-01, 1.40407113e-02,\n",
      "        3.79901193e-02],\n",
      "       ...,\n",
      "       [7.82351792e-01, 7.46160746e-02, 1.37839571e-01, 3.39338207e-03,\n",
      "        1.79914280e-03],\n",
      "       [9.00032282e-01, 5.93640916e-02, 3.99573185e-02, 3.85186868e-04,\n",
      "        2.61008565e-04],\n",
      "       [7.94534802e-01, 9.75957438e-02, 1.04124315e-01, 2.67180498e-03,\n",
      "        1.07335055e-03]], dtype=float32), 15: array([[6.90044284e-01, 1.53909117e-01, 1.53517544e-01, 2.09817314e-03,\n",
      "        4.30878456e-04],\n",
      "       [8.49035382e-01, 4.93036509e-02, 1.00053996e-01, 1.13372493e-03,\n",
      "        4.73266264e-04],\n",
      "       [4.75445688e-01, 3.64761576e-02, 3.73716652e-01, 3.77286486e-02,\n",
      "        7.66327977e-02],\n",
      "       ...,\n",
      "       [7.43519425e-01, 7.92746693e-02, 1.69639051e-01, 4.77353251e-03,\n",
      "        2.79328926e-03],\n",
      "       [9.04707074e-01, 5.91716990e-02, 3.57020274e-02, 2.55101215e-04,\n",
      "        1.63992911e-04],\n",
      "       [8.54799449e-01, 9.03108865e-02, 5.36300801e-02, 8.64365487e-04,\n",
      "        3.95256357e-04]], dtype=float32), 10: array([[7.4962330e-01, 1.4479646e-01, 1.0431982e-01, 1.0489109e-03,\n",
      "        2.1148924e-04],\n",
      "       [8.7843490e-01, 4.5364551e-02, 7.5376697e-02, 5.8605784e-04,\n",
      "        2.3785286e-04],\n",
      "       [3.9383639e-02, 4.9676195e-02, 7.0441806e-01, 6.7825854e-02,\n",
      "        1.3869622e-01],\n",
      "       ...,\n",
      "       [7.3689830e-01, 8.1506729e-02, 1.7443721e-01, 4.5907418e-03,\n",
      "        2.5670126e-03],\n",
      "       [9.1739535e-01, 5.3871915e-02, 2.8441517e-02, 1.7447048e-04,\n",
      "        1.1672758e-04],\n",
      "       [8.6353225e-01, 9.0330318e-02, 4.5316786e-02, 5.6866131e-04,\n",
      "        2.5195311e-04]], dtype=float32), 5: array([[8.5979658e-01, 1.0878662e-01, 3.1265408e-02, 1.3052134e-04,\n",
      "        2.0836702e-05],\n",
      "       [8.9910042e-01, 4.0794149e-02, 5.9585519e-02, 3.7075108e-04,\n",
      "        1.4918024e-04],\n",
      "       [2.1287253e-02, 2.9331371e-02, 7.3203629e-01, 1.0358637e-01,\n",
      "        1.1375872e-01],\n",
      "       ...,\n",
      "       [6.2281042e-01, 8.5225783e-02, 2.7804664e-01, 9.5663806e-03,\n",
      "        4.3507502e-03],\n",
      "       [9.2693520e-01, 4.8972409e-02, 2.3878014e-02, 1.2296079e-04,\n",
      "        9.1366674e-05],\n",
      "       [8.8425183e-01, 8.1738912e-02, 3.3578258e-02, 3.0768171e-04,\n",
      "        1.2333205e-04]], dtype=float32), 1: array([[8.89541924e-01, 9.10536051e-02, 1.93477646e-02, 5.08555786e-05,\n",
      "        5.83429437e-06],\n",
      "       [9.13659930e-01, 3.93014103e-02, 4.67396863e-02, 2.20897986e-04,\n",
      "        7.80699120e-05],\n",
      "       [1.50159225e-02, 2.01951843e-02, 6.86709464e-01, 1.22185692e-01,\n",
      "        1.55893713e-01],\n",
      "       ...,\n",
      "       [5.78128874e-01, 6.82302639e-02, 3.33266407e-01, 1.34765608e-02,\n",
      "        6.89789653e-03],\n",
      "       [9.33276474e-01, 4.49782684e-02, 2.15608962e-02, 1.04978717e-04,\n",
      "        7.94886946e-05],\n",
      "       [8.97496879e-01, 7.44108334e-02, 2.77803466e-02, 2.24318457e-04,\n",
      "        8.76468912e-05]], dtype=float32), 0: array([[8.93752098e-01, 8.83543417e-02, 1.78448595e-02, 4.39195537e-05,\n",
      "        4.84293469e-06],\n",
      "       [9.08368826e-01, 4.09528874e-02, 5.03622368e-02, 2.39651723e-04,\n",
      "        7.64532961e-05],\n",
      "       [1.27890427e-02, 1.67057589e-02, 6.70378923e-01, 1.46436870e-01,\n",
      "        1.53689399e-01],\n",
      "       ...,\n",
      "       [1.77840471e-01, 4.10715304e-02, 7.09612131e-01, 5.46135008e-02,\n",
      "        1.68623831e-02],\n",
      "       [9.32725132e-01, 4.54182513e-02, 2.16827337e-02, 1.02160004e-04,\n",
      "        7.17712683e-05],\n",
      "       [8.97488832e-01, 7.47329444e-02, 2.74771824e-02, 2.18378118e-04,\n",
      "        8.27192562e-05]], dtype=float32)}, 'log_likelihood': {100: -2.458239895105362, 99: -2.6126047843515874, 95: -3.019894266334176, 90: -3.061231937687844, 85: -3.036212788508087, 75: -2.929959104089439, 50: -2.7174715965617446, 25: -2.4902217271782456, 15: -2.3625760832332077, 10: -2.2629448186831547, 5: -2.069170301621407, 1: -1.6898052441334352, 0: -1.4965153186095879}, 'log_odds': {100: -2.1474829, 99: -2.3590355, 95: -2.7673028, 90: -2.7807062, 85: -2.7318733, 75: -2.5890574, 50: -2.2950683, 25: -1.969925, 15: -1.794791, 10: -1.6614246, 5: -1.4127636, 1: -0.9122674, 0: -0.6110032}, 'AUC_acc': 0.241178, 'AUC_auroc': 0.584119115, 'AUC_preds': array([[0.6177783 , 0.09568027, 0.21199717, 0.03103082, 0.04351348],\n",
      "       [0.6055086 , 0.04595673, 0.24956892, 0.05492213, 0.04404359],\n",
      "       [0.6646739 , 0.04650777, 0.22584695, 0.02291992, 0.04005148],\n",
      "       ...,\n",
      "       [0.7801397 , 0.07030644, 0.1422558 , 0.00503886, 0.00225917],\n",
      "       [0.7269101 , 0.06645976, 0.1608431 , 0.02222507, 0.0235619 ],\n",
      "       [0.6916002 , 0.09017324, 0.18810904, 0.01897216, 0.01114534]],\n",
      "      dtype=float32), 'AUC_log_likelihood': -2.65535948015013, 'AUC_log_odds': -2.2168733495473862}, 'retro_in': {'acc': {100: 0.43, 99: 0.4232, 95: 0.4264, 90: 0.4308, 85: 0.4356, 75: 0.4424, 50: 0.468, 25: 0.476, 15: 0.4656, 10: 0.4596, 5: 0.4344, 1: 0.3384, 0: 0.2}, 'auroc': {100: 0.84102, 99: 0.8317088, 95: 0.8266651999999999, 90: 0.8270432, 85: 0.8267658000000001, 75: 0.8265733, 50: 0.8244154, 25: 0.8161848, 15: 0.8090536, 10: 0.8020029999999998, 5: 0.7906328, 1: 0.7515972, 0: 0.50005}, 'preds': {100: array([[8.93752098e-01, 8.83543417e-02, 1.78448595e-02, 4.39195537e-05,\n",
      "        4.84293469e-06],\n",
      "       [9.08368826e-01, 4.09528874e-02, 5.03622368e-02, 2.39651723e-04,\n",
      "        7.64532961e-05],\n",
      "       [1.27890427e-02, 1.67057589e-02, 6.70378923e-01, 1.46436870e-01,\n",
      "        1.53689399e-01],\n",
      "       ...,\n",
      "       [1.77840471e-01, 4.10715304e-02, 7.09612131e-01, 5.46135008e-02,\n",
      "        1.68623831e-02],\n",
      "       [9.32725132e-01, 4.54182364e-02, 2.16827337e-02, 1.02160004e-04,\n",
      "        7.17712683e-05],\n",
      "       [8.97488832e-01, 7.47329444e-02, 2.74771824e-02, 2.18378118e-04,\n",
      "        8.27192562e-05]], dtype=float32), 99: array([[8.9178377e-01, 8.9650176e-02, 1.8514499e-02, 4.6590383e-05,\n",
      "        4.9236737e-06],\n",
      "       [9.2631584e-01, 3.7677821e-02, 3.5810955e-02, 1.4591934e-04,\n",
      "        4.9459086e-05],\n",
      "       [1.2137878e-02, 1.6014393e-02, 6.6446370e-01, 1.4942263e-01,\n",
      "        1.5796141e-01],\n",
      "       ...,\n",
      "       [1.7692050e-01, 3.9944738e-02, 7.0626950e-01, 5.7904124e-02,\n",
      "        1.8961124e-02],\n",
      "       [9.7428799e-01, 2.0423012e-02, 5.2620936e-03, 1.4986425e-05,\n",
      "        1.1816613e-05],\n",
      "       [8.9695090e-01, 7.5295255e-02, 2.7465679e-02, 2.1399411e-04,\n",
      "        7.4162665e-05]], dtype=float32), 95: array([[9.30696964e-01, 6.08078390e-02, 8.47739354e-03, 1.63410696e-05,\n",
      "        1.53069743e-06],\n",
      "       [9.33536649e-01, 3.26744057e-02, 3.35861817e-02, 1.50308741e-04,\n",
      "        5.24014249e-05],\n",
      "       [1.07921930e-02, 1.33346366e-02, 6.30656481e-01, 1.68855160e-01,\n",
      "        1.76361531e-01],\n",
      "       ...,\n",
      "       [1.58427820e-01, 3.50919366e-02, 7.14631319e-01, 6.77326322e-02,\n",
      "        2.41162535e-02],\n",
      "       [9.75336432e-01, 1.97138097e-02, 4.92763706e-03, 1.29804075e-05,\n",
      "        9.14401335e-06],\n",
      "       [9.16089118e-01, 6.46755397e-02, 1.90555863e-02, 1.32264497e-04,\n",
      "        4.75335037e-05]], dtype=float32), 90: array([[9.4004148e-01, 5.2374721e-02, 7.5684576e-03, 1.4130621e-05,\n",
      "        1.1944990e-06],\n",
      "       [9.4772094e-01, 2.7213547e-02, 2.4887327e-02, 1.2392148e-04,\n",
      "        5.4172815e-05],\n",
      "       [8.9863902e-03, 1.0831460e-02, 5.7540822e-01, 1.8706831e-01,\n",
      "        2.1770561e-01],\n",
      "       ...,\n",
      "       [1.1874432e-01, 2.6749160e-02, 7.1898478e-01, 9.5897824e-02,\n",
      "        3.9623901e-02],\n",
      "       [9.7429579e-01, 2.0054532e-02, 5.6260154e-03, 1.5099795e-05,\n",
      "        8.4504982e-06],\n",
      "       [9.1907281e-01, 6.2284347e-02, 1.8461673e-02, 1.3418213e-04,\n",
      "        4.6955967e-05]], dtype=float32), 85: array([[9.45291340e-01, 4.85317968e-02, 6.16434077e-03, 1.15210360e-05,\n",
      "        9.99929171e-07],\n",
      "       [9.53188837e-01, 2.53990535e-02, 2.12845467e-02, 9.63872080e-05,\n",
      "        3.12928787e-05],\n",
      "       [8.48558638e-03, 1.02150673e-02, 5.52106023e-01, 1.95668548e-01,\n",
      "        2.33524695e-01],\n",
      "       ...,\n",
      "       [1.09718949e-01, 2.68624891e-02, 7.15535045e-01, 1.06463715e-01,\n",
      "        4.14198376e-02],\n",
      "       [9.80146229e-01, 1.61961596e-02, 3.64486570e-03, 8.25063125e-06,\n",
      "        4.57513761e-06],\n",
      "       [9.11526978e-01, 6.55835867e-02, 2.26383526e-02, 1.88084217e-04,\n",
      "        6.30592840e-05]], dtype=float32), 75: array([[9.5450097e-01, 4.1090861e-02, 4.4006095e-03, 7.0001297e-06,\n",
      "        5.2749709e-07],\n",
      "       [9.5985371e-01, 2.1792123e-02, 1.8213132e-02, 9.9649384e-05,\n",
      "        4.1261574e-05],\n",
      "       [7.2627780e-03, 9.4748428e-03, 5.2604723e-01, 2.2478974e-01,\n",
      "        2.3242545e-01],\n",
      "       ...,\n",
      "       [1.1539464e-01, 2.6924236e-02, 6.9740033e-01, 1.1359393e-01,\n",
      "        4.6686888e-02],\n",
      "       [9.7868448e-01, 1.7214969e-02, 4.0824958e-03, 1.1385784e-05,\n",
      "        6.6554589e-06],\n",
      "       [9.0700918e-01, 6.7266107e-02, 2.5459446e-02, 2.1285353e-04,\n",
      "        5.2426916e-05]], dtype=float32), 50: array([[9.56399500e-01, 3.82200293e-02, 5.37095778e-03, 9.15836881e-06,\n",
      "        3.30828016e-07],\n",
      "       [9.60261703e-01, 2.15050709e-02, 1.80914141e-02, 1.09573535e-04,\n",
      "        3.22556261e-05],\n",
      "       [2.98174075e-03, 3.91568989e-03, 3.76265645e-01, 3.37416559e-01,\n",
      "        2.79420346e-01],\n",
      "       ...,\n",
      "       [8.01854134e-02, 1.90694034e-02, 6.39505744e-01, 1.81310967e-01,\n",
      "        7.99284577e-02],\n",
      "       [9.62707996e-01, 2.54568793e-02, 1.17256492e-02, 7.75818262e-05,\n",
      "        3.19266328e-05],\n",
      "       [9.39033389e-01, 4.34869230e-02, 1.73208844e-02, 1.39407959e-04,\n",
      "        1.93331362e-05]], dtype=float32), 25: array([[9.5439464e-01, 3.7520632e-02, 8.0657825e-03, 1.8425977e-05,\n",
      "        4.4334263e-07],\n",
      "       [9.2591482e-01, 3.2159079e-02, 4.1182939e-02, 6.3083426e-04,\n",
      "        1.1223503e-04],\n",
      "       [1.7307405e-03, 1.3869891e-03, 2.3498313e-01, 4.1147369e-01,\n",
      "        3.5042548e-01],\n",
      "       ...,\n",
      "       [1.0429182e-01, 1.7910674e-02, 5.1240712e-01, 2.3261651e-01,\n",
      "        1.3277388e-01],\n",
      "       [9.5308119e-01, 2.8066674e-02, 1.8646616e-02, 1.6771148e-04,\n",
      "        3.7699025e-05],\n",
      "       [9.1803128e-01, 4.7713622e-02, 3.3817641e-02, 4.0210114e-04,\n",
      "        3.5394063e-05]], dtype=float32), 15: array([[9.48802114e-01, 4.05715443e-02, 1.05989948e-02, 2.67182750e-05,\n",
      "        5.27849693e-07],\n",
      "       [9.07721162e-01, 3.50441299e-02, 5.52702621e-02, 1.49731780e-03,\n",
      "        4.67108417e-04],\n",
      "       [4.65269753e-04, 4.77868482e-04, 1.45704716e-01, 4.46022451e-01,\n",
      "        4.07329679e-01],\n",
      "       ...,\n",
      "       [1.22316554e-01, 1.80365462e-02, 4.67753172e-01, 2.36694559e-01,\n",
      "        1.55199200e-01],\n",
      "       [9.46528196e-01, 2.97311042e-02, 2.34426968e-02, 2.58615793e-04,\n",
      "        3.93318987e-05],\n",
      "       [9.28462207e-01, 4.16462384e-02, 2.95668039e-02, 3.03799898e-04,\n",
      "        2.09073896e-05]], dtype=float32), 10: array([[9.3754929e-01, 4.4296693e-02, 1.8056463e-02, 9.4706586e-05,\n",
      "        2.9545822e-06],\n",
      "       [8.4869468e-01, 4.8436448e-02, 9.6546017e-02, 4.6426905e-03,\n",
      "        1.6801301e-03],\n",
      "       [1.4082940e-03, 8.4958336e-04, 1.7979765e-01, 4.7756061e-01,\n",
      "        3.4038386e-01],\n",
      "       ...,\n",
      "       [1.2712397e-01, 1.6074508e-02, 4.1367689e-01, 2.4981566e-01,\n",
      "        1.9330892e-01],\n",
      "       [9.3289745e-01, 3.8225088e-02, 2.8584635e-02, 2.7256299e-04,\n",
      "        2.0264099e-05],\n",
      "       [9.2949915e-01, 3.8593199e-02, 3.1510830e-02, 3.6762573e-04,\n",
      "        2.9159724e-05]], dtype=float32), 5: array([[9.1721588e-01, 5.0569970e-02, 3.1891678e-02, 3.0740831e-04,\n",
      "        1.5120391e-05],\n",
      "       [8.0082613e-01, 5.7298981e-02, 1.2878843e-01, 9.5069390e-03,\n",
      "        3.5794978e-03],\n",
      "       [1.4624163e-03, 1.1258395e-03, 1.8451220e-01, 3.6453795e-01,\n",
      "        4.4836167e-01],\n",
      "       ...,\n",
      "       [1.2967193e-01, 1.6443484e-02, 4.0614662e-01, 2.4462892e-01,\n",
      "        2.0310903e-01],\n",
      "       [9.2316020e-01, 4.2318448e-02, 3.4014210e-02, 4.6147924e-04,\n",
      "        4.5676861e-05],\n",
      "       [9.0581453e-01, 4.7626078e-02, 4.5692265e-02, 7.8185904e-04,\n",
      "        8.5204716e-05]], dtype=float32), 1: array([[0.803039  , 0.0720704 , 0.11471172, 0.00753971, 0.0026392 ],\n",
      "       [0.7282404 , 0.07541882, 0.16456029, 0.01994662, 0.01183395],\n",
      "       [0.01638926, 0.01639707, 0.46695367, 0.26492864, 0.2353314 ],\n",
      "       ...,\n",
      "       [0.1706613 , 0.02436301, 0.41881248, 0.21944498, 0.16671827],\n",
      "       [0.8323054 , 0.06239184, 0.09643369, 0.00620202, 0.00266705],\n",
      "       [0.8187534 , 0.06719335, 0.10580181, 0.00634596, 0.00190546]],\n",
      "      dtype=float32), 0: array([[0.71269345, 0.07373445, 0.16777113, 0.02479381, 0.0210071 ],\n",
      "       [0.71269345, 0.07373445, 0.16777113, 0.02479381, 0.0210071 ],\n",
      "       [0.71269345, 0.07373445, 0.16777113, 0.02479381, 0.0210071 ],\n",
      "       ...,\n",
      "       [0.71269345, 0.07373445, 0.16777113, 0.02479381, 0.0210071 ],\n",
      "       [0.71269345, 0.07373445, 0.16777113, 0.02479381, 0.0210071 ],\n",
      "       [0.71269345, 0.07373445, 0.16777113, 0.02479381, 0.0210071 ]],\n",
      "      dtype=float32)}, 'log_likelihood': {100: -1.4965153186095879, 99: -1.5733196439580992, 95: -1.6259268106151372, 90: -1.624461737728119, 85: -1.618125106225349, 75: -1.6075894105782733, 50: -1.5754527174215764, 25: -1.572354257916566, 15: -1.585508181686513, 10: -1.5936719828128814, 5: -1.5924128330484033, 1: -1.635036265540123, 0: -2.458239895105362}, 'log_odds': {100: -0.6110032, 99: -0.67526525, 95: -0.6984827, 90: -0.68278134, 85: -0.6697215, 75: -0.6507235, 50: -0.62960345, 25: -0.67267364, 15: -0.72928435, 10: -0.7803034, 5: -0.8671385, 1: -1.1236286, 0: -2.1474829}, 'AUC_acc': 0.450756, 'AUC_auroc': 0.8167916925000002, 'AUC_preds': array([[9.4265205e-01, 4.4693798e-02, 1.2138199e-02, 3.4346376e-04,\n",
      "        1.7248686e-04],\n",
      "       [9.2697954e-01, 3.0583117e-02, 4.0137254e-02, 1.5751437e-03,\n",
      "        7.2495959e-04],\n",
      "       [8.4023979e-03, 6.1789737e-03, 3.8650158e-01, 3.1227618e-01,\n",
      "        2.8664094e-01],\n",
      "       ...,\n",
      "       [1.1429425e-01, 2.2622889e-02, 5.9992146e-01, 1.7032415e-01,\n",
      "        9.2837289e-02],\n",
      "       [9.5742053e-01, 2.6104620e-02, 1.5893154e-02, 3.8639139e-04,\n",
      "        1.9530531e-04],\n",
      "       [9.1749746e-01, 5.3437427e-02, 2.8339304e-02, 5.3464598e-04,\n",
      "        1.9121803e-04]], dtype=float32), 'AUC_log_likelihood': -1.59634046173332, 'AUC_log_odds': -0.6962927705049515}, 'pro_ex': {'acc': {100: 0.2, 99: 0.198, 95: 0.1944, 90: 0.1984, 85: 0.202, 75: 0.212, 50: 0.2356, 25: 0.2564, 15: 0.2732, 10: 0.286, 5: 0.312, 1: 0.3824, 0: 0.43}, 'auroc': {100: 0.50005, 99: 0.374276, 95: 0.3998354, 90: 0.42789920000000004, 85: 0.456377, 75: 0.5043518, 50: 0.5903205999999999, 25: 0.6652074, 15: 0.6986041000000001, 10: 0.7181351, 5: 0.7491491, 1: 0.8069704, 0: 0.84102}, 'preds': {100: array([[0.71269345, 0.07373445, 0.16777113, 0.02479381, 0.0210071 ],\n",
      "       [0.71269345, 0.07373445, 0.16777113, 0.02479381, 0.0210071 ],\n",
      "       [0.71269345, 0.07373445, 0.16777113, 0.02479381, 0.0210071 ],\n",
      "       ...,\n",
      "       [0.71269345, 0.07373445, 0.16777113, 0.02479381, 0.0210071 ],\n",
      "       [0.71269345, 0.07373445, 0.16777113, 0.02479381, 0.0210071 ],\n",
      "       [0.71269345, 0.07373445, 0.16777113, 0.02479381, 0.0210071 ]],\n",
      "      dtype=float32), 99: array([[0.6162578 , 0.05671772, 0.20903994, 0.04599977, 0.07198472],\n",
      "       [0.66509306, 0.06452591, 0.1939039 , 0.03631241, 0.04016469],\n",
      "       [0.73281556, 0.07441335, 0.16337694, 0.01842014, 0.010974  ],\n",
      "       ...,\n",
      "       [0.77031565, 0.07270076, 0.13657886, 0.01314486, 0.00725985],\n",
      "       [0.47865835, 0.04954525, 0.28894186, 0.08940888, 0.09344572],\n",
      "       [0.5818672 , 0.05816425, 0.23254623, 0.05671595, 0.0707064 ]],\n",
      "      dtype=float32), 95: array([[0.2973561 , 0.01935398, 0.2424151 , 0.1321561 , 0.30871868],\n",
      "       [0.26616997, 0.02236826, 0.28483656, 0.17382063, 0.2528046 ],\n",
      "       [0.71156484, 0.05935118, 0.17667615, 0.02281446, 0.02959331],\n",
      "       ...,\n",
      "       [0.8045691 , 0.07370718, 0.11520141, 0.00528388, 0.00123845],\n",
      "       [0.5019604 , 0.04818213, 0.260017  , 0.07715736, 0.11268307],\n",
      "       [0.37099072, 0.05826196, 0.38979694, 0.10801107, 0.07293921]],\n",
      "      dtype=float32), 90: array([[0.3354121 , 0.02784251, 0.27445138, 0.11504196, 0.24725208],\n",
      "       [0.2262038 , 0.02495662, 0.37922353, 0.21328516, 0.1563309 ],\n",
      "       [0.71753174, 0.06404188, 0.18515149, 0.01718709, 0.01608782],\n",
      "       ...,\n",
      "       [0.8153142 , 0.06960703, 0.10975178, 0.00430038, 0.00102661],\n",
      "       [0.5544631 , 0.05675953, 0.26418218, 0.05668425, 0.06791092],\n",
      "       [0.43789014, 0.06069943, 0.35862812, 0.0815853 , 0.06119694]],\n",
      "      dtype=float32), 85: array([[0.4527791 , 0.051908  , 0.3280635 , 0.07616347, 0.09108591],\n",
      "       [0.2958237 , 0.03242088, 0.37481666, 0.16465382, 0.13228491],\n",
      "       [0.7540204 , 0.06191098, 0.15574056, 0.01291971, 0.01540838],\n",
      "       ...,\n",
      "       [0.7959696 , 0.06501202, 0.13118279, 0.00583085, 0.00200475],\n",
      "       [0.47213012, 0.05234718, 0.32165676, 0.06998669, 0.08387924],\n",
      "       [0.57551396, 0.07587433, 0.2978364 , 0.03603351, 0.01474185]],\n",
      "      dtype=float32), 75: array([[0.50594   , 0.06562766, 0.33938327, 0.05086435, 0.03818476],\n",
      "       [0.39876926, 0.04437578, 0.39848307, 0.09943616, 0.05893572],\n",
      "       [0.8242136 , 0.04718211, 0.10189627, 0.00683916, 0.01986885],\n",
      "       ...,\n",
      "       [0.80125576, 0.06661156, 0.12554213, 0.00476055, 0.00182998],\n",
      "       [0.46547934, 0.08816121, 0.36829266, 0.04386335, 0.0342035 ],\n",
      "       [0.6535738 , 0.08544923, 0.23954457, 0.01629877, 0.0051336 ]],\n",
      "      dtype=float32), 50: array([[0.6775336 , 0.1013695 , 0.20369567, 0.01086259, 0.00653864],\n",
      "       [0.6164641 , 0.05469674, 0.29601628, 0.02021464, 0.01260822],\n",
      "       [0.85076386, 0.04322615, 0.0862293 , 0.00462931, 0.01515141],\n",
      "       ...,\n",
      "       [0.830161  , 0.06386048, 0.10225482, 0.00256482, 0.00115895],\n",
      "       [0.8130565 , 0.07766616, 0.10592457, 0.00212228, 0.00123043],\n",
      "       [0.6572627 , 0.11107296, 0.21949384, 0.00941745, 0.00275312]],\n",
      "      dtype=float32), 25: array([[6.97958589e-01, 1.40078679e-01, 1.58117905e-01, 2.92224460e-03,\n",
      "        9.22558538e-04],\n",
      "       [8.02859128e-01, 5.06282821e-02, 1.42166972e-01, 2.64229160e-03,\n",
      "        1.70334592e-03],\n",
      "       [6.99361503e-01, 4.32646200e-02, 2.05342978e-01, 1.40407113e-02,\n",
      "        3.79901193e-02],\n",
      "       ...,\n",
      "       [7.82351792e-01, 7.46160746e-02, 1.37839571e-01, 3.39338207e-03,\n",
      "        1.79914280e-03],\n",
      "       [9.00032282e-01, 5.93640916e-02, 3.99573185e-02, 3.85186868e-04,\n",
      "        2.61008565e-04],\n",
      "       [7.94534802e-01, 9.75957438e-02, 1.04124315e-01, 2.67180498e-03,\n",
      "        1.07335055e-03]], dtype=float32), 15: array([[6.90044284e-01, 1.53909117e-01, 1.53517544e-01, 2.09817314e-03,\n",
      "        4.30878456e-04],\n",
      "       [8.49035382e-01, 4.93036509e-02, 1.00053996e-01, 1.13372493e-03,\n",
      "        4.73266264e-04],\n",
      "       [4.75445688e-01, 3.64761576e-02, 3.73716652e-01, 3.77286486e-02,\n",
      "        7.66327977e-02],\n",
      "       ...,\n",
      "       [7.43519425e-01, 7.92746693e-02, 1.69639051e-01, 4.77353251e-03,\n",
      "        2.79328926e-03],\n",
      "       [9.04707074e-01, 5.91716990e-02, 3.57020274e-02, 2.55101215e-04,\n",
      "        1.63992911e-04],\n",
      "       [8.54799449e-01, 9.03108865e-02, 5.36300801e-02, 8.64365487e-04,\n",
      "        3.95256357e-04]], dtype=float32), 10: array([[7.4962330e-01, 1.4479646e-01, 1.0431982e-01, 1.0489109e-03,\n",
      "        2.1148924e-04],\n",
      "       [8.7843490e-01, 4.5364551e-02, 7.5376697e-02, 5.8605784e-04,\n",
      "        2.3785286e-04],\n",
      "       [3.9383639e-02, 4.9676195e-02, 7.0441806e-01, 6.7825854e-02,\n",
      "        1.3869622e-01],\n",
      "       ...,\n",
      "       [7.3689830e-01, 8.1506729e-02, 1.7443721e-01, 4.5907418e-03,\n",
      "        2.5670126e-03],\n",
      "       [9.1739535e-01, 5.3871915e-02, 2.8441517e-02, 1.7447048e-04,\n",
      "        1.1672758e-04],\n",
      "       [8.6353219e-01, 9.0330325e-02, 4.5316786e-02, 5.6866126e-04,\n",
      "        2.5195308e-04]], dtype=float32), 5: array([[8.5979658e-01, 1.0878662e-01, 3.1265408e-02, 1.3052134e-04,\n",
      "        2.0836702e-05],\n",
      "       [8.9910042e-01, 4.0794149e-02, 5.9585519e-02, 3.7075108e-04,\n",
      "        1.4918024e-04],\n",
      "       [2.1287253e-02, 2.9331371e-02, 7.3203629e-01, 1.0358637e-01,\n",
      "        1.1375872e-01],\n",
      "       ...,\n",
      "       [6.2281042e-01, 8.5225783e-02, 2.7804664e-01, 9.5663806e-03,\n",
      "        4.3507502e-03],\n",
      "       [9.2693520e-01, 4.8972409e-02, 2.3878014e-02, 1.2296079e-04,\n",
      "        9.1366674e-05],\n",
      "       [8.8425183e-01, 8.1738912e-02, 3.3578258e-02, 3.0768171e-04,\n",
      "        1.2333205e-04]], dtype=float32), 1: array([[8.89541924e-01, 9.10536051e-02, 1.93477646e-02, 5.08555786e-05,\n",
      "        5.83429437e-06],\n",
      "       [9.13659930e-01, 3.93014103e-02, 4.67396863e-02, 2.20897986e-04,\n",
      "        7.80699120e-05],\n",
      "       [1.50159225e-02, 2.01951843e-02, 6.86709464e-01, 1.22185692e-01,\n",
      "        1.55893713e-01],\n",
      "       ...,\n",
      "       [5.78128874e-01, 6.82302639e-02, 3.33266407e-01, 1.34765608e-02,\n",
      "        6.89789653e-03],\n",
      "       [9.33276474e-01, 4.49782684e-02, 2.15608962e-02, 1.04978717e-04,\n",
      "        7.94886946e-05],\n",
      "       [8.97496879e-01, 7.44108334e-02, 2.77803466e-02, 2.24318457e-04,\n",
      "        8.76468912e-05]], dtype=float32), 0: array([[8.93752098e-01, 8.83543417e-02, 1.78448595e-02, 4.39195537e-05,\n",
      "        4.84293469e-06],\n",
      "       [9.08368826e-01, 4.09528874e-02, 5.03622368e-02, 2.39651723e-04,\n",
      "        7.64532961e-05],\n",
      "       [1.27890427e-02, 1.67057589e-02, 6.70378923e-01, 1.46436870e-01,\n",
      "        1.53689399e-01],\n",
      "       ...,\n",
      "       [1.77840471e-01, 4.10715304e-02, 7.09612131e-01, 5.46135008e-02,\n",
      "        1.68623831e-02],\n",
      "       [9.32725132e-01, 4.54182364e-02, 2.16827337e-02, 1.02160004e-04,\n",
      "        7.17712683e-05],\n",
      "       [8.97488832e-01, 7.47329444e-02, 2.74771824e-02, 2.18378118e-04,\n",
      "        8.27192562e-05]], dtype=float32)}, 'log_likelihood': {100: -2.458239895105362, 99: -2.6126047842562197, 95: -3.019894266334176, 90: -3.061231937687844, 85: -3.03621278841272, 75: -2.929959104089439, 50: -2.7174715965617446, 25: -2.4902217271782456, 15: -2.3625760832332077, 10: -2.2629448186831547, 5: -2.069170301621407, 1: -1.6898052441334352, 0: -1.4965153186095879}, 'log_odds': {100: -2.1474829, 99: -2.3590355, 95: -2.7673028, 90: -2.7807062, 85: -2.7318733, 75: -2.5890574, 50: -2.2950683, 25: -1.969925, 15: -1.794791, 10: -1.6614246, 5: -1.4127636, 1: -0.9122674, 0: -0.6110032}, 'AUC_acc': 0.241178, 'AUC_auroc': 0.58411912, 'AUC_preds': array([[0.6177783 , 0.09568027, 0.21199717, 0.03103082, 0.04351348],\n",
      "       [0.6055086 , 0.04595673, 0.24956892, 0.05492213, 0.04404359],\n",
      "       [0.6646739 , 0.04650777, 0.22584695, 0.02291992, 0.04005148],\n",
      "       ...,\n",
      "       [0.7801397 , 0.07030644, 0.1422558 , 0.00503886, 0.00225917],\n",
      "       [0.7269101 , 0.06645976, 0.1608431 , 0.02222507, 0.0235619 ],\n",
      "       [0.6916002 , 0.09017324, 0.18810901, 0.01897216, 0.01114534]],\n",
      "      dtype=float32), 'AUC_log_likelihood': -2.6553594801405933, 'AUC_log_odds': -2.2168733495473862}, 'pro_in': {'acc': {100: 0.43, 99: 0.4232, 95: 0.4264, 90: 0.4308, 85: 0.4356, 75: 0.4424, 50: 0.468, 25: 0.476, 15: 0.4656, 10: 0.4596, 5: 0.4344, 1: 0.3384, 0: 0.2}, 'auroc': {100: 0.84102, 99: 0.8317088, 95: 0.8266651999999999, 90: 0.8270432, 85: 0.8267658000000001, 75: 0.8265733, 50: 0.8244154, 25: 0.8161848, 15: 0.8090536, 10: 0.8020029999999998, 5: 0.7906328, 1: 0.7515972, 0: 0.50005}, 'preds': {100: array([[8.93752098e-01, 8.83543417e-02, 1.78448595e-02, 4.39195537e-05,\n",
      "        4.84293469e-06],\n",
      "       [9.08368826e-01, 4.09528874e-02, 5.03622368e-02, 2.39651723e-04,\n",
      "        7.64532961e-05],\n",
      "       [1.27890427e-02, 1.67057589e-02, 6.70378923e-01, 1.46436870e-01,\n",
      "        1.53689399e-01],\n",
      "       ...,\n",
      "       [1.77840471e-01, 4.10715304e-02, 7.09612131e-01, 5.46135008e-02,\n",
      "        1.68623831e-02],\n",
      "       [9.32725132e-01, 4.54182364e-02, 2.16827337e-02, 1.02160004e-04,\n",
      "        7.17712683e-05],\n",
      "       [8.97488832e-01, 7.47329444e-02, 2.74771824e-02, 2.18378118e-04,\n",
      "        8.27192562e-05]], dtype=float32), 99: array([[8.9178377e-01, 8.9650176e-02, 1.8514499e-02, 4.6590383e-05,\n",
      "        4.9236737e-06],\n",
      "       [9.2631584e-01, 3.7677821e-02, 3.5810955e-02, 1.4591934e-04,\n",
      "        4.9459086e-05],\n",
      "       [1.2137878e-02, 1.6014393e-02, 6.6446370e-01, 1.4942263e-01,\n",
      "        1.5796141e-01],\n",
      "       ...,\n",
      "       [1.7692050e-01, 3.9944738e-02, 7.0626950e-01, 5.7904124e-02,\n",
      "        1.8961124e-02],\n",
      "       [9.7428799e-01, 2.0423012e-02, 5.2620936e-03, 1.4986425e-05,\n",
      "        1.1816613e-05],\n",
      "       [8.9695090e-01, 7.5295255e-02, 2.7465679e-02, 2.1399411e-04,\n",
      "        7.4162665e-05]], dtype=float32), 95: array([[9.30696964e-01, 6.08078390e-02, 8.47739354e-03, 1.63410696e-05,\n",
      "        1.53069743e-06],\n",
      "       [9.33536649e-01, 3.26744057e-02, 3.35861817e-02, 1.50308741e-04,\n",
      "        5.24014249e-05],\n",
      "       [1.07921930e-02, 1.33346366e-02, 6.30656481e-01, 1.68855160e-01,\n",
      "        1.76361531e-01],\n",
      "       ...,\n",
      "       [1.58427820e-01, 3.50919366e-02, 7.14631319e-01, 6.77326322e-02,\n",
      "        2.41162535e-02],\n",
      "       [9.75336432e-01, 1.97138097e-02, 4.92763706e-03, 1.29804075e-05,\n",
      "        9.14401335e-06],\n",
      "       [9.16089118e-01, 6.46755397e-02, 1.90555863e-02, 1.32264497e-04,\n",
      "        4.75335037e-05]], dtype=float32), 90: array([[9.4004148e-01, 5.2374721e-02, 7.5684576e-03, 1.4130621e-05,\n",
      "        1.1944990e-06],\n",
      "       [9.4772094e-01, 2.7213547e-02, 2.4887327e-02, 1.2392148e-04,\n",
      "        5.4172815e-05],\n",
      "       [8.9863902e-03, 1.0831460e-02, 5.7540822e-01, 1.8706831e-01,\n",
      "        2.1770561e-01],\n",
      "       ...,\n",
      "       [1.1874432e-01, 2.6749160e-02, 7.1898478e-01, 9.5897824e-02,\n",
      "        3.9623901e-02],\n",
      "       [9.7429579e-01, 2.0054532e-02, 5.6260154e-03, 1.5099795e-05,\n",
      "        8.4504982e-06],\n",
      "       [9.1907281e-01, 6.2284347e-02, 1.8461673e-02, 1.3418213e-04,\n",
      "        4.6955967e-05]], dtype=float32), 85: array([[9.45291340e-01, 4.85317968e-02, 6.16434077e-03, 1.15210360e-05,\n",
      "        9.99929171e-07],\n",
      "       [9.53188837e-01, 2.53990535e-02, 2.12845467e-02, 9.63872080e-05,\n",
      "        3.12928787e-05],\n",
      "       [8.48558638e-03, 1.02150673e-02, 5.52106023e-01, 1.95668548e-01,\n",
      "        2.33524695e-01],\n",
      "       ...,\n",
      "       [1.09718949e-01, 2.68624891e-02, 7.15535045e-01, 1.06463715e-01,\n",
      "        4.14198376e-02],\n",
      "       [9.80146229e-01, 1.61961596e-02, 3.64486570e-03, 8.25063125e-06,\n",
      "        4.57513761e-06],\n",
      "       [9.11526978e-01, 6.55835867e-02, 2.26383526e-02, 1.88084217e-04,\n",
      "        6.30592840e-05]], dtype=float32), 75: array([[9.5450097e-01, 4.1090861e-02, 4.4006095e-03, 7.0001297e-06,\n",
      "        5.2749709e-07],\n",
      "       [9.5985371e-01, 2.1792123e-02, 1.8213132e-02, 9.9649384e-05,\n",
      "        4.1261574e-05],\n",
      "       [7.2627780e-03, 9.4748428e-03, 5.2604723e-01, 2.2478974e-01,\n",
      "        2.3242545e-01],\n",
      "       ...,\n",
      "       [1.1539464e-01, 2.6924236e-02, 6.9740033e-01, 1.1359393e-01,\n",
      "        4.6686888e-02],\n",
      "       [9.7868448e-01, 1.7214969e-02, 4.0824958e-03, 1.1385784e-05,\n",
      "        6.6554589e-06],\n",
      "       [9.0700918e-01, 6.7266107e-02, 2.5459446e-02, 2.1285353e-04,\n",
      "        5.2426916e-05]], dtype=float32), 50: array([[9.56399500e-01, 3.82200293e-02, 5.37095778e-03, 9.15836881e-06,\n",
      "        3.30828016e-07],\n",
      "       [9.60261703e-01, 2.15050709e-02, 1.80914141e-02, 1.09573535e-04,\n",
      "        3.22556261e-05],\n",
      "       [2.98174075e-03, 3.91568989e-03, 3.76265645e-01, 3.37416559e-01,\n",
      "        2.79420346e-01],\n",
      "       ...,\n",
      "       [8.01854134e-02, 1.90694034e-02, 6.39505744e-01, 1.81310967e-01,\n",
      "        7.99284577e-02],\n",
      "       [9.62707996e-01, 2.54568793e-02, 1.17256492e-02, 7.75818262e-05,\n",
      "        3.19266328e-05],\n",
      "       [9.39033389e-01, 4.34869230e-02, 1.73208844e-02, 1.39407959e-04,\n",
      "        1.93331362e-05]], dtype=float32), 25: array([[9.54394639e-01, 3.75206321e-02, 8.06578249e-03, 1.84259770e-05,\n",
      "        4.43342628e-07],\n",
      "       [9.25914824e-01, 3.21590789e-02, 4.11829390e-02, 6.30834256e-04,\n",
      "        1.12235030e-04],\n",
      "       [1.73074054e-03, 1.38698914e-03, 2.34983131e-01, 4.11473691e-01,\n",
      "        3.50425482e-01],\n",
      "       ...,\n",
      "       [1.04291834e-01, 1.79106742e-02, 5.12407124e-01, 2.32616514e-01,\n",
      "        1.32773876e-01],\n",
      "       [9.53081191e-01, 2.80666742e-02, 1.86466165e-02, 1.67711478e-04,\n",
      "        3.76990247e-05],\n",
      "       [9.18031275e-01, 4.77136225e-02, 3.38176414e-02, 4.02101141e-04,\n",
      "        3.53940632e-05]], dtype=float32), 15: array([[9.48802114e-01, 4.05715443e-02, 1.05989948e-02, 2.67182750e-05,\n",
      "        5.27849693e-07],\n",
      "       [9.07721162e-01, 3.50441299e-02, 5.52702621e-02, 1.49731780e-03,\n",
      "        4.67108417e-04],\n",
      "       [4.65269753e-04, 4.77868482e-04, 1.45704716e-01, 4.46022451e-01,\n",
      "        4.07329679e-01],\n",
      "       ...,\n",
      "       [1.22316554e-01, 1.80365462e-02, 4.67753172e-01, 2.36694559e-01,\n",
      "        1.55199200e-01],\n",
      "       [9.46528196e-01, 2.97311042e-02, 2.34426968e-02, 2.58615793e-04,\n",
      "        3.93318987e-05],\n",
      "       [9.28462207e-01, 4.16462384e-02, 2.95668039e-02, 3.03799898e-04,\n",
      "        2.09073896e-05]], dtype=float32), 10: array([[9.3754929e-01, 4.4296693e-02, 1.8056463e-02, 9.4706586e-05,\n",
      "        2.9545822e-06],\n",
      "       [8.4869468e-01, 4.8436448e-02, 9.6546017e-02, 4.6426905e-03,\n",
      "        1.6801301e-03],\n",
      "       [1.4082940e-03, 8.4958336e-04, 1.7979765e-01, 4.7756061e-01,\n",
      "        3.4038386e-01],\n",
      "       ...,\n",
      "       [1.2712397e-01, 1.6074508e-02, 4.1367689e-01, 2.4981566e-01,\n",
      "        1.9330892e-01],\n",
      "       [9.3289745e-01, 3.8225088e-02, 2.8584635e-02, 2.7256299e-04,\n",
      "        2.0264099e-05],\n",
      "       [9.2949915e-01, 3.8593199e-02, 3.1510830e-02, 3.6762573e-04,\n",
      "        2.9159724e-05]], dtype=float32), 5: array([[9.1721588e-01, 5.0569970e-02, 3.1891678e-02, 3.0740831e-04,\n",
      "        1.5120391e-05],\n",
      "       [8.0082613e-01, 5.7298981e-02, 1.2878843e-01, 9.5069390e-03,\n",
      "        3.5794978e-03],\n",
      "       [1.4624163e-03, 1.1258395e-03, 1.8451220e-01, 3.6453795e-01,\n",
      "        4.4836167e-01],\n",
      "       ...,\n",
      "       [1.2967193e-01, 1.6443484e-02, 4.0614662e-01, 2.4462892e-01,\n",
      "        2.0310903e-01],\n",
      "       [9.2316020e-01, 4.2318448e-02, 3.4014210e-02, 4.6147924e-04,\n",
      "        4.5676861e-05],\n",
      "       [9.0581453e-01, 4.7626078e-02, 4.5692265e-02, 7.8185904e-04,\n",
      "        8.5204716e-05]], dtype=float32), 1: array([[0.803039  , 0.0720704 , 0.11471172, 0.00753971, 0.0026392 ],\n",
      "       [0.7282404 , 0.07541882, 0.16456029, 0.01994662, 0.01183395],\n",
      "       [0.01638926, 0.01639707, 0.46695367, 0.26492864, 0.2353314 ],\n",
      "       ...,\n",
      "       [0.1706613 , 0.02436301, 0.41881248, 0.21944498, 0.16671827],\n",
      "       [0.8323054 , 0.06239184, 0.09643369, 0.00620202, 0.00266705],\n",
      "       [0.8187534 , 0.06719335, 0.10580181, 0.00634596, 0.00190546]],\n",
      "      dtype=float32), 0: array([[0.71269345, 0.07373445, 0.16777113, 0.02479381, 0.0210071 ],\n",
      "       [0.71269345, 0.07373445, 0.16777113, 0.02479381, 0.0210071 ],\n",
      "       [0.71269345, 0.07373445, 0.16777113, 0.02479381, 0.0210071 ],\n",
      "       ...,\n",
      "       [0.71269345, 0.07373445, 0.16777113, 0.02479381, 0.0210071 ],\n",
      "       [0.71269345, 0.07373445, 0.16777113, 0.02479381, 0.0210071 ],\n",
      "       [0.71269345, 0.07373445, 0.16777113, 0.02479381, 0.0210071 ]],\n",
      "      dtype=float32)}, 'log_likelihood': {100: -1.4965153186095879, 99: -1.5733196439580992, 95: -1.6259268106151372, 90: -1.6244617377519608, 85: -1.618125106225349, 75: -1.6075894105782733, 50: -1.5754527174215764, 25: -1.572354257916566, 15: -1.585508181686513, 10: -1.5936719828128814, 5: -1.5924128330484033, 1: -1.6350362655162811, 0: -2.458239895105362}, 'log_odds': {100: -0.6110032, 99: -0.67526525, 95: -0.6984827, 90: -0.68278134, 85: -0.6697215, 75: -0.6507235, 50: -0.62960345, 25: -0.67267364, 15: -0.72928435, 10: -0.7803034, 5: -0.8671385, 1: -1.1236286, 0: -2.1474829}, 'AUC_acc': 0.450756, 'AUC_auroc': 0.8167916925000002, 'AUC_preds': array([[9.4265205e-01, 4.4693798e-02, 1.2138199e-02, 3.4346376e-04,\n",
      "        1.7248686e-04],\n",
      "       [9.2697954e-01, 3.0583117e-02, 4.0137254e-02, 1.5751437e-03,\n",
      "        7.2495959e-04],\n",
      "       [8.4023979e-03, 6.1789737e-03, 3.8650158e-01, 3.1227618e-01,\n",
      "        2.8664094e-01],\n",
      "       ...,\n",
      "       [1.1429425e-01, 2.2622889e-02, 5.9992146e-01, 1.7032415e-01,\n",
      "        9.2837289e-02],\n",
      "       [9.5742053e-01, 2.6104620e-02, 1.5893154e-02, 3.8639139e-04,\n",
      "        1.9530531e-04],\n",
      "       [9.1749746e-01, 5.3437427e-02, 2.8339304e-02, 5.3464598e-04,\n",
      "        1.9121803e-04]], dtype=float32), 'AUC_log_likelihood': -1.5963404617339165, 'AUC_log_odds': -0.6962927705049515}}\n",
      "fastshap\n"
     ]
    },
    {
     "name": "stdout",
     "output_type": "stream",
     "text": [
      "100\n"
     ]
    },
    {
     "name": "stderr",
     "output_type": "stream",
     "text": [
      "2022-05-16 23:58:11.073173: I tensorflow/core/common_runtime/gpu_fusion_pass.cc:507] ROCm Fusion is enabled.\n",
      "2022-05-16 23:58:11.076938: I tensorflow/core/common_runtime/gpu_fusion_pass.cc:507] ROCm Fusion is enabled.\n",
      "2022-05-16 23:58:11.079256: I tensorflow/core/common_runtime/gpu_fusion_pass.cc:507] ROCm Fusion is enabled.\n"
     ]
    },
    {
     "name": "stdout",
     "output_type": "stream",
     "text": [
      "99\n"
     ]
    },
    {
     "name": "stderr",
     "output_type": "stream",
     "text": [
      "2022-05-16 23:59:03.708373: I tensorflow/core/common_runtime/gpu_fusion_pass.cc:507] ROCm Fusion is enabled.\n",
      "2022-05-16 23:59:03.712216: I tensorflow/core/common_runtime/gpu_fusion_pass.cc:507] ROCm Fusion is enabled.\n",
      "2022-05-16 23:59:03.714538: I tensorflow/core/common_runtime/gpu_fusion_pass.cc:507] ROCm Fusion is enabled.\n"
     ]
    },
    {
     "name": "stdout",
     "output_type": "stream",
     "text": [
      "95\n"
     ]
    },
    {
     "name": "stderr",
     "output_type": "stream",
     "text": [
      "2022-05-16 23:59:55.230289: I tensorflow/core/common_runtime/gpu_fusion_pass.cc:507] ROCm Fusion is enabled.\n",
      "2022-05-16 23:59:55.234114: I tensorflow/core/common_runtime/gpu_fusion_pass.cc:507] ROCm Fusion is enabled.\n",
      "2022-05-16 23:59:55.236422: I tensorflow/core/common_runtime/gpu_fusion_pass.cc:507] ROCm Fusion is enabled.\n"
     ]
    },
    {
     "name": "stdout",
     "output_type": "stream",
     "text": [
      "90\n"
     ]
    },
    {
     "name": "stderr",
     "output_type": "stream",
     "text": [
      "2022-05-17 00:00:46.790569: I tensorflow/core/common_runtime/gpu_fusion_pass.cc:507] ROCm Fusion is enabled.\n",
      "2022-05-17 00:00:46.795179: I tensorflow/core/common_runtime/gpu_fusion_pass.cc:507] ROCm Fusion is enabled.\n",
      "2022-05-17 00:00:46.797497: I tensorflow/core/common_runtime/gpu_fusion_pass.cc:507] ROCm Fusion is enabled.\n"
     ]
    },
    {
     "name": "stdout",
     "output_type": "stream",
     "text": [
      "85\n"
     ]
    },
    {
     "name": "stderr",
     "output_type": "stream",
     "text": [
      "2022-05-17 00:01:38.260424: I tensorflow/core/common_runtime/gpu_fusion_pass.cc:507] ROCm Fusion is enabled.\n",
      "2022-05-17 00:01:38.264298: I tensorflow/core/common_runtime/gpu_fusion_pass.cc:507] ROCm Fusion is enabled.\n",
      "2022-05-17 00:01:38.266610: I tensorflow/core/common_runtime/gpu_fusion_pass.cc:507] ROCm Fusion is enabled.\n"
     ]
    },
    {
     "name": "stdout",
     "output_type": "stream",
     "text": [
      "75\n"
     ]
    },
    {
     "name": "stderr",
     "output_type": "stream",
     "text": [
      "2022-05-17 00:02:29.751420: I tensorflow/core/common_runtime/gpu_fusion_pass.cc:507] ROCm Fusion is enabled.\n",
      "2022-05-17 00:02:29.755291: I tensorflow/core/common_runtime/gpu_fusion_pass.cc:507] ROCm Fusion is enabled.\n",
      "2022-05-17 00:02:29.757609: I tensorflow/core/common_runtime/gpu_fusion_pass.cc:507] ROCm Fusion is enabled.\n"
     ]
    },
    {
     "name": "stdout",
     "output_type": "stream",
     "text": [
      "50\n"
     ]
    },
    {
     "name": "stderr",
     "output_type": "stream",
     "text": [
      "2022-05-17 00:03:21.439019: I tensorflow/core/common_runtime/gpu_fusion_pass.cc:507] ROCm Fusion is enabled.\n",
      "2022-05-17 00:03:21.442882: I tensorflow/core/common_runtime/gpu_fusion_pass.cc:507] ROCm Fusion is enabled.\n",
      "2022-05-17 00:03:21.445224: I tensorflow/core/common_runtime/gpu_fusion_pass.cc:507] ROCm Fusion is enabled.\n"
     ]
    },
    {
     "name": "stdout",
     "output_type": "stream",
     "text": [
      "25\n"
     ]
    },
    {
     "name": "stderr",
     "output_type": "stream",
     "text": [
      "2022-05-17 00:04:12.837197: I tensorflow/core/common_runtime/gpu_fusion_pass.cc:507] ROCm Fusion is enabled.\n",
      "2022-05-17 00:04:12.841254: I tensorflow/core/common_runtime/gpu_fusion_pass.cc:507] ROCm Fusion is enabled.\n",
      "2022-05-17 00:04:12.843537: I tensorflow/core/common_runtime/gpu_fusion_pass.cc:507] ROCm Fusion is enabled.\n"
     ]
    },
    {
     "name": "stdout",
     "output_type": "stream",
     "text": [
      "15\n"
     ]
    },
    {
     "name": "stderr",
     "output_type": "stream",
     "text": [
      "2022-05-17 00:05:04.085048: I tensorflow/core/common_runtime/gpu_fusion_pass.cc:507] ROCm Fusion is enabled.\n",
      "2022-05-17 00:05:04.088990: I tensorflow/core/common_runtime/gpu_fusion_pass.cc:507] ROCm Fusion is enabled.\n",
      "2022-05-17 00:05:04.091300: I tensorflow/core/common_runtime/gpu_fusion_pass.cc:507] ROCm Fusion is enabled.\n"
     ]
    },
    {
     "name": "stdout",
     "output_type": "stream",
     "text": [
      "10\n"
     ]
    },
    {
     "name": "stderr",
     "output_type": "stream",
     "text": [
      "2022-05-17 00:05:55.570318: I tensorflow/core/common_runtime/gpu_fusion_pass.cc:507] ROCm Fusion is enabled.\n",
      "2022-05-17 00:05:55.574133: I tensorflow/core/common_runtime/gpu_fusion_pass.cc:507] ROCm Fusion is enabled.\n",
      "2022-05-17 00:05:55.576515: I tensorflow/core/common_runtime/gpu_fusion_pass.cc:507] ROCm Fusion is enabled.\n"
     ]
    },
    {
     "name": "stdout",
     "output_type": "stream",
     "text": [
      "5\n"
     ]
    },
    {
     "name": "stderr",
     "output_type": "stream",
     "text": [
      "2022-05-17 00:06:46.839260: I tensorflow/core/common_runtime/gpu_fusion_pass.cc:507] ROCm Fusion is enabled.\n",
      "2022-05-17 00:06:46.843123: I tensorflow/core/common_runtime/gpu_fusion_pass.cc:507] ROCm Fusion is enabled.\n",
      "2022-05-17 00:06:46.845423: I tensorflow/core/common_runtime/gpu_fusion_pass.cc:507] ROCm Fusion is enabled.\n"
     ]
    },
    {
     "name": "stdout",
     "output_type": "stream",
     "text": [
      "1\n"
     ]
    },
    {
     "name": "stderr",
     "output_type": "stream",
     "text": [
      "2022-05-17 00:07:37.758106: I tensorflow/core/common_runtime/gpu_fusion_pass.cc:507] ROCm Fusion is enabled.\n",
      "2022-05-17 00:07:37.762030: I tensorflow/core/common_runtime/gpu_fusion_pass.cc:507] ROCm Fusion is enabled.\n",
      "2022-05-17 00:07:37.764370: I tensorflow/core/common_runtime/gpu_fusion_pass.cc:507] ROCm Fusion is enabled.\n"
     ]
    },
    {
     "name": "stdout",
     "output_type": "stream",
     "text": [
      "0\n"
     ]
    },
    {
     "name": "stderr",
     "output_type": "stream",
     "text": [
      "2022-05-17 00:08:06.352076: I tensorflow/core/common_runtime/gpu_fusion_pass.cc:507] ROCm Fusion is enabled.\n",
      "2022-05-17 00:08:06.356016: I tensorflow/core/common_runtime/gpu_fusion_pass.cc:507] ROCm Fusion is enabled.\n",
      "2022-05-17 00:08:06.358321: I tensorflow/core/common_runtime/gpu_fusion_pass.cc:507] ROCm Fusion is enabled.\n",
      "/vast/nj594/xai/helpers/evaluate.py:59: VisibleDeprecationWarning: Creating an ndarray from ragged nested sequences (which is a list-or-tuple of lists-or-tuples-or ndarrays with different lengths or shapes) is deprecated. If you meant to do this, you must specify 'dtype=object' when creating the ndarray\n",
      "  r_ = np.array([[float(p), n] for p,n in r.items()])\n"
     ]
    },
    {
     "name": "stdout",
     "output_type": "stream",
     "text": [
      "100\n"
     ]
    },
    {
     "name": "stderr",
     "output_type": "stream",
     "text": [
      "2022-05-17 00:08:35.472787: I tensorflow/core/common_runtime/gpu_fusion_pass.cc:507] ROCm Fusion is enabled.\n",
      "2022-05-17 00:08:35.476639: I tensorflow/core/common_runtime/gpu_fusion_pass.cc:507] ROCm Fusion is enabled.\n",
      "2022-05-17 00:08:35.478941: I tensorflow/core/common_runtime/gpu_fusion_pass.cc:507] ROCm Fusion is enabled.\n"
     ]
    },
    {
     "name": "stdout",
     "output_type": "stream",
     "text": [
      "99\n"
     ]
    },
    {
     "name": "stderr",
     "output_type": "stream",
     "text": [
      "2022-05-17 00:09:26.819065: I tensorflow/core/common_runtime/gpu_fusion_pass.cc:507] ROCm Fusion is enabled.\n",
      "2022-05-17 00:09:26.822998: I tensorflow/core/common_runtime/gpu_fusion_pass.cc:507] ROCm Fusion is enabled.\n",
      "2022-05-17 00:09:26.825342: I tensorflow/core/common_runtime/gpu_fusion_pass.cc:507] ROCm Fusion is enabled.\n"
     ]
    },
    {
     "name": "stdout",
     "output_type": "stream",
     "text": [
      "95\n"
     ]
    },
    {
     "name": "stderr",
     "output_type": "stream",
     "text": [
      "2022-05-17 00:10:18.048914: I tensorflow/core/common_runtime/gpu_fusion_pass.cc:507] ROCm Fusion is enabled.\n",
      "2022-05-17 00:10:18.052692: I tensorflow/core/common_runtime/gpu_fusion_pass.cc:507] ROCm Fusion is enabled.\n",
      "2022-05-17 00:10:18.055012: I tensorflow/core/common_runtime/gpu_fusion_pass.cc:507] ROCm Fusion is enabled.\n"
     ]
    },
    {
     "name": "stdout",
     "output_type": "stream",
     "text": [
      "90\n"
     ]
    },
    {
     "name": "stderr",
     "output_type": "stream",
     "text": [
      "2022-05-17 00:11:09.487340: I tensorflow/core/common_runtime/gpu_fusion_pass.cc:507] ROCm Fusion is enabled.\n",
      "2022-05-17 00:11:09.491944: I tensorflow/core/common_runtime/gpu_fusion_pass.cc:507] ROCm Fusion is enabled.\n",
      "2022-05-17 00:11:09.494255: I tensorflow/core/common_runtime/gpu_fusion_pass.cc:507] ROCm Fusion is enabled.\n"
     ]
    },
    {
     "name": "stdout",
     "output_type": "stream",
     "text": [
      "85\n"
     ]
    },
    {
     "name": "stderr",
     "output_type": "stream",
     "text": [
      "2022-05-17 00:12:01.187375: I tensorflow/core/common_runtime/gpu_fusion_pass.cc:507] ROCm Fusion is enabled.\n",
      "2022-05-17 00:12:01.191239: I tensorflow/core/common_runtime/gpu_fusion_pass.cc:507] ROCm Fusion is enabled.\n",
      "2022-05-17 00:12:01.193539: I tensorflow/core/common_runtime/gpu_fusion_pass.cc:507] ROCm Fusion is enabled.\n"
     ]
    },
    {
     "name": "stdout",
     "output_type": "stream",
     "text": [
      "75\n"
     ]
    },
    {
     "name": "stderr",
     "output_type": "stream",
     "text": [
      "2022-05-17 00:12:52.793190: I tensorflow/core/common_runtime/gpu_fusion_pass.cc:507] ROCm Fusion is enabled.\n",
      "2022-05-17 00:12:52.797135: I tensorflow/core/common_runtime/gpu_fusion_pass.cc:507] ROCm Fusion is enabled.\n",
      "2022-05-17 00:12:52.799421: I tensorflow/core/common_runtime/gpu_fusion_pass.cc:507] ROCm Fusion is enabled.\n"
     ]
    },
    {
     "name": "stdout",
     "output_type": "stream",
     "text": [
      "50\n"
     ]
    },
    {
     "name": "stderr",
     "output_type": "stream",
     "text": [
      "2022-05-17 00:13:44.342784: I tensorflow/core/common_runtime/gpu_fusion_pass.cc:507] ROCm Fusion is enabled.\n",
      "2022-05-17 00:13:44.346888: I tensorflow/core/common_runtime/gpu_fusion_pass.cc:507] ROCm Fusion is enabled.\n",
      "2022-05-17 00:13:44.349307: I tensorflow/core/common_runtime/gpu_fusion_pass.cc:507] ROCm Fusion is enabled.\n"
     ]
    },
    {
     "name": "stdout",
     "output_type": "stream",
     "text": [
      "25\n"
     ]
    },
    {
     "name": "stderr",
     "output_type": "stream",
     "text": [
      "2022-05-17 00:14:35.673959: I tensorflow/core/common_runtime/gpu_fusion_pass.cc:507] ROCm Fusion is enabled.\n",
      "2022-05-17 00:14:35.677725: I tensorflow/core/common_runtime/gpu_fusion_pass.cc:507] ROCm Fusion is enabled.\n",
      "2022-05-17 00:14:35.680104: I tensorflow/core/common_runtime/gpu_fusion_pass.cc:507] ROCm Fusion is enabled.\n"
     ]
    },
    {
     "name": "stdout",
     "output_type": "stream",
     "text": [
      "15\n"
     ]
    },
    {
     "name": "stderr",
     "output_type": "stream",
     "text": [
      "2022-05-17 00:15:26.954797: I tensorflow/core/common_runtime/gpu_fusion_pass.cc:507] ROCm Fusion is enabled.\n",
      "2022-05-17 00:15:26.958737: I tensorflow/core/common_runtime/gpu_fusion_pass.cc:507] ROCm Fusion is enabled.\n",
      "2022-05-17 00:15:26.961033: I tensorflow/core/common_runtime/gpu_fusion_pass.cc:507] ROCm Fusion is enabled.\n"
     ]
    },
    {
     "name": "stdout",
     "output_type": "stream",
     "text": [
      "10\n"
     ]
    },
    {
     "name": "stderr",
     "output_type": "stream",
     "text": [
      "2022-05-17 00:16:18.097191: I tensorflow/core/common_runtime/gpu_fusion_pass.cc:507] ROCm Fusion is enabled.\n",
      "2022-05-17 00:16:18.101141: I tensorflow/core/common_runtime/gpu_fusion_pass.cc:507] ROCm Fusion is enabled.\n",
      "2022-05-17 00:16:18.103449: I tensorflow/core/common_runtime/gpu_fusion_pass.cc:507] ROCm Fusion is enabled.\n"
     ]
    },
    {
     "name": "stdout",
     "output_type": "stream",
     "text": [
      "5\n"
     ]
    },
    {
     "name": "stderr",
     "output_type": "stream",
     "text": [
      "2022-05-17 00:17:08.868800: I tensorflow/core/common_runtime/gpu_fusion_pass.cc:507] ROCm Fusion is enabled.\n",
      "2022-05-17 00:17:08.872612: I tensorflow/core/common_runtime/gpu_fusion_pass.cc:507] ROCm Fusion is enabled.\n",
      "2022-05-17 00:17:08.874960: I tensorflow/core/common_runtime/gpu_fusion_pass.cc:507] ROCm Fusion is enabled.\n"
     ]
    },
    {
     "name": "stdout",
     "output_type": "stream",
     "text": [
      "1\n"
     ]
    },
    {
     "name": "stderr",
     "output_type": "stream",
     "text": [
      "2022-05-17 00:17:59.642229: I tensorflow/core/common_runtime/gpu_fusion_pass.cc:507] ROCm Fusion is enabled.\n",
      "2022-05-17 00:17:59.645994: I tensorflow/core/common_runtime/gpu_fusion_pass.cc:507] ROCm Fusion is enabled.\n",
      "2022-05-17 00:17:59.648321: I tensorflow/core/common_runtime/gpu_fusion_pass.cc:507] ROCm Fusion is enabled.\n"
     ]
    },
    {
     "name": "stdout",
     "output_type": "stream",
     "text": [
      "0\n"
     ]
    },
    {
     "name": "stderr",
     "output_type": "stream",
     "text": [
      "2022-05-17 00:18:28.197116: I tensorflow/core/common_runtime/gpu_fusion_pass.cc:507] ROCm Fusion is enabled.\n",
      "2022-05-17 00:18:28.200890: I tensorflow/core/common_runtime/gpu_fusion_pass.cc:507] ROCm Fusion is enabled.\n",
      "2022-05-17 00:18:28.203225: I tensorflow/core/common_runtime/gpu_fusion_pass.cc:507] ROCm Fusion is enabled.\n",
      "/vast/nj594/xai/helpers/evaluate.py:59: VisibleDeprecationWarning: Creating an ndarray from ragged nested sequences (which is a list-or-tuple of lists-or-tuples-or ndarrays with different lengths or shapes) is deprecated. If you meant to do this, you must specify 'dtype=object' when creating the ndarray\n",
      "  r_ = np.array([[float(p), n] for p,n in r.items()])\n"
     ]
    },
    {
     "name": "stdout",
     "output_type": "stream",
     "text": [
      "{'retro_ex': {'acc': {100: 0.2, 99: 0.1808, 95: 0.1452, 90: 0.1308, 85: 0.1284, 75: 0.1352, 50: 0.1708, 25: 0.2036, 15: 0.2228, 10: 0.2404, 5: 0.28, 1: 0.3636, 0: 0.43}, 'auroc': {100: 0.50005, 99: 0.2938517, 95: 0.2585059, 90: 0.262608, 85: 0.269838, 75: 0.29612039999999995, 50: 0.3777536, 25: 0.5049036, 15: 0.5793427999999999, 10: 0.6299416, 5: 0.6916209999999999, 1: 0.7786734, 0: 0.84102}, 'preds': {100: array([[0.71269345, 0.07373445, 0.16777113, 0.02479381, 0.0210071 ],\n",
      "       [0.71269345, 0.07373445, 0.16777113, 0.02479381, 0.0210071 ],\n",
      "       [0.71269345, 0.07373445, 0.16777113, 0.02479381, 0.0210071 ],\n",
      "       ...,\n",
      "       [0.71269345, 0.07373445, 0.16777113, 0.02479381, 0.0210071 ],\n",
      "       [0.71269345, 0.07373445, 0.16777113, 0.02479381, 0.0210071 ],\n",
      "       [0.71269345, 0.07373445, 0.16777113, 0.02479381, 0.0210071 ]],\n",
      "      dtype=float32), 99: array([[0.72083086, 0.07342064, 0.16386086, 0.02313853, 0.01874911],\n",
      "       [0.6378411 , 0.05335199, 0.19223431, 0.04281719, 0.0737554 ],\n",
      "       [0.572814  , 0.06113516, 0.2520203 , 0.06014471, 0.05388584],\n",
      "       ...,\n",
      "       [0.80361253, 0.06924348, 0.11479741, 0.00861791, 0.00372868],\n",
      "       [0.81606436, 0.06614747, 0.10687662, 0.00746251, 0.00344906],\n",
      "       [0.7260497 , 0.06923094, 0.15883464, 0.02292573, 0.02295894]],\n",
      "      dtype=float32), 95: array([[8.8251704e-01, 5.1900703e-02, 6.2476769e-02, 2.3121240e-03,\n",
      "        7.9337874e-04],\n",
      "       [7.1664959e-01, 3.9467506e-02, 1.3729720e-01, 2.2805950e-02,\n",
      "        8.3779730e-02],\n",
      "       [1.8861696e-02, 3.2830454e-02, 5.5963832e-01, 2.2941467e-01,\n",
      "        1.5925489e-01],\n",
      "       ...,\n",
      "       [7.9688156e-01, 7.5720564e-02, 1.1987254e-01, 6.1779753e-03,\n",
      "        1.3472817e-03],\n",
      "       [9.1584927e-01, 4.5749739e-02, 3.7694193e-02, 6.3570472e-04,\n",
      "        7.1091636e-05],\n",
      "       [8.7233466e-01, 4.6999764e-02, 7.3231801e-02, 3.7630927e-03,\n",
      "        3.6706643e-03]], dtype=float32), 90: array([[8.89767528e-01, 4.30784598e-02, 6.31819367e-02, 2.56451522e-03,\n",
      "        1.40755472e-03],\n",
      "       [8.12113345e-01, 3.32728736e-02, 1.01694442e-01, 1.09829735e-02,\n",
      "        4.19364236e-02],\n",
      "       [3.65372710e-02, 1.60048325e-02, 3.96425009e-01, 2.53956020e-01,\n",
      "        2.97076851e-01],\n",
      "       ...,\n",
      "       [7.98359036e-01, 7.72243813e-02, 1.18621767e-01, 4.89056204e-03,\n",
      "        9.04205546e-04],\n",
      "       [9.44744766e-01, 3.62293422e-02, 1.88849140e-02, 1.34563976e-04,\n",
      "        6.46499302e-06],\n",
      "       [8.61430466e-01, 4.87628095e-02, 8.22938383e-02, 4.42244671e-03,\n",
      "        3.09052062e-03]], dtype=float32), 85: array([[8.7918377e-01, 3.8106214e-02, 7.7785634e-02, 3.3903343e-03,\n",
      "        1.5340790e-03],\n",
      "       [8.3654827e-01, 2.3069579e-02, 7.6800965e-02, 7.4620447e-03,\n",
      "        5.6119021e-02],\n",
      "       [6.3860759e-02, 2.4635585e-02, 4.7032124e-01, 2.0313315e-01,\n",
      "        2.3804922e-01],\n",
      "       ...,\n",
      "       [8.4635615e-01, 6.6818342e-02, 8.4382854e-02, 2.1118894e-03,\n",
      "        3.3080135e-04],\n",
      "       [9.6136987e-01, 2.7744718e-02, 1.0824197e-02, 5.6624936e-05,\n",
      "        4.4257645e-06],\n",
      "       [8.7440848e-01, 4.2438108e-02, 7.4104816e-02, 4.4398289e-03,\n",
      "        4.6088016e-03]], dtype=float32), 75: array([[8.8979840e-01, 4.3978702e-02, 6.4370930e-02, 1.5313798e-03,\n",
      "        3.2050323e-04],\n",
      "       [9.3282026e-01, 1.6240025e-02, 3.9201379e-02, 1.5589019e-03,\n",
      "        1.0179545e-02],\n",
      "       [8.5461475e-02, 2.1101350e-02, 4.1067085e-01, 1.5269363e-01,\n",
      "        3.3007270e-01],\n",
      "       ...,\n",
      "       [8.4260029e-01, 6.3321784e-02, 9.1503389e-02, 2.1474781e-03,\n",
      "        4.2709551e-04],\n",
      "       [9.6932095e-01, 2.2781154e-02, 7.8657391e-03, 2.9649746e-05,\n",
      "        2.4792162e-06],\n",
      "       [9.2422599e-01, 3.5065345e-02, 3.8609184e-02, 1.2302685e-03,\n",
      "        8.6916814e-04]], dtype=float32), 50: array([[9.0424848e-01, 5.3918261e-02, 4.1284047e-02, 4.7441435e-04,\n",
      "        7.4880292e-05],\n",
      "       [9.7262299e-01, 1.2167212e-02, 1.4502277e-02, 1.6122570e-04,\n",
      "        5.4616545e-04],\n",
      "       [5.3747043e-02, 3.1977594e-02, 5.4186857e-01, 1.3063087e-01,\n",
      "        2.4177594e-01],\n",
      "       ...,\n",
      "       [8.4072143e-01, 5.9552372e-02, 9.7121947e-02, 1.8563329e-03,\n",
      "        7.4799947e-04],\n",
      "       [9.8169589e-01, 1.4540728e-02, 3.7525161e-03, 8.9738742e-06,\n",
      "        1.8278485e-06],\n",
      "       [9.5561576e-01, 3.0290149e-02, 1.3837984e-02, 1.6153944e-04,\n",
      "        9.4519062e-05]], dtype=float32), 25: array([[9.2567354e-01, 5.9167352e-02, 1.5093301e-02, 5.8192771e-05,\n",
      "        7.7695950e-06],\n",
      "       [9.6615243e-01, 1.7368061e-02, 1.6279429e-02, 9.5858792e-05,\n",
      "        1.0418719e-04],\n",
      "       [7.5961426e-02, 4.2620201e-02, 6.5313220e-01, 7.8644559e-02,\n",
      "        1.4964163e-01],\n",
      "       ...,\n",
      "       [8.4709424e-01, 5.9448995e-02, 9.0775385e-02, 1.7446351e-03,\n",
      "        9.3670964e-04],\n",
      "       [9.8292553e-01, 1.4029434e-02, 3.0330366e-03, 7.5256739e-06,\n",
      "        4.4962071e-06],\n",
      "       [9.5017815e-01, 3.8226794e-02, 1.1482948e-02, 7.9667705e-05,\n",
      "        3.2431471e-05]], dtype=float32), 15: array([[9.3350536e-01, 5.5906117e-02, 1.0554994e-02, 2.9490924e-05,\n",
      "        3.9953670e-06],\n",
      "       [9.4726557e-01, 2.5553733e-02, 2.6808735e-02, 1.8926826e-04,\n",
      "        1.8255085e-04],\n",
      "       [8.8664062e-02, 4.8632685e-02, 6.5903193e-01, 6.5122008e-02,\n",
      "        1.3854927e-01],\n",
      "       ...,\n",
      "       [8.3114105e-01, 6.4335555e-02, 1.0133726e-01, 2.0000921e-03,\n",
      "        1.1859951e-03],\n",
      "       [9.8240077e-01, 1.4684224e-02, 2.9049208e-03, 6.3188704e-06,\n",
      "        3.7945581e-06],\n",
      "       [9.4684219e-01, 4.1413821e-02, 1.1643703e-02, 7.2006806e-05,\n",
      "        2.8332213e-05]], dtype=float32), 10: array([[9.3369299e-01, 5.6390226e-02, 9.8837577e-03, 2.8441691e-05,\n",
      "        4.6255518e-06],\n",
      "       [9.4175273e-01, 2.8774900e-02, 2.9189104e-02, 1.7055085e-04,\n",
      "        1.1272905e-04],\n",
      "       [9.0057686e-02, 4.2688113e-02, 6.8752223e-01, 6.4124651e-02,\n",
      "        1.1560729e-01],\n",
      "       ...,\n",
      "       [8.0013150e-01, 6.8948172e-02, 1.2603396e-01, 3.0203699e-03,\n",
      "        1.8661096e-03],\n",
      "       [9.7949767e-01, 1.6310666e-02, 4.1728136e-03, 1.0838963e-05,\n",
      "        7.8998528e-06],\n",
      "       [9.4590402e-01, 4.2792983e-02, 1.1199851e-02, 7.1393282e-05,\n",
      "        3.1832918e-05]], dtype=float32), 5: array([[9.2972010e-01, 6.0186937e-02, 1.0062138e-02, 2.6834472e-05,\n",
      "        4.0432978e-06],\n",
      "       [9.3970001e-01, 3.0810049e-02, 2.9256949e-02, 1.5459971e-04,\n",
      "        7.8427685e-05],\n",
      "       [4.2849645e-02, 3.1104773e-02, 7.2468686e-01, 8.2435742e-02,\n",
      "        1.1892296e-01],\n",
      "       ...,\n",
      "       [7.0817167e-01, 7.2937563e-02, 2.0868421e-01, 6.5886406e-03,\n",
      "        3.6179305e-03],\n",
      "       [9.8048222e-01, 1.5821254e-02, 3.6803007e-03, 8.9560563e-06,\n",
      "        7.2883363e-06],\n",
      "       [9.3859148e-01, 4.7835331e-02, 1.3450389e-02, 8.6032785e-05,\n",
      "        3.6653313e-05]], dtype=float32), 1: array([[8.9058101e-01, 9.0444945e-02, 1.8919855e-02, 4.8707745e-05,\n",
      "        5.4442216e-06],\n",
      "       [9.1953462e-01, 3.7106857e-02, 4.3064665e-02, 2.1759309e-04,\n",
      "        7.6168639e-05],\n",
      "       [1.5331474e-02, 2.3750223e-02, 7.4593908e-01, 1.1367510e-01,\n",
      "        1.0130410e-01],\n",
      "       ...,\n",
      "       [6.1513513e-01, 7.0070498e-02, 2.9748085e-01, 1.1290733e-02,\n",
      "        6.0228342e-03],\n",
      "       [9.7558933e-01, 1.9461071e-02, 4.9240431e-03, 1.3974464e-05,\n",
      "        1.1511085e-05],\n",
      "       [9.0953314e-01, 6.7872584e-02, 2.2387318e-02, 1.5144961e-04,\n",
      "        5.5430810e-05]], dtype=float32), 0: array([[8.93752098e-01, 8.83543417e-02, 1.78448595e-02, 4.39195537e-05,\n",
      "        4.84293469e-06],\n",
      "       [9.08368826e-01, 4.09528874e-02, 5.03622368e-02, 2.39651723e-04,\n",
      "        7.64532961e-05],\n",
      "       [1.27890427e-02, 1.67057589e-02, 6.70378923e-01, 1.46436870e-01,\n",
      "        1.53689399e-01],\n",
      "       ...,\n",
      "       [1.77840471e-01, 4.10715304e-02, 7.09612131e-01, 5.46135008e-02,\n",
      "        1.68623831e-02],\n",
      "       [9.32725132e-01, 4.54182513e-02, 2.16827337e-02, 1.02160004e-04,\n",
      "        7.17712683e-05],\n",
      "       [8.97488832e-01, 7.47329444e-02, 2.74771824e-02, 2.18378118e-04,\n",
      "        8.27192562e-05]], dtype=float32)}, 'log_likelihood': {100: -2.458239895105362, 99: -2.9095520484507085, 95: -3.94882334766984, 90: -4.190551407027245, 85: -4.2100166904807095, 75: -4.116958335846663, 50: -3.81252094591856, 25: -3.3658098508879544, 15: -3.0315096012368796, 10: -2.743655710475892, 5: -2.3723634663939475, 1: -1.8457055339563637, 0: -1.4965153186095879}, 'log_odds': {100: -2.1474829, 99: -2.6697187, 95: -3.743117, 90: -3.9437358, 85: -3.963267, 75: -3.8780038, 50: -3.5464895, 25: -2.9935687, 15: -2.5873618, 10: -2.2451792, 5: -1.7878348, 1: -1.1021994, 0: -0.6110032}, 'AUC_acc': 0.18278399999999995, 'AUC_auroc': 0.41920782800000006, 'AUC_preds': array([[9.00762618e-01, 5.35055101e-02, 4.32679318e-02, 1.59203622e-03,\n",
      "        8.71939934e-04],\n",
      "       [9.18530703e-01, 2.16697529e-02, 4.21176925e-02, 3.69567564e-03,\n",
      "        1.39860939e-02],\n",
      "       [8.05629417e-02, 3.30268592e-02, 5.47465920e-01, 1.28399998e-01,\n",
      "        2.10544303e-01],\n",
      "       ...,\n",
      "       [8.19262385e-01, 6.42646477e-02, 1.11820005e-01, 3.31839849e-03,\n",
      "        1.33451121e-03],\n",
      "       [9.67415333e-01, 2.13928800e-02, 1.06321238e-02, 3.61141778e-04,\n",
      "        1.98448222e-04],\n",
      "       [9.24317300e-01, 3.97028476e-02, 3.27389278e-02, 1.70790462e-03,\n",
      "        1.53295009e-03]], dtype=float32), 'AUC_log_likelihood': -3.575548119173796, 'AUC_log_odds': -3.246873692572117}, 'retro_in': {'acc': {100: 0.43, 99: 0.4408, 95: 0.4628, 90: 0.4872, 85: 0.5056, 75: 0.5472, 50: 0.6056, 25: 0.6104, 15: 0.5932, 10: 0.58, 5: 0.5536, 1: 0.3776, 0: 0.2}, 'auroc': {100: 0.84102, 99: 0.855376, 95: 0.8829217999999999, 90: 0.9005162, 85: 0.9130811999999999, 75: 0.9310394000000001, 50: 0.952113, 25: 0.9471294, 15: 0.9357702000000001, 10: 0.9251847999999999, 5: 0.9092602, 1: 0.8311952, 0: 0.50005}, 'preds': {100: array([[8.93752098e-01, 8.83543417e-02, 1.78448595e-02, 4.39195537e-05,\n",
      "        4.84293469e-06],\n",
      "       [9.08368826e-01, 4.09528874e-02, 5.03622368e-02, 2.39651723e-04,\n",
      "        7.64532961e-05],\n",
      "       [1.27890427e-02, 1.67057589e-02, 6.70378923e-01, 1.46436870e-01,\n",
      "        1.53689399e-01],\n",
      "       ...,\n",
      "       [1.77840471e-01, 4.10715304e-02, 7.09612131e-01, 5.46135008e-02,\n",
      "        1.68623831e-02],\n",
      "       [9.32725132e-01, 4.54182364e-02, 2.16827337e-02, 1.02160004e-04,\n",
      "        7.17712683e-05],\n",
      "       [8.97488832e-01, 7.47329444e-02, 2.74771824e-02, 2.18378118e-04,\n",
      "        8.27192562e-05]], dtype=float32), 99: array([[8.9342350e-01, 8.8566802e-02, 1.7960452e-02, 4.4335604e-05,\n",
      "        4.8795710e-06],\n",
      "       [9.0887862e-01, 4.2628456e-02, 4.8237324e-02, 2.0744761e-04,\n",
      "        4.8104459e-05],\n",
      "       [1.2551795e-02, 1.6694373e-02, 6.7601752e-01, 1.4462802e-01,\n",
      "        1.5010828e-01],\n",
      "       ...,\n",
      "       [1.5952595e-01, 3.8194634e-02, 7.1774560e-01, 6.2684901e-02,\n",
      "        2.1848937e-02],\n",
      "       [9.3087769e-01, 4.6084248e-02, 2.2843983e-02, 1.1238329e-04,\n",
      "        8.1809878e-05],\n",
      "       [8.9554018e-01, 7.5740084e-02, 2.8406115e-02, 2.2919571e-04,\n",
      "        8.4421394e-05]], dtype=float32), 95: array([[8.8036102e-01, 9.8306969e-02, 2.1264266e-02, 6.0977269e-05,\n",
      "        6.7578799e-06],\n",
      "       [8.9977288e-01, 4.7317218e-02, 5.2617934e-02, 2.4535079e-04,\n",
      "        4.6508296e-05],\n",
      "       [1.0667130e-02, 1.1341237e-02, 6.9267362e-01, 1.5555610e-01,\n",
      "        1.2976186e-01],\n",
      "       ...,\n",
      "       [1.3973890e-01, 3.4115102e-02, 7.2551554e-01, 7.2355106e-02,\n",
      "        2.8275441e-02],\n",
      "       [9.2291927e-01, 5.0424125e-02, 2.6370622e-02, 1.5272177e-04,\n",
      "        1.3326995e-04],\n",
      "       [8.7704146e-01, 8.4939077e-02, 3.7525777e-02, 3.6996303e-04,\n",
      "        1.2371062e-04]], dtype=float32), 90: array([[8.7084812e-01, 1.0475117e-01, 2.4320181e-02, 7.3784242e-05,\n",
      "        6.8672139e-06],\n",
      "       [9.0075678e-01, 4.8573866e-02, 5.0374169e-02, 2.4860326e-04,\n",
      "        4.6593843e-05],\n",
      "       [5.3970148e-03, 7.8887371e-03, 6.4110672e-01, 1.8523461e-01,\n",
      "        1.6037288e-01],\n",
      "       ...,\n",
      "       [1.1846091e-01, 2.9838741e-02, 7.3062479e-01, 8.5143387e-02,\n",
      "        3.5932153e-02],\n",
      "       [9.0518558e-01, 5.7169180e-02, 3.7066124e-02, 2.9661099e-04,\n",
      "        2.8251231e-04],\n",
      "       [8.6207384e-01, 9.0940021e-02, 4.6334658e-02, 5.0463725e-04,\n",
      "        1.4671389e-04]], dtype=float32), 85: array([[8.61572921e-01, 1.10136956e-01, 2.81858929e-02, 9.56547956e-05,\n",
      "        8.61803255e-06],\n",
      "       [8.88236642e-01, 5.32121472e-02, 5.81337698e-02, 3.56580800e-04,\n",
      "        6.07720322e-05],\n",
      "       [4.16858727e-03, 6.78586215e-03, 6.32516444e-01, 2.05349013e-01,\n",
      "        1.51180089e-01],\n",
      "       ...,\n",
      "       [1.26807153e-01, 2.92635672e-02, 7.04862058e-01, 9.28143784e-02,\n",
      "        4.62527797e-02],\n",
      "       [9.15898085e-01, 4.70855869e-02, 3.62776741e-02, 3.66040185e-04,\n",
      "        3.72576440e-04],\n",
      "       [8.41952801e-01, 1.00904047e-01, 5.63516468e-02, 6.47432928e-04,\n",
      "        1.44003556e-04]], dtype=float32), 75: array([[8.36065233e-01, 1.24866158e-01, 3.88826579e-02, 1.72377608e-04,\n",
      "        1.35655719e-05],\n",
      "       [8.13227713e-01, 7.07688183e-02, 1.14461124e-01, 1.34924508e-03,\n",
      "        1.93075699e-04],\n",
      "       [2.15081614e-03, 4.02143924e-03, 5.37334025e-01, 2.76840597e-01,\n",
      "        1.79653183e-01],\n",
      "       ...,\n",
      "       [1.16006166e-01, 2.56821215e-02, 6.74256921e-01, 1.18469708e-01,\n",
      "        6.55851290e-02],\n",
      "       [8.74897480e-01, 5.09679690e-02, 7.01773167e-02, 1.51103933e-03,\n",
      "        2.44626752e-03],\n",
      "       [8.00219178e-01, 1.17383704e-01, 8.09783190e-02, 1.19750225e-03,\n",
      "        2.21315786e-04]], dtype=float32), 50: array([[8.09180439e-01, 1.28184959e-01, 6.21445626e-02, 4.63473640e-04,\n",
      "        2.65632552e-05],\n",
      "       [6.37240589e-01, 9.43538249e-02, 2.57894695e-01, 9.66633949e-03,\n",
      "        8.44601484e-04],\n",
      "       [2.16419413e-03, 3.43491626e-03, 4.14406508e-01, 3.18257034e-01,\n",
      "        2.61737317e-01],\n",
      "       ...,\n",
      "       [1.19862795e-01, 2.54985355e-02, 5.70544243e-01, 1.80247426e-01,\n",
      "        1.03846952e-01],\n",
      "       [5.91868818e-01, 7.17883259e-02, 2.92176217e-01, 2.40850672e-02,\n",
      "        2.00815722e-02],\n",
      "       [7.05812275e-01, 1.22020938e-01, 1.66362673e-01, 5.09383017e-03,\n",
      "        7.10261287e-04]], dtype=float32), 25: array([[6.3378984e-01, 1.3721512e-01, 2.2147259e-01, 6.9271550e-03,\n",
      "        5.9538387e-04],\n",
      "       [6.8662548e-01, 8.9003965e-02, 2.0983550e-01, 1.2621666e-02,\n",
      "        1.9133989e-03],\n",
      "       [9.4477460e-04, 1.2440392e-03, 1.7567506e-01, 3.5823944e-01,\n",
      "        4.6389672e-01],\n",
      "       ...,\n",
      "       [1.2232571e-01, 2.3641881e-02, 4.9577966e-01, 2.1401611e-01,\n",
      "        1.4423665e-01],\n",
      "       [4.1324070e-01, 6.1344177e-02, 4.1501814e-01, 7.5555958e-02,\n",
      "        3.4840941e-02],\n",
      "       [4.2911422e-01, 1.2726568e-01, 4.1633773e-01, 2.5322018e-02,\n",
      "        1.9603027e-03]], dtype=float32), 15: array([[5.46678901e-01, 1.08057886e-01, 3.26626807e-01, 1.69945825e-02,\n",
      "        1.64182065e-03],\n",
      "       [6.76109970e-01, 7.75149465e-02, 2.26454109e-01, 1.74692944e-02,\n",
      "        2.45167315e-03],\n",
      "       [4.82474919e-04, 6.12518576e-04, 1.28897175e-01, 4.27023768e-01,\n",
      "        4.42984045e-01],\n",
      "       ...,\n",
      "       [1.23309545e-01, 2.08364595e-02, 4.52891171e-01, 2.36419588e-01,\n",
      "        1.66543305e-01],\n",
      "       [3.73994052e-01, 5.62946834e-02, 4.26795095e-01, 9.75235999e-02,\n",
      "        4.53925394e-02],\n",
      "       [3.35233271e-01, 9.87852439e-02, 4.91690814e-01, 6.48017228e-02,\n",
      "        9.48903710e-03]], dtype=float32), 10: array([[4.0235761e-01, 8.6965278e-02, 4.6794921e-01, 3.8775310e-02,\n",
      "        3.9525558e-03],\n",
      "       [7.0931691e-01, 7.0978396e-02, 2.0146824e-01, 1.5888717e-02,\n",
      "        2.3477310e-03],\n",
      "       [2.2621310e-04, 4.9598655e-04, 1.1685274e-01, 3.5238135e-01,\n",
      "        5.3004372e-01],\n",
      "       ...,\n",
      "       [1.2192676e-01, 1.8151155e-02, 4.0675566e-01, 2.4821226e-01,\n",
      "        2.0495422e-01],\n",
      "       [4.9877217e-01, 5.7560604e-02, 3.2988617e-01, 7.3683150e-02,\n",
      "        4.0097911e-02],\n",
      "       [2.6934177e-01, 8.6250469e-02, 5.2781004e-01, 9.6666403e-02,\n",
      "        1.9931342e-02]], dtype=float32), 5: array([[5.4736614e-01, 7.7126972e-02, 3.3930567e-01, 3.1225540e-02,\n",
      "        4.9757464e-03],\n",
      "       [6.2152654e-01, 7.1218558e-02, 2.6091987e-01, 3.5108548e-02,\n",
      "        1.1226498e-02],\n",
      "       [4.0953411e-04, 8.7339710e-04, 1.4680123e-01, 3.7226835e-01,\n",
      "        4.7964746e-01],\n",
      "       ...,\n",
      "       [9.0574771e-02, 1.2972004e-02, 3.8838440e-01, 2.8281099e-01,\n",
      "        2.2525780e-01],\n",
      "       [3.7422213e-01, 4.1845016e-02, 3.6803052e-01, 1.3553399e-01,\n",
      "        8.0368377e-02],\n",
      "       [2.5427052e-01, 6.9730476e-02, 5.0538206e-01, 1.3187332e-01,\n",
      "        3.8743634e-02]], dtype=float32), 1: array([[0.8184528 , 0.06681805, 0.10423689, 0.00718415, 0.0033081 ],\n",
      "       [0.69161993, 0.06721926, 0.18328212, 0.03162979, 0.02624888],\n",
      "       [0.34966582, 0.03314621, 0.29800844, 0.13187678, 0.18730281],\n",
      "       ...,\n",
      "       [0.10661459, 0.01424763, 0.38087517, 0.27995628, 0.21830627],\n",
      "       [0.43218568, 0.04997521, 0.32784283, 0.10601614, 0.08398019],\n",
      "       [0.5879695 , 0.07017677, 0.24794152, 0.05223537, 0.0416768 ]],\n",
      "      dtype=float32), 0: array([[0.71269345, 0.07373445, 0.16777113, 0.02479381, 0.0210071 ],\n",
      "       [0.71269345, 0.07373445, 0.16777113, 0.02479381, 0.0210071 ],\n",
      "       [0.71269345, 0.07373445, 0.16777113, 0.02479381, 0.0210071 ],\n",
      "       ...,\n",
      "       [0.71269345, 0.07373445, 0.16777113, 0.02479381, 0.0210071 ],\n",
      "       [0.71269345, 0.07373445, 0.16777113, 0.02479381, 0.0210071 ],\n",
      "       [0.71269345, 0.07373445, 0.16777113, 0.02479381, 0.0210071 ]],\n",
      "      dtype=float32)}, 'log_likelihood': {100: -1.4965153186095879, 99: -1.451937211212702, 95: -1.3283792121511884, 90: -1.2333948906980454, 85: -1.1588715828014537, 75: -1.0503267969795969, 50: -0.9089953898516018, 25: -0.9051724973507691, 15: -0.9557809445302002, 10: -1.0136062840868487, 5: -1.1025303023861721, 1: -1.4331586763501167, 0: -2.458239895105362}, 'log_odds': {100: -0.6110032, 99: -0.5119838, 95: -0.28958222, 90: -0.13145629, 85: -0.01113295, 75: 0.15481538, 50: 0.36569294, 25: 0.34639063, 15: 0.22620769, 10: 0.087861866, 5: -0.1615905, 1: -0.8791135, 0: -2.1474829}, 'AUC_acc': 0.5590980000000001, 'AUC_auroc': 0.9261745150000001, 'AUC_preds': array([[0.7438757 , 0.1164505 , 0.1325314 , 0.0062953 , 0.00084706],\n",
      "       [0.7361903 , 0.07598457, 0.17614967, 0.00951732, 0.00215806],\n",
      "       [0.01489407, 0.00500218, 0.38969997, 0.2965329 , 0.2938709 ],\n",
      "       ...,\n",
      "       [0.12392221, 0.02516734, 0.57307094, 0.16955273, 0.10828679],\n",
      "       [0.64100623, 0.05824108, 0.2384938 , 0.03943229, 0.02282658],\n",
      "       [0.6324938 , 0.10850549, 0.23074718, 0.02306924, 0.00518424]],\n",
      "      dtype=float32), 'AUC_log_likelihood': -1.0417023236716598, 'AUC_log_odds': 0.1242125363368541}, 'pro_ex': {'acc': {100: 0.2, 99: 0.2172, 95: 0.2624, 90: 0.26, 85: 0.2636, 75: 0.2688, 50: 0.2852, 25: 0.292, 15: 0.2992, 10: 0.3088, 5: 0.33, 1: 0.3876, 0: 0.43}, 'auroc': {100: 0.50005, 99: 0.4711741, 95: 0.5124493, 90: 0.528964, 85: 0.5444090000000001, 75: 0.5674549999999999, 50: 0.6197866, 25: 0.6870649, 15: 0.7215461999999999, 10: 0.7441948, 5: 0.7706402000000001, 1: 0.813322, 0: 0.84102}, 'preds': {100: array([[0.71269345, 0.07373445, 0.16777113, 0.02479381, 0.0210071 ],\n",
      "       [0.71269345, 0.07373445, 0.16777113, 0.02479381, 0.0210071 ],\n",
      "       [0.71269345, 0.07373445, 0.16777113, 0.02479381, 0.0210071 ],\n",
      "       ...,\n",
      "       [0.71269345, 0.07373445, 0.16777113, 0.02479381, 0.0210071 ],\n",
      "       [0.71269345, 0.07373445, 0.16777113, 0.02479381, 0.0210071 ],\n",
      "       [0.71269345, 0.07373445, 0.16777113, 0.02479381, 0.0210071 ]],\n",
      "      dtype=float32), 99: array([[0.72955716, 0.07516053, 0.15997311, 0.02032383, 0.01498539],\n",
      "       [0.7082027 , 0.07284576, 0.17080593, 0.02563142, 0.0225141 ],\n",
      "       [0.74718994, 0.07460123, 0.15084676, 0.0168511 , 0.01051098],\n",
      "       ...,\n",
      "       [0.71268505, 0.0737361 , 0.16777597, 0.02479478, 0.02100814],\n",
      "       [0.47865835, 0.04954525, 0.28894186, 0.08940888, 0.09344572],\n",
      "       [0.6193176 , 0.06682327, 0.22266006, 0.04731496, 0.0438841 ]],\n",
      "      dtype=float32), 95: array([[0.5018409 , 0.06650069, 0.34892592, 0.05816019, 0.02457231],\n",
      "       [0.22273244, 0.03253004, 0.41313636, 0.20316936, 0.12843181],\n",
      "       [0.86596346, 0.05657002, 0.07306758, 0.00314935, 0.00124963],\n",
      "       ...,\n",
      "       [0.7762559 , 0.0700106 , 0.1415766 , 0.00954335, 0.0026136 ],\n",
      "       [0.50504553, 0.04988166, 0.31311044, 0.06783652, 0.06412585],\n",
      "       [0.31538513, 0.06471254, 0.43073097, 0.12330254, 0.06586882]],\n",
      "      dtype=float32), 90: array([[0.43785882, 0.05988032, 0.36988282, 0.07714247, 0.05523553],\n",
      "       [0.37326992, 0.04788653, 0.40942675, 0.11519647, 0.05422028],\n",
      "       [0.7035218 , 0.05139871, 0.21864511, 0.01864631, 0.00778812],\n",
      "       ...,\n",
      "       [0.79118776, 0.06778742, 0.13161348, 0.00731342, 0.00209798],\n",
      "       [0.5267354 , 0.0477196 , 0.33679894, 0.05516098, 0.033585  ],\n",
      "       [0.2364601 , 0.05763431, 0.491562  , 0.15305272, 0.06129085]],\n",
      "      dtype=float32), 85: array([[0.49338222, 0.07416026, 0.35709542, 0.05155045, 0.02381164],\n",
      "       [0.4855856 , 0.06374605, 0.35715076, 0.0657377 , 0.02777988],\n",
      "       [0.7159986 , 0.05402603, 0.2074935 , 0.01608361, 0.00639821],\n",
      "       ...,\n",
      "       [0.7750769 , 0.06988336, 0.14607982, 0.00710172, 0.00185815],\n",
      "       [0.735623  , 0.04129542, 0.19908753, 0.01444229, 0.00955183],\n",
      "       [0.18861109, 0.04989371, 0.5149245 , 0.18550606, 0.06106459]],\n",
      "      dtype=float32), 75: array([[4.16279286e-01, 9.71634611e-02, 4.32240099e-01, 4.25168052e-02,\n",
      "        1.18003450e-02],\n",
      "       [5.20984590e-01, 5.73838577e-02, 3.37057412e-01, 5.53921834e-02,\n",
      "        2.91819461e-02],\n",
      "       [8.71397674e-01, 4.84951958e-02, 7.73973316e-02, 2.08999240e-03,\n",
      "        6.19862520e-04],\n",
      "       ...,\n",
      "       [8.28081250e-01, 6.31378442e-02, 1.04453996e-01, 3.32733989e-03,\n",
      "        9.99541255e-04],\n",
      "       [8.03504646e-01, 3.70109379e-02, 1.41029581e-01, 8.93282797e-03,\n",
      "        9.52205434e-03],\n",
      "       [2.40934491e-01, 6.39971495e-02, 5.14228523e-01, 1.29415289e-01,\n",
      "        5.14246002e-02]], dtype=float32), 50: array([[0.65261114, 0.13092308, 0.2068982 , 0.0076172 , 0.00195035],\n",
      "       [0.5472838 , 0.05358544, 0.3480768 , 0.03135449, 0.0196995 ],\n",
      "       [0.87895954, 0.03440535, 0.08274553, 0.00187526, 0.00201428],\n",
      "       ...,\n",
      "       [0.8514068 , 0.05936637, 0.08630373, 0.00199572, 0.00092735],\n",
      "       [0.90404487, 0.03213646, 0.06085529, 0.00143849, 0.00152491],\n",
      "       [0.48619786, 0.10771618, 0.36074764, 0.03336369, 0.01197462]],\n",
      "      dtype=float32), 25: array([[7.4575764e-01, 1.4173441e-01, 1.1033013e-01, 1.7559567e-03,\n",
      "        4.2194457e-04],\n",
      "       [7.8410560e-01, 5.9315778e-02, 1.5184884e-01, 3.1525288e-03,\n",
      "        1.5772657e-03],\n",
      "       [7.1975470e-01, 2.9831208e-02, 2.2969122e-01, 8.1933402e-03,\n",
      "        1.2529505e-02],\n",
      "       ...,\n",
      "       [8.3855307e-01, 6.0957614e-02, 9.7364880e-02, 2.0223893e-03,\n",
      "        1.1021089e-03],\n",
      "       [9.0191883e-01, 4.5541473e-02, 5.1223472e-02, 5.9643667e-04,\n",
      "        7.1987615e-04],\n",
      "       [7.5770897e-01, 1.0169349e-01, 1.3428490e-01, 4.2277789e-03,\n",
      "        2.0849050e-03]], dtype=float32), 15: array([[8.17329228e-01, 1.25929922e-01, 5.61356805e-02, 4.91507177e-04,\n",
      "        1.13574184e-04],\n",
      "       [8.60033870e-01, 5.16039878e-02, 8.70925933e-02, 8.96488607e-04,\n",
      "        3.73009185e-04],\n",
      "       [5.25789201e-01, 2.71747895e-02, 3.97385001e-01, 1.87546276e-02,\n",
      "        3.08964066e-02],\n",
      "       ...,\n",
      "       [8.07685614e-01, 6.73293099e-02, 1.20469928e-01, 2.85083009e-03,\n",
      "        1.66431512e-03],\n",
      "       [9.02301729e-01, 5.19411936e-02, 4.51060273e-02, 3.37631238e-04,\n",
      "        3.13446508e-04],\n",
      "       [8.38702679e-01, 9.50266570e-02, 6.45971447e-02, 1.10412203e-03,\n",
      "        5.69376454e-04]], dtype=float32), 10: array([[7.8690875e-01, 1.3605843e-01, 7.6253153e-02, 6.5480859e-04,\n",
      "        1.2479395e-04],\n",
      "       [8.7328655e-01, 4.7905121e-02, 7.7908583e-02, 6.4883620e-04,\n",
      "        2.5092802e-04],\n",
      "       [4.2643166e-01, 2.7616197e-02, 4.7320873e-01, 2.8598150e-02,\n",
      "        4.4145253e-02],\n",
      "       ...,\n",
      "       [7.9979849e-01, 6.8580881e-02, 1.2665242e-01, 3.0899576e-03,\n",
      "        1.8783099e-03],\n",
      "       [9.3985027e-01, 3.8615145e-02, 2.1313312e-02, 1.1535366e-04,\n",
      "        1.0601520e-04],\n",
      "       [8.5564035e-01, 9.0665340e-02, 5.2542206e-02, 7.5935875e-04,\n",
      "        3.9269053e-04]], dtype=float32), 5: array([[8.72655869e-01, 1.00947954e-01, 2.62764320e-02, 1.03310726e-04,\n",
      "        1.63987188e-05],\n",
      "       [8.97720575e-01, 4.23627831e-02, 5.94316795e-02, 3.51115974e-04,\n",
      "        1.33857568e-04],\n",
      "       [3.61175060e-01, 2.37917285e-02, 5.08193791e-01, 4.19134051e-02,\n",
      "        6.49259910e-02],\n",
      "       ...,\n",
      "       [7.21007764e-01, 7.81349242e-02, 1.92135885e-01, 5.59666241e-03,\n",
      "        3.12482449e-03],\n",
      "       [9.34167981e-01, 4.29065302e-02, 2.27326863e-02, 1.12719565e-04,\n",
      "        8.01114511e-05],\n",
      "       [8.65387440e-01, 8.86437222e-02, 4.51969840e-02, 5.38289081e-04,\n",
      "        2.33567480e-04]], dtype=float32), 1: array([[8.87952507e-01, 9.27328616e-02, 1.92591101e-02, 4.98153167e-05,\n",
      "        5.70831253e-06],\n",
      "       [9.06907439e-01, 4.12941128e-02, 5.14671355e-02, 2.51728023e-04,\n",
      "        7.95993474e-05],\n",
      "       [1.53314741e-02, 2.37502232e-02, 7.45939076e-01, 1.13675103e-01,\n",
      "        1.01304099e-01],\n",
      "       ...,\n",
      "       [6.15135133e-01, 7.00704977e-02, 2.97480851e-01, 1.12907328e-02,\n",
      "        6.02283422e-03],\n",
      "       [9.36934531e-01, 4.30561043e-02, 1.98642481e-02, 8.58700150e-05,\n",
      "        5.92641227e-05],\n",
      "       [8.87461126e-01, 8.04574564e-02, 3.16826776e-02, 2.84931564e-04,\n",
      "        1.13793576e-04]], dtype=float32), 0: array([[8.93752098e-01, 8.83543417e-02, 1.78448595e-02, 4.39195537e-05,\n",
      "        4.84293469e-06],\n",
      "       [9.08368826e-01, 4.09528874e-02, 5.03622368e-02, 2.39651723e-04,\n",
      "        7.64532961e-05],\n",
      "       [1.27890427e-02, 1.67057589e-02, 6.70378923e-01, 1.46436870e-01,\n",
      "        1.53689399e-01],\n",
      "       ...,\n",
      "       [1.77840471e-01, 4.10715304e-02, 7.09612131e-01, 5.46135008e-02,\n",
      "        1.68623831e-02],\n",
      "       [9.32725132e-01, 4.54182513e-02, 2.16827337e-02, 1.02160004e-04,\n",
      "        7.17712683e-05],\n",
      "       [8.97488832e-01, 7.47329444e-02, 2.74771824e-02, 2.18378118e-04,\n",
      "        8.27192562e-05]], dtype=float32)}, 'log_likelihood': {100: -2.458239895105362, 99: -2.357118085759878, 95: -2.483536303850729, 90: -2.54341812320489, 85: -2.536979167147889, 75: -2.507300823321706, 50: -2.408976199251041, 25: -2.2819162151783705, 15: -2.184516220653057, 10: -2.0870183217126876, 5: -1.945461407667026, 1: -1.6799401253394783, 0: -1.4965153186095879}, 'log_odds': {100: -2.1474829, 99: -2.0612807, 95: -2.1484408, 90: -2.1696825, 85: -2.1403415, 75: -2.090526, 50: -1.9495465, 25: -1.7396935, 15: -1.5889666, 10: -1.4550179, 5: -1.2582784, 1: -0.88200194, 0: -0.6110032}, 'AUC_acc': 0.28501800000000005, 'AUC_auroc': 0.6296489925, 'AUC_preds': array([[0.6363733 , 0.11188456, 0.22226648, 0.02070044, 0.00877522],\n",
      "       [0.62736446, 0.05405674, 0.25817585, 0.03880444, 0.02159848],\n",
      "       [0.725735  , 0.03887653, 0.20715262, 0.01339062, 0.01484524],\n",
      "       ...,\n",
      "       [0.8077942 , 0.06450341, 0.12083416, 0.00468222, 0.00218598],\n",
      "       [0.82901543, 0.04087654, 0.10885859, 0.01131912, 0.0099303 ],\n",
      "       [0.5268208 , 0.0855343 , 0.30309764, 0.06030272, 0.02424455]],\n",
      "      dtype=float32), 'AUC_log_likelihood': -2.345996136245581, 'AUC_log_odds': -1.8592850410938262}, 'pro_in': {'acc': {100: 0.43, 99: 0.42, 95: 0.4012, 90: 0.4028, 85: 0.4004, 75: 0.3992, 50: 0.41, 25: 0.4192, 15: 0.4196, 10: 0.4132, 5: 0.404, 1: 0.3124, 0: 0.2}, 'auroc': {100: 0.84102, 99: 0.8266754000000001, 95: 0.8106944, 90: 0.8045487999999998, 85: 0.801207, 75: 0.7968352, 50: 0.7895833, 25: 0.7799303, 15: 0.7723226, 10: 0.7654832, 5: 0.7537454, 1: 0.7176453, 0: 0.50005}, 'preds': {100: array([[8.93752098e-01, 8.83543417e-02, 1.78448595e-02, 4.39195537e-05,\n",
      "        4.84293469e-06],\n",
      "       [9.08368826e-01, 4.09528874e-02, 5.03622368e-02, 2.39651723e-04,\n",
      "        7.64532961e-05],\n",
      "       [1.27890427e-02, 1.67057589e-02, 6.70378923e-01, 1.46436870e-01,\n",
      "        1.53689399e-01],\n",
      "       ...,\n",
      "       [1.77840471e-01, 4.10715304e-02, 7.09612131e-01, 5.46135008e-02,\n",
      "        1.68623831e-02],\n",
      "       [9.32725132e-01, 4.54182364e-02, 2.16827337e-02, 1.02160004e-04,\n",
      "        7.17712683e-05],\n",
      "       [8.97488832e-01, 7.47329444e-02, 2.74771824e-02, 2.18378118e-04,\n",
      "        8.27192562e-05]], dtype=float32), 99: array([[8.9391541e-01, 8.8199198e-02, 1.7836429e-02, 4.4076722e-05,\n",
      "        4.8326033e-06],\n",
      "       [9.0830714e-01, 4.0819839e-02, 5.0560109e-02, 2.3759220e-04,\n",
      "        7.5215386e-05],\n",
      "       [1.1992306e-02, 1.5771883e-02, 6.5722078e-01, 1.5163426e-01,\n",
      "        1.6338088e-01],\n",
      "       ...,\n",
      "       [1.7785931e-01, 4.1073412e-02, 7.0959461e-01, 5.4612789e-02,\n",
      "        1.6859861e-02],\n",
      "       [9.7428799e-01, 2.0423012e-02, 5.2620936e-03, 1.4986425e-05,\n",
      "        1.1816613e-05],\n",
      "       [9.0871280e-01, 6.8363018e-02, 2.2713114e-02, 1.5446583e-04,\n",
      "        5.6505105e-05]], dtype=float32), 95: array([[9.28236008e-01, 6.21064380e-02, 9.63310897e-03, 2.17294328e-05,\n",
      "        2.74499689e-06],\n",
      "       [9.45125520e-01, 2.89701782e-02, 2.57670041e-02, 1.01580175e-04,\n",
      "        3.56844648e-05],\n",
      "       [1.05280261e-02, 1.37747712e-02, 6.07731164e-01, 1.68746293e-01,\n",
      "        1.99219704e-01],\n",
      "       ...,\n",
      "       [1.55329108e-01, 3.69077027e-02, 7.12784708e-01, 6.80319369e-02,\n",
      "        2.69465707e-02],\n",
      "       [9.73335683e-01, 2.17008349e-02, 4.94093914e-03, 1.35022765e-05,\n",
      "        9.07755202e-06],\n",
      "       [9.35378790e-01, 5.14618158e-02, 1.30569590e-02, 7.34139539e-05,\n",
      "        2.89972195e-05]], dtype=float32), 90: array([[9.4338357e-01, 5.0406657e-02, 6.1977794e-03, 1.0918665e-05,\n",
      "        1.0739790e-06],\n",
      "       [9.5841110e-01, 2.4937399e-02, 1.6561469e-02, 6.2528037e-05,\n",
      "        2.7379727e-05],\n",
      "       [7.0329779e-03, 1.2100109e-02, 5.7564312e-01, 1.7658688e-01,\n",
      "        2.2863688e-01],\n",
      "       ...,\n",
      "       [1.4520520e-01, 3.4066383e-02, 7.1297973e-01, 7.5653844e-02,\n",
      "        3.2094821e-02],\n",
      "       [9.7792882e-01, 1.8708445e-02, 3.3490292e-03, 8.2951065e-06,\n",
      "        5.3652211e-06],\n",
      "       [9.4996059e-01, 4.1390367e-02, 8.5933991e-03, 3.9579139e-05,\n",
      "        1.6055705e-05]], dtype=float32), 85: array([[9.32406545e-01, 5.77918179e-02, 9.77913383e-03, 2.08714318e-05,\n",
      "        1.62926574e-06],\n",
      "       [9.66515899e-01, 1.97142456e-02, 1.36882979e-02, 5.42797898e-05,\n",
      "        2.73297192e-05],\n",
      "       [4.52569406e-03, 7.31270155e-03, 4.62931067e-01, 2.02354223e-01,\n",
      "        3.22876394e-01],\n",
      "       ...,\n",
      "       [1.21465437e-01, 3.00626960e-02, 7.17708945e-01, 9.10211504e-02,\n",
      "        3.97418328e-02],\n",
      "       [9.70836639e-01, 2.35373154e-02, 5.59466938e-03, 2.01820421e-05,\n",
      "        1.12685975e-05],\n",
      "       [9.53534245e-01, 3.82316634e-02, 8.17957241e-03, 3.87803557e-05,\n",
      "        1.57105460e-05]], dtype=float32), 75: array([[9.2224360e-01, 6.3171007e-02, 1.4543822e-02, 3.8872229e-05,\n",
      "        2.7894050e-06],\n",
      "       [9.7539073e-01, 1.6186485e-02, 8.3909379e-03, 2.4410754e-05,\n",
      "        7.4740124e-06],\n",
      "       [2.6065465e-03, 4.4557746e-03, 3.4099898e-01, 2.3426415e-01,\n",
      "        4.1767454e-01],\n",
      "       ...,\n",
      "       [1.2752411e-01, 3.1260043e-02, 6.9067591e-01, 1.0550957e-01,\n",
      "        4.5030337e-02],\n",
      "       [9.6090311e-01, 2.9855201e-02, 9.1832262e-03, 4.3111424e-05,\n",
      "        1.5354270e-05],\n",
      "       [9.6151173e-01, 3.2106802e-02, 6.3408013e-03, 2.8696606e-05,\n",
      "        1.1990096e-05]], dtype=float32), 50: array([[9.5736408e-01, 3.7482701e-02, 5.1440541e-03, 8.6195296e-06,\n",
      "        4.0526939e-07],\n",
      "       [9.7388530e-01, 1.6532360e-02, 9.5298653e-03, 4.0212057e-05,\n",
      "        1.2346623e-05],\n",
      "       [9.6877571e-04, 9.9092850e-04, 1.0875968e-01, 2.6248303e-01,\n",
      "        6.2679762e-01],\n",
      "       ...,\n",
      "       [1.0693548e-01, 2.4070062e-02, 6.2117654e-01, 1.6515139e-01,\n",
      "        8.2666583e-02],\n",
      "       [9.3246561e-01, 4.6813838e-02, 2.0549532e-02, 1.4594360e-04,\n",
      "        2.4971197e-05],\n",
      "       [9.6958268e-01, 2.5329921e-02, 5.0603058e-03, 2.0807656e-05,\n",
      "        6.2935665e-06]], dtype=float32), 25: array([[9.65369701e-01, 2.96557862e-02, 4.96827345e-03, 6.12463646e-06,\n",
      "        7.16086888e-08],\n",
      "       [9.67495322e-01, 1.70706548e-02, 1.52726639e-02, 1.21156125e-04,\n",
      "        4.02452897e-05],\n",
      "       [3.43157793e-04, 2.95897655e-04, 5.42911887e-02, 3.16392362e-01,\n",
      "        6.28677368e-01],\n",
      "       ...,\n",
      "       [1.23946071e-01, 2.55719144e-02, 5.18339217e-01, 2.08349779e-01,\n",
      "        1.23793013e-01],\n",
      "       [8.38265479e-01, 7.60653764e-02, 8.33155289e-02, 2.07713805e-03,\n",
      "        2.76548846e-04],\n",
      "       [9.60788190e-01, 2.90891323e-02, 1.00766961e-02, 4.33981404e-05,\n",
      "        2.64887444e-06]], dtype=float32), 15: array([[9.68914092e-01, 2.59263068e-02, 5.15341898e-03, 6.28451971e-06,\n",
      "        5.00266353e-08],\n",
      "       [9.53719974e-01, 2.30637770e-02, 2.28360984e-02, 2.89068877e-04,\n",
      "        9.12158139e-05],\n",
      "       [1.50844789e-04, 2.03757882e-04, 3.80257182e-02, 2.79155791e-01,\n",
      "        6.82463825e-01],\n",
      "       ...,\n",
      "       [1.25028446e-01, 2.28360519e-02, 4.68229353e-01, 2.28022128e-01,\n",
      "        1.55884042e-01],\n",
      "       [7.98307776e-01, 8.12353045e-02, 1.16132975e-01, 3.90471611e-03,\n",
      "        4.19171789e-04],\n",
      "       [9.56976295e-01, 3.03177163e-02, 1.26470746e-02, 5.64865295e-05,\n",
      "        2.54343968e-06]], dtype=float32), 10: array([[9.67217088e-01, 2.69127805e-02, 5.86195709e-03, 8.00820453e-06,\n",
      "        6.53885550e-08],\n",
      "       [9.39953864e-01, 2.93972958e-02, 3.00742332e-02, 4.61641554e-04,\n",
      "        1.12965616e-04],\n",
      "       [1.15467927e-04, 2.94415397e-04, 5.41057140e-02, 3.35222363e-01,\n",
      "        6.10262036e-01],\n",
      "       ...,\n",
      "       [1.06961027e-01, 1.89415254e-02, 4.62349355e-01, 2.51644343e-01,\n",
      "        1.60103723e-01],\n",
      "       [7.84366608e-01, 8.17927122e-02, 1.28657028e-01, 4.67210775e-03,\n",
      "        5.11542719e-04],\n",
      "       [9.51226950e-01, 3.27147581e-02, 1.59748700e-02, 8.02763025e-05,\n",
      "        3.15968373e-06]], dtype=float32), 5: array([[9.52620745e-01, 3.40728760e-02, 1.32568171e-02, 4.84739176e-05,\n",
      "        1.04594881e-06],\n",
      "       [8.63640010e-01, 5.45846075e-02, 7.85126984e-02, 2.64841481e-03,\n",
      "        6.14241115e-04],\n",
      "       [6.71444941e-05, 4.28118423e-04, 8.51147547e-02, 3.80945861e-01,\n",
      "        5.33444166e-01],\n",
      "       ...,\n",
      "       [1.20406896e-01, 1.42665617e-02, 3.71649295e-01, 2.59929061e-01,\n",
      "        2.33748212e-01],\n",
      "       [7.67874956e-01, 8.24394673e-02, 1.41448781e-01, 7.01040914e-03,\n",
      "        1.22641539e-03],\n",
      "       [9.49057281e-01, 3.41423787e-02, 1.67045686e-02, 9.20754755e-05,\n",
      "        3.56425426e-06]], dtype=float32), 1: array([[0.8272451 , 0.06294671, 0.10019013, 0.00683138, 0.00278665],\n",
      "       [0.7655555 , 0.06569353, 0.13810721, 0.01579584, 0.01484784],\n",
      "       [0.34966582, 0.03314621, 0.29800844, 0.13187678, 0.18730281],\n",
      "       ...,\n",
      "       [0.10661459, 0.01424763, 0.38087517, 0.27995625, 0.21830624],\n",
      "       [0.5633967 , 0.06912898, 0.28786907, 0.05244603, 0.02715922],\n",
      "       [0.8670963 , 0.05670037, 0.0720722 , 0.00314452, 0.00098666]],\n",
      "      dtype=float32), 0: array([[0.71269345, 0.07373445, 0.16777113, 0.02479381, 0.0210071 ],\n",
      "       [0.71269345, 0.07373445, 0.16777113, 0.02479381, 0.0210071 ],\n",
      "       [0.71269345, 0.07373445, 0.16777113, 0.02479381, 0.0210071 ],\n",
      "       ...,\n",
      "       [0.71269345, 0.07373445, 0.16777113, 0.02479381, 0.0210071 ],\n",
      "       [0.71269345, 0.07373445, 0.16777113, 0.02479381, 0.0210071 ],\n",
      "       [0.71269345, 0.07373445, 0.16777113, 0.02479381, 0.0210071 ]],\n",
      "      dtype=float32)}, 'log_likelihood': {100: -1.4965153186095879, 99: -1.601532950794138, 95: -1.7415165319546126, 90: -1.7994509423731826, 85: -1.826958689034544, 75: -1.8470770978949034, 50: -1.857716802351456, 25: -1.8515576449567452, 15: -1.8424734068255872, 10: -1.8288402417791076, 5: -1.7799469659931957, 1: -1.7492059616923332, 0: -2.458239895105362}, 'log_odds': {100: -0.6110032, 99: -0.7114703, 95: -0.8332672, 90: -0.8707776, 85: -0.88749206, 75: -0.89741397, 50: -0.90652615, 25: -0.92661935, 15: -0.9565029, 10: -0.99045706, 5: -1.0425298, 1: -1.2652432, 0: -2.1474829}, 'AUC_acc': 0.40571399999999996, 'AUC_auroc': 0.785559266, 'AUC_preds': array([[9.4350219e-01, 4.4677358e-02, 1.1332350e-02, 3.1224656e-04,\n",
      "        1.7580226e-04],\n",
      "       [9.5375872e-01, 2.2874413e-02, 2.2094648e-02, 7.3723972e-04,\n",
      "        5.3508638e-04],\n",
      "       [1.4612203e-02, 4.5770188e-03, 2.2467445e-01, 2.5636944e-01,\n",
      "        4.9976692e-01],\n",
      "       ...,\n",
      "       [1.2580913e-01, 2.6840808e-02, 5.9503180e-01, 1.6002589e-01,\n",
      "        9.2292354e-02],\n",
      "       [8.9379525e-01, 5.0643440e-02, 5.1917624e-02, 2.6879983e-03,\n",
      "        9.5572165e-04],\n",
      "       [9.5439154e-01, 3.3609338e-02, 1.1613693e-02, 2.4593886e-04,\n",
      "        1.3945851e-04]], dtype=float32), 'AUC_log_likelihood': -1.8303203532724146, 'AUC_log_odds': -0.9248198583722115}}\n",
      "kernelshap\n"
     ]
    },
    {
     "name": "stdout",
     "output_type": "stream",
     "text": [
      "100\n"
     ]
    },
    {
     "name": "stderr",
     "output_type": "stream",
     "text": [
      "2022-05-17 00:19:49.534783: I tensorflow/core/common_runtime/gpu_fusion_pass.cc:507] ROCm Fusion is enabled.\n",
      "2022-05-17 00:19:49.538694: I tensorflow/core/common_runtime/gpu_fusion_pass.cc:507] ROCm Fusion is enabled.\n",
      "2022-05-17 00:19:49.540994: I tensorflow/core/common_runtime/gpu_fusion_pass.cc:507] ROCm Fusion is enabled.\n"
     ]
    },
    {
     "name": "stdout",
     "output_type": "stream",
     "text": [
      "99\n"
     ]
    },
    {
     "name": "stderr",
     "output_type": "stream",
     "text": [
      "2022-05-17 00:20:41.556266: I tensorflow/core/common_runtime/gpu_fusion_pass.cc:507] ROCm Fusion is enabled.\n",
      "2022-05-17 00:20:41.560008: I tensorflow/core/common_runtime/gpu_fusion_pass.cc:507] ROCm Fusion is enabled.\n",
      "2022-05-17 00:20:41.562300: I tensorflow/core/common_runtime/gpu_fusion_pass.cc:507] ROCm Fusion is enabled.\n"
     ]
    },
    {
     "name": "stdout",
     "output_type": "stream",
     "text": [
      "95\n"
     ]
    },
    {
     "name": "stderr",
     "output_type": "stream",
     "text": [
      "2022-05-17 00:21:32.816364: I tensorflow/core/common_runtime/gpu_fusion_pass.cc:507] ROCm Fusion is enabled.\n",
      "2022-05-17 00:21:32.820382: I tensorflow/core/common_runtime/gpu_fusion_pass.cc:507] ROCm Fusion is enabled.\n",
      "2022-05-17 00:21:32.822651: I tensorflow/core/common_runtime/gpu_fusion_pass.cc:507] ROCm Fusion is enabled.\n"
     ]
    },
    {
     "name": "stdout",
     "output_type": "stream",
     "text": [
      "90\n"
     ]
    },
    {
     "name": "stderr",
     "output_type": "stream",
     "text": [
      "2022-05-17 00:22:24.061174: I tensorflow/core/common_runtime/gpu_fusion_pass.cc:507] ROCm Fusion is enabled.\n",
      "2022-05-17 00:22:24.064905: I tensorflow/core/common_runtime/gpu_fusion_pass.cc:507] ROCm Fusion is enabled.\n",
      "2022-05-17 00:22:24.067265: I tensorflow/core/common_runtime/gpu_fusion_pass.cc:507] ROCm Fusion is enabled.\n"
     ]
    },
    {
     "name": "stdout",
     "output_type": "stream",
     "text": [
      "85\n"
     ]
    },
    {
     "name": "stderr",
     "output_type": "stream",
     "text": [
      "2022-05-17 00:23:15.530542: I tensorflow/core/common_runtime/gpu_fusion_pass.cc:507] ROCm Fusion is enabled.\n",
      "2022-05-17 00:23:15.534319: I tensorflow/core/common_runtime/gpu_fusion_pass.cc:507] ROCm Fusion is enabled.\n",
      "2022-05-17 00:23:15.536675: I tensorflow/core/common_runtime/gpu_fusion_pass.cc:507] ROCm Fusion is enabled.\n"
     ]
    },
    {
     "name": "stdout",
     "output_type": "stream",
     "text": [
      "75\n"
     ]
    },
    {
     "name": "stderr",
     "output_type": "stream",
     "text": [
      "2022-05-17 00:24:07.124826: I tensorflow/core/common_runtime/gpu_fusion_pass.cc:507] ROCm Fusion is enabled.\n",
      "2022-05-17 00:24:07.128730: I tensorflow/core/common_runtime/gpu_fusion_pass.cc:507] ROCm Fusion is enabled.\n",
      "2022-05-17 00:24:07.131036: I tensorflow/core/common_runtime/gpu_fusion_pass.cc:507] ROCm Fusion is enabled.\n"
     ]
    },
    {
     "name": "stdout",
     "output_type": "stream",
     "text": [
      "50\n"
     ]
    },
    {
     "name": "stderr",
     "output_type": "stream",
     "text": [
      "2022-05-17 00:24:58.666858: I tensorflow/core/common_runtime/gpu_fusion_pass.cc:507] ROCm Fusion is enabled.\n",
      "2022-05-17 00:24:58.670857: I tensorflow/core/common_runtime/gpu_fusion_pass.cc:507] ROCm Fusion is enabled.\n",
      "2022-05-17 00:24:58.673209: I tensorflow/core/common_runtime/gpu_fusion_pass.cc:507] ROCm Fusion is enabled.\n"
     ]
    },
    {
     "name": "stdout",
     "output_type": "stream",
     "text": [
      "25\n"
     ]
    },
    {
     "name": "stderr",
     "output_type": "stream",
     "text": [
      "2022-05-17 00:25:50.004924: I tensorflow/core/common_runtime/gpu_fusion_pass.cc:507] ROCm Fusion is enabled.\n",
      "2022-05-17 00:25:50.008766: I tensorflow/core/common_runtime/gpu_fusion_pass.cc:507] ROCm Fusion is enabled.\n",
      "2022-05-17 00:25:50.011081: I tensorflow/core/common_runtime/gpu_fusion_pass.cc:507] ROCm Fusion is enabled.\n"
     ]
    },
    {
     "name": "stdout",
     "output_type": "stream",
     "text": [
      "15\n"
     ]
    },
    {
     "name": "stderr",
     "output_type": "stream",
     "text": [
      "2022-05-17 00:26:41.387873: I tensorflow/core/common_runtime/gpu_fusion_pass.cc:507] ROCm Fusion is enabled.\n",
      "2022-05-17 00:26:41.391668: I tensorflow/core/common_runtime/gpu_fusion_pass.cc:507] ROCm Fusion is enabled.\n",
      "2022-05-17 00:26:41.394027: I tensorflow/core/common_runtime/gpu_fusion_pass.cc:507] ROCm Fusion is enabled.\n"
     ]
    },
    {
     "name": "stdout",
     "output_type": "stream",
     "text": [
      "10\n"
     ]
    },
    {
     "name": "stderr",
     "output_type": "stream",
     "text": [
      "2022-05-17 00:27:32.833052: I tensorflow/core/common_runtime/gpu_fusion_pass.cc:507] ROCm Fusion is enabled.\n",
      "2022-05-17 00:27:32.836844: I tensorflow/core/common_runtime/gpu_fusion_pass.cc:507] ROCm Fusion is enabled.\n",
      "2022-05-17 00:27:32.839175: I tensorflow/core/common_runtime/gpu_fusion_pass.cc:507] ROCm Fusion is enabled.\n"
     ]
    },
    {
     "name": "stdout",
     "output_type": "stream",
     "text": [
      "5\n"
     ]
    },
    {
     "name": "stderr",
     "output_type": "stream",
     "text": [
      "2022-05-17 00:28:23.988965: I tensorflow/core/common_runtime/gpu_fusion_pass.cc:507] ROCm Fusion is enabled.\n",
      "2022-05-17 00:28:23.992732: I tensorflow/core/common_runtime/gpu_fusion_pass.cc:507] ROCm Fusion is enabled.\n",
      "2022-05-17 00:28:23.995040: I tensorflow/core/common_runtime/gpu_fusion_pass.cc:507] ROCm Fusion is enabled.\n"
     ]
    },
    {
     "name": "stdout",
     "output_type": "stream",
     "text": [
      "1\n"
     ]
    },
    {
     "name": "stderr",
     "output_type": "stream",
     "text": [
      "2022-05-17 00:29:15.099610: I tensorflow/core/common_runtime/gpu_fusion_pass.cc:507] ROCm Fusion is enabled.\n",
      "2022-05-17 00:29:15.103541: I tensorflow/core/common_runtime/gpu_fusion_pass.cc:507] ROCm Fusion is enabled.\n",
      "2022-05-17 00:29:15.105836: I tensorflow/core/common_runtime/gpu_fusion_pass.cc:507] ROCm Fusion is enabled.\n"
     ]
    },
    {
     "name": "stdout",
     "output_type": "stream",
     "text": [
      "0\n"
     ]
    },
    {
     "name": "stderr",
     "output_type": "stream",
     "text": [
      "2022-05-17 00:29:43.888071: I tensorflow/core/common_runtime/gpu_fusion_pass.cc:507] ROCm Fusion is enabled.\n",
      "2022-05-17 00:29:43.891840: I tensorflow/core/common_runtime/gpu_fusion_pass.cc:507] ROCm Fusion is enabled.\n",
      "2022-05-17 00:29:43.894152: I tensorflow/core/common_runtime/gpu_fusion_pass.cc:507] ROCm Fusion is enabled.\n",
      "/vast/nj594/xai/helpers/evaluate.py:59: VisibleDeprecationWarning: Creating an ndarray from ragged nested sequences (which is a list-or-tuple of lists-or-tuples-or ndarrays with different lengths or shapes) is deprecated. If you meant to do this, you must specify 'dtype=object' when creating the ndarray\n",
      "  r_ = np.array([[float(p), n] for p,n in r.items()])\n"
     ]
    },
    {
     "name": "stdout",
     "output_type": "stream",
     "text": [
      "100\n"
     ]
    },
    {
     "name": "stderr",
     "output_type": "stream",
     "text": [
      "2022-05-17 00:30:13.054546: I tensorflow/core/common_runtime/gpu_fusion_pass.cc:507] ROCm Fusion is enabled.\n",
      "2022-05-17 00:30:13.058308: I tensorflow/core/common_runtime/gpu_fusion_pass.cc:507] ROCm Fusion is enabled.\n",
      "2022-05-17 00:30:13.060599: I tensorflow/core/common_runtime/gpu_fusion_pass.cc:507] ROCm Fusion is enabled.\n"
     ]
    },
    {
     "name": "stdout",
     "output_type": "stream",
     "text": [
      "99\n"
     ]
    },
    {
     "name": "stderr",
     "output_type": "stream",
     "text": [
      "2022-05-17 00:31:04.142098: I tensorflow/core/common_runtime/gpu_fusion_pass.cc:507] ROCm Fusion is enabled.\n",
      "2022-05-17 00:31:04.146030: I tensorflow/core/common_runtime/gpu_fusion_pass.cc:507] ROCm Fusion is enabled.\n",
      "2022-05-17 00:31:04.148319: I tensorflow/core/common_runtime/gpu_fusion_pass.cc:507] ROCm Fusion is enabled.\n"
     ]
    },
    {
     "name": "stdout",
     "output_type": "stream",
     "text": [
      "95\n"
     ]
    },
    {
     "name": "stderr",
     "output_type": "stream",
     "text": [
      "2022-05-17 00:31:55.356181: I tensorflow/core/common_runtime/gpu_fusion_pass.cc:507] ROCm Fusion is enabled.\n",
      "2022-05-17 00:31:55.360107: I tensorflow/core/common_runtime/gpu_fusion_pass.cc:507] ROCm Fusion is enabled.\n",
      "2022-05-17 00:31:55.362406: I tensorflow/core/common_runtime/gpu_fusion_pass.cc:507] ROCm Fusion is enabled.\n"
     ]
    },
    {
     "name": "stdout",
     "output_type": "stream",
     "text": [
      "90\n"
     ]
    },
    {
     "name": "stderr",
     "output_type": "stream",
     "text": [
      "2022-05-17 00:32:46.822097: I tensorflow/core/common_runtime/gpu_fusion_pass.cc:507] ROCm Fusion is enabled.\n",
      "2022-05-17 00:32:46.826025: I tensorflow/core/common_runtime/gpu_fusion_pass.cc:507] ROCm Fusion is enabled.\n",
      "2022-05-17 00:32:46.828317: I tensorflow/core/common_runtime/gpu_fusion_pass.cc:507] ROCm Fusion is enabled.\n"
     ]
    },
    {
     "name": "stdout",
     "output_type": "stream",
     "text": [
      "85\n"
     ]
    },
    {
     "name": "stderr",
     "output_type": "stream",
     "text": [
      "2022-05-17 00:33:38.364689: I tensorflow/core/common_runtime/gpu_fusion_pass.cc:507] ROCm Fusion is enabled.\n",
      "2022-05-17 00:33:38.368644: I tensorflow/core/common_runtime/gpu_fusion_pass.cc:507] ROCm Fusion is enabled.\n",
      "2022-05-17 00:33:38.370923: I tensorflow/core/common_runtime/gpu_fusion_pass.cc:507] ROCm Fusion is enabled.\n"
     ]
    },
    {
     "name": "stdout",
     "output_type": "stream",
     "text": [
      "75\n"
     ]
    },
    {
     "name": "stderr",
     "output_type": "stream",
     "text": [
      "2022-05-17 00:34:29.835867: I tensorflow/core/common_runtime/gpu_fusion_pass.cc:507] ROCm Fusion is enabled.\n",
      "2022-05-17 00:34:29.839658: I tensorflow/core/common_runtime/gpu_fusion_pass.cc:507] ROCm Fusion is enabled.\n",
      "2022-05-17 00:34:29.842032: I tensorflow/core/common_runtime/gpu_fusion_pass.cc:507] ROCm Fusion is enabled.\n"
     ]
    },
    {
     "name": "stdout",
     "output_type": "stream",
     "text": [
      "50\n"
     ]
    },
    {
     "name": "stderr",
     "output_type": "stream",
     "text": [
      "2022-05-17 00:35:21.472627: I tensorflow/core/common_runtime/gpu_fusion_pass.cc:507] ROCm Fusion is enabled.\n",
      "2022-05-17 00:35:21.476580: I tensorflow/core/common_runtime/gpu_fusion_pass.cc:507] ROCm Fusion is enabled.\n",
      "2022-05-17 00:35:21.478859: I tensorflow/core/common_runtime/gpu_fusion_pass.cc:507] ROCm Fusion is enabled.\n"
     ]
    },
    {
     "name": "stdout",
     "output_type": "stream",
     "text": [
      "25\n"
     ]
    },
    {
     "name": "stderr",
     "output_type": "stream",
     "text": [
      "2022-05-17 00:36:12.899655: I tensorflow/core/common_runtime/gpu_fusion_pass.cc:507] ROCm Fusion is enabled.\n",
      "2022-05-17 00:36:12.903586: I tensorflow/core/common_runtime/gpu_fusion_pass.cc:507] ROCm Fusion is enabled.\n",
      "2022-05-17 00:36:12.905873: I tensorflow/core/common_runtime/gpu_fusion_pass.cc:507] ROCm Fusion is enabled.\n"
     ]
    },
    {
     "name": "stdout",
     "output_type": "stream",
     "text": [
      "15\n"
     ]
    },
    {
     "name": "stderr",
     "output_type": "stream",
     "text": [
      "2022-05-17 00:37:04.139665: I tensorflow/core/common_runtime/gpu_fusion_pass.cc:507] ROCm Fusion is enabled.\n",
      "2022-05-17 00:37:04.143464: I tensorflow/core/common_runtime/gpu_fusion_pass.cc:507] ROCm Fusion is enabled.\n",
      "2022-05-17 00:37:04.145774: I tensorflow/core/common_runtime/gpu_fusion_pass.cc:507] ROCm Fusion is enabled.\n"
     ]
    },
    {
     "name": "stdout",
     "output_type": "stream",
     "text": [
      "10\n"
     ]
    },
    {
     "name": "stderr",
     "output_type": "stream",
     "text": [
      "2022-05-17 00:37:55.425788: I tensorflow/core/common_runtime/gpu_fusion_pass.cc:507] ROCm Fusion is enabled.\n",
      "2022-05-17 00:37:55.429765: I tensorflow/core/common_runtime/gpu_fusion_pass.cc:507] ROCm Fusion is enabled.\n",
      "2022-05-17 00:37:55.432074: I tensorflow/core/common_runtime/gpu_fusion_pass.cc:507] ROCm Fusion is enabled.\n"
     ]
    },
    {
     "name": "stdout",
     "output_type": "stream",
     "text": [
      "5\n"
     ]
    },
    {
     "name": "stderr",
     "output_type": "stream",
     "text": [
      "2022-05-17 00:38:46.506757: I tensorflow/core/common_runtime/gpu_fusion_pass.cc:507] ROCm Fusion is enabled.\n",
      "2022-05-17 00:38:46.510895: I tensorflow/core/common_runtime/gpu_fusion_pass.cc:507] ROCm Fusion is enabled.\n",
      "2022-05-17 00:38:46.513248: I tensorflow/core/common_runtime/gpu_fusion_pass.cc:507] ROCm Fusion is enabled.\n"
     ]
    },
    {
     "name": "stdout",
     "output_type": "stream",
     "text": [
      "1\n"
     ]
    },
    {
     "name": "stderr",
     "output_type": "stream",
     "text": [
      "2022-05-17 00:39:37.654796: I tensorflow/core/common_runtime/gpu_fusion_pass.cc:507] ROCm Fusion is enabled.\n",
      "2022-05-17 00:39:37.658644: I tensorflow/core/common_runtime/gpu_fusion_pass.cc:507] ROCm Fusion is enabled.\n",
      "2022-05-17 00:39:37.660967: I tensorflow/core/common_runtime/gpu_fusion_pass.cc:507] ROCm Fusion is enabled.\n"
     ]
    },
    {
     "name": "stdout",
     "output_type": "stream",
     "text": [
      "0\n"
     ]
    },
    {
     "name": "stderr",
     "output_type": "stream",
     "text": [
      "2022-05-17 00:40:06.221579: I tensorflow/core/common_runtime/gpu_fusion_pass.cc:507] ROCm Fusion is enabled.\n",
      "2022-05-17 00:40:06.225363: I tensorflow/core/common_runtime/gpu_fusion_pass.cc:507] ROCm Fusion is enabled.\n",
      "2022-05-17 00:40:06.227664: I tensorflow/core/common_runtime/gpu_fusion_pass.cc:507] ROCm Fusion is enabled.\n",
      "/vast/nj594/xai/helpers/evaluate.py:59: VisibleDeprecationWarning: Creating an ndarray from ragged nested sequences (which is a list-or-tuple of lists-or-tuples-or ndarrays with different lengths or shapes) is deprecated. If you meant to do this, you must specify 'dtype=object' when creating the ndarray\n",
      "  r_ = np.array([[float(p), n] for p,n in r.items()])\n"
     ]
    },
    {
     "name": "stdout",
     "output_type": "stream",
     "text": [
      "{'retro_ex': {'acc': {100: 0.2, 99: 0.1956, 95: 0.196, 90: 0.2036, 85: 0.2044, 75: 0.2076, 50: 0.2288, 25: 0.2484, 15: 0.2692, 10: 0.2832, 5: 0.312, 1: 0.3736, 0: 0.43}, 'auroc': {100: 0.50005, 99: 0.4611878000000001, 95: 0.48927319999999996, 90: 0.5118784, 85: 0.5332056000000001, 75: 0.5698684999999999, 50: 0.6325249000000002, 25: 0.6889727999999999, 15: 0.715313, 10: 0.7339724000000001, 5: 0.7573596, 1: 0.8002098, 0: 0.84102}, 'preds': {100: array([[0.71269345, 0.07373445, 0.16777113, 0.02479381, 0.0210071 ],\n",
      "       [0.71269345, 0.07373445, 0.16777113, 0.02479381, 0.0210071 ],\n",
      "       [0.71269345, 0.07373445, 0.16777113, 0.02479381, 0.0210071 ],\n",
      "       ...,\n",
      "       [0.71269345, 0.07373445, 0.16777113, 0.02479381, 0.0210071 ],\n",
      "       [0.71269345, 0.07373445, 0.16777113, 0.02479381, 0.0210071 ],\n",
      "       [0.71269345, 0.07373445, 0.16777113, 0.02479381, 0.0210071 ]],\n",
      "      dtype=float32), 99: array([[0.71240115, 0.07311054, 0.16591388, 0.02428553, 0.02428894],\n",
      "       [0.7175083 , 0.06477383, 0.16588125, 0.02760506, 0.02423158],\n",
      "       [0.41609907, 0.05037398, 0.3402731 , 0.10305551, 0.09019832],\n",
      "       ...,\n",
      "       [0.69135803, 0.0794372 , 0.18785433, 0.0250819 , 0.01626846],\n",
      "       [0.76851296, 0.07019764, 0.13981704, 0.01404547, 0.00742682],\n",
      "       [0.766223  , 0.06860119, 0.14069776, 0.0146136 , 0.00986433]],\n",
      "      dtype=float32), 95: array([[0.8626037 , 0.05735613, 0.07605102, 0.00302536, 0.00096387],\n",
      "       [0.6826361 , 0.04882769, 0.18968046, 0.0336244 , 0.04523134],\n",
      "       [0.38983926, 0.03370822, 0.250586  , 0.11176762, 0.21409889],\n",
      "       ...,\n",
      "       [0.7319774 , 0.08241366, 0.16911758, 0.01262298, 0.00386845],\n",
      "       [0.7772833 , 0.06472266, 0.1413824 , 0.01146526, 0.00514631],\n",
      "       [0.82496274, 0.04743558, 0.11632553, 0.00828217, 0.00299395]],\n",
      "      dtype=float32), 90: array([[8.6081147e-01, 5.1893339e-02, 8.2087681e-02, 3.6746152e-03,\n",
      "        1.5327785e-03],\n",
      "       [7.1598411e-01, 4.9467817e-02, 1.7920257e-01, 2.4149349e-02,\n",
      "        3.1196248e-02],\n",
      "       [1.3027869e-01, 7.5258627e-03, 1.3366422e-01, 1.0746502e-01,\n",
      "        6.2106615e-01],\n",
      "       ...,\n",
      "       [7.3059744e-01, 9.0729810e-02, 1.6652037e-01, 9.8641710e-03,\n",
      "        2.2881781e-03],\n",
      "       [8.5298932e-01, 5.1245753e-02, 8.8583462e-02, 4.4964058e-03,\n",
      "        2.6851674e-03],\n",
      "       [8.7150484e-01, 4.7211524e-02, 7.7788852e-02, 2.9575417e-03,\n",
      "        5.3720200e-04]], dtype=float32), 85: array([[8.8666892e-01, 5.4385480e-02, 5.7202391e-02, 1.3975376e-03,\n",
      "        3.4567775e-04],\n",
      "       [8.0524510e-01, 4.7524277e-02, 1.2843116e-01, 9.9760946e-03,\n",
      "        8.8233994e-03],\n",
      "       [1.1117507e-01, 6.4938636e-03, 1.8385406e-01, 1.4136526e-01,\n",
      "        5.5711168e-01],\n",
      "       ...,\n",
      "       [6.9438374e-01, 9.4232686e-02, 1.9739921e-01, 1.1693779e-02,\n",
      "        2.2905988e-03],\n",
      "       [8.8816732e-01, 5.0154254e-02, 5.9653714e-02, 1.5367221e-03,\n",
      "        4.8801588e-04],\n",
      "       [8.9628667e-01, 4.4334389e-02, 5.7601705e-02, 1.5583951e-03,\n",
      "        2.1881185e-04]], dtype=float32), 75: array([[9.00890648e-01, 5.91468997e-02, 3.92857566e-02, 5.74357400e-04,\n",
      "        1.02351369e-04],\n",
      "       [8.76219630e-01, 3.65486220e-02, 8.00416023e-02, 3.46762640e-03,\n",
      "        3.72251635e-03],\n",
      "       [2.29743004e-01, 1.11931795e-02, 2.06550956e-01, 9.80591029e-02,\n",
      "        4.54453737e-01],\n",
      "       ...,\n",
      "       [7.40144074e-01, 9.38916430e-02, 1.56910703e-01, 7.51394639e-03,\n",
      "        1.53964874e-03],\n",
      "       [9.39829290e-01, 3.66102606e-02, 2.32647005e-02, 2.41607471e-04,\n",
      "        5.40962501e-05],\n",
      "       [9.13638532e-01, 4.78383712e-02, 3.78389098e-02, 6.06380752e-04,\n",
      "        7.77705427e-05]], dtype=float32), 50: array([[9.4583213e-01, 4.4340003e-02, 9.7737880e-03, 4.5405544e-05,\n",
      "        8.5466036e-06],\n",
      "       [9.3806207e-01, 2.9134687e-02, 3.2295641e-02, 3.3686843e-04,\n",
      "        1.7069087e-04],\n",
      "       [1.3450979e-01, 3.0634860e-02, 4.8528022e-01, 8.7570645e-02,\n",
      "        2.6200449e-01],\n",
      "       ...,\n",
      "       [6.0541254e-01, 9.8036058e-02, 2.8082851e-01, 1.3089304e-02,\n",
      "        2.6335465e-03],\n",
      "       [9.6889180e-01, 2.3344511e-02, 7.7070105e-03, 4.0746625e-05,\n",
      "        1.5984144e-05],\n",
      "       [8.9860874e-01, 6.4345978e-02, 3.6502276e-02, 4.5792578e-04,\n",
      "        8.5140317e-05]], dtype=float32), 25: array([[9.3493772e-01, 5.4633286e-02, 1.0389300e-02, 3.4400466e-05,\n",
      "        5.3264862e-06],\n",
      "       [9.3886906e-01, 2.9414756e-02, 3.1453464e-02, 1.9010020e-04,\n",
      "        7.2659706e-05],\n",
      "       [2.1082288e-01, 5.2353945e-02, 5.2046114e-01, 5.3089608e-02,\n",
      "        1.6327238e-01],\n",
      "       ...,\n",
      "       [6.6383952e-01, 8.6251952e-02, 2.3947363e-01, 7.9296455e-03,\n",
      "        2.5053206e-03],\n",
      "       [9.7464401e-01, 1.9213652e-02, 6.1076381e-03, 2.1584428e-05,\n",
      "        1.3084603e-05],\n",
      "       [8.9361197e-01, 7.2265655e-02, 3.3625670e-02, 3.6858520e-04,\n",
      "        1.2816669e-04]], dtype=float32), 15: array([[9.1832882e-01, 6.7334801e-02, 1.4283136e-02, 4.6716814e-05,\n",
      "        6.4514934e-06],\n",
      "       [9.2912018e-01, 3.2447744e-02, 3.8139489e-02, 2.0997312e-04,\n",
      "        8.2624407e-05],\n",
      "       [2.4658716e-01, 6.2236082e-02, 5.2332133e-01, 4.2919822e-02,\n",
      "        1.2493553e-01],\n",
      "       ...,\n",
      "       [6.4902425e-01, 8.5239142e-02, 2.5424221e-01, 8.5437112e-03,\n",
      "        2.9506767e-03],\n",
      "       [9.6766508e-01, 2.3672719e-02, 8.6087408e-03, 3.3115513e-05,\n",
      "        2.0320707e-05],\n",
      "       [9.1099721e-01, 6.4630233e-02, 2.4049386e-02, 2.2374617e-04,\n",
      "        9.9333352e-05]], dtype=float32), 10: array([[9.1850197e-01, 6.8437822e-02, 1.3019999e-02, 3.5524681e-05,\n",
      "        4.7087856e-06],\n",
      "       [9.2443693e-01, 3.4336932e-02, 4.0913697e-02, 2.2016167e-04,\n",
      "        9.2213784e-05],\n",
      "       [2.3445636e-01, 6.1763991e-02, 5.7035929e-01, 4.1027933e-02,\n",
      "        9.2392445e-02],\n",
      "       ...,\n",
      "       [6.4070261e-01, 7.7240631e-02, 2.6840478e-01, 9.4345594e-03,\n",
      "        4.2174989e-03],\n",
      "       [9.7468311e-01, 2.0171897e-02, 5.1188003e-03, 1.5227701e-05,\n",
      "        1.1032577e-05],\n",
      "       [8.9810896e-01, 7.3120512e-02, 2.8419327e-02, 2.5640722e-04,\n",
      "        9.4741488e-05]], dtype=float32), 5: array([[9.1383243e-01, 7.3515750e-02, 1.2619488e-02, 2.8926608e-05,\n",
      "        3.4436860e-06],\n",
      "       [9.0902656e-01, 3.9390948e-02, 5.1213976e-02, 2.7235979e-04,\n",
      "        9.6269141e-05],\n",
      "       [1.7341889e-01, 4.5099709e-02, 6.2598050e-01, 5.6044497e-02,\n",
      "        9.9456459e-02],\n",
      "       ...,\n",
      "       [5.5575669e-01, 7.4021056e-02, 3.5031033e-01, 1.3750465e-02,\n",
      "        6.1614709e-03],\n",
      "       [9.6668774e-01, 2.4943141e-02, 8.3193611e-03, 2.9728108e-05,\n",
      "        1.9954168e-05],\n",
      "       [8.9660746e-01, 7.3946714e-02, 2.9108621e-02, 2.4972903e-04,\n",
      "        8.7518449e-05]], dtype=float32), 1: array([[9.0006590e-01, 8.3253801e-02, 1.6633321e-02, 4.2170152e-05,\n",
      "        4.8521551e-06],\n",
      "       [9.0970874e-01, 4.0758368e-02, 4.9230743e-02, 2.3257024e-04,\n",
      "        6.9669462e-05],\n",
      "       [2.4542434e-02, 1.9234085e-02, 6.4686841e-01, 1.2900560e-01,\n",
      "        1.8034956e-01],\n",
      "       ...,\n",
      "       [5.4630536e-01, 6.6862509e-02, 3.6339542e-01, 1.5794856e-02,\n",
      "        7.6417807e-03],\n",
      "       [9.7387141e-01, 2.0642458e-02, 5.4561752e-03, 1.6680910e-05,\n",
      "        1.3380244e-05],\n",
      "       [9.0156066e-01, 7.2053500e-02, 2.6090052e-02, 2.1391601e-04,\n",
      "        8.1931677e-05]], dtype=float32), 0: array([[8.93752098e-01, 8.83543417e-02, 1.78448595e-02, 4.39195537e-05,\n",
      "        4.84293469e-06],\n",
      "       [9.08368826e-01, 4.09528874e-02, 5.03622368e-02, 2.39651723e-04,\n",
      "        7.64532961e-05],\n",
      "       [1.27890427e-02, 1.67057589e-02, 6.70378923e-01, 1.46436870e-01,\n",
      "        1.53689399e-01],\n",
      "       ...,\n",
      "       [1.77840471e-01, 4.10715304e-02, 7.09612131e-01, 5.46135008e-02,\n",
      "        1.68623831e-02],\n",
      "       [9.32725132e-01, 4.54182513e-02, 2.16827337e-02, 1.02160004e-04,\n",
      "        7.17712683e-05],\n",
      "       [8.97488832e-01, 7.47329444e-02, 2.74771824e-02, 2.18378118e-04,\n",
      "        8.27192562e-05]], dtype=float32)}, 'log_likelihood': {100: -2.458239895105362, 99: -2.4420240480720996, 95: -2.5851587044686077, 90: -2.667580682772398, 85: -2.687578906182945, 75: -2.682036884817481, 50: -2.5724224071413277, 25: -2.421501925745979, 15: -2.3064884251981974, 10: -2.196385927157663, 5: -2.0235355611171575, 1: -1.7203760644376278, 0: -1.4965153186095879}, 'log_odds': {100: -2.1474829, 99: -2.1649778, 95: -2.2952437, 90: -2.3509412, 85: -2.3519025, 75: -2.3110487, 50: -2.1330194, 25: -1.8986967, 15: -1.7353066, 10: -1.5883992, 5: -1.3600305, 1: -0.9477824, 0: -0.6110032}, 'AUC_acc': 0.2371, 'AUC_auroc': 0.6286986535, 'AUC_preds': array([[9.1035211e-01, 5.6750905e-02, 3.0735312e-02, 1.2815343e-03,\n",
      "        8.8019774e-04],\n",
      "       [8.8466507e-01, 3.6196984e-02, 6.8392865e-02, 5.0532129e-03,\n",
      "        5.6918948e-03],\n",
      "       [1.9578545e-01, 3.3137459e-02, 4.0510124e-01, 8.3798945e-02,\n",
      "        2.8217682e-01],\n",
      "       ...,\n",
      "       [6.5971315e-01, 8.9164130e-02, 2.3673615e-01, 1.1063464e-02,\n",
      "        3.3230858e-03],\n",
      "       [9.3809229e-01, 3.1614944e-02, 2.8187389e-02, 1.3928729e-03,\n",
      "        7.1256905e-04],\n",
      "       [8.9216429e-01, 6.1014563e-02, 4.4756584e-02, 1.4591427e-03,\n",
      "        6.0555380e-04]], dtype=float32), 'AUC_log_likelihood': -2.4852032948167038, 'AUC_log_odds': -2.0295667859911917}, 'retro_in': {'acc': {100: 0.43, 99: 0.434, 95: 0.4536, 90: 0.4708, 85: 0.482, 75: 0.5136, 50: 0.5596, 25: 0.576, 15: 0.5688, 10: 0.5548, 5: 0.5384, 1: 0.37, 0: 0.2}, 'auroc': {100: 0.84102, 99: 0.8478269, 95: 0.8623706, 90: 0.8714057000000001, 85: 0.8785128, 75: 0.8910368, 50: 0.9093252, 25: 0.9155686, 15: 0.9128084, 10: 0.9064492, 5: 0.8901508, 1: 0.8128681999999999, 0: 0.50005}, 'preds': {100: array([[8.93752098e-01, 8.83543417e-02, 1.78448595e-02, 4.39195537e-05,\n",
      "        4.84293469e-06],\n",
      "       [9.08368826e-01, 4.09528874e-02, 5.03622368e-02, 2.39651723e-04,\n",
      "        7.64532961e-05],\n",
      "       [1.27890427e-02, 1.67057589e-02, 6.70378923e-01, 1.46436870e-01,\n",
      "        1.53689399e-01],\n",
      "       ...,\n",
      "       [1.77840471e-01, 4.10715304e-02, 7.09612131e-01, 5.46135008e-02,\n",
      "        1.68623831e-02],\n",
      "       [9.32725132e-01, 4.54182364e-02, 2.16827337e-02, 1.02160004e-04,\n",
      "        7.17712683e-05],\n",
      "       [8.97488832e-01, 7.47329444e-02, 2.74771824e-02, 2.18378118e-04,\n",
      "        8.27192562e-05]], dtype=float32), 99: array([[8.6354196e-01, 1.0476957e-01, 3.1577993e-02, 1.0083241e-04,\n",
      "        9.7053362e-06],\n",
      "       [9.1204572e-01, 3.9481062e-02, 4.8156284e-02, 2.3838543e-04,\n",
      "        7.8546494e-05],\n",
      "       [1.1194322e-02, 1.5994778e-02, 6.7209095e-01, 1.4526722e-01,\n",
      "        1.5545274e-01],\n",
      "       ...,\n",
      "       [1.7646493e-01, 3.9739121e-02, 7.0759869e-01, 5.7768028e-02,\n",
      "        1.8429255e-02],\n",
      "       [9.3244594e-01, 4.5430213e-02, 2.1943992e-02, 1.0466747e-04,\n",
      "        7.5202232e-05],\n",
      "       [8.9262772e-01, 7.7610657e-02, 2.9431276e-02, 2.3983575e-04,\n",
      "        9.0594367e-05]], dtype=float32), 95: array([[8.40149105e-01, 1.17440544e-01, 4.22412083e-02, 1.55823247e-04,\n",
      "        1.33458016e-05],\n",
      "       [9.09215152e-01, 3.99763845e-02, 5.03900796e-02, 3.07791255e-04,\n",
      "        1.10682646e-04],\n",
      "       [7.59929605e-03, 1.29414294e-02, 6.85641527e-01, 1.57171026e-01,\n",
      "        1.36646748e-01],\n",
      "       ...,\n",
      "       [1.60324410e-01, 3.71312164e-02, 7.14307964e-01, 6.53211698e-02,\n",
      "        2.29152441e-02],\n",
      "       [9.28658843e-01, 4.66016605e-02, 2.45232172e-02, 1.33546651e-04,\n",
      "        8.27675685e-05],\n",
      "       [8.80322099e-01, 8.28963816e-02, 3.63145769e-02, 3.43395252e-04,\n",
      "        1.23542006e-04]], dtype=float32), 90: array([[8.1190926e-01, 1.2897462e-01, 5.8810886e-02, 2.8008339e-04,\n",
      "        2.5141722e-05],\n",
      "       [9.2352289e-01, 3.6469258e-02, 3.9695323e-02, 2.3049030e-04,\n",
      "        8.1982667e-05],\n",
      "       [3.6516662e-03, 7.4750045e-03, 6.4405334e-01, 2.0819566e-01,\n",
      "        1.3662434e-01],\n",
      "       ...,\n",
      "       [1.4745623e-01, 3.3970114e-02, 7.2051316e-01, 7.1846701e-02,\n",
      "        2.6213698e-02],\n",
      "       [9.1555882e-01, 5.3111520e-02, 3.1019274e-02, 2.0261733e-04,\n",
      "        1.0770093e-04],\n",
      "       [8.7172711e-01, 8.5436374e-02, 4.2224258e-02, 4.5262460e-04,\n",
      "        1.5964272e-04]], dtype=float32), 85: array([[7.9573005e-01, 1.3415891e-01, 6.9729827e-02, 3.5528428e-04,\n",
      "        2.5898595e-05],\n",
      "       [9.5338601e-01, 2.6336350e-02, 2.0152668e-02, 9.0366993e-05,\n",
      "        3.4710774e-05],\n",
      "       [1.8487822e-03, 5.8071441e-03, 6.4421058e-01, 2.2298473e-01,\n",
      "        1.2514883e-01],\n",
      "       ...,\n",
      "       [1.4383622e-01, 3.1937856e-02, 7.0527560e-01, 8.2117490e-02,\n",
      "        3.6832828e-02],\n",
      "       [8.9816463e-01, 5.7098493e-02, 4.4198807e-02, 3.5923359e-04,\n",
      "        1.7877747e-04],\n",
      "       [8.5321385e-01, 9.4376720e-02, 5.1641732e-02, 5.8173889e-04,\n",
      "        1.8594343e-04]], dtype=float32), 75: array([[7.51243353e-01, 1.43115863e-01, 1.04762286e-01, 8.12880811e-04,\n",
      "        6.56591510e-05],\n",
      "       [9.36369956e-01, 3.14478911e-02, 3.19129191e-02, 2.10233236e-04,\n",
      "        5.89607771e-05],\n",
      "       [1.18597446e-03, 4.09669150e-03, 6.03553355e-01, 2.72730470e-01,\n",
      "        1.18433490e-01],\n",
      "       ...,\n",
      "       [1.25355214e-01, 2.47903019e-02, 6.84584975e-01, 1.05698742e-01,\n",
      "        5.95707558e-02],\n",
      "       [8.23388040e-01, 7.73153901e-02, 9.75589901e-02, 1.22412422e-03,\n",
      "        5.13481093e-04],\n",
      "       [8.68694663e-01, 8.09427127e-02, 4.94661964e-02, 6.92152185e-04,\n",
      "        2.04290365e-04]], dtype=float32), 50: array([[4.4560727e-01, 1.3225962e-01, 4.0926149e-01, 1.2011522e-02,\n",
      "        8.5997750e-04],\n",
      "       [8.8875580e-01, 3.7727498e-02, 7.1165547e-02, 1.6291322e-03,\n",
      "        7.2193443e-04],\n",
      "       [7.1089127e-04, 4.2860061e-03, 4.8068705e-01, 3.2539737e-01,\n",
      "        1.8891871e-01],\n",
      "       ...,\n",
      "       [1.1523894e-01, 1.7784160e-02, 5.6914061e-01, 1.5735087e-01,\n",
      "        1.4048536e-01],\n",
      "       [8.0513036e-01, 7.2170585e-02, 1.1881729e-01, 2.6123067e-03,\n",
      "        1.2695561e-03],\n",
      "       [8.5157412e-01, 8.2541659e-02, 6.4494513e-02, 1.1143419e-03,\n",
      "        2.7528076e-04]], dtype=float32), 25: array([[6.62412465e-01, 1.25905707e-01, 2.07169712e-01, 4.32959013e-03,\n",
      "        1.82484669e-04],\n",
      "       [8.09940994e-01, 4.14524823e-02, 1.31912857e-01, 9.58320964e-03,\n",
      "        7.11051747e-03],\n",
      "       [5.26050047e-04, 2.21990468e-03, 3.29964489e-01, 4.27674681e-01,\n",
      "        2.39614859e-01],\n",
      "       ...,\n",
      "       [1.06979996e-01, 1.50528746e-02, 4.44044828e-01, 2.12234333e-01,\n",
      "        2.21688002e-01],\n",
      "       [5.20731926e-01, 7.73931518e-02, 3.47250074e-01, 3.85531671e-02,\n",
      "        1.60716642e-02],\n",
      "       [8.04450512e-01, 7.59850070e-02, 1.14682592e-01, 4.02374053e-03,\n",
      "        8.58055078e-04]], dtype=float32), 15: array([[7.08767951e-01, 1.13042645e-01, 1.74069807e-01, 3.91712692e-03,\n",
      "        2.02501964e-04],\n",
      "       [7.96962023e-01, 4.17268388e-02, 1.37441352e-01, 1.37702283e-02,\n",
      "        1.00995060e-02],\n",
      "       [4.25426377e-04, 1.77245028e-03, 2.70081609e-01, 4.55823481e-01,\n",
      "        2.71897018e-01],\n",
      "       ...,\n",
      "       [1.11121118e-01, 1.48356538e-02, 4.14918572e-01, 2.26633042e-01,\n",
      "        2.32491612e-01],\n",
      "       [4.85980868e-01, 6.61416650e-02, 3.58924389e-01, 5.52463345e-02,\n",
      "        3.37067433e-02],\n",
      "       [7.58400977e-01, 7.72934407e-02, 1.54745042e-01, 7.85769150e-03,\n",
      "        1.70282798e-03]], dtype=float32), 10: array([[6.8581718e-01, 9.5989577e-02, 2.0960914e-01, 7.9919137e-03,\n",
      "        5.9225282e-04],\n",
      "       [7.8031290e-01, 4.4982865e-02, 1.4474665e-01, 1.7748304e-02,\n",
      "        1.2209255e-02],\n",
      "       [2.1139444e-04, 7.8892615e-04, 1.6934504e-01, 4.4863674e-01,\n",
      "        3.8101786e-01],\n",
      "       ...,\n",
      "       [1.6886929e-01, 2.3509786e-02, 4.0832999e-01, 2.0223415e-01,\n",
      "        1.9705679e-01],\n",
      "       [3.7842280e-01, 5.6432035e-02, 4.2510116e-01, 9.1451466e-02,\n",
      "        4.8592579e-02],\n",
      "       [7.9422438e-01, 7.4296482e-02, 1.2514009e-01, 5.3863819e-03,\n",
      "        9.5274427e-04]], dtype=float32), 5: array([[5.98866463e-01, 7.75911734e-02, 2.90363640e-01, 2.79338621e-02,\n",
      "        5.24487486e-03],\n",
      "       [7.37491786e-01, 5.48125133e-02, 1.75346285e-01, 2.07300764e-02,\n",
      "        1.16193425e-02],\n",
      "       [3.74591647e-04, 1.40555750e-03, 1.48285568e-01, 3.40147018e-01,\n",
      "        5.09787321e-01],\n",
      "       ...,\n",
      "       [2.03732803e-01, 2.60741655e-02, 3.94357502e-01, 1.94281712e-01,\n",
      "        1.81553811e-01],\n",
      "       [3.42429966e-01, 5.57718575e-02, 3.94727081e-01, 1.07207946e-01,\n",
      "        9.98631120e-02],\n",
      "       [8.28991830e-01, 6.62972555e-02, 9.87237617e-02, 4.65406477e-03,\n",
      "        1.33312063e-03]], dtype=float32), 1: array([[0.69490415, 0.07217296, 0.19042946, 0.02755844, 0.01493507],\n",
      "       [0.70400417, 0.06894381, 0.17733648, 0.0259771 , 0.02373851],\n",
      "       [0.04325016, 0.02128719, 0.4743194 , 0.25340432, 0.20773885],\n",
      "       ...,\n",
      "       [0.15371856, 0.02166842, 0.4318188 , 0.23049328, 0.16230097],\n",
      "       [0.54100794, 0.06433994, 0.2764837 , 0.06381745, 0.05435089],\n",
      "       [0.7059698 , 0.07105934, 0.1747732 , 0.02509742, 0.02310016]],\n",
      "      dtype=float32), 0: array([[0.71269345, 0.07373445, 0.16777113, 0.02479381, 0.0210071 ],\n",
      "       [0.71269345, 0.07373445, 0.16777113, 0.02479381, 0.0210071 ],\n",
      "       [0.71269345, 0.07373445, 0.16777113, 0.02479381, 0.0210071 ],\n",
      "       ...,\n",
      "       [0.71269345, 0.07373445, 0.16777113, 0.02479381, 0.0210071 ],\n",
      "       [0.71269345, 0.07373445, 0.16777113, 0.02479381, 0.0210071 ],\n",
      "       [0.71269345, 0.07373445, 0.16777113, 0.02479381, 0.0210071 ]],\n",
      "      dtype=float32)}, 'log_likelihood': {100: -1.4965153186095879, 99: -1.4709888124214485, 95: -1.394664645427093, 90: -1.338285668348521, 85: -1.2903266404265539, 75: -1.2124185222698376, 50: -1.1054527745534666, 25: -1.0727341742713004, 15: -1.0871898579147645, 10: -1.119500893041864, 5: -1.1829256559714676, 1: -1.4777386336266995, 0: -2.458239895105362}, 'log_odds': {100: -0.6110032, 99: -0.5588612, 95: -0.44134283, 90: -0.35999662, 85: -0.2931311, 75: -0.1824162, 50: -0.05500585, 25: -0.071085446, 15: -0.15471463, 10: -0.25716308, 5: -0.44123223, 1: -0.9732085, 0: -2.1474829}, 'AUC_acc': 0.5285599999999999, 'AUC_auroc': 0.8938152705, 'AUC_preds': array([[0.65826434, 0.12394244, 0.21005493, 0.00671655, 0.00102172],\n",
      "       [0.86686957, 0.03891634, 0.08438867, 0.00578688, 0.00403847],\n",
      "       [0.00618839, 0.00518844, 0.46315694, 0.32087472, 0.20459148],\n",
      "       ...,\n",
      "       [0.1334963 , 0.02275406, 0.56301427, 0.15112205, 0.12961319],\n",
      "       [0.707276  , 0.06778366, 0.1878604 , 0.02292012, 0.01415983],\n",
      "       [0.8347976 , 0.08013246, 0.08085497, 0.00301215, 0.00120278]],\n",
      "      dtype=float32), 'AUC_log_likelihood': -1.1869515067608973, 'AUC_log_odds': -0.21437071602791546}, 'pro_ex': {'acc': {100: 0.2, 99: 0.2152, 95: 0.2744, 90: 0.3, 85: 0.3104, 75: 0.3108, 50: 0.3164, 25: 0.3176, 15: 0.3268, 10: 0.3336, 5: 0.348, 1: 0.3876, 0: 0.43}, 'auroc': {100: 0.50005, 99: 0.5499145999999999, 95: 0.6445464, 90: 0.6770044000000001, 85: 0.6956952000000001, 75: 0.7203446, 50: 0.7462335, 25: 0.7684378, 15: 0.7783735999999999, 10: 0.7858459999999999, 5: 0.7956192000000001, 1: 0.8183767999999999, 0: 0.84102}, 'preds': {100: array([[0.71269345, 0.07373445, 0.16777113, 0.02479381, 0.0210071 ],\n",
      "       [0.71269345, 0.07373445, 0.16777113, 0.02479381, 0.0210071 ],\n",
      "       [0.71269345, 0.07373445, 0.16777113, 0.02479381, 0.0210071 ],\n",
      "       ...,\n",
      "       [0.71269345, 0.07373445, 0.16777113, 0.02479381, 0.0210071 ],\n",
      "       [0.71269345, 0.07373445, 0.16777113, 0.02479381, 0.0210071 ],\n",
      "       [0.71269345, 0.07373445, 0.16777113, 0.02479381, 0.0210071 ]],\n",
      "      dtype=float32), 99: array([[0.6295342 , 0.05731941, 0.22987841, 0.04782311, 0.03544491],\n",
      "       [0.69297695, 0.05996582, 0.17523389, 0.03348741, 0.03833592],\n",
      "       [0.5270097 , 0.05577152, 0.27364877, 0.07199308, 0.07157693],\n",
      "       ...,\n",
      "       [0.70421636, 0.07829344, 0.18099946, 0.02261843, 0.01387229],\n",
      "       [0.7342854 , 0.07217584, 0.15922014, 0.02051008, 0.01380853],\n",
      "       [0.7085272 , 0.06337063, 0.15556492, 0.02756331, 0.04497388]],\n",
      "      dtype=float32), 95: array([[0.7064665 , 0.07165992, 0.2044462 , 0.01487558, 0.00255189],\n",
      "       [0.6571366 , 0.04345866, 0.1584513 , 0.03994504, 0.1010084 ],\n",
      "       [0.6347984 , 0.06103847, 0.22753708, 0.04110504, 0.03552092],\n",
      "       ...,\n",
      "       [0.72917664, 0.08047592, 0.17241749, 0.01352656, 0.00440335],\n",
      "       [0.80056816, 0.05340096, 0.1177328 , 0.01257684, 0.01572127],\n",
      "       [0.79891795, 0.06526625, 0.12230106, 0.00820564, 0.00530911]],\n",
      "      dtype=float32), 90: array([[7.8733593e-01, 7.5975098e-02, 1.3191466e-01, 4.3019028e-03,\n",
      "        4.7227854e-04],\n",
      "       [3.5807604e-01, 3.2507591e-02, 3.4374017e-01, 1.4294149e-01,\n",
      "        1.2273467e-01],\n",
      "       [4.7681248e-01, 5.9222776e-02, 3.2667500e-01, 7.3869459e-02,\n",
      "        6.3420244e-02],\n",
      "       ...,\n",
      "       [7.2477466e-01, 8.8755250e-02, 1.7215905e-01, 1.1412107e-02,\n",
      "        2.8989709e-03],\n",
      "       [8.6984193e-01, 4.7489751e-02, 7.4484393e-02, 4.5575262e-03,\n",
      "        3.6263864e-03],\n",
      "       [7.7581668e-01, 6.8139143e-02, 1.3868722e-01, 1.0513339e-02,\n",
      "        6.8436656e-03]], dtype=float32), 85: array([[6.24030113e-01, 9.15399417e-02, 2.72236198e-01, 1.13516124e-02,\n",
      "        8.42072768e-04],\n",
      "       [3.89805675e-01, 3.31885554e-02, 3.35861683e-01, 1.20444961e-01,\n",
      "        1.20699145e-01],\n",
      "       [5.25225580e-01, 6.09901585e-02, 3.08727026e-01, 5.68114929e-02,\n",
      "        4.82456684e-02],\n",
      "       ...,\n",
      "       [7.20599711e-01, 9.03990120e-02, 1.75886974e-01, 1.06391851e-02,\n",
      "        2.47516995e-03],\n",
      "       [8.95082831e-01, 4.34351116e-02, 5.72172962e-02, 2.35097134e-03,\n",
      "        1.91372726e-03],\n",
      "       [8.30070436e-01, 6.45169020e-02, 9.98716205e-02, 4.06495435e-03,\n",
      "        1.47606118e-03]], dtype=float32), 75: array([[4.2358133e-01, 9.3081594e-02, 4.5923489e-01, 2.2702435e-02,\n",
      "        1.3997013e-03],\n",
      "       [5.0231957e-01, 4.7198962e-02, 3.3664727e-01, 6.7234196e-02,\n",
      "        4.6599999e-02],\n",
      "       [2.7815968e-01, 2.3481702e-02, 4.0220752e-01, 1.1751408e-01,\n",
      "        1.7863698e-01],\n",
      "       ...,\n",
      "       [5.7151747e-01, 8.2549423e-02, 3.1002367e-01, 2.7824510e-02,\n",
      "        8.0849268e-03],\n",
      "       [9.3833530e-01, 3.6005571e-02, 2.5097568e-02, 3.7653494e-04,\n",
      "        1.8505316e-04],\n",
      "       [8.2346368e-01, 6.4577766e-02, 1.0514108e-01, 4.8354529e-03,\n",
      "        1.9820258e-03]], dtype=float32), 50: array([[4.8901400e-01, 1.2220314e-01, 3.7372562e-01, 1.3461682e-02,\n",
      "        1.5955692e-03],\n",
      "       [6.2025642e-01, 5.1745210e-02, 2.9489794e-01, 2.0821430e-02,\n",
      "        1.2278976e-02],\n",
      "       [4.8966488e-01, 3.2954447e-02, 3.5851985e-01, 4.4582520e-02,\n",
      "        7.4278310e-02],\n",
      "       ...,\n",
      "       [6.7410612e-01, 8.2489908e-02, 2.2924545e-01, 1.0841520e-02,\n",
      "        3.3170080e-03],\n",
      "       [9.5233417e-01, 3.0988498e-02, 1.6433168e-02, 1.5996669e-04,\n",
      "        8.4248779e-05],\n",
      "       [8.6989409e-01, 7.1116835e-02, 5.7305682e-02, 1.2491449e-03,\n",
      "        4.3421509e-04]], dtype=float32), 25: array([[7.70277739e-01, 1.38470113e-01, 9.06252936e-02, 5.88235795e-04,\n",
      "        3.86265310e-05],\n",
      "       [8.59267175e-01, 4.54811342e-02, 9.31800604e-02, 1.39619142e-03,\n",
      "        6.75485760e-04],\n",
      "       [6.23147488e-01, 3.94566283e-02, 2.89401799e-01, 1.94847174e-02,\n",
      "        2.85094120e-02],\n",
      "       ...,\n",
      "       [6.35282278e-01, 8.39912221e-02, 2.65212417e-01, 1.13295475e-02,\n",
      "        4.18454409e-03],\n",
      "       [9.76066351e-01, 1.83944423e-02, 5.49744070e-03, 2.25896965e-05,\n",
      "        1.91959953e-05],\n",
      "       [8.79639387e-01, 7.63800666e-02, 4.32684161e-02, 5.45189832e-04,\n",
      "        1.66972226e-04]], dtype=float32), 15: array([[8.26104164e-01, 1.18903577e-01, 5.47142625e-02, 2.56245403e-04,\n",
      "        2.17083416e-05],\n",
      "       [8.49956632e-01, 4.65849303e-02, 1.01784401e-01, 1.17345189e-03,\n",
      "        5.00490423e-04],\n",
      "       [6.33061707e-01, 4.18029763e-02, 2.86100209e-01, 1.51642505e-02,\n",
      "        2.38708984e-02],\n",
      "       ...,\n",
      "       [6.97104752e-01, 7.13204220e-02, 2.19076008e-01, 8.20715073e-03,\n",
      "        4.29171603e-03],\n",
      "       [9.77347970e-01, 1.79593954e-02, 4.66737757e-03, 1.43074349e-05,\n",
      "        1.09913162e-05],\n",
      "       [9.00653780e-01, 6.84425756e-02, 3.04869134e-02, 3.06923786e-04,\n",
      "        1.09875422e-04]], dtype=float32), 10: array([[8.33767831e-01, 1.17705025e-01, 4.83001731e-02, 2.07807490e-04,\n",
      "        1.91491708e-05],\n",
      "       [8.63923192e-01, 4.59413119e-02, 8.89402404e-02, 8.60575936e-04,\n",
      "        3.34627461e-04],\n",
      "       [6.53807461e-01, 4.32901941e-02, 2.60512233e-01, 1.44728031e-02,\n",
      "        2.79174056e-02],\n",
      "       ...,\n",
      "       [6.51222825e-01, 6.64391145e-02, 2.66697198e-01, 1.03092967e-02,\n",
      "        5.33155864e-03],\n",
      "       [9.75594223e-01, 1.92564670e-02, 5.12290141e-03, 1.52488547e-05,\n",
      "        1.11841273e-05],\n",
      "       [8.80726397e-01, 8.00097510e-02, 3.87046374e-02, 4.14681475e-04,\n",
      "        1.44429941e-04]], dtype=float32), 5: array([[8.39754224e-01, 1.17535122e-01, 4.25393544e-02, 1.57831106e-04,\n",
      "        1.33968852e-05],\n",
      "       [8.97088170e-01, 4.17609885e-02, 6.06299601e-02, 3.81940597e-04,\n",
      "        1.38898788e-04],\n",
      "       [1.14169985e-01, 3.32189687e-02, 6.97902322e-01, 7.23007247e-02,\n",
      "        8.24079588e-02],\n",
      "       ...,\n",
      "       [5.66080391e-01, 7.16832802e-02, 3.41972440e-01, 1.36768250e-02,\n",
      "        6.58704108e-03],\n",
      "       [9.73169029e-01, 2.12397315e-02, 5.55949239e-03, 1.76303420e-05,\n",
      "        1.41838445e-05],\n",
      "       [8.85315895e-01, 7.94832706e-02, 3.47527713e-02, 3.27363407e-04,\n",
      "        1.20669400e-04]], dtype=float32), 1: array([[8.7506104e-01, 9.9613205e-02, 2.5245296e-02, 7.2892952e-05,\n",
      "        7.6257343e-06],\n",
      "       [9.0360713e-01, 4.1689090e-02, 5.4341760e-02, 2.7355380e-04,\n",
      "        8.8573091e-05],\n",
      "       [1.9817090e-02, 2.4969025e-02, 6.9600260e-01, 1.2381795e-01,\n",
      "        1.3539341e-01],\n",
      "       ...,\n",
      "       [5.4630536e-01, 6.6862509e-02, 3.6339548e-01, 1.5794856e-02,\n",
      "        7.6417807e-03],\n",
      "       [9.7411591e-01, 2.0586280e-02, 5.2691451e-03, 1.6038894e-05,\n",
      "        1.2601049e-05],\n",
      "       [8.9523166e-01, 7.5858802e-02, 2.8584570e-02, 2.3477613e-04,\n",
      "        9.0182373e-05]], dtype=float32), 0: array([[8.93752098e-01, 8.83543417e-02, 1.78448595e-02, 4.39195537e-05,\n",
      "        4.84293469e-06],\n",
      "       [9.08368826e-01, 4.09528874e-02, 5.03622368e-02, 2.39651723e-04,\n",
      "        7.64532961e-05],\n",
      "       [1.27890427e-02, 1.67057589e-02, 6.70378923e-01, 1.46436870e-01,\n",
      "        1.53689399e-01],\n",
      "       ...,\n",
      "       [1.77840471e-01, 4.10715304e-02, 7.09612131e-01, 5.46135008e-02,\n",
      "        1.68623831e-02],\n",
      "       [9.32725132e-01, 4.54182513e-02, 2.16827337e-02, 1.02160004e-04,\n",
      "        7.17712683e-05],\n",
      "       [8.97488832e-01, 7.47329444e-02, 2.74771824e-02, 2.18378118e-04,\n",
      "        8.27192562e-05]], dtype=float32)}, 'log_likelihood': {100: -2.458239895105362, 99: -2.2066109687268733, 95: -1.9844980330765247, 90: -1.9463612691394985, 85: -1.9357028721995653, 75: -1.9223036978811026, 50: -1.9195857317700982, 25: -1.9132145181003959, 15: -1.8868994312390686, 10: -1.8562337438395247, 5: -1.7950630806799979, 1: -1.6292669054031372, 0: -1.4965153186095879}, 'log_odds': {100: -2.1474829, 99: -1.8982083, 95: -1.5962974, 90: -1.5031172, 85: -1.459322, 75: -1.4043174, 50: -1.3449329, 25: -1.2755907, 15: -1.2156537, 10: -1.1578329, 5: -1.0612488, 1: -0.8206305, 0: -0.6110032}, 'AUC_acc': 0.314768, 'AUC_auroc': 0.7365130620000001, 'AUC_preds': array([[0.6362212 , 0.10978714, 0.24160948, 0.01053545, 0.00184677],\n",
      "       [0.66538393, 0.04601046, 0.22009051, 0.03631106, 0.03220405],\n",
      "       [0.4745492 , 0.03880025, 0.35470977, 0.05579041, 0.07615036],\n",
      "       ...,\n",
      "       [0.6488465 , 0.08070587, 0.25068706, 0.01464341, 0.00511722],\n",
      "       [0.9365633 , 0.03148267, 0.02869179, 0.00172026, 0.00154206],\n",
      "       [0.85208344, 0.07056304, 0.07159197, 0.00333219, 0.00242937]],\n",
      "      dtype=float32), 'AUC_log_likelihood': -1.9136880171870039, 'AUC_log_odds': -1.340240787267685}, 'pro_in': {'acc': {100: 0.43, 99: 0.4232, 95: 0.4192, 90: 0.4196, 85: 0.4184, 75: 0.4252, 50: 0.4288, 25: 0.44, 15: 0.4508, 10: 0.446, 5: 0.44, 1: 0.3372, 0: 0.2}, 'auroc': {100: 0.84102, 99: 0.8348920000000002, 95: 0.8282133999999999, 90: 0.8271497999999999, 85: 0.8253286000000001, 75: 0.8245020000000001, 50: 0.8202802, 25: 0.8117185999999998, 15: 0.8047337999999999, 10: 0.7983269999999999, 5: 0.7861290999999999, 1: 0.7481358, 0: 0.50005}, 'preds': {100: array([[8.93752098e-01, 8.83543417e-02, 1.78448595e-02, 4.39195537e-05,\n",
      "        4.84293469e-06],\n",
      "       [9.08368826e-01, 4.09528874e-02, 5.03622368e-02, 2.39651723e-04,\n",
      "        7.64532961e-05],\n",
      "       [1.27890427e-02, 1.67057589e-02, 6.70378923e-01, 1.46436870e-01,\n",
      "        1.53689399e-01],\n",
      "       ...,\n",
      "       [1.77840471e-01, 4.10715304e-02, 7.09612131e-01, 5.46135008e-02,\n",
      "        1.68623831e-02],\n",
      "       [9.32725132e-01, 4.54182513e-02, 2.16827337e-02, 1.02160004e-04,\n",
      "        7.17712683e-05],\n",
      "       [8.97488832e-01, 7.47329444e-02, 2.74771824e-02, 2.18378118e-04,\n",
      "        8.27192562e-05]], dtype=float32), 99: array([[9.09756780e-01, 7.70995840e-02, 1.31121203e-02, 2.83195459e-05,\n",
      "        3.25307974e-06],\n",
      "       [9.07265663e-01, 4.09258530e-02, 5.14627285e-02, 2.58658809e-04,\n",
      "        8.70225122e-05],\n",
      "       [1.15608107e-02, 1.60738733e-02, 6.87791765e-01, 1.44652843e-01,\n",
      "        1.39920741e-01],\n",
      "       ...,\n",
      "       [1.69555828e-01, 3.90630029e-02, 7.13746905e-01, 5.88168278e-02,\n",
      "        1.88174900e-02],\n",
      "       [9.31378126e-01, 4.61404398e-02, 2.23020017e-02, 1.05317755e-04,\n",
      "        7.41678814e-05],\n",
      "       [8.98133218e-01, 7.38228336e-02, 2.77325921e-02, 2.27174693e-04,\n",
      "        8.41997753e-05]], dtype=float32), 95: array([[9.1154748e-01, 7.5317740e-02, 1.3100839e-02, 3.0180518e-05,\n",
      "        3.6764304e-06],\n",
      "       [9.0381646e-01, 4.0147424e-02, 5.5605303e-02, 3.2705587e-04,\n",
      "        1.0380376e-04],\n",
      "       [6.1698388e-03, 9.3199508e-03, 6.2665993e-01, 1.8112102e-01,\n",
      "        1.7672919e-01],\n",
      "       ...,\n",
      "       [1.5764257e-01, 3.7138026e-02, 7.1761775e-01, 6.5261282e-02,\n",
      "        2.2340363e-02],\n",
      "       [9.1657919e-01, 5.1148355e-02, 3.1982373e-02, 1.8459129e-04,\n",
      "        1.0548885e-04],\n",
      "       [8.9782786e-01, 7.3581062e-02, 2.8289771e-02, 2.2657657e-04,\n",
      "        7.4698495e-05]], dtype=float32), 90: array([[9.0297532e-01, 8.0199122e-02, 1.6766803e-02, 5.1766539e-05,\n",
      "        7.0002420e-06],\n",
      "       [9.3724060e-01, 2.9447297e-02, 3.3051301e-02, 1.8939134e-04,\n",
      "        7.1344548e-05],\n",
      "       [5.1739132e-03, 8.1278160e-03, 6.0364956e-01, 1.9664221e-01,\n",
      "        1.8640651e-01],\n",
      "       ...,\n",
      "       [1.5463984e-01, 3.4779400e-02, 7.1747094e-01, 6.9221213e-02,\n",
      "        2.3888662e-02],\n",
      "       [9.0237969e-01, 5.5703029e-02, 4.1460350e-02, 2.9437139e-04,\n",
      "        1.6251400e-04],\n",
      "       [8.8914043e-01, 7.7521719e-02, 3.2960068e-02, 2.8595983e-04,\n",
      "        9.1771202e-05]], dtype=float32), 85: array([[9.17842448e-01, 6.85470402e-02, 1.35606723e-02, 4.32236084e-05,\n",
      "        6.51388154e-06],\n",
      "       [9.50078070e-01, 2.58532297e-02, 2.39082947e-02, 1.17911091e-04,\n",
      "        4.24879654e-05],\n",
      "       [4.53826645e-03, 6.43257704e-03, 5.51949739e-01, 2.11087838e-01,\n",
      "        2.25991637e-01],\n",
      "       ...,\n",
      "       [1.44253239e-01, 3.23532075e-02, 7.11121798e-01, 8.07939172e-02,\n",
      "        3.14778090e-02],\n",
      "       [8.70697975e-01, 6.62542135e-02, 6.23011664e-02, 5.35594590e-04,\n",
      "        2.11067789e-04],\n",
      "       [8.84252489e-01, 7.80294016e-02, 3.72462086e-02, 3.53058625e-04,\n",
      "        1.18805925e-04]], dtype=float32), 75: array([[9.2666000e-01, 6.1210848e-02, 1.2079851e-02, 4.2673393e-05,\n",
      "        6.6866910e-06],\n",
      "       [9.6089667e-01, 2.1054089e-02, 1.7919019e-02, 9.0284317e-05,\n",
      "        3.9836887e-05],\n",
      "       [1.8783796e-03, 3.6715926e-03, 4.6863484e-01, 2.6335356e-01,\n",
      "        2.6246154e-01],\n",
      "       ...,\n",
      "       [1.4305310e-01, 2.8443834e-02, 7.0071113e-01, 8.6977147e-02,\n",
      "        4.0814877e-02],\n",
      "       [8.4357929e-01, 7.1638644e-02, 8.3596721e-02, 8.8873768e-04,\n",
      "        2.9667211e-04],\n",
      "       [8.9261532e-01, 7.3763981e-02, 3.3174243e-02, 3.3699351e-04,\n",
      "        1.0950743e-04]], dtype=float32), 50: array([[9.3960452e-01, 4.8948236e-02, 1.1382678e-02, 5.5436503e-05,\n",
      "        9.1480915e-06],\n",
      "       [9.4865251e-01, 2.3270788e-02, 2.7684545e-02, 2.7733535e-04,\n",
      "        1.1476965e-04],\n",
      "       [6.0285575e-04, 1.1089880e-03, 2.5434104e-01, 3.6209074e-01,\n",
      "        3.8185635e-01],\n",
      "       ...,\n",
      "       [9.3221627e-02, 2.0912986e-02, 6.5937871e-01, 1.4858757e-01,\n",
      "        7.7899106e-02],\n",
      "       [7.7532256e-01, 7.7697091e-02, 1.4313807e-01, 2.8938823e-03,\n",
      "        9.4834599e-04],\n",
      "       [8.7487340e-01, 7.3610790e-02, 5.0621498e-02, 7.5474381e-04,\n",
      "        1.3965975e-04]], dtype=float32), 25: array([[9.0996295e-01, 5.8012012e-02, 3.1514291e-02, 4.2814735e-04,\n",
      "        8.2665530e-05],\n",
      "       [9.0534782e-01, 3.4345254e-02, 5.8403526e-02, 1.4487946e-03,\n",
      "        4.5461813e-04],\n",
      "       [1.7353734e-04, 3.2391495e-04, 1.0764817e-01, 3.5503587e-01,\n",
      "        5.3681850e-01],\n",
      "       ...,\n",
      "       [8.9937940e-02, 1.7357465e-02, 5.7815194e-01, 1.9924718e-01,\n",
      "        1.1530544e-01],\n",
      "       [5.4614216e-01, 9.5164239e-02, 3.3486333e-01, 1.9693436e-02,\n",
      "        4.1368129e-03],\n",
      "       [8.9462310e-01, 5.4872621e-02, 4.9410608e-02, 9.7302720e-04,\n",
      "        1.2062360e-04]], dtype=float32), 15: array([[8.8721371e-01, 5.6007426e-02, 5.5279702e-02, 1.2328452e-03,\n",
      "        2.6646414e-04],\n",
      "       [8.8272148e-01, 4.1762602e-02, 7.2536357e-02, 2.2728220e-03,\n",
      "        7.0667994e-04],\n",
      "       [1.6338212e-04, 2.4651407e-04, 7.6462083e-02, 3.7256852e-01,\n",
      "        5.5055952e-01],\n",
      "       ...,\n",
      "       [1.6473626e-01, 2.8755251e-02, 4.8822775e-01, 1.7905675e-01,\n",
      "        1.3922395e-01],\n",
      "       [2.5884992e-01, 6.9086730e-02, 5.3832465e-01, 1.0547039e-01,\n",
      "        2.8268356e-02],\n",
      "       [8.5819799e-01, 6.3955151e-02, 7.5674079e-02, 1.9436500e-03,\n",
      "        2.2913031e-04]], dtype=float32), 10: array([[8.93215954e-01, 4.95896935e-02, 5.54371998e-02, 1.44652335e-03,\n",
      "        3.10569420e-04],\n",
      "       [8.34798336e-01, 4.80885655e-02, 1.08315505e-01, 5.98530192e-03,\n",
      "        2.81236111e-03],\n",
      "       [1.75874360e-04, 4.12038120e-04, 1.21321045e-01, 4.50047553e-01,\n",
      "        4.28043574e-01],\n",
      "       ...,\n",
      "       [1.82167873e-01, 3.17043066e-02, 4.58720535e-01, 1.87783688e-01,\n",
      "        1.39623553e-01],\n",
      "       [2.71486670e-01, 6.08638041e-02, 5.01540720e-01, 1.16366811e-01,\n",
      "        4.97419797e-02],\n",
      "       [8.39135110e-01, 5.69189079e-02, 9.95160714e-02, 3.89733422e-03,\n",
      "        5.32568083e-04]], dtype=float32), 5: array([[8.6224109e-01, 5.8329739e-02, 7.5524703e-02, 2.9489414e-03,\n",
      "        9.5549115e-04],\n",
      "       [7.1643549e-01, 5.5500105e-02, 1.9303514e-01, 2.2047793e-02,\n",
      "        1.2981405e-02],\n",
      "       [5.3481077e-04, 9.2081394e-04, 1.3322462e-01, 2.2831088e-01,\n",
      "        6.3700885e-01],\n",
      "       ...,\n",
      "       [2.2632337e-01, 3.3514272e-02, 4.2804509e-01, 1.7988211e-01,\n",
      "        1.3223509e-01],\n",
      "       [2.4270837e-01, 5.6147583e-02, 4.7766289e-01, 1.3859195e-01,\n",
      "        8.4889218e-02],\n",
      "       [8.1447262e-01, 5.6100123e-02, 1.2127967e-01, 6.7308927e-03,\n",
      "        1.4166685e-03]], dtype=float32), 1: array([[0.7857553 , 0.07406207, 0.12767197, 0.00916703, 0.00334362],\n",
      "       [0.5658904 , 0.06117012, 0.2592804 , 0.05965271, 0.05400636],\n",
      "       [0.02922955, 0.01788983, 0.50199676, 0.25121504, 0.19966887],\n",
      "       ...,\n",
      "       [0.15371856, 0.02166842, 0.4318188 , 0.23049328, 0.16230097],\n",
      "       [0.40461442, 0.07043099, 0.367819  , 0.09021392, 0.06692164],\n",
      "       [0.8594725 , 0.05948466, 0.07665998, 0.00342968, 0.00095321]],\n",
      "      dtype=float32), 0: array([[0.71269345, 0.07373445, 0.16777113, 0.02479381, 0.0210071 ],\n",
      "       [0.71269345, 0.07373445, 0.16777113, 0.02479381, 0.0210071 ],\n",
      "       [0.71269345, 0.07373445, 0.16777113, 0.02479381, 0.0210071 ],\n",
      "       ...,\n",
      "       [0.71269345, 0.07373445, 0.16777113, 0.02479381, 0.0210071 ],\n",
      "       [0.71269345, 0.07373445, 0.16777113, 0.02479381, 0.0210071 ],\n",
      "       [0.71269345, 0.07373445, 0.16777113, 0.02479381, 0.0210071 ]],\n",
      "      dtype=float32)}, 'log_likelihood': {100: -1.4965153186095879, 99: -1.5422063797470182, 95: -1.5878710868917405, 90: -1.5931815998442471, 85: -1.5925817727310583, 75: -1.5838156826332213, 50: -1.5517108038875274, 25: -1.51971063991189, 15: -1.5078094146348535, 10: -1.5024571669124067, 5: -1.4997916918888687, 1: -1.6160565131902696, 0: -2.458239895105362}, 'log_odds': {100: -0.6110032, 99: -0.656501, 95: -0.7062575, 90: -0.7122656, 85: -0.715115, 75: -0.70970964, 50: -0.7020218, 25: -0.71960163, 15: -0.75015277, 10: -0.78465897, 5: -0.85963356, 1: -1.1452854, 0: -2.1474829}, 'AUC_acc': 0.427904, 'AUC_auroc': 0.8138636324999997, 'AUC_preds': array([[9.1173935e-01, 5.9535712e-02, 2.7683703e-02, 7.5500534e-04,\n",
      "        2.8616970e-04],\n",
      "       [9.0766335e-01, 3.1890534e-02, 5.4627337e-02, 3.4565323e-03,\n",
      "        2.3621814e-03],\n",
      "       [6.0787927e-03, 3.6665134e-03, 3.1594443e-01, 3.0402681e-01,\n",
      "        3.7028337e-01],\n",
      "       ...,\n",
      "       [1.3390642e-01, 2.6422460e-02, 6.2198734e-01, 1.3823645e-01,\n",
      "        7.9447277e-02],\n",
      "       [6.7423612e-01, 7.2932057e-02, 2.1484636e-01, 2.6736265e-02,\n",
      "        1.1249180e-02],\n",
      "       [8.7762719e-01, 6.8195656e-02, 5.2517239e-02, 1.3289260e-03,\n",
      "        3.3099577e-04]], dtype=float32), 'AUC_log_likelihood': -1.556031258244687, 'AUC_log_odds': -0.7396784183382988}}\n",
      "smoothgrad\n"
     ]
    },
    {
     "name": "stdout",
     "output_type": "stream",
     "text": [
      "100\n"
     ]
    },
    {
     "name": "stderr",
     "output_type": "stream",
     "text": [
      "2022-05-17 00:41:32.461763: I tensorflow/core/common_runtime/gpu_fusion_pass.cc:507] ROCm Fusion is enabled.\n",
      "2022-05-17 00:41:32.466200: I tensorflow/core/common_runtime/gpu_fusion_pass.cc:507] ROCm Fusion is enabled.\n",
      "2022-05-17 00:41:32.468505: I tensorflow/core/common_runtime/gpu_fusion_pass.cc:507] ROCm Fusion is enabled.\n"
     ]
    },
    {
     "name": "stdout",
     "output_type": "stream",
     "text": [
      "99\n"
     ]
    },
    {
     "name": "stderr",
     "output_type": "stream",
     "text": [
      "2022-05-17 00:42:25.662649: I tensorflow/core/common_runtime/gpu_fusion_pass.cc:507] ROCm Fusion is enabled.\n",
      "2022-05-17 00:42:25.666519: I tensorflow/core/common_runtime/gpu_fusion_pass.cc:507] ROCm Fusion is enabled.\n",
      "2022-05-17 00:42:25.668838: I tensorflow/core/common_runtime/gpu_fusion_pass.cc:507] ROCm Fusion is enabled.\n"
     ]
    },
    {
     "name": "stdout",
     "output_type": "stream",
     "text": [
      "95\n"
     ]
    },
    {
     "name": "stderr",
     "output_type": "stream",
     "text": [
      "2022-05-17 00:43:18.974505: I tensorflow/core/common_runtime/gpu_fusion_pass.cc:507] ROCm Fusion is enabled.\n",
      "2022-05-17 00:43:18.978426: I tensorflow/core/common_runtime/gpu_fusion_pass.cc:507] ROCm Fusion is enabled.\n",
      "2022-05-17 00:43:18.980708: I tensorflow/core/common_runtime/gpu_fusion_pass.cc:507] ROCm Fusion is enabled.\n"
     ]
    },
    {
     "name": "stdout",
     "output_type": "stream",
     "text": [
      "90\n"
     ]
    },
    {
     "name": "stderr",
     "output_type": "stream",
     "text": [
      "2022-05-17 00:44:12.691142: I tensorflow/core/common_runtime/gpu_fusion_pass.cc:507] ROCm Fusion is enabled.\n",
      "2022-05-17 00:44:12.695078: I tensorflow/core/common_runtime/gpu_fusion_pass.cc:507] ROCm Fusion is enabled.\n",
      "2022-05-17 00:44:12.697374: I tensorflow/core/common_runtime/gpu_fusion_pass.cc:507] ROCm Fusion is enabled.\n"
     ]
    },
    {
     "name": "stdout",
     "output_type": "stream",
     "text": [
      "85\n"
     ]
    },
    {
     "name": "stderr",
     "output_type": "stream",
     "text": [
      "2022-05-17 00:45:06.559189: I tensorflow/core/common_runtime/gpu_fusion_pass.cc:507] ROCm Fusion is enabled.\n",
      "2022-05-17 00:45:06.563141: I tensorflow/core/common_runtime/gpu_fusion_pass.cc:507] ROCm Fusion is enabled.\n",
      "2022-05-17 00:45:06.565433: I tensorflow/core/common_runtime/gpu_fusion_pass.cc:507] ROCm Fusion is enabled.\n"
     ]
    },
    {
     "name": "stdout",
     "output_type": "stream",
     "text": [
      "75\n"
     ]
    },
    {
     "name": "stderr",
     "output_type": "stream",
     "text": [
      "2022-05-17 00:46:00.422237: I tensorflow/core/common_runtime/gpu_fusion_pass.cc:507] ROCm Fusion is enabled.\n",
      "2022-05-17 00:46:00.426206: I tensorflow/core/common_runtime/gpu_fusion_pass.cc:507] ROCm Fusion is enabled.\n",
      "2022-05-17 00:46:00.428487: I tensorflow/core/common_runtime/gpu_fusion_pass.cc:507] ROCm Fusion is enabled.\n"
     ]
    },
    {
     "name": "stdout",
     "output_type": "stream",
     "text": [
      "50\n"
     ]
    },
    {
     "name": "stderr",
     "output_type": "stream",
     "text": [
      "2022-05-17 00:46:54.615039: I tensorflow/core/common_runtime/gpu_fusion_pass.cc:507] ROCm Fusion is enabled.\n",
      "2022-05-17 00:46:54.619028: I tensorflow/core/common_runtime/gpu_fusion_pass.cc:507] ROCm Fusion is enabled.\n",
      "2022-05-17 00:46:54.621325: I tensorflow/core/common_runtime/gpu_fusion_pass.cc:507] ROCm Fusion is enabled.\n"
     ]
    },
    {
     "name": "stdout",
     "output_type": "stream",
     "text": [
      "25\n"
     ]
    },
    {
     "name": "stderr",
     "output_type": "stream",
     "text": [
      "2022-05-17 00:47:48.513639: I tensorflow/core/common_runtime/gpu_fusion_pass.cc:507] ROCm Fusion is enabled.\n",
      "2022-05-17 00:47:48.517589: I tensorflow/core/common_runtime/gpu_fusion_pass.cc:507] ROCm Fusion is enabled.\n",
      "2022-05-17 00:47:48.519880: I tensorflow/core/common_runtime/gpu_fusion_pass.cc:507] ROCm Fusion is enabled.\n"
     ]
    },
    {
     "name": "stdout",
     "output_type": "stream",
     "text": [
      "15\n"
     ]
    },
    {
     "name": "stderr",
     "output_type": "stream",
     "text": [
      "2022-05-17 00:48:42.157211: I tensorflow/core/common_runtime/gpu_fusion_pass.cc:507] ROCm Fusion is enabled.\n",
      "2022-05-17 00:48:42.161077: I tensorflow/core/common_runtime/gpu_fusion_pass.cc:507] ROCm Fusion is enabled.\n",
      "2022-05-17 00:48:42.163370: I tensorflow/core/common_runtime/gpu_fusion_pass.cc:507] ROCm Fusion is enabled.\n"
     ]
    },
    {
     "name": "stdout",
     "output_type": "stream",
     "text": [
      "10\n"
     ]
    },
    {
     "name": "stderr",
     "output_type": "stream",
     "text": [
      "2022-05-17 00:49:35.689846: I tensorflow/core/common_runtime/gpu_fusion_pass.cc:507] ROCm Fusion is enabled.\n",
      "2022-05-17 00:49:35.693859: I tensorflow/core/common_runtime/gpu_fusion_pass.cc:507] ROCm Fusion is enabled.\n",
      "2022-05-17 00:49:35.696185: I tensorflow/core/common_runtime/gpu_fusion_pass.cc:507] ROCm Fusion is enabled.\n"
     ]
    },
    {
     "name": "stdout",
     "output_type": "stream",
     "text": [
      "5\n"
     ]
    },
    {
     "name": "stderr",
     "output_type": "stream",
     "text": [
      "2022-05-17 00:50:28.909108: I tensorflow/core/common_runtime/gpu_fusion_pass.cc:507] ROCm Fusion is enabled.\n",
      "2022-05-17 00:50:28.913050: I tensorflow/core/common_runtime/gpu_fusion_pass.cc:507] ROCm Fusion is enabled.\n",
      "2022-05-17 00:50:28.915334: I tensorflow/core/common_runtime/gpu_fusion_pass.cc:507] ROCm Fusion is enabled.\n"
     ]
    },
    {
     "name": "stdout",
     "output_type": "stream",
     "text": [
      "1\n"
     ]
    },
    {
     "name": "stderr",
     "output_type": "stream",
     "text": [
      "2022-05-17 00:51:22.177429: I tensorflow/core/common_runtime/gpu_fusion_pass.cc:507] ROCm Fusion is enabled.\n",
      "2022-05-17 00:51:22.181440: I tensorflow/core/common_runtime/gpu_fusion_pass.cc:507] ROCm Fusion is enabled.\n",
      "2022-05-17 00:51:22.183740: I tensorflow/core/common_runtime/gpu_fusion_pass.cc:507] ROCm Fusion is enabled.\n"
     ]
    },
    {
     "name": "stdout",
     "output_type": "stream",
     "text": [
      "0\n"
     ]
    },
    {
     "name": "stderr",
     "output_type": "stream",
     "text": [
      "2022-05-17 00:51:50.742855: I tensorflow/core/common_runtime/gpu_fusion_pass.cc:507] ROCm Fusion is enabled.\n",
      "2022-05-17 00:51:50.746661: I tensorflow/core/common_runtime/gpu_fusion_pass.cc:507] ROCm Fusion is enabled.\n",
      "2022-05-17 00:51:50.748973: I tensorflow/core/common_runtime/gpu_fusion_pass.cc:507] ROCm Fusion is enabled.\n",
      "/vast/nj594/xai/helpers/evaluate.py:59: VisibleDeprecationWarning: Creating an ndarray from ragged nested sequences (which is a list-or-tuple of lists-or-tuples-or ndarrays with different lengths or shapes) is deprecated. If you meant to do this, you must specify 'dtype=object' when creating the ndarray\n",
      "  r_ = np.array([[float(p), n] for p,n in r.items()])\n"
     ]
    },
    {
     "name": "stdout",
     "output_type": "stream",
     "text": [
      "100\n"
     ]
    },
    {
     "name": "stderr",
     "output_type": "stream",
     "text": [
      "2022-05-17 00:52:19.789514: I tensorflow/core/common_runtime/gpu_fusion_pass.cc:507] ROCm Fusion is enabled.\n",
      "2022-05-17 00:52:19.793296: I tensorflow/core/common_runtime/gpu_fusion_pass.cc:507] ROCm Fusion is enabled.\n",
      "2022-05-17 00:52:19.795617: I tensorflow/core/common_runtime/gpu_fusion_pass.cc:507] ROCm Fusion is enabled.\n"
     ]
    },
    {
     "name": "stdout",
     "output_type": "stream",
     "text": [
      "99\n"
     ]
    },
    {
     "name": "stderr",
     "output_type": "stream",
     "text": [
      "2022-05-17 00:53:12.132956: I tensorflow/core/common_runtime/gpu_fusion_pass.cc:507] ROCm Fusion is enabled.\n",
      "2022-05-17 00:53:12.136726: I tensorflow/core/common_runtime/gpu_fusion_pass.cc:507] ROCm Fusion is enabled.\n",
      "2022-05-17 00:53:12.139104: I tensorflow/core/common_runtime/gpu_fusion_pass.cc:507] ROCm Fusion is enabled.\n"
     ]
    },
    {
     "name": "stdout",
     "output_type": "stream",
     "text": [
      "95\n"
     ]
    },
    {
     "name": "stderr",
     "output_type": "stream",
     "text": [
      "2022-05-17 00:54:05.554920: I tensorflow/core/common_runtime/gpu_fusion_pass.cc:507] ROCm Fusion is enabled.\n",
      "2022-05-17 00:54:05.558781: I tensorflow/core/common_runtime/gpu_fusion_pass.cc:507] ROCm Fusion is enabled.\n",
      "2022-05-17 00:54:05.561081: I tensorflow/core/common_runtime/gpu_fusion_pass.cc:507] ROCm Fusion is enabled.\n"
     ]
    },
    {
     "name": "stdout",
     "output_type": "stream",
     "text": [
      "90\n"
     ]
    },
    {
     "name": "stderr",
     "output_type": "stream",
     "text": [
      "2022-05-17 00:54:59.028705: I tensorflow/core/common_runtime/gpu_fusion_pass.cc:507] ROCm Fusion is enabled.\n",
      "2022-05-17 00:54:59.032514: I tensorflow/core/common_runtime/gpu_fusion_pass.cc:507] ROCm Fusion is enabled.\n",
      "2022-05-17 00:54:59.034820: I tensorflow/core/common_runtime/gpu_fusion_pass.cc:507] ROCm Fusion is enabled.\n"
     ]
    },
    {
     "name": "stdout",
     "output_type": "stream",
     "text": [
      "85\n"
     ]
    },
    {
     "name": "stderr",
     "output_type": "stream",
     "text": [
      "2022-05-17 00:55:52.631072: I tensorflow/core/common_runtime/gpu_fusion_pass.cc:507] ROCm Fusion is enabled.\n",
      "2022-05-17 00:55:52.634956: I tensorflow/core/common_runtime/gpu_fusion_pass.cc:507] ROCm Fusion is enabled.\n",
      "2022-05-17 00:55:52.637265: I tensorflow/core/common_runtime/gpu_fusion_pass.cc:507] ROCm Fusion is enabled.\n"
     ]
    },
    {
     "name": "stdout",
     "output_type": "stream",
     "text": [
      "75\n"
     ]
    },
    {
     "name": "stderr",
     "output_type": "stream",
     "text": [
      "2022-05-17 00:56:46.640934: I tensorflow/core/common_runtime/gpu_fusion_pass.cc:507] ROCm Fusion is enabled.\n",
      "2022-05-17 00:56:46.644884: I tensorflow/core/common_runtime/gpu_fusion_pass.cc:507] ROCm Fusion is enabled.\n",
      "2022-05-17 00:56:46.647179: I tensorflow/core/common_runtime/gpu_fusion_pass.cc:507] ROCm Fusion is enabled.\n"
     ]
    },
    {
     "name": "stdout",
     "output_type": "stream",
     "text": [
      "50\n"
     ]
    },
    {
     "name": "stderr",
     "output_type": "stream",
     "text": [
      "2022-05-17 00:57:41.099987: I tensorflow/core/common_runtime/gpu_fusion_pass.cc:507] ROCm Fusion is enabled.\n",
      "2022-05-17 00:57:41.103810: I tensorflow/core/common_runtime/gpu_fusion_pass.cc:507] ROCm Fusion is enabled.\n",
      "2022-05-17 00:57:41.106137: I tensorflow/core/common_runtime/gpu_fusion_pass.cc:507] ROCm Fusion is enabled.\n"
     ]
    },
    {
     "name": "stdout",
     "output_type": "stream",
     "text": [
      "25\n"
     ]
    },
    {
     "name": "stderr",
     "output_type": "stream",
     "text": [
      "2022-05-17 00:58:35.175100: I tensorflow/core/common_runtime/gpu_fusion_pass.cc:507] ROCm Fusion is enabled.\n",
      "2022-05-17 00:58:35.178898: I tensorflow/core/common_runtime/gpu_fusion_pass.cc:507] ROCm Fusion is enabled.\n",
      "2022-05-17 00:58:35.181213: I tensorflow/core/common_runtime/gpu_fusion_pass.cc:507] ROCm Fusion is enabled.\n"
     ]
    },
    {
     "name": "stdout",
     "output_type": "stream",
     "text": [
      "15\n"
     ]
    },
    {
     "name": "stderr",
     "output_type": "stream",
     "text": [
      "2022-05-17 00:59:28.906480: I tensorflow/core/common_runtime/gpu_fusion_pass.cc:507] ROCm Fusion is enabled.\n",
      "2022-05-17 00:59:28.910269: I tensorflow/core/common_runtime/gpu_fusion_pass.cc:507] ROCm Fusion is enabled.\n",
      "2022-05-17 00:59:28.912591: I tensorflow/core/common_runtime/gpu_fusion_pass.cc:507] ROCm Fusion is enabled.\n"
     ]
    },
    {
     "name": "stdout",
     "output_type": "stream",
     "text": [
      "10\n"
     ]
    },
    {
     "name": "stderr",
     "output_type": "stream",
     "text": [
      "2022-05-17 01:00:22.403983: I tensorflow/core/common_runtime/gpu_fusion_pass.cc:507] ROCm Fusion is enabled.\n",
      "2022-05-17 01:00:22.407933: I tensorflow/core/common_runtime/gpu_fusion_pass.cc:507] ROCm Fusion is enabled.\n",
      "2022-05-17 01:00:22.410236: I tensorflow/core/common_runtime/gpu_fusion_pass.cc:507] ROCm Fusion is enabled.\n"
     ]
    },
    {
     "name": "stdout",
     "output_type": "stream",
     "text": [
      "5\n"
     ]
    },
    {
     "name": "stderr",
     "output_type": "stream",
     "text": [
      "2022-05-17 01:01:15.808152: I tensorflow/core/common_runtime/gpu_fusion_pass.cc:507] ROCm Fusion is enabled.\n",
      "2022-05-17 01:01:15.812196: I tensorflow/core/common_runtime/gpu_fusion_pass.cc:507] ROCm Fusion is enabled.\n",
      "2022-05-17 01:01:15.814494: I tensorflow/core/common_runtime/gpu_fusion_pass.cc:507] ROCm Fusion is enabled.\n"
     ]
    },
    {
     "name": "stdout",
     "output_type": "stream",
     "text": [
      "1\n"
     ]
    },
    {
     "name": "stderr",
     "output_type": "stream",
     "text": [
      "2022-05-17 01:02:09.150709: I tensorflow/core/common_runtime/gpu_fusion_pass.cc:507] ROCm Fusion is enabled.\n",
      "2022-05-17 01:02:09.155325: I tensorflow/core/common_runtime/gpu_fusion_pass.cc:507] ROCm Fusion is enabled.\n",
      "2022-05-17 01:02:09.157644: I tensorflow/core/common_runtime/gpu_fusion_pass.cc:507] ROCm Fusion is enabled.\n"
     ]
    },
    {
     "name": "stdout",
     "output_type": "stream",
     "text": [
      "0\n"
     ]
    },
    {
     "name": "stderr",
     "output_type": "stream",
     "text": [
      "2022-05-17 01:02:37.797327: I tensorflow/core/common_runtime/gpu_fusion_pass.cc:507] ROCm Fusion is enabled.\n",
      "2022-05-17 01:02:37.801220: I tensorflow/core/common_runtime/gpu_fusion_pass.cc:507] ROCm Fusion is enabled.\n",
      "2022-05-17 01:02:37.803509: I tensorflow/core/common_runtime/gpu_fusion_pass.cc:507] ROCm Fusion is enabled.\n",
      "/vast/nj594/xai/helpers/evaluate.py:59: VisibleDeprecationWarning: Creating an ndarray from ragged nested sequences (which is a list-or-tuple of lists-or-tuples-or ndarrays with different lengths or shapes) is deprecated. If you meant to do this, you must specify 'dtype=object' when creating the ndarray\n",
      "  r_ = np.array([[float(p), n] for p,n in r.items()])\n"
     ]
    },
    {
     "name": "stdout",
     "output_type": "stream",
     "text": [
      "{'retro_ex': {'acc': {100: 0.2, 99: 0.2016, 95: 0.2244, 90: 0.234, 85: 0.2444, 75: 0.2656, 50: 0.3288, 25: 0.3648, 15: 0.3668, 10: 0.3704, 5: 0.3708, 1: 0.3724, 0: 0.43}, 'auroc': {100: 0.50005, 99: 0.48482959999999997, 95: 0.5451992999999999, 90: 0.5669546000000001, 85: 0.5933858, 75: 0.6087617999999999, 50: 0.6787030000000001, 25: 0.7092232, 15: 0.7150861000000001, 10: 0.7167808000000001, 5: 0.7179768000000001, 1: 0.7174976, 0: 0.84102}, 'preds': {100: array([[0.71269345, 0.07373445, 0.16777113, 0.02479381, 0.0210071 ],\n",
      "       [0.71269345, 0.07373445, 0.16777113, 0.02479381, 0.0210071 ],\n",
      "       [0.71269345, 0.07373445, 0.16777113, 0.02479381, 0.0210071 ],\n",
      "       ...,\n",
      "       [0.71269345, 0.07373445, 0.16777113, 0.02479381, 0.0210071 ],\n",
      "       [0.71269345, 0.07373445, 0.16777113, 0.02479381, 0.0210071 ],\n",
      "       [0.71269345, 0.07373445, 0.16777113, 0.02479381, 0.0210071 ]],\n",
      "      dtype=float32), 99: array([[8.6091661e-01, 6.2218111e-02, 7.3043182e-02, 3.0318454e-03,\n",
      "        7.9024787e-04],\n",
      "       [7.4047732e-01, 6.8425544e-02, 1.6169445e-01, 1.8873224e-02,\n",
      "        1.0529419e-02],\n",
      "       [6.8424970e-01, 6.7675151e-02, 1.8130809e-01, 3.3384074e-02,\n",
      "        3.3382993e-02],\n",
      "       ...,\n",
      "       [7.1415412e-01, 7.3287576e-02, 1.6899921e-01, 2.4168558e-02,\n",
      "        1.9390495e-02],\n",
      "       [8.7176949e-01, 6.0341965e-02, 6.4906016e-02, 2.3590561e-03,\n",
      "        6.2342279e-04],\n",
      "       [7.7357030e-01, 5.7776179e-02, 1.4751449e-01, 1.3956424e-02,\n",
      "        7.1825897e-03]], dtype=float32), 95: array([[8.5311317e-01, 7.0940837e-02, 7.2269574e-02, 2.9583236e-03,\n",
      "        7.1804837e-04],\n",
      "       [5.8342874e-01, 3.9827932e-02, 2.4121138e-01, 5.6036454e-02,\n",
      "        7.9495452e-02],\n",
      "       [5.8801413e-01, 5.9901901e-02, 2.5702581e-01, 5.1147640e-02,\n",
      "        4.3910488e-02],\n",
      "       ...,\n",
      "       [6.7149663e-01, 7.0683151e-02, 2.0102993e-01, 3.1893257e-02,\n",
      "        2.4896940e-02],\n",
      "       [7.7335894e-01, 6.4206861e-02, 1.4036864e-01, 1.4255786e-02,\n",
      "        7.8098467e-03],\n",
      "       [5.1180714e-01, 7.1521476e-02, 3.3299744e-01, 5.5226192e-02,\n",
      "        2.8447792e-02]], dtype=float32), 90: array([[9.1147226e-01, 5.7998963e-02, 2.9894531e-02, 5.4574932e-04,\n",
      "        8.8562403e-05],\n",
      "       [6.5546882e-01, 4.4964261e-02, 2.4751797e-01, 2.9150425e-02,\n",
      "        2.2898557e-02],\n",
      "       [6.2108368e-01, 5.0178058e-02, 2.4259083e-01, 4.3065950e-02,\n",
      "        4.3081466e-02],\n",
      "       ...,\n",
      "       [6.7764562e-01, 7.6163270e-02, 1.9783515e-01, 2.8200286e-02,\n",
      "        2.0155665e-02],\n",
      "       [6.2434328e-01, 6.5421745e-02, 2.6233271e-01, 3.2133900e-02,\n",
      "        1.5768468e-02],\n",
      "       [4.6061602e-01, 1.1010520e-01, 3.7200668e-01, 4.3262392e-02,\n",
      "        1.4009624e-02]], dtype=float32), 85: array([[8.5752976e-01, 8.6242057e-02, 5.5285670e-02, 8.6898234e-04,\n",
      "        7.3597068e-05],\n",
      "       [6.3560188e-01, 4.1391183e-02, 2.7954692e-01, 2.5663890e-02,\n",
      "        1.7796114e-02],\n",
      "       [3.5948080e-01, 4.2752080e-02, 4.1929850e-01, 1.0301763e-01,\n",
      "        7.5450934e-02],\n",
      "       ...,\n",
      "       [5.8607101e-01, 7.2367385e-02, 2.7611047e-01, 4.3177966e-02,\n",
      "        2.2273118e-02],\n",
      "       [8.2952702e-01, 5.4675177e-02, 1.0702021e-01, 5.9099142e-03,\n",
      "        2.8676230e-03],\n",
      "       [5.8594340e-01, 9.9869214e-02, 2.8936645e-01, 2.0759443e-02,\n",
      "        4.0615047e-03]], dtype=float32), 75: array([[8.2794583e-01, 1.0492435e-01, 6.6068433e-02, 9.8957040e-04,\n",
      "        7.1870287e-05],\n",
      "       [3.8672397e-01, 3.5570204e-02, 4.6477264e-01, 6.4487055e-02,\n",
      "        4.8446067e-02],\n",
      "       [1.9202048e-01, 3.6772195e-02, 5.2328879e-01, 1.4123373e-01,\n",
      "        1.0668487e-01],\n",
      "       ...,\n",
      "       [6.7286444e-01, 8.8869669e-02, 2.1489938e-01, 1.7246623e-02,\n",
      "        6.1198492e-03],\n",
      "       [7.4318296e-01, 6.1574481e-02, 1.8244530e-01, 9.8628933e-03,\n",
      "        2.9343825e-03],\n",
      "       [7.6910299e-01, 9.1534138e-02, 1.3226192e-01, 5.7390807e-03,\n",
      "        1.3618382e-03]], dtype=float32), 50: array([[9.5077056e-01, 4.3895274e-02, 5.3143245e-03, 1.7227027e-05,\n",
      "        2.6623188e-06],\n",
      "       [8.2483286e-01, 5.5659734e-02, 1.1699745e-01, 1.8069716e-03,\n",
      "        7.0306764e-04],\n",
      "       [2.2374690e-02, 2.0016029e-02, 6.5179008e-01, 1.3459170e-01,\n",
      "        1.7122750e-01],\n",
      "       ...,\n",
      "       [5.0165433e-01, 8.5110761e-02, 3.6862627e-01, 3.3600152e-02,\n",
      "        1.1008483e-02],\n",
      "       [9.3997854e-01, 3.8444158e-02, 2.1257650e-02, 2.2381415e-04,\n",
      "        9.5875184e-05],\n",
      "       [8.8503569e-01, 7.7430166e-02, 3.6872637e-02, 5.2784249e-04,\n",
      "        1.3369872e-04]], dtype=float32), 25: array([[9.18399811e-01, 6.98500797e-02, 1.17067881e-02, 3.66842251e-05,\n",
      "        6.73110708e-06],\n",
      "       [9.30292666e-01, 3.97861674e-02, 2.97677591e-02, 1.26975239e-04,\n",
      "        2.63770944e-05],\n",
      "       [5.51286666e-03, 1.60785932e-02, 6.81771159e-01, 1.84209749e-01,\n",
      "        1.12427704e-01],\n",
      "       ...,\n",
      "       [1.70668259e-01, 4.37290333e-02, 6.80695236e-01, 8.02116543e-02,\n",
      "        2.46958807e-02],\n",
      "       [9.65733469e-01, 2.62962691e-02, 7.91180413e-03, 3.47225941e-05,\n",
      "        2.37109998e-05],\n",
      "       [8.36705267e-01, 1.06047399e-01, 5.64993843e-02, 6.02758199e-04,\n",
      "        1.45245867e-04]], dtype=float32), 15: array([[9.0382349e-01, 8.0982827e-02, 1.5153446e-02, 3.5629022e-05,\n",
      "        4.4824224e-06],\n",
      "       [9.3622828e-01, 3.5764884e-02, 2.7863204e-02, 1.1247978e-04,\n",
      "        3.1291660e-05],\n",
      "       [5.8639743e-03, 1.2476680e-02, 6.6404969e-01, 1.8917811e-01,\n",
      "        1.2843156e-01],\n",
      "       ...,\n",
      "       [1.8351877e-01, 4.8522659e-02, 6.8596560e-01, 6.1163120e-02,\n",
      "        2.0829925e-02],\n",
      "       [9.3188655e-01, 4.4161517e-02, 2.3742937e-02, 1.3032548e-04,\n",
      "        7.8653051e-05],\n",
      "       [8.5877115e-01, 9.5352404e-02, 4.5312010e-02, 4.4270293e-04,\n",
      "        1.2169531e-04]], dtype=float32), 10: array([[8.7360221e-01, 1.0250937e-01, 2.3817545e-02, 6.4005711e-05,\n",
      "        6.8915592e-06],\n",
      "       [9.4158149e-01, 3.1037224e-02, 2.7230425e-02, 1.1343221e-04,\n",
      "        3.7364043e-05],\n",
      "       [7.3284591e-03, 1.2282772e-02, 6.6102576e-01, 1.8096341e-01,\n",
      "        1.3839957e-01],\n",
      "       ...,\n",
      "       [1.6322657e-01, 4.2233657e-02, 7.1556622e-01, 6.0246691e-02,\n",
      "        1.8726788e-02],\n",
      "       [9.2437714e-01, 4.9452279e-02, 2.5953634e-02, 1.3030920e-04,\n",
      "        8.6610075e-05],\n",
      "       [8.7144136e-01, 9.0116858e-02, 3.8008276e-02, 3.3124525e-04,\n",
      "        1.0218365e-04]], dtype=float32), 5: array([[8.8841289e-01, 9.2934214e-02, 1.8604329e-02, 4.3830725e-05,\n",
      "        4.7990284e-06],\n",
      "       [9.3896109e-01, 3.0001154e-02, 3.0814378e-02, 1.4958833e-04,\n",
      "        7.3716481e-05],\n",
      "       [1.1341701e-02, 1.5405903e-02, 6.5677810e-01, 1.5787651e-01,\n",
      "        1.5859784e-01],\n",
      "       ...,\n",
      "       [1.3355076e-01, 3.6276031e-02, 7.4692637e-01, 6.4189516e-02,\n",
      "        1.9057382e-02],\n",
      "       [9.2961419e-01, 4.7154505e-02, 2.3052191e-02, 1.0617165e-04,\n",
      "        7.2930976e-05],\n",
      "       [8.9036345e-01, 8.0018729e-02, 2.9300775e-02, 2.2958491e-04,\n",
      "        8.7418361e-05]], dtype=float32), 1: array([[8.9419121e-01, 8.8087849e-02, 1.7674061e-02, 4.2352509e-05,\n",
      "        4.5245592e-06],\n",
      "       [9.1360921e-01, 3.9930161e-02, 4.6170738e-02, 2.1704826e-04,\n",
      "        7.2896248e-05],\n",
      "       [1.2422415e-02, 1.6121052e-02, 6.6281450e-01, 1.4849816e-01,\n",
      "        1.6014388e-01],\n",
      "       ...,\n",
      "       [1.7367651e-01, 4.0596135e-02, 7.1150529e-01, 5.6331120e-02,\n",
      "        1.7890949e-02],\n",
      "       [9.3128550e-01, 4.6156764e-02, 2.2375146e-02, 1.0726800e-04,\n",
      "        7.5279240e-05],\n",
      "       [8.9605373e-01, 7.5883240e-02, 2.7759477e-02, 2.2013726e-04,\n",
      "        8.3412655e-05]], dtype=float32), 0: array([[8.93752098e-01, 8.83543417e-02, 1.78448595e-02, 4.39195537e-05,\n",
      "        4.84293469e-06],\n",
      "       [9.08368826e-01, 4.09528874e-02, 5.03622368e-02, 2.39651723e-04,\n",
      "        7.64532961e-05],\n",
      "       [1.27890427e-02, 1.67057589e-02, 6.70378923e-01, 1.46436870e-01,\n",
      "        1.53689399e-01],\n",
      "       ...,\n",
      "       [1.77840471e-01, 4.10715304e-02, 7.09612131e-01, 5.46135008e-02,\n",
      "        1.68623831e-02],\n",
      "       [9.32725132e-01, 4.54182364e-02, 2.16827337e-02, 1.02160004e-04,\n",
      "        7.17712683e-05],\n",
      "       [8.97488832e-01, 7.47329444e-02, 2.74771824e-02, 2.18378118e-04,\n",
      "        8.27192562e-05]], dtype=float32)}, 'log_likelihood': {100: -2.458239895105362, 99: -2.49458023147583, 95: -2.307647582101822, 90: -2.2666418443679808, 85: -2.2386141521453857, 75: -2.1975102159142494, 50: -2.0042593439638616, 25: -1.9235428676858544, 15: -1.9125730215162038, 10: -1.9094896294638515, 5: -1.9144687093146144, 1: -1.9159455306105315, 0: -1.4965153186095879}, 'log_odds': {100: -2.1474829, 99: -2.1810763, 95: -1.9657546, 90: -1.9152273, 85: -1.8781127, 75: -1.818102, 50: -1.5373129, 25: -1.3930396, 15: -1.3618115, 10: -1.3511013, 5: -1.3538369, 1: -1.3542764, 0: -0.6110032}, 'AUC_acc': 0.31286400000000003, 'AUC_auroc': 0.6562517419999999, 'AUC_preds': array([[8.94936979e-01, 7.40690976e-02, 3.01931184e-02, 6.18375430e-04,\n",
      "        1.82506672e-04],\n",
      "       [7.52390921e-01, 4.31137122e-02, 1.71115547e-01, 1.82864144e-02,\n",
      "        1.50933852e-02],\n",
      "       [1.46998703e-01, 2.74540540e-02, 5.66679895e-01, 1.38525978e-01,\n",
      "        1.20341338e-01],\n",
      "       ...,\n",
      "       [4.35670197e-01, 6.77033439e-02, 4.35768962e-01, 4.44364212e-02,\n",
      "        1.64210536e-02],\n",
      "       [8.73534381e-01, 4.64143641e-02, 7.33316988e-02, 4.68669087e-03,\n",
      "        2.03294656e-03],\n",
      "       [7.90121078e-01, 8.94901678e-02, 1.09514534e-01, 7.98661076e-03,\n",
      "        2.88767810e-03]], dtype=float32), 'AUC_log_likelihood': -2.062426890571668, 'AUC_log_odds': -1.6041466036438943}, 'retro_in': {'acc': {100: 0.43, 99: 0.4296, 95: 0.4244, 90: 0.4212, 85: 0.416, 75: 0.4064, 50: 0.3592, 25: 0.3116, 15: 0.2864, 10: 0.27, 5: 0.2592, 1: 0.2572, 0: 0.2}, 'auroc': {100: 0.84102, 99: 0.8423338000000001, 95: 0.8430823999999999, 90: 0.8422876, 85: 0.8385054000000001, 75: 0.8303581, 50: 0.8071016, 25: 0.7795566, 15: 0.7640382000000001, 10: 0.7484493, 5: 0.7405915999999999, 1: 0.7254139000000002, 0: 0.50005}, 'preds': {100: array([[8.93752098e-01, 8.83543417e-02, 1.78448595e-02, 4.39195537e-05,\n",
      "        4.84293469e-06],\n",
      "       [9.08368826e-01, 4.09528874e-02, 5.03622368e-02, 2.39651723e-04,\n",
      "        7.64532961e-05],\n",
      "       [1.27890427e-02, 1.67057589e-02, 6.70378923e-01, 1.46436870e-01,\n",
      "        1.53689399e-01],\n",
      "       ...,\n",
      "       [1.77840471e-01, 4.10715304e-02, 7.09612131e-01, 5.46135008e-02,\n",
      "        1.68623831e-02],\n",
      "       [9.32725132e-01, 4.54182364e-02, 2.16827337e-02, 1.02160004e-04,\n",
      "        7.17712683e-05],\n",
      "       [8.97488832e-01, 7.47329444e-02, 2.74771824e-02, 2.18378118e-04,\n",
      "        8.27192562e-05]], dtype=float32), 99: array([[8.8958967e-01, 9.1424599e-02, 1.8932808e-02, 4.7707297e-05,\n",
      "        5.2275100e-06],\n",
      "       [9.0761173e-01, 4.1873153e-02, 5.0197467e-02, 2.4104227e-04,\n",
      "        7.6625322e-05],\n",
      "       [1.1399977e-02, 1.6186781e-02, 6.6975671e-01, 1.4958411e-01,\n",
      "        1.5307242e-01],\n",
      "       ...,\n",
      "       [1.6572006e-01, 3.9027061e-02, 7.2134525e-01, 5.7185687e-02,\n",
      "        1.6722020e-02],\n",
      "       [9.3170470e-01, 4.7349427e-02, 2.0799890e-02, 8.9872352e-05,\n",
      "        5.6054290e-05],\n",
      "       [8.8871634e-01, 7.9973564e-02, 3.0959096e-02, 2.5626010e-04,\n",
      "        9.4748895e-05]], dtype=float32), 95: array([[8.6651206e-01, 1.0742588e-01, 2.5975801e-02, 7.8062680e-05,\n",
      "        8.1844291e-06],\n",
      "       [9.1840446e-01, 3.9569162e-02, 4.1800003e-02, 1.7200090e-04,\n",
      "        5.4413758e-05],\n",
      "       [1.0791901e-02, 1.3623110e-02, 6.6341555e-01, 1.6694936e-01,\n",
      "        1.4522010e-01],\n",
      "       ...,\n",
      "       [1.7770083e-01, 3.9288811e-02, 7.0935065e-01, 5.6808397e-02,\n",
      "        1.6851312e-02],\n",
      "       [9.2675918e-01, 4.9607523e-02, 2.3453286e-02, 1.1581208e-04,\n",
      "        6.4141605e-05],\n",
      "       [8.7884188e-01, 8.5106298e-02, 3.5594188e-02, 3.3686525e-04,\n",
      "        1.2077196e-04]], dtype=float32), 90: array([[8.6979884e-01, 1.0630043e-01, 2.3825834e-02, 6.8012770e-05,\n",
      "        6.8078798e-06],\n",
      "       [9.2374033e-01, 3.8785174e-02, 3.7284929e-02, 1.4349858e-04,\n",
      "        4.6056044e-05],\n",
      "       [1.0171220e-02, 1.2810813e-02, 6.3199008e-01, 1.6839813e-01,\n",
      "        1.7662975e-01],\n",
      "       ...,\n",
      "       [2.3322362e-01, 4.2371549e-02, 6.5725935e-01, 5.0659202e-02,\n",
      "        1.6486295e-02],\n",
      "       [9.0448684e-01, 6.0499642e-02, 3.4705635e-02, 2.0455070e-04,\n",
      "        1.0339191e-04],\n",
      "       [8.9063489e-01, 7.8887992e-02, 3.0102503e-02, 2.7704815e-04,\n",
      "        9.7550015e-05]], dtype=float32), 85: array([[8.6865622e-01, 1.0733254e-01, 2.3925785e-02, 7.7269899e-05,\n",
      "        8.1678872e-06],\n",
      "       [9.1798013e-01, 3.9171930e-02, 4.2610105e-02, 1.7941766e-04,\n",
      "        5.8283735e-05],\n",
      "       [1.7059278e-02, 1.8749855e-02, 6.3551754e-01, 1.6322058e-01,\n",
      "        1.6545273e-01],\n",
      "       ...,\n",
      "       [2.0450117e-01, 4.0381856e-02, 6.8056124e-01, 5.7643235e-02,\n",
      "        1.6912555e-02],\n",
      "       [8.5799944e-01, 8.0962203e-02, 6.0463168e-02, 4.0972361e-04,\n",
      "        1.6561081e-04],\n",
      "       [8.8793540e-01, 7.8524768e-02, 3.3060577e-02, 3.6491550e-04,\n",
      "        1.1438474e-04]], dtype=float32), 75: array([[8.33935797e-01, 1.29315346e-01, 3.65735106e-02, 1.60489959e-04,\n",
      "        1.48821928e-05],\n",
      "       [9.14802372e-01, 4.28201742e-02, 4.20773551e-02, 2.14854444e-04,\n",
      "        8.52218000e-05],\n",
      "       [2.19571162e-02, 1.68770663e-02, 6.51466012e-01, 1.83166653e-01,\n",
      "        1.26533136e-01],\n",
      "       ...,\n",
      "       [2.55747855e-01, 4.61491086e-02, 6.12316251e-01, 6.25720024e-02,\n",
      "        2.32147984e-02],\n",
      "       [7.64523387e-01, 1.18696377e-01, 1.15236446e-01, 1.16337440e-03,\n",
      "        3.80369369e-04],\n",
      "       [7.90353239e-01, 1.13993540e-01, 9.38437507e-02, 1.51216902e-03,\n",
      "        2.97320657e-04]], dtype=float32), 50: array([[7.8745592e-01, 1.2109105e-01, 9.0342611e-02, 1.0293017e-03,\n",
      "        8.1220373e-05],\n",
      "       [8.7797666e-01, 4.8366807e-02, 7.2020814e-02, 1.0293804e-03,\n",
      "        6.0634193e-04],\n",
      "       [3.8919121e-02, 7.5050178e-03, 4.5568755e-01, 2.1532762e-01,\n",
      "        2.8256071e-01],\n",
      "       ...,\n",
      "       [4.9124566e-01, 5.4898661e-02, 3.8009170e-01, 4.5956135e-02,\n",
      "        2.7807944e-02],\n",
      "       [8.6084092e-01, 8.5851759e-02, 5.2618574e-02, 5.5385841e-04,\n",
      "        1.3488058e-04],\n",
      "       [8.9574516e-01, 6.6341966e-02, 3.7028268e-02, 6.7175692e-04,\n",
      "        2.1282435e-04]], dtype=float32), 25: array([[8.1207114e-01, 9.1552168e-02, 9.3598887e-02, 2.4399054e-03,\n",
      "        3.3796308e-04],\n",
      "       [6.7441767e-01, 5.1710751e-02, 2.4274613e-01, 1.8826220e-02,\n",
      "        1.2299153e-02],\n",
      "       [1.5154152e-02, 2.3348308e-03, 3.1741327e-01, 3.3568206e-01,\n",
      "        3.2941568e-01],\n",
      "       ...,\n",
      "       [6.8164611e-01, 5.9212349e-02, 2.2731988e-01, 2.1332640e-02,\n",
      "        1.0489047e-02],\n",
      "       [9.1189444e-01, 4.3045491e-02, 4.4280030e-02, 6.6817523e-04,\n",
      "        1.1182740e-04],\n",
      "       [2.6987958e-01, 1.5865912e-01, 5.3315574e-01, 3.0154692e-02,\n",
      "        8.1508784e-03]], dtype=float32), 15: array([[7.46921003e-01, 8.46266821e-02, 1.59202009e-01, 8.04504659e-03,\n",
      "        1.20521465e-03],\n",
      "       [7.74523079e-01, 6.19974285e-02, 1.49673954e-01, 8.53143726e-03,\n",
      "        5.27409185e-03],\n",
      "       [4.09874171e-01, 2.81206425e-02, 2.75280476e-01, 8.38118941e-02,\n",
      "        2.02912733e-01],\n",
      "       ...,\n",
      "       [7.35876501e-01, 6.20123670e-02, 1.75874189e-01, 1.68446526e-02,\n",
      "        9.39229503e-03],\n",
      "       [8.99799943e-01, 5.06382436e-02, 4.85248640e-02, 8.61073437e-04,\n",
      "        1.75782901e-04],\n",
      "       [8.14816356e-01, 6.04304560e-02, 1.16242535e-01, 6.11329125e-03,\n",
      "        2.39739311e-03]], dtype=float32), 10: array([[8.69402468e-01, 5.95036857e-02, 6.82547763e-02, 2.38635205e-03,\n",
      "        4.52678185e-04],\n",
      "       [7.09226012e-01, 6.50070384e-02, 1.85905308e-01, 2.13058852e-02,\n",
      "        1.85558293e-02],\n",
      "       [7.02975690e-01, 4.55088131e-02, 1.86776534e-01, 2.43952293e-02,\n",
      "        4.03436907e-02],\n",
      "       ...,\n",
      "       [7.51450241e-01, 6.41314164e-02, 1.58152640e-01, 1.59741379e-02,\n",
      "        1.02916379e-02],\n",
      "       [8.57937276e-01, 5.63971177e-02, 8.01620558e-02, 3.91254248e-03,\n",
      "        1.59101887e-03],\n",
      "       [8.34904611e-01, 5.87534048e-02, 1.00770585e-01, 4.52957628e-03,\n",
      "        1.04190374e-03]], dtype=float32), 5: array([[0.7805351 , 0.06738082, 0.13236187, 0.01296463, 0.00675753],\n",
      "       [0.7254406 , 0.06289263, 0.16912673, 0.02227509, 0.0202649 ],\n",
      "       [0.7473205 , 0.05868207, 0.15000403, 0.01890152, 0.02509192],\n",
      "       ...,\n",
      "       [0.78230464, 0.06524871, 0.13108055, 0.01292589, 0.00844018],\n",
      "       [0.7934753 , 0.0687715 , 0.11952338, 0.01065363, 0.00757623],\n",
      "       [0.79679585, 0.06289591, 0.1229159 , 0.01137945, 0.00601277]],\n",
      "      dtype=float32), 1: array([[0.712505  , 0.0736529 , 0.1680072 , 0.02479155, 0.02104345],\n",
      "       [0.71837175, 0.05115983, 0.13688432, 0.02744592, 0.06613815],\n",
      "       [0.75864327, 0.07237341, 0.14315228, 0.01571833, 0.01011267],\n",
      "       ...,\n",
      "       [0.71269137, 0.07373413, 0.16776507, 0.0247946 , 0.02101476],\n",
      "       [0.77749383, 0.07125075, 0.13131674, 0.01260907, 0.00732971],\n",
      "       [0.7432236 , 0.07028222, 0.1502771 , 0.01988724, 0.0163298 ]],\n",
      "      dtype=float32), 0: array([[0.71269345, 0.07373445, 0.16777113, 0.02479381, 0.0210071 ],\n",
      "       [0.71269345, 0.07373445, 0.16777113, 0.02479381, 0.0210071 ],\n",
      "       [0.71269345, 0.07373445, 0.16777113, 0.02479381, 0.0210071 ],\n",
      "       ...,\n",
      "       [0.71269345, 0.07373445, 0.16777113, 0.02479381, 0.0210071 ],\n",
      "       [0.71269345, 0.07373445, 0.16777113, 0.02479381, 0.0210071 ],\n",
      "       [0.71269345, 0.07373445, 0.16777113, 0.02479381, 0.0210071 ]],\n",
      "      dtype=float32)}, 'log_likelihood': {100: -1.4965153186095879, 99: -1.4915633329277858, 95: -1.4907172151675447, 90: -1.4956287201656029, 85: -1.5145511623142287, 75: -1.5549796133352443, 50: -1.6717582444144412, 25: -1.804573414160125, 15: -1.8903816649241374, 10: -1.971235516939871, 5: -2.0339049606306476, 1: -2.0483657237036152, 0: -2.458239895105362}, 'log_odds': {100: -0.6110032, 99: -0.6049231, 95: -0.60875356, 90: -0.6237416, 85: -0.65535736, 75: -0.7229335, 50: -0.9084506, 25: -1.1052076, 15: -1.2186384, 10: -1.319124, 5: -1.3946851, 1: -1.413291, 0: -2.1474829}, 'AUC_acc': 0.35377200000000003, 'AUC_auroc': 0.8004024599999999, 'AUC_preds': array([[0.8152454 , 0.10441539, 0.07643121, 0.00277638, 0.00113176],\n",
      "       [0.8289217 , 0.04892197, 0.10868954, 0.00714278, 0.00632403],\n",
      "       [0.14089516, 0.01758954, 0.4538413 , 0.18614954, 0.20152447],\n",
      "       ...,\n",
      "       [0.47623053, 0.05326489, 0.41139656, 0.04067519, 0.0184328 ],\n",
      "       [0.8569071 , 0.07437047, 0.06617165, 0.00168673, 0.00086403],\n",
      "       [0.74771357, 0.09276224, 0.14936346, 0.00759172, 0.00256907]],\n",
      "      dtype=float32), 'AUC_log_likelihood': -1.7014545152087297, 'AUC_log_odds': -0.9391328209638595}, 'pro_ex': {'acc': {100: 0.2, 99: 0.2028, 95: 0.2276, 90: 0.2484, 85: 0.2592, 75: 0.2776, 50: 0.3392, 25: 0.3748, 15: 0.3816, 10: 0.3836, 5: 0.3876, 1: 0.3892, 0: 0.43}, 'auroc': {100: 0.50005, 99: 0.5208632, 95: 0.5959456, 90: 0.6203924, 85: 0.6371576, 75: 0.6525638, 50: 0.714241, 25: 0.7452994, 15: 0.7563444, 10: 0.7602728, 5: 0.7615011999999999, 1: 0.7615301999999999, 0: 0.84102}, 'preds': {100: array([[0.71269345, 0.07373445, 0.16777113, 0.02479381, 0.0210071 ],\n",
      "       [0.71269345, 0.07373445, 0.16777113, 0.02479381, 0.0210071 ],\n",
      "       [0.71269345, 0.07373445, 0.16777113, 0.02479381, 0.0210071 ],\n",
      "       ...,\n",
      "       [0.71269345, 0.07373445, 0.16777113, 0.02479381, 0.0210071 ],\n",
      "       [0.71269345, 0.07373445, 0.16777113, 0.02479381, 0.0210071 ],\n",
      "       [0.71269345, 0.07373445, 0.16777113, 0.02479381, 0.0210071 ]],\n",
      "      dtype=float32), 99: array([[0.71269345, 0.07373445, 0.16777113, 0.02479381, 0.0210071 ],\n",
      "       [0.71269345, 0.07373445, 0.16777113, 0.02479381, 0.0210071 ],\n",
      "       [0.6878494 , 0.06538235, 0.1824562 , 0.03114433, 0.0331677 ],\n",
      "       ...,\n",
      "       [0.718972  , 0.07290178, 0.16494934, 0.02355092, 0.01962592],\n",
      "       [0.79326165, 0.06759834, 0.12065181, 0.01164599, 0.00684223],\n",
      "       [0.71269345, 0.07373445, 0.16777113, 0.02479381, 0.0210071 ]],\n",
      "      dtype=float32), 95: array([[0.71269345, 0.07373445, 0.16777113, 0.02479381, 0.0210071 ],\n",
      "       [0.71269345, 0.07373445, 0.16777113, 0.02479381, 0.0210071 ],\n",
      "       [0.20829481, 0.02244225, 0.40349773, 0.18785255, 0.17791271],\n",
      "       ...,\n",
      "       [0.6611421 , 0.06701669, 0.20115578, 0.03611752, 0.03456786],\n",
      "       [0.64543647, 0.06441818, 0.2332982 , 0.04024135, 0.01660583],\n",
      "       [0.71269345, 0.07373445, 0.16777113, 0.02479381, 0.0210071 ]],\n",
      "      dtype=float32), 90: array([[0.71269345, 0.07373445, 0.16777113, 0.02479381, 0.0210071 ],\n",
      "       [0.71269345, 0.07373445, 0.16777113, 0.02479381, 0.0210071 ],\n",
      "       [0.44149017, 0.04005234, 0.35539514, 0.08779014, 0.07527229],\n",
      "       ...,\n",
      "       [0.46156445, 0.05850105, 0.34022486, 0.08592393, 0.05378576],\n",
      "       [0.47601917, 0.108482  , 0.37168986, 0.03384404, 0.0099649 ],\n",
      "       [0.71269345, 0.07373445, 0.16777113, 0.02479381, 0.0210071 ]],\n",
      "      dtype=float32), 85: array([[0.71269345, 0.07373445, 0.16777113, 0.02479381, 0.0210071 ],\n",
      "       [0.71269345, 0.07373445, 0.16777113, 0.02479381, 0.0210071 ],\n",
      "       [0.5951377 , 0.04484344, 0.2301958 , 0.05238104, 0.07744199],\n",
      "       ...,\n",
      "       [0.4888755 , 0.07538414, 0.34300295, 0.05845413, 0.03428332],\n",
      "       [0.2824993 , 0.07703251, 0.53072184, 0.08572599, 0.02402037],\n",
      "       [0.71269345, 0.07373445, 0.16777113, 0.02479381, 0.0210071 ]],\n",
      "      dtype=float32), 75: array([[0.71269345, 0.07373445, 0.16777113, 0.02479381, 0.0210071 ],\n",
      "       [0.71269345, 0.07373445, 0.16777113, 0.02479381, 0.0210071 ],\n",
      "       [0.3702676 , 0.03358227, 0.34055537, 0.11586507, 0.13972965],\n",
      "       ...,\n",
      "       [0.50571066, 0.07676537, 0.34418967, 0.05184993, 0.02148436],\n",
      "       [0.8535402 , 0.05370885, 0.08721655, 0.00401377, 0.00152065],\n",
      "       [0.71269345, 0.07373445, 0.16777113, 0.02479381, 0.0210071 ]],\n",
      "      dtype=float32), 50: array([[0.71269345, 0.07373445, 0.16777113, 0.02479381, 0.0210071 ],\n",
      "       [0.71269345, 0.07373445, 0.16777113, 0.02479381, 0.0210071 ],\n",
      "       [0.02614533, 0.02693267, 0.62432057, 0.19662692, 0.12597446],\n",
      "       ...,\n",
      "       [0.45289332, 0.07665493, 0.4120611 , 0.04227066, 0.01612002],\n",
      "       [0.6469268 , 0.1436095 , 0.20307955, 0.00476784, 0.00161627],\n",
      "       [0.71269345, 0.07373445, 0.16777113, 0.02479381, 0.0210071 ]],\n",
      "      dtype=float32), 25: array([[7.1269345e-01, 7.3734455e-02, 1.6777113e-01, 2.4793811e-02,\n",
      "        2.1007100e-02],\n",
      "       [7.1269345e-01, 7.3734455e-02, 1.6777113e-01, 2.4793811e-02,\n",
      "        2.1007100e-02],\n",
      "       [9.2020826e-03, 1.7204884e-02, 6.5254164e-01, 1.7373894e-01,\n",
      "        1.4731240e-01],\n",
      "       ...,\n",
      "       [4.1771635e-01, 7.1991645e-02, 4.6770921e-01, 2.9523935e-02,\n",
      "        1.3058765e-02],\n",
      "       [9.4947499e-01, 3.5244402e-02, 1.5126775e-02, 9.3445786e-05,\n",
      "        6.0276026e-05],\n",
      "       [7.1269345e-01, 7.3734455e-02, 1.6777113e-01, 2.4793815e-02,\n",
      "        2.1007100e-02]], dtype=float32), 15: array([[7.12693453e-01, 7.37344548e-02, 1.67771131e-01, 2.47938111e-02,\n",
      "        2.10071001e-02],\n",
      "       [7.12693453e-01, 7.37344548e-02, 1.67771131e-01, 2.47938111e-02,\n",
      "        2.10071001e-02],\n",
      "       [1.65224522e-02, 2.60361340e-02, 6.68000102e-01, 1.50036409e-01,\n",
      "        1.39404893e-01],\n",
      "       ...,\n",
      "       [1.17474794e-01, 3.29320580e-02, 7.60855556e-01, 7.07058609e-02,\n",
      "        1.80318374e-02],\n",
      "       [9.30980086e-01, 4.49493602e-02, 2.38454659e-02, 1.35519062e-04,\n",
      "        8.95295016e-05],\n",
      "       [7.12693453e-01, 7.37344548e-02, 1.67771131e-01, 2.47938149e-02,\n",
      "        2.10071001e-02]], dtype=float32), 10: array([[7.1269345e-01, 7.3734455e-02, 1.6777113e-01, 2.4793811e-02,\n",
      "        2.1007100e-02],\n",
      "       [7.1269345e-01, 7.3734455e-02, 1.6777113e-01, 2.4793811e-02,\n",
      "        2.1007100e-02],\n",
      "       [1.8875733e-02, 2.9950215e-02, 6.8599290e-01, 1.3739039e-01,\n",
      "        1.2779076e-01],\n",
      "       ...,\n",
      "       [1.4981242e-01, 3.8271192e-02, 7.3195088e-01, 6.2314123e-02,\n",
      "        1.7651431e-02],\n",
      "       [9.2091888e-01, 5.1696457e-02, 2.7143814e-02, 1.4309288e-04,\n",
      "        9.7683100e-05],\n",
      "       [7.1269345e-01, 7.3734455e-02, 1.6777113e-01, 2.4793815e-02,\n",
      "        2.1007100e-02]], dtype=float32), 5: array([[7.1269345e-01, 7.3734455e-02, 1.6777113e-01, 2.4793811e-02,\n",
      "        2.1007100e-02],\n",
      "       [7.1269345e-01, 7.3734455e-02, 1.6777113e-01, 2.4793811e-02,\n",
      "        2.1007100e-02],\n",
      "       [1.0032906e-02, 1.5364026e-02, 6.4516681e-01, 1.7128040e-01,\n",
      "        1.5815586e-01],\n",
      "       ...,\n",
      "       [1.5914351e-01, 4.1034322e-02, 7.2303730e-01, 5.8620766e-02,\n",
      "        1.8164087e-02],\n",
      "       [9.2750752e-01, 4.8277494e-02, 2.4024487e-02, 1.1139624e-04,\n",
      "        7.9000500e-05],\n",
      "       [7.1269345e-01, 7.3734455e-02, 1.6777113e-01, 2.4793815e-02,\n",
      "        2.1007100e-02]], dtype=float32), 1: array([[7.1269345e-01, 7.3734455e-02, 1.6777113e-01, 2.4793811e-02,\n",
      "        2.1007100e-02],\n",
      "       [7.1269345e-01, 7.3734455e-02, 1.6777113e-01, 2.4793811e-02,\n",
      "        2.1007100e-02],\n",
      "       [1.2441689e-02, 1.6098673e-02, 6.6110790e-01, 1.4862977e-01,\n",
      "        1.6172205e-01],\n",
      "       ...,\n",
      "       [1.7468011e-01, 4.0670220e-02, 7.1095908e-01, 5.6005768e-02,\n",
      "        1.7684912e-02],\n",
      "       [9.3115598e-01, 4.6232168e-02, 2.2430817e-02, 1.0692465e-04,\n",
      "        7.4160656e-05],\n",
      "       [7.1269345e-01, 7.3734455e-02, 1.6777113e-01, 2.4793815e-02,\n",
      "        2.1007100e-02]], dtype=float32), 0: array([[8.93752098e-01, 8.83543417e-02, 1.78448595e-02, 4.39195537e-05,\n",
      "        4.84293469e-06],\n",
      "       [9.08368826e-01, 4.09528874e-02, 5.03622368e-02, 2.39651723e-04,\n",
      "        7.64532961e-05],\n",
      "       [1.27890427e-02, 1.67057589e-02, 6.70378923e-01, 1.46436870e-01,\n",
      "        1.53689399e-01],\n",
      "       ...,\n",
      "       [1.77840471e-01, 4.10715304e-02, 7.09612131e-01, 5.46135008e-02,\n",
      "        1.68623831e-02],\n",
      "       [9.32725132e-01, 4.54182513e-02, 2.16827337e-02, 1.02160004e-04,\n",
      "        7.17712683e-05],\n",
      "       [8.97488832e-01, 7.47329444e-02, 2.74771824e-02, 2.18378118e-04,\n",
      "        8.27192562e-05]], dtype=float32)}, 'log_likelihood': {100: -2.458239895105362, 99: -2.553688655602932, 95: -2.288391184917092, 90: -2.1825976794332265, 85: -2.108540595240146, 75: -2.0286646441794933, 50: -1.801581757773459, 25: -1.6968070343822241, 15: -1.6678955649778247, 10: -1.657981048212014, 5: -1.65351563818641, 1: -1.6512618515215813, 0: -1.4965153186095879}, 'log_odds': {100: -2.1474829, 99: -2.2355907, 95: -1.9391233, 90: -1.8141698, 85: -1.723824, 75: -1.619724, 50: -1.305925, 25: -1.1238655, 15: -1.0707616, 10: -1.0518266, 5: -1.0403925, 1: -1.0340967, 0: -0.6110032}, 'AUC_acc': 0.324264, 'AUC_auroc': 0.696582511, 'AUC_preds': array([[0.7135988 , 0.07380755, 0.1670215 , 0.02467006, 0.02090209],\n",
      "       [0.71367186, 0.07357055, 0.16718408, 0.02467104, 0.02090245],\n",
      "       [0.17279577, 0.02862752, 0.521776  , 0.14778925, 0.12901145],\n",
      "       ...,\n",
      "       [0.414575  , 0.06643416, 0.44936904, 0.04855617, 0.0210656 ],\n",
      "       [0.7602372 , 0.07713957, 0.14631806, 0.01228387, 0.00402122],\n",
      "       [0.7136175 , 0.07373945, 0.16706966, 0.02467094, 0.02090248]],\n",
      "      dtype=float32), 'AUC_log_likelihood': -1.8798979773766202, 'AUC_log_odds': -1.3891159823536874}, 'pro_in': {'acc': {100: 0.43, 99: 0.4296, 95: 0.4256, 90: 0.4224, 85: 0.4168, 75: 0.4052, 50: 0.3676, 25: 0.3176, 15: 0.2772, 10: 0.2572, 5: 0.2448, 1: 0.2396, 0: 0.2}, 'auroc': {100: 0.84102, 99: 0.8411643999999999, 95: 0.8398912, 90: 0.8376357999999999, 85: 0.8348482, 75: 0.8263193999999998, 50: 0.8070142, 25: 0.7845812000000001, 15: 0.7627086000000001, 10: 0.7438235999999999, 5: 0.7243012999999999, 1: 0.7064644, 0: 0.50005}, 'preds': {100: array([[8.93752098e-01, 8.83543417e-02, 1.78448595e-02, 4.39195537e-05,\n",
      "        4.84293469e-06],\n",
      "       [9.08368826e-01, 4.09528874e-02, 5.03622368e-02, 2.39651723e-04,\n",
      "        7.64532961e-05],\n",
      "       [1.27890427e-02, 1.67057589e-02, 6.70378923e-01, 1.46436870e-01,\n",
      "        1.53689399e-01],\n",
      "       ...,\n",
      "       [1.77840471e-01, 4.10715304e-02, 7.09612131e-01, 5.46135008e-02,\n",
      "        1.68623831e-02],\n",
      "       [9.32725132e-01, 4.54182513e-02, 2.16827337e-02, 1.02160004e-04,\n",
      "        7.17712683e-05],\n",
      "       [8.97488832e-01, 7.47329444e-02, 2.74771824e-02, 2.18378118e-04,\n",
      "        8.27192562e-05]], dtype=float32), 99: array([[8.9375210e-01, 8.8354342e-02, 1.7844860e-02, 4.3919554e-05,\n",
      "        4.8429347e-06],\n",
      "       [9.0836883e-01, 4.0952887e-02, 5.0362237e-02, 2.3965172e-04,\n",
      "        7.6453296e-05],\n",
      "       [1.3887777e-02, 1.7478243e-02, 6.6765845e-01, 1.4333394e-01,\n",
      "        1.5764160e-01],\n",
      "       ...,\n",
      "       [1.7776421e-01, 4.1201990e-02, 7.0980906e-01, 5.4570649e-02,\n",
      "        1.6654171e-02],\n",
      "       [9.3382585e-01, 4.6268493e-02, 1.9767819e-02, 8.4315223e-05,\n",
      "        5.3585787e-05],\n",
      "       [8.9748883e-01, 7.4732944e-02, 2.7477182e-02, 2.1837812e-04,\n",
      "        8.2719256e-05]], dtype=float32), 95: array([[8.9375210e-01, 8.8354342e-02, 1.7844860e-02, 4.3919554e-05,\n",
      "        4.8429347e-06],\n",
      "       [9.0836883e-01, 4.0952887e-02, 5.0362237e-02, 2.3965172e-04,\n",
      "        7.6453296e-05],\n",
      "       [1.2966500e-02, 1.5945978e-02, 6.1397022e-01, 1.5721528e-01,\n",
      "        1.9990207e-01],\n",
      "       ...,\n",
      "       [1.8128616e-01, 4.2473674e-02, 7.0314837e-01, 5.6041166e-02,\n",
      "        1.7050637e-02],\n",
      "       [9.1548425e-01, 5.6573913e-02, 2.7726565e-02, 1.3706970e-04,\n",
      "        7.8246383e-05],\n",
      "       [8.9748883e-01, 7.4732944e-02, 2.7477182e-02, 2.1837812e-04,\n",
      "        8.2719256e-05]], dtype=float32), 90: array([[8.9375210e-01, 8.8354342e-02, 1.7844860e-02, 4.3919554e-05,\n",
      "        4.8429347e-06],\n",
      "       [9.0836883e-01, 4.0952887e-02, 5.0362237e-02, 2.3965172e-04,\n",
      "        7.6453296e-05],\n",
      "       [2.5109189e-02, 1.6083226e-02, 6.2895823e-01, 1.5287103e-01,\n",
      "        1.7697828e-01],\n",
      "       ...,\n",
      "       [1.8966845e-01, 4.4488989e-02, 6.8970037e-01, 5.8656316e-02,\n",
      "        1.7485950e-02],\n",
      "       [8.7991655e-01, 7.3135756e-02, 4.6593439e-02, 2.4961712e-04,\n",
      "        1.0467000e-04],\n",
      "       [8.9748883e-01, 7.4732944e-02, 2.7477182e-02, 2.1837812e-04,\n",
      "        8.2719256e-05]], dtype=float32), 85: array([[8.9375210e-01, 8.8354342e-02, 1.7844860e-02, 4.3919554e-05,\n",
      "        4.8429347e-06],\n",
      "       [9.0836883e-01, 4.0952887e-02, 5.0362237e-02, 2.3965172e-04,\n",
      "        7.6453296e-05],\n",
      "       [4.2647593e-02, 1.1560833e-02, 5.9599411e-01, 1.7028122e-01,\n",
      "        1.7951612e-01],\n",
      "       ...,\n",
      "       [1.8192950e-01, 4.4299383e-02, 6.9039625e-01, 6.4351842e-02,\n",
      "        1.9023001e-02],\n",
      "       [8.9804596e-01, 6.8644322e-02, 3.3075668e-02, 1.6314417e-04,\n",
      "        7.0869530e-05],\n",
      "       [8.9748883e-01, 7.4732944e-02, 2.7477182e-02, 2.1837812e-04,\n",
      "        8.2719256e-05]], dtype=float32), 75: array([[8.9375210e-01, 8.8354342e-02, 1.7844860e-02, 4.3919554e-05,\n",
      "        4.8429347e-06],\n",
      "       [9.0836883e-01, 4.0952887e-02, 5.0362237e-02, 2.3965172e-04,\n",
      "        7.6453296e-05],\n",
      "       [4.6247441e-02, 1.0144942e-02, 5.1424503e-01, 2.0013043e-01,\n",
      "        2.2923216e-01],\n",
      "       ...,\n",
      "       [2.3407987e-01, 4.9601506e-02, 6.3869673e-01, 5.9654612e-02,\n",
      "        1.7967349e-02],\n",
      "       [9.3484539e-01, 5.1330291e-02, 1.3711536e-02, 6.9691378e-05,\n",
      "        4.3108630e-05],\n",
      "       [8.9748883e-01, 7.4732944e-02, 2.7477182e-02, 2.1837812e-04,\n",
      "        8.2719256e-05]], dtype=float32), 50: array([[8.9375210e-01, 8.8354342e-02, 1.7844860e-02, 4.3919554e-05,\n",
      "        4.8429347e-06],\n",
      "       [9.0836883e-01, 4.0952887e-02, 5.0362237e-02, 2.3965172e-04,\n",
      "        7.6453296e-05],\n",
      "       [2.9229198e-02, 6.4384267e-03, 3.8206860e-01, 2.6182336e-01,\n",
      "        3.2044035e-01],\n",
      "       ...,\n",
      "       [3.2208931e-01, 5.2415639e-02, 5.0327677e-01, 8.0551468e-02,\n",
      "        4.1666802e-02],\n",
      "       [8.6009127e-01, 7.2419971e-02, 6.6269644e-02, 9.9214446e-04,\n",
      "        2.2684968e-04],\n",
      "       [8.9748883e-01, 7.4732944e-02, 2.7477182e-02, 2.1837812e-04,\n",
      "        8.2719256e-05]], dtype=float32), 25: array([[8.9375210e-01, 8.8354342e-02, 1.7844860e-02, 4.3919554e-05,\n",
      "        4.8429347e-06],\n",
      "       [9.0836883e-01, 4.0952887e-02, 5.0362237e-02, 2.3965172e-04,\n",
      "        7.6453296e-05],\n",
      "       [9.6241495e-04, 6.7228160e-04, 3.2283854e-01, 4.6722239e-01,\n",
      "        2.0830435e-01],\n",
      "       ...,\n",
      "       [6.2821180e-01, 5.5560596e-02, 2.5000492e-01, 3.7206743e-02,\n",
      "        2.9015975e-02],\n",
      "       [9.1299123e-01, 4.8997417e-02, 3.7437826e-02, 4.9193570e-04,\n",
      "        8.1468082e-05],\n",
      "       [8.9748883e-01, 7.4732944e-02, 2.7477182e-02, 2.1837812e-04,\n",
      "        8.2719256e-05]], dtype=float32), 15: array([[8.9375210e-01, 8.8354342e-02, 1.7844860e-02, 4.3919554e-05,\n",
      "        4.8429347e-06],\n",
      "       [9.0836883e-01, 4.0952887e-02, 5.0362237e-02, 2.3965172e-04,\n",
      "        7.6453296e-05],\n",
      "       [2.2526981e-02, 7.7582938e-03, 5.0782651e-01, 2.2740620e-01,\n",
      "        2.3448202e-01],\n",
      "       ...,\n",
      "       [6.8120492e-01, 6.4925656e-02, 2.0822148e-01, 2.7471071e-02,\n",
      "        1.8176908e-02],\n",
      "       [8.6634821e-01, 5.6981348e-02, 7.4014209e-02, 2.0693624e-03,\n",
      "        5.8692967e-04],\n",
      "       [8.9748883e-01, 7.4732944e-02, 2.7477182e-02, 2.1837812e-04,\n",
      "        8.2719256e-05]], dtype=float32), 10: array([[8.9375210e-01, 8.8354342e-02, 1.7844860e-02, 4.3919554e-05,\n",
      "        4.8429347e-06],\n",
      "       [9.0836883e-01, 4.0952887e-02, 5.0362237e-02, 2.3965172e-04,\n",
      "        7.6453296e-05],\n",
      "       [1.0101620e-01, 1.0340541e-02, 4.3863618e-01, 2.3388003e-01,\n",
      "        2.1612711e-01],\n",
      "       ...,\n",
      "       [6.6043615e-01, 6.4340137e-02, 2.1652871e-01, 3.4096785e-02,\n",
      "        2.4598207e-02],\n",
      "       [8.7402827e-01, 5.4176275e-02, 6.7410506e-02, 2.9653260e-03,\n",
      "        1.4196231e-03],\n",
      "       [8.9748883e-01, 7.4732944e-02, 2.7477182e-02, 2.1837812e-04,\n",
      "        8.2719256e-05]], dtype=float32), 5: array([[8.93752098e-01, 8.83543417e-02, 1.78448595e-02, 4.39195537e-05,\n",
      "        4.84293469e-06],\n",
      "       [9.08368826e-01, 4.09528874e-02, 5.03622368e-02, 2.39651723e-04,\n",
      "        7.64532961e-05],\n",
      "       [6.30660117e-01, 4.89146225e-02, 2.31066287e-01, 4.06212136e-02,\n",
      "        4.87377457e-02],\n",
      "       ...,\n",
      "       [7.53981531e-01, 6.86460212e-02, 1.49018988e-01, 1.66579280e-02,\n",
      "        1.16955368e-02],\n",
      "       [7.87600160e-01, 6.82886392e-02, 1.23563685e-01, 1.18536884e-02,\n",
      "        8.69381148e-03],\n",
      "       [8.97488832e-01, 7.47329444e-02, 2.74771824e-02, 2.18378118e-04,\n",
      "        8.27192562e-05]], dtype=float32), 1: array([[8.9375210e-01, 8.8354342e-02, 1.7844860e-02, 4.3919554e-05,\n",
      "        4.8429347e-06],\n",
      "       [9.0836883e-01, 4.0952887e-02, 5.0362237e-02, 2.3965172e-04,\n",
      "        7.6453296e-05],\n",
      "       [7.5859946e-01, 7.2134115e-02, 1.4343455e-01, 1.5731195e-02,\n",
      "        1.0100744e-02],\n",
      "       ...,\n",
      "       [7.1266276e-01, 7.3745020e-02, 1.6778159e-01, 2.4798872e-02,\n",
      "        2.1011736e-02],\n",
      "       [7.7071702e-01, 7.2255544e-02, 1.3515630e-01, 1.3634029e-02,\n",
      "        8.2370797e-03],\n",
      "       [8.9748883e-01, 7.4732944e-02, 2.7477182e-02, 2.1837812e-04,\n",
      "        8.2719256e-05]], dtype=float32), 0: array([[0.71269345, 0.07373445, 0.16777113, 0.02479381, 0.0210071 ],\n",
      "       [0.71269345, 0.07373445, 0.16777113, 0.02479381, 0.0210071 ],\n",
      "       [0.71269345, 0.07373445, 0.16777113, 0.02479381, 0.0210071 ],\n",
      "       ...,\n",
      "       [0.71269345, 0.07373445, 0.16777113, 0.02479381, 0.0210071 ],\n",
      "       [0.71269345, 0.07373445, 0.16777113, 0.02479381, 0.0210071 ],\n",
      "       [0.71269345, 0.07373445, 0.16777113, 0.02479381, 0.0210071 ]],\n",
      "      dtype=float32)}, 'log_likelihood': {100: -1.4965153186095879, 99: -1.4967036930710078, 95: -1.5012176467448473, 90: -1.5113022213544696, 85: -1.5233813650060446, 75: -1.562039017044753, 50: -1.6412167999893428, 25: -1.7762784688379616, 15: -1.9531787136349827, 10: -2.106724597475305, 5: -2.2251773264769463, 1: -2.286453313637152, 0: -2.458239895105362}, 'log_odds': {100: -0.6110032, 99: -0.61227334, 95: -0.62558335, 90: -0.6477458, 85: -0.6734235, 75: -0.7462997, 50: -0.89180195, 25: -1.0890554, 15: -1.3137676, 10: -1.496208, 5: -1.6342825, 1: -1.7059097, 0: -2.1474829}, 'AUC_acc': 0.354468, 'AUC_auroc': 0.7983356174999998, 'AUC_preds': array([[8.92846823e-01, 8.82812440e-02, 1.85944922e-02, 1.67669015e-04,\n",
      "        1.09854220e-04],\n",
      "       [9.07390535e-01, 4.11167890e-02, 5.09492792e-02, 3.62422492e-04,\n",
      "        1.81106530e-04],\n",
      "       [7.86661804e-02, 1.18839815e-02, 4.40667719e-01, 2.45142102e-01,\n",
      "        2.23639950e-01],\n",
      "       ...,\n",
      "       [4.07464117e-01, 5.35886958e-02, 4.58723992e-01, 5.42657152e-02,\n",
      "        2.59575564e-02],\n",
      "       [8.85900497e-01, 6.06275499e-02, 5.08789197e-02, 1.68152840e-03,\n",
      "        9.11466544e-04],\n",
      "       [8.96564782e-01, 7.47279525e-02, 2.81786490e-02, 3.41255305e-04,\n",
      "        1.87341167e-04]], dtype=float32), 'AUC_log_likelihood': -1.7181935818976362, 'AUC_log_odds': -0.97381561845541}}\n",
      "gradcam\n"
     ]
    },
    {
     "name": "stdout",
     "output_type": "stream",
     "text": [
      "100\n"
     ]
    },
    {
     "name": "stderr",
     "output_type": "stream",
     "text": [
      "2022-05-17 01:04:00.682289: I tensorflow/core/common_runtime/gpu_fusion_pass.cc:507] ROCm Fusion is enabled.\n",
      "2022-05-17 01:04:00.686103: I tensorflow/core/common_runtime/gpu_fusion_pass.cc:507] ROCm Fusion is enabled.\n",
      "2022-05-17 01:04:00.688412: I tensorflow/core/common_runtime/gpu_fusion_pass.cc:507] ROCm Fusion is enabled.\n"
     ]
    },
    {
     "name": "stdout",
     "output_type": "stream",
     "text": [
      "99\n"
     ]
    },
    {
     "name": "stderr",
     "output_type": "stream",
     "text": [
      "2022-05-17 01:04:53.388141: I tensorflow/core/common_runtime/gpu_fusion_pass.cc:507] ROCm Fusion is enabled.\n",
      "2022-05-17 01:04:53.391943: I tensorflow/core/common_runtime/gpu_fusion_pass.cc:507] ROCm Fusion is enabled.\n",
      "2022-05-17 01:04:53.394266: I tensorflow/core/common_runtime/gpu_fusion_pass.cc:507] ROCm Fusion is enabled.\n"
     ]
    },
    {
     "name": "stdout",
     "output_type": "stream",
     "text": [
      "95\n"
     ]
    },
    {
     "name": "stderr",
     "output_type": "stream",
     "text": [
      "2022-05-17 01:05:44.578718: I tensorflow/core/common_runtime/gpu_fusion_pass.cc:507] ROCm Fusion is enabled.\n",
      "2022-05-17 01:05:44.582722: I tensorflow/core/common_runtime/gpu_fusion_pass.cc:507] ROCm Fusion is enabled.\n",
      "2022-05-17 01:05:44.585056: I tensorflow/core/common_runtime/gpu_fusion_pass.cc:507] ROCm Fusion is enabled.\n"
     ]
    },
    {
     "name": "stdout",
     "output_type": "stream",
     "text": [
      "90\n"
     ]
    },
    {
     "name": "stderr",
     "output_type": "stream",
     "text": [
      "2022-05-17 01:06:36.055633: I tensorflow/core/common_runtime/gpu_fusion_pass.cc:507] ROCm Fusion is enabled.\n",
      "2022-05-17 01:06:36.059541: I tensorflow/core/common_runtime/gpu_fusion_pass.cc:507] ROCm Fusion is enabled.\n",
      "2022-05-17 01:06:36.061862: I tensorflow/core/common_runtime/gpu_fusion_pass.cc:507] ROCm Fusion is enabled.\n"
     ]
    },
    {
     "name": "stdout",
     "output_type": "stream",
     "text": [
      "85\n"
     ]
    },
    {
     "name": "stderr",
     "output_type": "stream",
     "text": [
      "2022-05-17 01:07:27.812609: I tensorflow/core/common_runtime/gpu_fusion_pass.cc:507] ROCm Fusion is enabled.\n",
      "2022-05-17 01:07:27.816568: I tensorflow/core/common_runtime/gpu_fusion_pass.cc:507] ROCm Fusion is enabled.\n",
      "2022-05-17 01:07:27.818848: I tensorflow/core/common_runtime/gpu_fusion_pass.cc:507] ROCm Fusion is enabled.\n"
     ]
    },
    {
     "name": "stdout",
     "output_type": "stream",
     "text": [
      "75\n"
     ]
    },
    {
     "name": "stderr",
     "output_type": "stream",
     "text": [
      "2022-05-17 01:08:19.653166: I tensorflow/core/common_runtime/gpu_fusion_pass.cc:507] ROCm Fusion is enabled.\n",
      "2022-05-17 01:08:19.657120: I tensorflow/core/common_runtime/gpu_fusion_pass.cc:507] ROCm Fusion is enabled.\n",
      "2022-05-17 01:08:19.659404: I tensorflow/core/common_runtime/gpu_fusion_pass.cc:507] ROCm Fusion is enabled.\n"
     ]
    },
    {
     "name": "stdout",
     "output_type": "stream",
     "text": [
      "50\n"
     ]
    },
    {
     "name": "stderr",
     "output_type": "stream",
     "text": [
      "2022-05-17 01:09:11.809977: I tensorflow/core/common_runtime/gpu_fusion_pass.cc:507] ROCm Fusion is enabled.\n",
      "2022-05-17 01:09:11.813856: I tensorflow/core/common_runtime/gpu_fusion_pass.cc:507] ROCm Fusion is enabled.\n",
      "2022-05-17 01:09:11.816231: I tensorflow/core/common_runtime/gpu_fusion_pass.cc:507] ROCm Fusion is enabled.\n"
     ]
    },
    {
     "name": "stdout",
     "output_type": "stream",
     "text": [
      "25\n"
     ]
    },
    {
     "name": "stderr",
     "output_type": "stream",
     "text": [
      "2022-05-17 01:10:04.001254: I tensorflow/core/common_runtime/gpu_fusion_pass.cc:507] ROCm Fusion is enabled.\n",
      "2022-05-17 01:10:04.005164: I tensorflow/core/common_runtime/gpu_fusion_pass.cc:507] ROCm Fusion is enabled.\n",
      "2022-05-17 01:10:04.007451: I tensorflow/core/common_runtime/gpu_fusion_pass.cc:507] ROCm Fusion is enabled.\n"
     ]
    },
    {
     "name": "stdout",
     "output_type": "stream",
     "text": [
      "15\n"
     ]
    },
    {
     "name": "stderr",
     "output_type": "stream",
     "text": [
      "2022-05-17 01:10:56.097809: I tensorflow/core/common_runtime/gpu_fusion_pass.cc:507] ROCm Fusion is enabled.\n",
      "2022-05-17 01:10:56.101649: I tensorflow/core/common_runtime/gpu_fusion_pass.cc:507] ROCm Fusion is enabled.\n",
      "2022-05-17 01:10:56.103933: I tensorflow/core/common_runtime/gpu_fusion_pass.cc:507] ROCm Fusion is enabled.\n"
     ]
    },
    {
     "name": "stdout",
     "output_type": "stream",
     "text": [
      "10\n"
     ]
    },
    {
     "name": "stderr",
     "output_type": "stream",
     "text": [
      "2022-05-17 01:11:47.848855: I tensorflow/core/common_runtime/gpu_fusion_pass.cc:507] ROCm Fusion is enabled.\n",
      "2022-05-17 01:11:47.852689: I tensorflow/core/common_runtime/gpu_fusion_pass.cc:507] ROCm Fusion is enabled.\n",
      "2022-05-17 01:11:47.854971: I tensorflow/core/common_runtime/gpu_fusion_pass.cc:507] ROCm Fusion is enabled.\n"
     ]
    },
    {
     "name": "stdout",
     "output_type": "stream",
     "text": [
      "5\n"
     ]
    },
    {
     "name": "stderr",
     "output_type": "stream",
     "text": [
      "2022-05-17 01:12:39.421234: I tensorflow/core/common_runtime/gpu_fusion_pass.cc:507] ROCm Fusion is enabled.\n",
      "2022-05-17 01:12:39.425077: I tensorflow/core/common_runtime/gpu_fusion_pass.cc:507] ROCm Fusion is enabled.\n",
      "2022-05-17 01:12:39.427383: I tensorflow/core/common_runtime/gpu_fusion_pass.cc:507] ROCm Fusion is enabled.\n"
     ]
    },
    {
     "name": "stdout",
     "output_type": "stream",
     "text": [
      "1\n"
     ]
    },
    {
     "name": "stderr",
     "output_type": "stream",
     "text": [
      "2022-05-17 01:13:31.062224: I tensorflow/core/common_runtime/gpu_fusion_pass.cc:507] ROCm Fusion is enabled.\n",
      "2022-05-17 01:13:31.066075: I tensorflow/core/common_runtime/gpu_fusion_pass.cc:507] ROCm Fusion is enabled.\n",
      "2022-05-17 01:13:31.068356: I tensorflow/core/common_runtime/gpu_fusion_pass.cc:507] ROCm Fusion is enabled.\n"
     ]
    },
    {
     "name": "stdout",
     "output_type": "stream",
     "text": [
      "0\n"
     ]
    },
    {
     "name": "stderr",
     "output_type": "stream",
     "text": [
      "2022-05-17 01:13:59.669941: I tensorflow/core/common_runtime/gpu_fusion_pass.cc:507] ROCm Fusion is enabled.\n",
      "2022-05-17 01:13:59.673704: I tensorflow/core/common_runtime/gpu_fusion_pass.cc:507] ROCm Fusion is enabled.\n",
      "2022-05-17 01:13:59.675993: I tensorflow/core/common_runtime/gpu_fusion_pass.cc:507] ROCm Fusion is enabled.\n",
      "/vast/nj594/xai/helpers/evaluate.py:59: VisibleDeprecationWarning: Creating an ndarray from ragged nested sequences (which is a list-or-tuple of lists-or-tuples-or ndarrays with different lengths or shapes) is deprecated. If you meant to do this, you must specify 'dtype=object' when creating the ndarray\n",
      "  r_ = np.array([[float(p), n] for p,n in r.items()])\n"
     ]
    },
    {
     "name": "stdout",
     "output_type": "stream",
     "text": [
      "100\n"
     ]
    },
    {
     "name": "stderr",
     "output_type": "stream",
     "text": [
      "2022-05-17 01:14:28.763134: I tensorflow/core/common_runtime/gpu_fusion_pass.cc:507] ROCm Fusion is enabled.\n",
      "2022-05-17 01:14:28.766995: I tensorflow/core/common_runtime/gpu_fusion_pass.cc:507] ROCm Fusion is enabled.\n",
      "2022-05-17 01:14:28.769353: I tensorflow/core/common_runtime/gpu_fusion_pass.cc:507] ROCm Fusion is enabled.\n"
     ]
    },
    {
     "name": "stdout",
     "output_type": "stream",
     "text": [
      "99\n"
     ]
    },
    {
     "name": "stderr",
     "output_type": "stream",
     "text": [
      "2022-05-17 01:15:20.002168: I tensorflow/core/common_runtime/gpu_fusion_pass.cc:507] ROCm Fusion is enabled.\n",
      "2022-05-17 01:15:20.006207: I tensorflow/core/common_runtime/gpu_fusion_pass.cc:507] ROCm Fusion is enabled.\n",
      "2022-05-17 01:15:20.008621: I tensorflow/core/common_runtime/gpu_fusion_pass.cc:507] ROCm Fusion is enabled.\n"
     ]
    },
    {
     "name": "stdout",
     "output_type": "stream",
     "text": [
      "95\n"
     ]
    },
    {
     "name": "stderr",
     "output_type": "stream",
     "text": [
      "2022-05-17 01:16:11.672169: I tensorflow/core/common_runtime/gpu_fusion_pass.cc:507] ROCm Fusion is enabled.\n",
      "2022-05-17 01:16:11.675915: I tensorflow/core/common_runtime/gpu_fusion_pass.cc:507] ROCm Fusion is enabled.\n",
      "2022-05-17 01:16:11.678286: I tensorflow/core/common_runtime/gpu_fusion_pass.cc:507] ROCm Fusion is enabled.\n"
     ]
    },
    {
     "name": "stdout",
     "output_type": "stream",
     "text": [
      "90\n"
     ]
    },
    {
     "name": "stderr",
     "output_type": "stream",
     "text": [
      "2022-05-17 01:17:03.304425: I tensorflow/core/common_runtime/gpu_fusion_pass.cc:507] ROCm Fusion is enabled.\n",
      "2022-05-17 01:17:03.308377: I tensorflow/core/common_runtime/gpu_fusion_pass.cc:507] ROCm Fusion is enabled.\n",
      "2022-05-17 01:17:03.310674: I tensorflow/core/common_runtime/gpu_fusion_pass.cc:507] ROCm Fusion is enabled.\n"
     ]
    },
    {
     "name": "stdout",
     "output_type": "stream",
     "text": [
      "85\n"
     ]
    },
    {
     "name": "stderr",
     "output_type": "stream",
     "text": [
      "2022-05-17 01:17:55.254453: I tensorflow/core/common_runtime/gpu_fusion_pass.cc:507] ROCm Fusion is enabled.\n",
      "2022-05-17 01:17:55.258439: I tensorflow/core/common_runtime/gpu_fusion_pass.cc:507] ROCm Fusion is enabled.\n",
      "2022-05-17 01:17:55.260722: I tensorflow/core/common_runtime/gpu_fusion_pass.cc:507] ROCm Fusion is enabled.\n"
     ]
    },
    {
     "name": "stdout",
     "output_type": "stream",
     "text": [
      "75\n"
     ]
    },
    {
     "name": "stderr",
     "output_type": "stream",
     "text": [
      "2022-05-17 01:18:47.425842: I tensorflow/core/common_runtime/gpu_fusion_pass.cc:507] ROCm Fusion is enabled.\n",
      "2022-05-17 01:18:47.429639: I tensorflow/core/common_runtime/gpu_fusion_pass.cc:507] ROCm Fusion is enabled.\n",
      "2022-05-17 01:18:47.431946: I tensorflow/core/common_runtime/gpu_fusion_pass.cc:507] ROCm Fusion is enabled.\n"
     ]
    },
    {
     "name": "stdout",
     "output_type": "stream",
     "text": [
      "50\n"
     ]
    },
    {
     "name": "stderr",
     "output_type": "stream",
     "text": [
      "2022-05-17 01:19:39.906882: I tensorflow/core/common_runtime/gpu_fusion_pass.cc:507] ROCm Fusion is enabled.\n",
      "2022-05-17 01:19:39.910677: I tensorflow/core/common_runtime/gpu_fusion_pass.cc:507] ROCm Fusion is enabled.\n",
      "2022-05-17 01:19:39.912989: I tensorflow/core/common_runtime/gpu_fusion_pass.cc:507] ROCm Fusion is enabled.\n"
     ]
    },
    {
     "name": "stdout",
     "output_type": "stream",
     "text": [
      "25\n"
     ]
    },
    {
     "name": "stderr",
     "output_type": "stream",
     "text": [
      "2022-05-17 01:20:31.937420: I tensorflow/core/common_runtime/gpu_fusion_pass.cc:507] ROCm Fusion is enabled.\n",
      "2022-05-17 01:20:31.941249: I tensorflow/core/common_runtime/gpu_fusion_pass.cc:507] ROCm Fusion is enabled.\n",
      "2022-05-17 01:20:31.943542: I tensorflow/core/common_runtime/gpu_fusion_pass.cc:507] ROCm Fusion is enabled.\n"
     ]
    },
    {
     "name": "stdout",
     "output_type": "stream",
     "text": [
      "15\n"
     ]
    },
    {
     "name": "stderr",
     "output_type": "stream",
     "text": [
      "2022-05-17 01:21:23.962583: I tensorflow/core/common_runtime/gpu_fusion_pass.cc:507] ROCm Fusion is enabled.\n",
      "2022-05-17 01:21:23.966393: I tensorflow/core/common_runtime/gpu_fusion_pass.cc:507] ROCm Fusion is enabled.\n",
      "2022-05-17 01:21:23.968692: I tensorflow/core/common_runtime/gpu_fusion_pass.cc:507] ROCm Fusion is enabled.\n"
     ]
    },
    {
     "name": "stdout",
     "output_type": "stream",
     "text": [
      "10\n"
     ]
    },
    {
     "name": "stderr",
     "output_type": "stream",
     "text": [
      "2022-05-17 01:22:15.629723: I tensorflow/core/common_runtime/gpu_fusion_pass.cc:507] ROCm Fusion is enabled.\n",
      "2022-05-17 01:22:15.633542: I tensorflow/core/common_runtime/gpu_fusion_pass.cc:507] ROCm Fusion is enabled.\n",
      "2022-05-17 01:22:15.635841: I tensorflow/core/common_runtime/gpu_fusion_pass.cc:507] ROCm Fusion is enabled.\n"
     ]
    },
    {
     "name": "stdout",
     "output_type": "stream",
     "text": [
      "5\n"
     ]
    },
    {
     "name": "stderr",
     "output_type": "stream",
     "text": [
      "2022-05-17 01:23:06.979025: I tensorflow/core/common_runtime/gpu_fusion_pass.cc:507] ROCm Fusion is enabled.\n",
      "2022-05-17 01:23:06.982869: I tensorflow/core/common_runtime/gpu_fusion_pass.cc:507] ROCm Fusion is enabled.\n",
      "2022-05-17 01:23:06.985183: I tensorflow/core/common_runtime/gpu_fusion_pass.cc:507] ROCm Fusion is enabled.\n"
     ]
    },
    {
     "name": "stdout",
     "output_type": "stream",
     "text": [
      "1\n"
     ]
    },
    {
     "name": "stderr",
     "output_type": "stream",
     "text": [
      "2022-05-17 01:23:58.461254: I tensorflow/core/common_runtime/gpu_fusion_pass.cc:507] ROCm Fusion is enabled.\n",
      "2022-05-17 01:23:58.465064: I tensorflow/core/common_runtime/gpu_fusion_pass.cc:507] ROCm Fusion is enabled.\n",
      "2022-05-17 01:23:58.467370: I tensorflow/core/common_runtime/gpu_fusion_pass.cc:507] ROCm Fusion is enabled.\n"
     ]
    },
    {
     "name": "stdout",
     "output_type": "stream",
     "text": [
      "0\n"
     ]
    },
    {
     "name": "stderr",
     "output_type": "stream",
     "text": [
      "2022-05-17 01:24:27.074569: I tensorflow/core/common_runtime/gpu_fusion_pass.cc:507] ROCm Fusion is enabled.\n",
      "2022-05-17 01:24:27.078312: I tensorflow/core/common_runtime/gpu_fusion_pass.cc:507] ROCm Fusion is enabled.\n",
      "2022-05-17 01:24:27.080599: I tensorflow/core/common_runtime/gpu_fusion_pass.cc:507] ROCm Fusion is enabled.\n",
      "/vast/nj594/xai/helpers/evaluate.py:59: VisibleDeprecationWarning: Creating an ndarray from ragged nested sequences (which is a list-or-tuple of lists-or-tuples-or ndarrays with different lengths or shapes) is deprecated. If you meant to do this, you must specify 'dtype=object' when creating the ndarray\n",
      "  r_ = np.array([[float(p), n] for p,n in r.items()])\n"
     ]
    },
    {
     "name": "stdout",
     "output_type": "stream",
     "text": [
      "{'retro_ex': {'acc': {100: 0.2, 99: 0.2184, 95: 0.2032, 90: 0.1964, 85: 0.196, 75: 0.202, 50: 0.22, 25: 0.2656, 15: 0.3, 10: 0.322, 5: 0.3588, 1: 0.4036, 0: 0.43}, 'auroc': {100: 0.50005, 99: 0.4694388, 95: 0.41155050000000004, 90: 0.3967914, 85: 0.39408580000000004, 75: 0.4045369, 50: 0.5247874, 25: 0.6640124000000001, 15: 0.7173520999999999, 10: 0.746994, 5: 0.7827518, 1: 0.8224754000000001, 0: 0.84102}, 'preds': {100: array([[0.71269345, 0.07373445, 0.16777113, 0.02479381, 0.0210071 ],\n",
      "       [0.71269345, 0.07373445, 0.16777113, 0.02479381, 0.0210071 ],\n",
      "       [0.71269345, 0.07373445, 0.16777113, 0.02479381, 0.0210071 ],\n",
      "       ...,\n",
      "       [0.71269345, 0.07373445, 0.16777113, 0.02479381, 0.0210071 ],\n",
      "       [0.71269345, 0.07373445, 0.16777113, 0.02479381, 0.0210071 ],\n",
      "       [0.71269345, 0.07373445, 0.16777113, 0.02479381, 0.0210071 ]],\n",
      "      dtype=float32), 99: array([[0.697116  , 0.06754112, 0.16952185, 0.0283695 , 0.03745152],\n",
      "       [0.7065295 , 0.06099701, 0.16880445, 0.02771813, 0.03595086],\n",
      "       [0.0110848 , 0.01863048, 0.5045685 , 0.30408752, 0.16162862],\n",
      "       ...,\n",
      "       [0.6767547 , 0.06978931, 0.19063519, 0.03412306, 0.02869767],\n",
      "       [0.5539236 , 0.04744396, 0.21845765, 0.06410462, 0.11607012],\n",
      "       [0.7298412 , 0.06816894, 0.15774938, 0.02195939, 0.0222812 ]],\n",
      "      dtype=float32), 95: array([[0.58325505, 0.05188005, 0.19670849, 0.04940312, 0.11875325],\n",
      "       [0.56362176, 0.03152101, 0.20055984, 0.04498272, 0.15931468],\n",
      "       [0.00087353, 0.01302978, 0.358273  , 0.24656528, 0.38125843],\n",
      "       ...,\n",
      "       [0.6497378 , 0.07904318, 0.22034568, 0.03237724, 0.01849611],\n",
      "       [0.4546473 , 0.04365614, 0.32254368, 0.09302393, 0.0861289 ],\n",
      "       [0.7513803 , 0.05095574, 0.14570789, 0.01904043, 0.03291567]],\n",
      "      dtype=float32), 90: array([[5.8767104e-01, 5.1214240e-02, 1.8926869e-01, 4.5697358e-02,\n",
      "        1.2614866e-01],\n",
      "       [6.5095925e-01, 2.5399799e-02, 1.2867674e-01, 1.9478766e-02,\n",
      "        1.7548546e-01],\n",
      "       [2.1131393e-04, 5.7912967e-04, 1.4523569e-01, 4.6259496e-01,\n",
      "        3.9137885e-01],\n",
      "       ...,\n",
      "       [6.2955111e-01, 7.7441938e-02, 2.4934345e-01, 3.0779095e-02,\n",
      "        1.2884409e-02],\n",
      "       [6.6121066e-01, 4.3425396e-02, 1.9642840e-01, 3.8967207e-02,\n",
      "        5.9968315e-02],\n",
      "       [4.1447505e-01, 3.1330034e-02, 2.2801641e-01, 7.5818472e-02,\n",
      "        2.5036010e-01]], dtype=float32), 85: array([[6.3017684e-01, 5.5177677e-02, 1.8089195e-01, 3.7762530e-02,\n",
      "        9.5991053e-02],\n",
      "       [7.4710387e-01, 2.5973380e-02, 1.0895034e-01, 1.1905195e-02,\n",
      "        1.0606725e-01],\n",
      "       [6.6986558e-04, 4.7614559e-04, 9.6321113e-02, 3.7750560e-01,\n",
      "        5.2502722e-01],\n",
      "       ...,\n",
      "       [5.3894192e-01, 8.2457609e-02, 3.2092902e-01, 4.3114509e-02,\n",
      "        1.4556903e-02],\n",
      "       [7.8610969e-01, 4.7444981e-02, 1.3717112e-01, 1.4507277e-02,\n",
      "        1.4767014e-02],\n",
      "       [5.3946471e-01, 4.1551821e-02, 2.1242681e-01, 5.1141530e-02,\n",
      "        1.5541513e-01]], dtype=float32), 75: array([[6.3575953e-01, 5.2723836e-02, 1.5284878e-01, 3.2144669e-02,\n",
      "        1.2652323e-01],\n",
      "       [7.9260236e-01, 2.2762122e-02, 9.1829695e-02, 8.2561877e-03,\n",
      "        8.4549591e-02],\n",
      "       [5.0180167e-04, 3.3184164e-04, 8.7211080e-02, 3.5829583e-01,\n",
      "        5.5365950e-01],\n",
      "       ...,\n",
      "       [6.3528907e-01, 9.7584404e-02, 2.4463041e-01, 1.8427258e-02,\n",
      "        4.0688887e-03],\n",
      "       [8.8219845e-01, 4.3503664e-02, 6.9393381e-02, 3.0668308e-03,\n",
      "        1.8376461e-03],\n",
      "       [6.9023514e-01, 3.5385098e-02, 1.3339958e-01, 2.3433160e-02,\n",
      "        1.1754708e-01]], dtype=float32), 50: array([[9.1989237e-01, 5.0453927e-02, 2.8602364e-02, 5.9716019e-04,\n",
      "        4.5425387e-04],\n",
      "       [8.6630619e-01, 2.5216019e-02, 8.3927840e-02, 3.7878065e-03,\n",
      "        2.0762140e-02],\n",
      "       [1.4604802e-03, 9.3621755e-04, 1.3637157e-01, 2.3295616e-01,\n",
      "        6.2827563e-01],\n",
      "       ...,\n",
      "       [6.6243201e-01, 1.0603804e-01, 2.1909763e-01, 1.0405350e-02,\n",
      "        2.0269307e-03],\n",
      "       [9.3983203e-01, 3.1845205e-02, 2.7499072e-02, 4.6247090e-04,\n",
      "        3.6116605e-04],\n",
      "       [8.0175453e-01, 7.3374063e-02, 1.1343337e-01, 5.6544049e-03,\n",
      "        5.7836035e-03]], dtype=float32), 25: array([[9.3587136e-01, 5.2987333e-02, 1.1072518e-02, 5.1253450e-05,\n",
      "        1.7519702e-05],\n",
      "       [9.3829060e-01, 2.7628785e-02, 3.3350624e-02, 3.3797984e-04,\n",
      "        3.9188610e-04],\n",
      "       [5.5349111e-03, 2.5119977e-03, 2.3137426e-01, 1.9072135e-01,\n",
      "        5.6985742e-01],\n",
      "       ...,\n",
      "       [7.0511329e-01, 8.7052032e-02, 1.9934428e-01, 6.3966061e-03,\n",
      "        2.0937920e-03],\n",
      "       [9.6076012e-01, 2.5955951e-02, 1.3098062e-02, 9.5258627e-05,\n",
      "        9.0564325e-05],\n",
      "       [9.2582893e-01, 5.3268801e-02, 2.0562872e-02, 2.2299083e-04,\n",
      "        1.1639881e-04]], dtype=float32), 15: array([[9.1437489e-01, 6.8157367e-02, 1.7387217e-02, 6.9557791e-05,\n",
      "        1.0864130e-05],\n",
      "       [9.4457519e-01, 2.7145322e-02, 2.7976843e-02, 1.8472766e-04,\n",
      "        1.1785690e-04],\n",
      "       [8.8159889e-03, 6.9467952e-03, 4.4646189e-01, 1.8667148e-01,\n",
      "        3.5110387e-01],\n",
      "       ...,\n",
      "       [6.9291109e-01, 7.6371655e-02, 2.2020577e-01, 7.2186771e-03,\n",
      "        3.2928607e-03],\n",
      "       [9.7224075e-01, 2.1234646e-02, 6.4754575e-03, 2.8251592e-05,\n",
      "        2.0869018e-05],\n",
      "       [9.1554004e-01, 5.8481842e-02, 2.5392881e-02, 3.2959325e-04,\n",
      "        2.5569214e-04]], dtype=float32), 10: array([[9.2984772e-01, 5.8819149e-02, 1.1297693e-02, 3.0956766e-05,\n",
      "        4.5992419e-06],\n",
      "       [9.3524134e-01, 3.0450094e-02, 3.4020327e-02, 1.9881212e-04,\n",
      "        8.9458626e-05],\n",
      "       [1.1457136e-02, 9.0199029e-03, 4.9796772e-01, 1.8210922e-01,\n",
      "        2.9944596e-01],\n",
      "       ...,\n",
      "       [5.7150763e-01, 6.4353451e-02, 3.4584999e-01, 1.3136808e-02,\n",
      "        5.1520984e-03],\n",
      "       [9.6963531e-01, 2.3250703e-02, 7.0633171e-03, 2.9477200e-05,\n",
      "        2.1144137e-05],\n",
      "       [9.1839743e-01, 6.1130174e-02, 2.0222589e-02, 1.6794345e-04,\n",
      "        8.1884784e-05]], dtype=float32), 5: array([[9.3081862e-01, 6.0049523e-02, 9.1102505e-03, 1.9182640e-05,\n",
      "        2.3925591e-06],\n",
      "       [9.2399663e-01, 3.4621418e-02, 4.1070264e-02, 2.2612748e-04,\n",
      "        8.5640750e-05],\n",
      "       [1.5071261e-02, 1.3954619e-02, 6.1456740e-01, 1.5773164e-01,\n",
      "        1.9867507e-01],\n",
      "       ...,\n",
      "       [6.0778487e-01, 6.9932811e-02, 3.0609560e-01, 1.1077882e-02,\n",
      "        5.1088450e-03],\n",
      "       [9.7101170e-01, 2.2344660e-02, 6.5978747e-03, 2.5572441e-05,\n",
      "        2.0207621e-05],\n",
      "       [9.0489233e-01, 7.0496917e-02, 2.4327228e-02, 2.0070819e-04,\n",
      "        8.2887811e-05]], dtype=float32), 1: array([[9.0382826e-01, 8.0393836e-02, 1.5732504e-02, 4.0581795e-05,\n",
      "        4.8661500e-06],\n",
      "       [9.0873575e-01, 4.0234122e-02, 5.0703868e-02, 2.4576354e-04,\n",
      "        8.0468453e-05],\n",
      "       [1.3560961e-02, 1.5965329e-02, 6.5799260e-01, 1.4713438e-01,\n",
      "        1.6534677e-01],\n",
      "       ...,\n",
      "       [3.5240209e-01, 6.3571148e-02, 5.4381090e-01, 2.9248534e-02,\n",
      "        1.0967279e-02],\n",
      "       [9.7338301e-01, 2.1165587e-02, 5.4216203e-03, 1.6687402e-05,\n",
      "        1.3071240e-05],\n",
      "       [9.0314096e-01, 7.1450189e-02, 2.5139421e-02, 1.9353059e-04,\n",
      "        7.5911659e-05]], dtype=float32), 0: array([[8.93752098e-01, 8.83543417e-02, 1.78448595e-02, 4.39195537e-05,\n",
      "        4.84293469e-06],\n",
      "       [9.08368826e-01, 4.09528874e-02, 5.03622368e-02, 2.39651723e-04,\n",
      "        7.64532961e-05],\n",
      "       [1.27890427e-02, 1.67057589e-02, 6.70378923e-01, 1.46436870e-01,\n",
      "        1.53689399e-01],\n",
      "       ...,\n",
      "       [1.77840471e-01, 4.10715304e-02, 7.09612131e-01, 5.46135008e-02,\n",
      "        1.68623831e-02],\n",
      "       [9.32725132e-01, 4.54182513e-02, 2.16827337e-02, 1.02160004e-04,\n",
      "        7.17712683e-05],\n",
      "       [8.97488832e-01, 7.47329444e-02, 2.74771824e-02, 2.18378118e-04,\n",
      "        8.27192562e-05]], dtype=float32)}, 'log_likelihood': {100: -2.458239895105362, 99: -2.4146310830175874, 95: -2.507440352535248, 90: -2.6032022774636747, 85: -2.6571956503123046, 75: -2.748367420360446, 50: -2.696232379619777, 25: -2.3550151511885224, 15: -2.1467052601076664, 10: -2.0034547189988197, 5: -1.8233721164200456, 1: -1.60728485732954, 0: -1.4965153186095879}, 'log_odds': {100: -2.1474829, 99: -2.1206753, 95: -2.231786, 90: -2.3305094, 85: -2.3829203, 75: -2.4625823, 50: -2.3394084, 25: -1.8560091, 15: -1.5603254, 10: -1.3600159, 5: -1.0974185, 1: -0.7763843, 0: -0.6110032}, 'AUC_acc': 0.24394, 'AUC_auroc': 0.5514868985, 'AUC_preds': array([[0.8129149 , 0.05541039, 0.07555736, 0.01396584, 0.04215147],\n",
      "       [0.84109855, 0.02797944, 0.07874463, 0.00720022, 0.04497714],\n",
      "       [0.00767748, 0.00429979, 0.23974684, 0.2591956 , 0.48908028],\n",
      "       ...,\n",
      "       [0.6393904 , 0.0884348 , 0.24925268, 0.01685311, 0.00606895],\n",
      "       [0.88145864, 0.03388255, 0.06361447, 0.00962372, 0.01142048],\n",
      "       [0.7824266 , 0.05568166, 0.09875025, 0.01475782, 0.04838374]],\n",
      "      dtype=float32), 'AUC_log_likelihood': -2.4729836987108773, 'AUC_log_odds': -2.056908422112465}, 'retro_in': {'acc': {100: 0.43, 99: 0.4356, 95: 0.4388, 90: 0.4444, 85: 0.452, 75: 0.4684, 50: 0.5136, 25: 0.5376, 15: 0.5252, 10: 0.5196, 5: 0.4632, 1: 0.2604, 0: 0.2}, 'auroc': {100: 0.84102, 99: 0.8481624, 95: 0.8571525999999998, 90: 0.8637806999999998, 85: 0.8676598, 75: 0.8773510000000002, 50: 0.902361, 25: 0.915785, 15: 0.9109488000000001, 10: 0.9024471999999999, 5: 0.8665973999999999, 1: 0.7592808999999999, 0: 0.50005}, 'preds': {100: array([[8.93752098e-01, 8.83543417e-02, 1.78448595e-02, 4.39195537e-05,\n",
      "        4.84293469e-06],\n",
      "       [9.08368826e-01, 4.09528874e-02, 5.03622368e-02, 2.39651723e-04,\n",
      "        7.64532961e-05],\n",
      "       [1.27890427e-02, 1.67057589e-02, 6.70378923e-01, 1.46436870e-01,\n",
      "        1.53689399e-01],\n",
      "       ...,\n",
      "       [1.77840471e-01, 4.10715304e-02, 7.09612131e-01, 5.46135008e-02,\n",
      "        1.68623831e-02],\n",
      "       [9.32725132e-01, 4.54182364e-02, 2.16827337e-02, 1.02160004e-04,\n",
      "        7.17712683e-05],\n",
      "       [8.97488832e-01, 7.47329444e-02, 2.74771824e-02, 2.18378118e-04,\n",
      "        8.27192562e-05]], dtype=float32), 99: array([[8.8999248e-01, 8.9536019e-02, 2.0411009e-02, 5.4875098e-05,\n",
      "        5.5754481e-06],\n",
      "       [9.1631418e-01, 3.7662461e-02, 4.5727391e-02, 2.1969265e-04,\n",
      "        7.6216762e-05],\n",
      "       [3.1655941e-02, 1.8735161e-02, 6.8355465e-01, 1.3055860e-01,\n",
      "        1.3549562e-01],\n",
      "       ...,\n",
      "       [1.9601093e-01, 4.0754642e-02, 6.9193453e-01, 5.4070968e-02,\n",
      "        1.7228918e-02],\n",
      "       [9.3663490e-01, 4.3644980e-02, 1.9598592e-02, 7.5725235e-05,\n",
      "        4.5875262e-05],\n",
      "       [8.9756906e-01, 7.5820990e-02, 2.6335087e-02, 2.0430161e-04,\n",
      "        7.0490110e-05]], dtype=float32), 95: array([[9.0255678e-01, 8.2651570e-02, 1.4761415e-02, 2.8600956e-05,\n",
      "        1.7402625e-06],\n",
      "       [9.0462846e-01, 4.4881139e-02, 5.0152831e-02, 2.7602306e-04,\n",
      "        6.1569684e-05],\n",
      "       [6.3026473e-02, 2.5685834e-02, 7.3937714e-01, 8.3769239e-02,\n",
      "        8.8141315e-02],\n",
      "       ...,\n",
      "       [2.0386240e-01, 3.9572049e-02, 6.7611015e-01, 5.8364965e-02,\n",
      "        2.2090431e-02],\n",
      "       [9.2744857e-01, 4.7171205e-02, 2.5223464e-02, 1.0775327e-04,\n",
      "        4.9077345e-05],\n",
      "       [8.9917380e-01, 7.5150102e-02, 2.5432413e-02, 1.8735294e-04,\n",
      "        5.6413221e-05]], dtype=float32), 90: array([[9.0102601e-01, 8.3655931e-02, 1.5285825e-02, 3.0415180e-05,\n",
      "        1.7819516e-06],\n",
      "       [8.8833332e-01, 5.2854948e-02, 5.8335241e-02, 4.0221473e-04,\n",
      "        7.4241492e-05],\n",
      "       [4.3225908e-01, 3.5327487e-02, 4.5824403e-01, 3.2354675e-02,\n",
      "        4.1814774e-02],\n",
      "       ...,\n",
      "       [1.8349700e-01, 3.3464447e-02, 6.8554926e-01, 6.8530649e-02,\n",
      "        2.8958714e-02],\n",
      "       [9.2098665e-01, 5.0845910e-02, 2.7992837e-02, 1.2579309e-04,\n",
      "        4.8831196e-05],\n",
      "       [8.9479345e-01, 7.7764541e-02, 2.7177108e-02, 2.0721008e-04,\n",
      "        5.7644844e-05]], dtype=float32), 85: array([[8.9878428e-01, 8.5105531e-02, 1.6076369e-02, 3.2079395e-05,\n",
      "        1.7345811e-06],\n",
      "       [8.7775904e-01, 6.0211863e-02, 6.1512697e-02, 4.5676040e-04,\n",
      "        5.9512051e-05],\n",
      "       [7.7843082e-01, 5.4805294e-02, 1.5417974e-01, 5.1789409e-03,\n",
      "        7.4051660e-03],\n",
      "       ...,\n",
      "       [2.1241005e-01, 3.4989983e-02, 6.5512812e-01, 6.6488728e-02,\n",
      "        3.0983130e-02],\n",
      "       [9.1295636e-01, 5.4382451e-02, 3.2437358e-02, 1.6288403e-04,\n",
      "        6.0915318e-05],\n",
      "       [8.8661188e-01, 8.1887126e-02, 3.1185759e-02, 2.5447400e-04,\n",
      "        6.0741917e-05]], dtype=float32), 75: array([[9.02930677e-01, 8.27729031e-02, 1.42700095e-02, 2.53569888e-05,\n",
      "        1.06028915e-06],\n",
      "       [8.51155639e-01, 6.57515898e-02, 8.21905434e-02, 8.24252609e-04,\n",
      "        7.78947215e-05],\n",
      "       [6.92927361e-01, 5.49199693e-02, 2.28982329e-01, 1.11293644e-02,\n",
      "        1.20410239e-02],\n",
      "       ...,\n",
      "       [1.56945989e-01, 2.74551660e-02, 6.83091581e-01, 8.88287649e-02,\n",
      "        4.36784811e-02],\n",
      "       [8.01700950e-01, 7.81317875e-02, 1.18456870e-01, 1.31660106e-03,\n",
      "        3.93848110e-04],\n",
      "       [8.90532613e-01, 7.99076036e-02, 2.92599685e-02, 2.52434111e-04,\n",
      "        4.73970140e-05]], dtype=float32), 50: array([[8.78489256e-01, 9.45269614e-02, 2.69069057e-02, 7.50293111e-05,\n",
      "        1.78503376e-06],\n",
      "       [7.91938603e-01, 8.21991488e-02, 1.23629935e-01, 2.10913992e-03,\n",
      "        1.23211445e-04],\n",
      "       [6.77847147e-01, 7.15186968e-02, 2.34922245e-01, 1.04053430e-02,\n",
      "        5.30659547e-03],\n",
      "       ...,\n",
      "       [1.29861966e-01, 2.03188062e-02, 6.51939154e-01, 1.18753500e-01,\n",
      "        7.91265145e-02],\n",
      "       [7.78914094e-01, 7.94789344e-02, 1.37140661e-01, 3.49302986e-03,\n",
      "        9.73278133e-04],\n",
      "       [8.53005052e-01, 8.72228891e-02, 5.87724298e-02, 9.08069720e-04,\n",
      "        9.15524797e-05]], dtype=float32), 25: array([[8.17102134e-01, 1.07098974e-01, 7.50888065e-02, 6.92823960e-04,\n",
      "        1.73472708e-05],\n",
      "       [6.00725591e-01, 7.06339777e-02, 3.04677784e-01, 2.12592315e-02,\n",
      "        2.70332303e-03],\n",
      "       [3.90785307e-01, 7.98195079e-02, 4.58558559e-01, 5.83247319e-02,\n",
      "        1.25119034e-02],\n",
      "       ...,\n",
      "       [9.32108536e-02, 1.91565044e-02, 5.58852971e-01, 2.11246297e-01,\n",
      "        1.17533326e-01],\n",
      "       [7.99823582e-01, 8.19163397e-02, 1.14430338e-01, 3.24653601e-03,\n",
      "        5.83103043e-04],\n",
      "       [7.81742394e-01, 8.57450664e-02, 1.26301661e-01, 5.33597870e-03,\n",
      "        8.74905905e-04]], dtype=float32), 15: array([[7.28460908e-01, 1.20881252e-01, 1.47519901e-01, 3.01969307e-03,\n",
      "        1.18315074e-04],\n",
      "       [7.76838779e-01, 7.50126317e-02, 1.39008239e-01, 7.72421807e-03,\n",
      "        1.41611067e-03],\n",
      "       [4.32029963e-01, 8.51508379e-02, 4.16513443e-01, 5.28200418e-02,\n",
      "        1.34856477e-02],\n",
      "       ...,\n",
      "       [1.22235492e-01, 2.47299373e-02, 5.20414472e-01, 2.08552003e-01,\n",
      "        1.24068074e-01],\n",
      "       [7.00946987e-01, 9.76150259e-02, 1.91929355e-01, 8.19722936e-03,\n",
      "        1.31150079e-03],\n",
      "       [8.08905780e-01, 7.79561847e-02, 1.08299799e-01, 4.30992385e-03,\n",
      "        5.28295350e-04]], dtype=float32), 10: array([[7.8920221e-01, 1.0235998e-01, 1.0597353e-01, 2.3340567e-03,\n",
      "        1.3017365e-04],\n",
      "       [7.2655541e-01, 7.1919702e-02, 1.7577672e-01, 1.8065630e-02,\n",
      "        7.6825647e-03],\n",
      "       [6.4004129e-01, 8.0883250e-02, 2.4173963e-01, 2.6993547e-02,\n",
      "        1.0342244e-02],\n",
      "       ...,\n",
      "       [1.8287398e-01, 3.7619445e-02, 5.0380355e-01, 1.7494233e-01,\n",
      "        1.0076073e-01],\n",
      "       [6.5308887e-01, 9.0325736e-02, 2.3493263e-01, 1.5616569e-02,\n",
      "        6.0361950e-03],\n",
      "       [7.6902086e-01, 7.4584171e-02, 1.4387698e-01, 1.0502230e-02,\n",
      "        2.0157069e-03]], dtype=float32), 5: array([[8.6206782e-01, 6.8458222e-02, 6.7994386e-02, 1.3751028e-03,\n",
      "        1.0441033e-04],\n",
      "       [7.0703554e-01, 6.8029933e-02, 1.7995836e-01, 2.6124822e-02,\n",
      "        1.8851331e-02],\n",
      "       [5.4839444e-01, 7.2035715e-02, 3.0086824e-01, 5.1293608e-02,\n",
      "        2.7408024e-02],\n",
      "       ...,\n",
      "       [2.0879789e-01, 3.2259811e-02, 4.3791363e-01, 1.8795139e-01,\n",
      "        1.3307735e-01],\n",
      "       [3.4502494e-01, 7.2528817e-02, 4.0203881e-01, 9.4245382e-02,\n",
      "        8.6162068e-02],\n",
      "       [6.2540740e-01, 7.6551646e-02, 2.3686832e-01, 4.0456511e-02,\n",
      "        2.0716147e-02]], dtype=float32), 1: array([[0.7156602 , 0.06678226, 0.17192245, 0.02709622, 0.01853895],\n",
      "       [0.741947  , 0.07349569, 0.15393604, 0.01839001, 0.01223127],\n",
      "       [0.6348205 , 0.05977602, 0.21954991, 0.04263533, 0.0432182 ],\n",
      "       ...,\n",
      "       [0.41810513, 0.04391556, 0.33839417, 0.10448578, 0.09509937],\n",
      "       [0.60677946, 0.06980749, 0.24658886, 0.0446682 , 0.03215596],\n",
      "       [0.7227644 , 0.07084326, 0.1613334 , 0.02347669, 0.02158226]],\n",
      "      dtype=float32), 0: array([[0.71269345, 0.07373445, 0.16777113, 0.02479381, 0.0210071 ],\n",
      "       [0.71269345, 0.07373445, 0.16777113, 0.02479381, 0.0210071 ],\n",
      "       [0.71269345, 0.07373445, 0.16777113, 0.02479381, 0.0210071 ],\n",
      "       ...,\n",
      "       [0.71269345, 0.07373445, 0.16777113, 0.02479381, 0.0210071 ],\n",
      "       [0.71269345, 0.07373445, 0.16777113, 0.02479381, 0.0210071 ],\n",
      "       [0.71269345, 0.07373445, 0.16777113, 0.02479381, 0.0210071 ]],\n",
      "      dtype=float32)}, 'log_likelihood': {100: -1.4965153186095879, 99: -1.4874215530082584, 95: -1.4616862255031242, 90: -1.4271182746348903, 85: -1.3992683425491677, 75: -1.3331572243438101, 50: -1.187121217118809, 25: -1.1177157519049243, 15: -1.149180250243051, 10: -1.1996659362307749, 5: -1.3304479358848185, 1: -1.7384318623274564, 0: -2.458239895105362}, 'log_odds': {100: -0.6110032, 99: -0.5745964, 95: -0.5177006, 90: -0.46495992, 85: -0.42586112, 75: -0.3294768, 50: -0.12100252, 25: -0.08742032, 15: -0.2070273, 10: -0.33554468, 5: -0.6245582, 1: -1.2854946, 0: -2.1474829}, 'AUC_acc': 0.4870800000000001, 'AUC_auroc': 0.8855562725, 'AUC_preds': array([[8.5476446e-01, 9.3127467e-02, 5.0157636e-02, 1.3576780e-03,\n",
      "        5.9271872e-04],\n",
      "       [7.7898985e-01, 6.9231227e-02, 1.4179136e-01, 7.7073085e-03,\n",
      "        2.2802134e-03],\n",
      "       [5.5131429e-01, 6.4578779e-02, 3.3043081e-01, 3.3336967e-02,\n",
      "        2.0339122e-02],\n",
      "       ...,\n",
      "       [1.5803517e-01, 2.7193151e-02, 6.0823464e-01, 1.3044840e-01,\n",
      "        7.6088607e-02],\n",
      "       [7.7881563e-01, 7.5155132e-02, 1.3184297e-01, 8.5749021e-03,\n",
      "        5.6114104e-03],\n",
      "       [8.3341926e-01, 8.1636146e-02, 7.8402005e-02, 4.6288511e-03,\n",
      "        1.9136698e-03]], dtype=float32), 'AUC_log_likelihood': -1.2742220788403555, 'AUC_log_odds': -0.30239583950489757}, 'pro_ex': {'acc': {100: 0.2, 99: 0.2492, 95: 0.2968, 90: 0.3148, 85: 0.3188, 75: 0.3352, 50: 0.348, 25: 0.358, 15: 0.3744, 10: 0.3808, 5: 0.396, 1: 0.4184, 0: 0.43}, 'auroc': {100: 0.50005, 99: 0.6038417, 95: 0.6211180000000002, 90: 0.6380127, 85: 0.6437075999999999, 75: 0.6636029999999999, 50: 0.7249682, 25: 0.7751157, 15: 0.7964116000000001, 10: 0.8067323999999999, 5: 0.819413, 1: 0.8352688, 0: 0.84102}, 'preds': {100: array([[0.71269345, 0.07373445, 0.16777113, 0.02479381, 0.0210071 ],\n",
      "       [0.71269345, 0.07373445, 0.16777113, 0.02479381, 0.0210071 ],\n",
      "       [0.71269345, 0.07373445, 0.16777113, 0.02479381, 0.0210071 ],\n",
      "       ...,\n",
      "       [0.71269345, 0.07373445, 0.16777113, 0.02479381, 0.0210071 ],\n",
      "       [0.71269345, 0.07373445, 0.16777113, 0.02479381, 0.0210071 ],\n",
      "       [0.71269345, 0.07373445, 0.16777113, 0.02479381, 0.0210071 ]],\n",
      "      dtype=float32), 99: array([[0.71856004, 0.06583644, 0.16938505, 0.02708801, 0.01913047],\n",
      "       [0.71135753, 0.06365412, 0.16455139, 0.02703376, 0.03340326],\n",
      "       [0.7188578 , 0.06955313, 0.1628135 , 0.02347955, 0.02529596],\n",
      "       ...,\n",
      "       [0.7090346 , 0.06627911, 0.16869599, 0.02860051, 0.02738978],\n",
      "       [0.68164146, 0.06262334, 0.17667277, 0.03220842, 0.04685403],\n",
      "       [0.7246964 , 0.0648261 , 0.16446951, 0.02662739, 0.01938063]],\n",
      "      dtype=float32), 95: array([[0.64466286, 0.08937141, 0.218832  , 0.02942345, 0.01771033],\n",
      "       [0.5964913 , 0.04785924, 0.20536669, 0.04892914, 0.1013536 ],\n",
      "       [0.8073608 , 0.05829374, 0.11636619, 0.01093188, 0.00704743],\n",
      "       ...,\n",
      "       [0.6595894 , 0.07473999, 0.20961519, 0.03319549, 0.02285995],\n",
      "       [0.70766383, 0.05855459, 0.16387016, 0.02628183, 0.04362964],\n",
      "       [0.7568479 , 0.06597979, 0.14848919, 0.01864672, 0.01003643]],\n",
      "      dtype=float32), 90: array([[0.69385034, 0.09442806, 0.18492486, 0.01791988, 0.0088769 ],\n",
      "       [0.6023413 , 0.0451535 , 0.20016535, 0.04428085, 0.108059  ],\n",
      "       [0.75154424, 0.05435188, 0.1473799 , 0.02336002, 0.02336404],\n",
      "       ...,\n",
      "       [0.63131106, 0.07743461, 0.23678403, 0.03558682, 0.01888347],\n",
      "       [0.62694865, 0.04756628, 0.20465748, 0.03751932, 0.08330833],\n",
      "       [0.7562757 , 0.0565527 , 0.15020494, 0.02084292, 0.0161238 ]],\n",
      "      dtype=float32), 85: array([[0.64479715, 0.09087075, 0.21994893, 0.02756893, 0.01681425],\n",
      "       [0.5672623 , 0.04279311, 0.22114074, 0.05236346, 0.11644037],\n",
      "       [0.7795327 , 0.05163841, 0.13948262, 0.01719119, 0.01215509],\n",
      "       ...,\n",
      "       [0.6266913 , 0.08031825, 0.24634418, 0.03283734, 0.013809  ],\n",
      "       [0.7884934 , 0.04815067, 0.11534765, 0.0125065 , 0.0355018 ],\n",
      "       [0.76820767, 0.06643062, 0.14163253, 0.01474224, 0.00898695]],\n",
      "      dtype=float32), 75: array([[0.65456307, 0.09034985, 0.21264878, 0.02427256, 0.01816575],\n",
      "       [0.71325475, 0.04774299, 0.18005587, 0.02585564, 0.03309062],\n",
      "       [0.74635816, 0.05797609, 0.17150214, 0.01639704, 0.00776655],\n",
      "       ...,\n",
      "       [0.56660634, 0.08021481, 0.2961811 , 0.04211557, 0.01488217],\n",
      "       [0.78727025, 0.04335259, 0.13139072, 0.01280734, 0.02517912],\n",
      "       [0.63120055, 0.07933979, 0.2464369 , 0.02939205, 0.01363067]],\n",
      "      dtype=float32), 50: array([[8.0357671e-01, 9.9370025e-02, 9.3581229e-02, 2.6222838e-03,\n",
      "        8.4977667e-04],\n",
      "       [8.5179514e-01, 4.2338159e-02, 9.8012544e-02, 4.3011545e-03,\n",
      "        3.5529204e-03],\n",
      "       [7.6938599e-01, 6.8101667e-02, 1.5278454e-01, 6.5791649e-03,\n",
      "        3.1485504e-03],\n",
      "       ...,\n",
      "       [7.0894969e-01, 8.4643260e-02, 1.9343854e-01, 1.0188828e-02,\n",
      "        2.7796749e-03],\n",
      "       [9.0644056e-01, 3.0342821e-02, 5.3775437e-02, 2.5733793e-03,\n",
      "        6.8678181e-03],\n",
      "       [7.5787884e-01, 9.7852603e-02, 1.3807258e-01, 5.0209477e-03,\n",
      "        1.1749198e-03]], dtype=float32), 25: array([[8.3942705e-01, 1.1091993e-01, 4.9266905e-02, 3.4223593e-04,\n",
      "        4.3789903e-05],\n",
      "       [9.0295875e-01, 3.4600724e-02, 6.1158087e-02, 8.1737846e-04,\n",
      "        4.6513742e-04],\n",
      "       [8.2634366e-01, 5.8254495e-02, 1.0885705e-01, 3.5450957e-03,\n",
      "        2.9996762e-03],\n",
      "       ...,\n",
      "       [6.7343968e-01, 8.3400279e-02, 2.3118977e-01, 8.8148220e-03,\n",
      "        3.1554182e-03],\n",
      "       [9.6794796e-01, 2.2178827e-02, 9.6831862e-03, 7.7348217e-05,\n",
      "        1.1262344e-04],\n",
      "       [8.1728822e-01, 9.9385068e-02, 8.1217349e-02, 1.5931383e-03,\n",
      "        5.1616679e-04]], dtype=float32), 15: array([[8.6471713e-01, 1.0210931e-01, 3.2994360e-02, 1.5742675e-04,\n",
      "        2.1726786e-05],\n",
      "       [9.1106874e-01, 3.5776462e-02, 5.2444909e-02, 4.6245608e-04,\n",
      "        2.4743669e-04],\n",
      "       [7.5511783e-01, 5.9139844e-02, 1.7166752e-01, 6.7107566e-03,\n",
      "        7.3640533e-03],\n",
      "       ...,\n",
      "       [6.2773955e-01, 6.4097546e-02, 2.9259604e-01, 1.0990403e-02,\n",
      "        4.5764218e-03],\n",
      "       [9.6998703e-01, 2.2288887e-02, 7.6409373e-03, 4.0309478e-05,\n",
      "        4.2764641e-05],\n",
      "       [8.6657774e-01, 8.4166899e-02, 4.8347518e-02, 6.5611617e-04,\n",
      "        2.5164348e-04]], dtype=float32), 10: array([[8.8366222e-01, 9.3432263e-02, 2.2814931e-02, 7.9417223e-05,\n",
      "        1.1194600e-05],\n",
      "       [9.2878956e-01, 3.2503411e-02, 3.8342442e-02, 2.5077889e-04,\n",
      "        1.1379213e-04],\n",
      "       [7.6614857e-01, 5.1271260e-02, 1.6481552e-01, 6.7067137e-03,\n",
      "        1.1057966e-02],\n",
      "       ...,\n",
      "       [6.0727721e-01, 6.8411931e-02, 3.0679014e-01, 1.1798979e-02,\n",
      "        5.7217893e-03],\n",
      "       [9.7481763e-01, 1.9858949e-02, 5.2807559e-03, 2.0557949e-05,\n",
      "        2.2248296e-05],\n",
      "       [8.7006086e-01, 8.6297199e-02, 4.3038055e-02, 4.5363267e-04,\n",
      "        1.5024630e-04]], dtype=float32), 5: array([[8.9666253e-01, 8.6787283e-02, 1.6503837e-02, 4.1276398e-05,\n",
      "        4.9854712e-06],\n",
      "       [9.3055594e-01, 3.1816252e-02, 3.7336331e-02, 2.0635912e-04,\n",
      "        8.5161228e-05],\n",
      "       [2.2113559e-01, 3.1514309e-02, 5.7583243e-01, 6.8964124e-02,\n",
      "        1.0255354e-01],\n",
      "       ...,\n",
      "       [4.3179718e-01, 6.6462167e-02, 4.7002339e-01, 2.2957344e-02,\n",
      "        8.7599279e-03],\n",
      "       [9.6754932e-01, 2.3318451e-02, 9.0596359e-03, 4.0217339e-05,\n",
      "        3.2360535e-05],\n",
      "       [8.7619752e-01, 8.5320450e-02, 3.7983309e-02, 3.7126886e-04,\n",
      "        1.2738084e-04]], dtype=float32), 1: array([[8.8795680e-01, 9.2522226e-02, 1.9463524e-02, 5.1526094e-05,\n",
      "        5.9493132e-06],\n",
      "       [9.2116082e-01, 3.6154997e-02, 4.2393591e-02, 2.1322086e-04,\n",
      "        7.7309473e-05],\n",
      "       [1.5788512e-02, 2.0023217e-02, 6.7182368e-01, 1.3562280e-01,\n",
      "        1.5674184e-01],\n",
      "       ...,\n",
      "       [3.5028926e-01, 6.3254267e-02, 5.4584289e-01, 2.9535472e-02,\n",
      "        1.1078168e-02],\n",
      "       [9.3463326e-01, 4.4530001e-02, 2.0672482e-02, 9.7062715e-05,\n",
      "        6.7220557e-05],\n",
      "       [8.8895786e-01, 7.9554811e-02, 3.1108147e-02, 2.7245903e-04,\n",
      "        1.0676103e-04]], dtype=float32), 0: array([[8.93752098e-01, 8.83543417e-02, 1.78448595e-02, 4.39195537e-05,\n",
      "        4.84293469e-06],\n",
      "       [9.08368826e-01, 4.09528874e-02, 5.03622368e-02, 2.39651723e-04,\n",
      "        7.64532961e-05],\n",
      "       [1.27890427e-02, 1.67057589e-02, 6.70378923e-01, 1.46436870e-01,\n",
      "        1.53689399e-01],\n",
      "       ...,\n",
      "       [1.77840471e-01, 4.10715304e-02, 7.09612131e-01, 5.46135008e-02,\n",
      "        1.68623831e-02],\n",
      "       [9.32725132e-01, 4.54182364e-02, 2.16827337e-02, 1.02160004e-04,\n",
      "        7.17712683e-05],\n",
      "       [8.97488832e-01, 7.47329444e-02, 2.74771824e-02, 2.18378118e-04,\n",
      "        8.27192562e-05]], dtype=float32)}, 'log_likelihood': {100: -2.458239895105362, 99: -2.023358596408367, 95: -1.9199490213394166, 90: -1.901607856770605, 85: -1.9067706439644099, 75: -1.894724939054344, 50: -1.823893284179084, 25: -1.73845803976506, 15: -1.682719297861308, 10: -1.6494043427802623, 5: -1.6011742595711722, 1: -1.529053845882602, 0: -1.4965153186095879}, 'log_odds': {100: -2.1474829, 99: -1.6765815, 95: -1.5433279, 90: -1.4959992, 85: -1.4853193, 75: -1.4425826, 50: -1.2828431, 25: -1.0917542, 15: -0.9757447, 10: -0.90945363, 5: -0.8131383, 1: -0.67435217, 0: -0.6110032}, 'AUC_acc': 0.346096, 'AUC_auroc': 0.7207710249999999, 'AUC_preds': array([[0.77198637, 0.09662778, 0.1148277 , 0.01007119, 0.00648688],\n",
      "       [0.8008529 , 0.04142432, 0.11634582, 0.01494903, 0.02642789],\n",
      "       [0.7268287 , 0.05768827, 0.18241063, 0.01685968, 0.01621273],\n",
      "       ...,\n",
      "       [0.63030547, 0.07808343, 0.2610829 , 0.02149371, 0.00903461],\n",
      "       [0.86976624, 0.03466681, 0.0715156 , 0.00783278, 0.0162186 ],\n",
      "       [0.7687603 , 0.08533768, 0.13002524, 0.01055072, 0.00532603]],\n",
      "      dtype=float32), 'AUC_log_likelihood': -1.8055773327194644, 'AUC_log_odds': -1.2476789128780366}, 'pro_in': {'acc': {100: 0.43, 99: 0.416, 95: 0.3996, 90: 0.3916, 85: 0.3868, 75: 0.3812, 50: 0.3772, 25: 0.364, 15: 0.354, 10: 0.3488, 5: 0.3204, 1: 0.2412, 0: 0.2}, 'auroc': {100: 0.84102, 99: 0.8298812, 95: 0.8209592000000001, 90: 0.811933, 85: 0.8048236, 75: 0.7952367, 50: 0.7788786, 25: 0.7542272, 15: 0.7392643999999999, 10: 0.7323763999999999, 5: 0.7071598, 1: 0.6509867, 0: 0.50005}, 'preds': {100: array([[8.93752098e-01, 8.83543417e-02, 1.78448595e-02, 4.39195537e-05,\n",
      "        4.84293469e-06],\n",
      "       [9.08368826e-01, 4.09528874e-02, 5.03622368e-02, 2.39651723e-04,\n",
      "        7.64532961e-05],\n",
      "       [1.27890427e-02, 1.67057589e-02, 6.70378923e-01, 1.46436870e-01,\n",
      "        1.53689399e-01],\n",
      "       ...,\n",
      "       [1.77840471e-01, 4.10715304e-02, 7.09612131e-01, 5.46135008e-02,\n",
      "        1.68623831e-02],\n",
      "       [9.32725132e-01, 4.54182513e-02, 2.16827337e-02, 1.02160004e-04,\n",
      "        7.17712683e-05],\n",
      "       [8.97488832e-01, 7.47329444e-02, 2.74771824e-02, 2.18378118e-04,\n",
      "        8.27192562e-05]], dtype=float32), 99: array([[9.0397465e-01, 8.0313034e-02, 1.5667034e-02, 4.0559349e-05,\n",
      "        4.7900212e-06],\n",
      "       [9.0799856e-01, 4.1340768e-02, 5.0334923e-02, 2.4776667e-04,\n",
      "        7.7979006e-05],\n",
      "       [1.2175474e-02, 1.6262019e-02, 6.6867608e-01, 1.5299347e-01,\n",
      "        1.4989300e-01],\n",
      "       ...,\n",
      "       [1.8025832e-01, 4.1208498e-02, 7.0570451e-01, 5.5444375e-02,\n",
      "        1.7384302e-02],\n",
      "       [9.2838144e-01, 4.7515698e-02, 2.3913058e-02, 1.1687690e-04,\n",
      "        7.2911404e-05],\n",
      "       [8.9956284e-01, 7.3842414e-02, 2.6310440e-02, 2.0506734e-04,\n",
      "        7.9156234e-05]], dtype=float32), 95: array([[9.1499329e-01, 7.0520513e-02, 1.4440955e-02, 3.9839051e-05,\n",
      "        5.4449661e-06],\n",
      "       [9.0715319e-01, 4.0633533e-02, 5.1870175e-02, 2.6772608e-04,\n",
      "        7.5377022e-05],\n",
      "       [1.0310724e-02, 1.4032579e-02, 6.2806731e-01, 1.7085461e-01,\n",
      "        1.7673476e-01],\n",
      "       ...,\n",
      "       [1.7718150e-01, 3.5696369e-02, 6.9955009e-01, 6.3618146e-02,\n",
      "        2.3953890e-02],\n",
      "       [9.1423112e-01, 5.3505585e-02, 3.2005638e-02, 1.7406448e-04,\n",
      "        8.3615312e-05],\n",
      "       [9.0110248e-01, 7.4200898e-02, 2.4463266e-02, 1.7083163e-04,\n",
      "        6.2532999e-05]], dtype=float32), 90: array([[8.9551777e-01, 7.8471199e-02, 2.5909822e-02, 9.1479793e-05,\n",
      "        9.6683443e-06],\n",
      "       [9.2671871e-01, 3.4511935e-02, 3.8547348e-02, 1.8023049e-04,\n",
      "        4.1748139e-05],\n",
      "       [6.9711073e-03, 9.2184758e-03, 5.3783053e-01, 1.9026622e-01,\n",
      "        2.5571361e-01],\n",
      "       ...,\n",
      "       [1.9273628e-01, 3.8044840e-02, 6.8717706e-01, 5.9823614e-02,\n",
      "        2.2218220e-02],\n",
      "       [9.0784061e-01, 5.9285872e-02, 3.2617852e-02, 1.8995113e-04,\n",
      "        6.5729349e-05],\n",
      "       [8.9566082e-01, 7.7011384e-02, 2.7050134e-02, 2.0212555e-04,\n",
      "        7.5521515e-05]], dtype=float32), 85: array([[9.2842954e-01, 6.0653064e-02, 1.0888530e-02, 2.5931529e-05,\n",
      "        2.8952347e-06],\n",
      "       [9.2390376e-01, 3.4245525e-02, 4.1572701e-02, 2.2589848e-04,\n",
      "        5.2198517e-05],\n",
      "       [7.8876587e-03, 9.8769478e-03, 5.4740244e-01, 1.7913350e-01,\n",
      "        2.5569940e-01],\n",
      "       ...,\n",
      "       [1.8308441e-01, 3.5128321e-02, 6.9321722e-01, 6.3256443e-02,\n",
      "        2.5313543e-02],\n",
      "       [8.9270437e-01, 6.4490668e-02, 4.2446561e-02, 2.7846146e-04,\n",
      "        7.9936442e-05],\n",
      "       [8.9800024e-01, 7.4091628e-02, 2.7605394e-02, 2.1845066e-04,\n",
      "        8.4258565e-05]], dtype=float32), 75: array([[9.2505431e-01, 6.2535562e-02, 1.2376121e-02, 3.1201427e-05,\n",
      "        2.8728632e-06],\n",
      "       [9.2707813e-01, 3.3579219e-02, 3.9037317e-02, 2.4633354e-04,\n",
      "        5.9014706e-05],\n",
      "       [3.0527152e-03, 3.4071498e-03, 2.9853809e-01, 2.0542659e-01,\n",
      "        4.8957539e-01],\n",
      "       ...,\n",
      "       [1.5941353e-01, 3.0724995e-02, 7.0315528e-01, 7.4175298e-02,\n",
      "        3.2530922e-02],\n",
      "       [8.7454981e-01, 7.0209928e-02, 5.4705434e-02, 4.3314826e-04,\n",
      "        1.0160426e-04],\n",
      "       [8.9588583e-01, 7.3262684e-02, 3.0516449e-02, 2.5410057e-04,\n",
      "        8.0964397e-05]], dtype=float32), 50: array([[9.26689684e-01, 5.75599410e-02, 1.56860501e-02, 5.99305968e-05,\n",
      "        4.41215116e-06],\n",
      "       [9.17049050e-01, 3.80175561e-02, 4.43594754e-02, 4.53483401e-04,\n",
      "        1.20409844e-04],\n",
      "       [2.17953324e-03, 2.45170854e-03, 2.24907890e-01, 2.15692922e-01,\n",
      "        5.54767966e-01],\n",
      "       ...,\n",
      "       [9.77890268e-02, 2.19347831e-02, 6.67930961e-01, 1.41413659e-01,\n",
      "        7.09315464e-02],\n",
      "       [8.47544730e-01, 8.03062171e-02, 7.12616146e-02, 7.86065357e-04,\n",
      "        1.01296573e-04],\n",
      "       [9.25445080e-01, 5.28058559e-02, 2.14100070e-02, 2.47481308e-04,\n",
      "        9.15261771e-05]], dtype=float32), 25: array([[9.1463375e-01, 5.0671369e-02, 3.4091983e-02, 5.0154532e-04,\n",
      "        1.0145209e-04],\n",
      "       [8.7938136e-01, 4.3845311e-02, 7.4014656e-02, 1.9973840e-03,\n",
      "        7.6129549e-04],\n",
      "       [7.6207658e-04, 1.0438866e-03, 1.4863446e-01, 3.1604576e-01,\n",
      "        5.3351384e-01],\n",
      "       ...,\n",
      "       [1.4389984e-01, 2.7258264e-02, 5.3070700e-01, 1.7213486e-01,\n",
      "        1.2600008e-01],\n",
      "       [8.0983394e-01, 8.3163351e-02, 1.0516346e-01, 1.7106447e-03,\n",
      "        1.2859897e-04],\n",
      "       [8.9722157e-01, 6.0412183e-02, 4.1596815e-02, 6.7181385e-04,\n",
      "        9.7674114e-05]], dtype=float32), 15: array([[8.9455986e-01, 5.1807947e-02, 5.2180681e-02, 1.2287564e-03,\n",
      "        2.2280024e-04],\n",
      "       [7.6569152e-01, 6.2649831e-02, 1.5971172e-01, 9.6141137e-03,\n",
      "        2.3327875e-03],\n",
      "       [1.6965621e-04, 3.8387670e-04, 1.2425727e-01, 4.0091619e-01,\n",
      "        4.7427300e-01],\n",
      "       ...,\n",
      "       [1.5789466e-01, 3.7656520e-02, 5.4432577e-01, 1.7479415e-01,\n",
      "        8.5328937e-02],\n",
      "       [8.5600239e-01, 6.2568590e-02, 7.9692364e-02, 1.6205511e-03,\n",
      "        1.1607828e-04],\n",
      "       [8.6875635e-01, 5.5602252e-02, 7.1235806e-02, 2.9795778e-03,\n",
      "        1.4260120e-03]], dtype=float32), 10: array([[8.7498719e-01, 5.6916192e-02, 6.6216148e-02, 1.6611569e-03,\n",
      "        2.1939368e-04],\n",
      "       [7.3636615e-01, 6.7635939e-02, 1.7506199e-01, 1.5497234e-02,\n",
      "        5.4386691e-03],\n",
      "       [1.3841782e-04, 2.9671012e-04, 1.1292932e-01, 4.7687984e-01,\n",
      "        4.0975571e-01],\n",
      "       ...,\n",
      "       [1.7305267e-01, 3.7932143e-02, 5.2258319e-01, 1.7530170e-01,\n",
      "        9.1130301e-02],\n",
      "       [7.5540686e-01, 7.6122262e-02, 1.6007528e-01, 7.4473615e-03,\n",
      "        9.4822090e-04],\n",
      "       [8.6481661e-01, 5.6516819e-02, 7.2835103e-02, 3.7951667e-03,\n",
      "        2.0361855e-03]], dtype=float32), 5: array([[8.8994783e-01, 5.3714868e-02, 5.4247133e-02, 1.7101325e-03,\n",
      "        3.7999862e-04],\n",
      "       [7.3464316e-01, 7.0030443e-02, 1.6909550e-01, 1.7928874e-02,\n",
      "        8.3020646e-03],\n",
      "       [5.2779529e-04, 3.7543941e-03, 2.7772835e-01, 3.2545125e-01,\n",
      "        3.9253816e-01],\n",
      "       ...,\n",
      "       [3.7728062e-01, 5.0848633e-02, 3.9829665e-01, 1.0099165e-01,\n",
      "        7.2582416e-02],\n",
      "       [7.2445446e-01, 7.1053401e-02, 1.7836884e-01, 1.8814489e-02,\n",
      "        7.3088873e-03],\n",
      "       [8.0381829e-01, 5.4678403e-02, 1.2269374e-01, 1.1870513e-02,\n",
      "        6.9391108e-03]], dtype=float32), 1: array([[0.8364673 , 0.06026546, 0.09467345, 0.00600523, 0.00258851],\n",
      "       [0.7029511 , 0.06848935, 0.17782629, 0.02895291, 0.02178047],\n",
      "       [0.04774398, 0.02465672, 0.579803  , 0.23150015, 0.11629613],\n",
      "       ...,\n",
      "       [0.47563598, 0.04816277, 0.30314115, 0.08623643, 0.08682372],\n",
      "       [0.7369116 , 0.0707344 , 0.15995471, 0.01935812, 0.01304118],\n",
      "       [0.8083642 , 0.06429494, 0.11071354, 0.00994243, 0.00668481]],\n",
      "      dtype=float32), 0: array([[0.71269345, 0.07373445, 0.16777113, 0.02479381, 0.0210071 ],\n",
      "       [0.71269345, 0.07373445, 0.16777113, 0.02479381, 0.0210071 ],\n",
      "       [0.71269345, 0.07373445, 0.16777113, 0.02479381, 0.0210071 ],\n",
      "       ...,\n",
      "       [0.71269345, 0.07373445, 0.16777113, 0.02479381, 0.0210071 ],\n",
      "       [0.71269345, 0.07373445, 0.16777113, 0.02479381, 0.0210071 ],\n",
      "       [0.71269345, 0.07373445, 0.16777113, 0.02479381, 0.0210071 ]],\n",
      "      dtype=float32)}, 'log_likelihood': {100: -1.4965153186095879, 99: -1.5882016083259136, 95: -1.667275793879479, 90: -1.738465137870796, 85: -1.7878751761872322, 75: -1.8535659129612148, 50: -1.9341481566160916, 25: -1.9997897260566242, 15: -2.002381172944419, 10: -2.0048395580261946, 5: -2.0254992664277554, 1: -2.1770352212786674, 0: -2.458239895105362}, 'log_odds': {100: -0.6110032, 99: -0.70986116, 95: -0.7950372, 90: -0.8746783, 85: -0.9301799, 75: -0.9998284, 50: -1.092697, 25: -1.2277274, 15: -1.3008213, 10: -1.3509233, 5: -1.4778535, 1: -1.7771679, 0: -2.1474829}, 'AUC_acc': 0.36926999999999993, 'AUC_auroc': 0.771390305, 'AUC_preds': array([[9.1163284e-01, 5.9320640e-02, 2.8167477e-02, 6.4402889e-04,\n",
      "        2.3497734e-04],\n",
      "       [8.7752640e-01, 4.3727294e-02, 7.3388912e-02, 3.7019267e-03,\n",
      "        1.6554153e-03],\n",
      "       [7.7853785e-03, 4.9127629e-03, 2.9355818e-01, 2.5484419e-01,\n",
      "        4.3889949e-01],\n",
      "       ...,\n",
      "       [1.6719078e-01, 3.1591319e-02, 6.1522353e-01, 1.1941424e-01,\n",
      "        6.6580109e-02],\n",
      "       [8.4456903e-01, 7.2373897e-02, 7.9598352e-02, 2.5618111e-03,\n",
      "        8.9691748e-04],\n",
      "       [8.9315611e-01, 6.2993355e-02, 4.1403580e-02, 1.5842312e-03,\n",
      "        8.6262124e-04]], dtype=float32), 'AUC_log_likelihood': -1.9093883114843828, 'AUC_log_odds': -1.1198499345779418}}\n",
      "lime\n"
     ]
    },
    {
     "name": "stdout",
     "output_type": "stream",
     "text": [
      "100\n"
     ]
    },
    {
     "name": "stderr",
     "output_type": "stream",
     "text": [
      "2022-05-17 01:25:48.154974: I tensorflow/core/common_runtime/gpu_fusion_pass.cc:507] ROCm Fusion is enabled.\n",
      "2022-05-17 01:25:48.158760: I tensorflow/core/common_runtime/gpu_fusion_pass.cc:507] ROCm Fusion is enabled.\n",
      "2022-05-17 01:25:48.161071: I tensorflow/core/common_runtime/gpu_fusion_pass.cc:507] ROCm Fusion is enabled.\n"
     ]
    },
    {
     "name": "stdout",
     "output_type": "stream",
     "text": [
      "99\n"
     ]
    },
    {
     "name": "stderr",
     "output_type": "stream",
     "text": [
      "2022-05-17 01:26:40.256890: I tensorflow/core/common_runtime/gpu_fusion_pass.cc:507] ROCm Fusion is enabled.\n",
      "2022-05-17 01:26:40.260982: I tensorflow/core/common_runtime/gpu_fusion_pass.cc:507] ROCm Fusion is enabled.\n",
      "2022-05-17 01:26:40.263422: I tensorflow/core/common_runtime/gpu_fusion_pass.cc:507] ROCm Fusion is enabled.\n"
     ]
    },
    {
     "name": "stdout",
     "output_type": "stream",
     "text": [
      "95\n"
     ]
    },
    {
     "name": "stderr",
     "output_type": "stream",
     "text": [
      "2022-05-17 01:27:31.470543: I tensorflow/core/common_runtime/gpu_fusion_pass.cc:507] ROCm Fusion is enabled.\n",
      "2022-05-17 01:27:31.474417: I tensorflow/core/common_runtime/gpu_fusion_pass.cc:507] ROCm Fusion is enabled.\n",
      "2022-05-17 01:27:31.476728: I tensorflow/core/common_runtime/gpu_fusion_pass.cc:507] ROCm Fusion is enabled.\n"
     ]
    },
    {
     "name": "stdout",
     "output_type": "stream",
     "text": [
      "90\n"
     ]
    },
    {
     "name": "stderr",
     "output_type": "stream",
     "text": [
      "2022-05-17 01:28:22.717288: I tensorflow/core/common_runtime/gpu_fusion_pass.cc:507] ROCm Fusion is enabled.\n",
      "2022-05-17 01:28:22.721230: I tensorflow/core/common_runtime/gpu_fusion_pass.cc:507] ROCm Fusion is enabled.\n",
      "2022-05-17 01:28:22.723500: I tensorflow/core/common_runtime/gpu_fusion_pass.cc:507] ROCm Fusion is enabled.\n"
     ]
    },
    {
     "name": "stdout",
     "output_type": "stream",
     "text": [
      "85\n"
     ]
    },
    {
     "name": "stderr",
     "output_type": "stream",
     "text": [
      "2022-05-17 01:29:14.147354: I tensorflow/core/common_runtime/gpu_fusion_pass.cc:507] ROCm Fusion is enabled.\n",
      "2022-05-17 01:29:14.151302: I tensorflow/core/common_runtime/gpu_fusion_pass.cc:507] ROCm Fusion is enabled.\n",
      "2022-05-17 01:29:14.153589: I tensorflow/core/common_runtime/gpu_fusion_pass.cc:507] ROCm Fusion is enabled.\n"
     ]
    },
    {
     "name": "stdout",
     "output_type": "stream",
     "text": [
      "75\n"
     ]
    },
    {
     "name": "stderr",
     "output_type": "stream",
     "text": [
      "2022-05-17 01:30:05.614309: I tensorflow/core/common_runtime/gpu_fusion_pass.cc:507] ROCm Fusion is enabled.\n",
      "2022-05-17 01:30:05.618257: I tensorflow/core/common_runtime/gpu_fusion_pass.cc:507] ROCm Fusion is enabled.\n",
      "2022-05-17 01:30:05.620526: I tensorflow/core/common_runtime/gpu_fusion_pass.cc:507] ROCm Fusion is enabled.\n"
     ]
    },
    {
     "name": "stdout",
     "output_type": "stream",
     "text": [
      "50\n"
     ]
    },
    {
     "name": "stderr",
     "output_type": "stream",
     "text": [
      "2022-05-17 01:30:57.181193: I tensorflow/core/common_runtime/gpu_fusion_pass.cc:507] ROCm Fusion is enabled.\n",
      "2022-05-17 01:30:57.185004: I tensorflow/core/common_runtime/gpu_fusion_pass.cc:507] ROCm Fusion is enabled.\n",
      "2022-05-17 01:30:57.187325: I tensorflow/core/common_runtime/gpu_fusion_pass.cc:507] ROCm Fusion is enabled.\n"
     ]
    },
    {
     "name": "stdout",
     "output_type": "stream",
     "text": [
      "25\n"
     ]
    },
    {
     "name": "stderr",
     "output_type": "stream",
     "text": [
      "2022-05-17 01:31:48.041479: I tensorflow/core/common_runtime/gpu_fusion_pass.cc:507] ROCm Fusion is enabled.\n",
      "2022-05-17 01:31:48.045407: I tensorflow/core/common_runtime/gpu_fusion_pass.cc:507] ROCm Fusion is enabled.\n",
      "2022-05-17 01:31:48.047765: I tensorflow/core/common_runtime/gpu_fusion_pass.cc:507] ROCm Fusion is enabled.\n"
     ]
    },
    {
     "name": "stdout",
     "output_type": "stream",
     "text": [
      "15\n"
     ]
    },
    {
     "name": "stderr",
     "output_type": "stream",
     "text": [
      "2022-05-17 01:32:39.541463: I tensorflow/core/common_runtime/gpu_fusion_pass.cc:507] ROCm Fusion is enabled.\n",
      "2022-05-17 01:32:39.546035: I tensorflow/core/common_runtime/gpu_fusion_pass.cc:507] ROCm Fusion is enabled.\n",
      "2022-05-17 01:32:39.548353: I tensorflow/core/common_runtime/gpu_fusion_pass.cc:507] ROCm Fusion is enabled.\n"
     ]
    },
    {
     "name": "stdout",
     "output_type": "stream",
     "text": [
      "10\n"
     ]
    }
   ],
   "source": [
    "methods = ['fastshap-dkl', 'kernelshap_s-dkl', \n",
    "           'fastshap', 'kernelshap', 'smoothgrad', 'gradcam', 'lime', \n",
    "           'integratedgradients', 'kernelshap_s', 'realx']\n",
    "results = {}\n",
    "for method in methods:\n",
    "    print(method)\n",
    "    results[method] = {} \n",
    "    ## Load Explanations\n",
    "    if method  not in ['smoothgrad', 'integratedgradients', 'realx', 'realx-data', 'gradcam']:\n",
    "        exp_file_retro = os.path.join('..', method, 'shap_values-retrospective.pkl')\n",
    "        exp_file_pro = os.path.join('..', method, 'shap_values-prospective.pkl')\n",
    "    elif method == 'gradcam':\n",
    "        exp_file_retro = os.path.join('..', method, 'explanations.pkl')\n",
    "        exp_file_pro = exp_file_retro\n",
    "    else:\n",
    "        exp_file_retro = os.path.join('..', method, 'explanations-retrospective.pkl')\n",
    "        exp_file_pro = os.path.join('..', method, 'explanations-prospective.pkl')\n",
    "        \n",
    "    with open(exp_file_retro, 'rb') as f:\n",
    "        explanations_retro = pickle.load(f)\n",
    "    with open(exp_file_pro, 'rb') as f:\n",
    "        explanations_pro = pickle.load(f)\n",
    "        \n",
    "    if 'realx' in method:\n",
    "        print(method)\n",
    "        explanations_retro += np.random.random(explanations_retro.shape) * 1e-7\n",
    "        explanations_pro += np.random.random(explanations_pro.shape) * 1e-7\n",
    "        \n",
    "        \n",
    "    ## Evaluate Explanations\n",
    "    with open('results_fixed-{}.pkl'.format(method), 'rb') as f:\n",
    "        result_temp = pickle.load(f)\n",
    "    \n",
    "    ### Retrospective Evaluation\n",
    "\n",
    "    # Exclusion\n",
    "    results[method]['retro_ex'] = result_temp['retro_ex']\n",
    "    # Inclusion\n",
    "    results[method]['retro_in'] = result_temp['retro_in']\n",
    "    \n",
    "    ### Prospective Evaluation \n",
    "\n",
    "    # Exclusion\n",
    "    results[method]['pro_ex'] = evaluate(X_test, explanations_pro, evaluator_model, preds_sample, y_test_fixed, \n",
    "                                         mode = 'exclude', method = method)\n",
    "    # Inclusion\n",
    "    results[method]['pro_in'] = evaluate(X_test, explanations_pro, evaluator_model, preds_sample, y_test_fixed, \n",
    "                                         mode = 'include', method = method) \n",
    "    \n",
    "    print(results[method])\n",
    "    \n",
    "    with open('results_sampled-{}.pkl'.format(method), 'wb') as f:\n",
    "        pickle.dump(results[method], f)"
   ]
  },
  {
   "cell_type": "code",
   "execution_count": null,
   "id": "7c9fad81",
   "metadata": {},
   "outputs": [],
   "source": [
    "results = {}\n",
    "for method in methods:\n",
    "    with open('results_sampled-{}.pkl'.format(method), 'rb') as f:\n",
    "        results[method] = pickle.load(f)"
   ]
  },
  {
   "cell_type": "code",
   "execution_count": null,
   "id": "58cde726",
   "metadata": {},
   "outputs": [],
   "source": [
    "with open('results_sampled.pkl', 'wb') as f:\n",
    "    pickle.dump(results, f)"
   ]
  }
 ],
 "metadata": {
  "kernelspec": {
   "display_name": "Python 3 (ipykernel)",
   "language": "python",
   "name": "python3"
  },
  "language_info": {
   "codemirror_mode": {
    "name": "ipython",
    "version": 3
   },
   "file_extension": ".py",
   "mimetype": "text/x-python",
   "name": "python",
   "nbconvert_exporter": "python",
   "pygments_lexer": "ipython3",
   "version": "3.7.9"
  }
 },
 "nbformat": 4,
 "nbformat_minor": 5
}
