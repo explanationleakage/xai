{
 "cells": [
  {
   "cell_type": "code",
   "execution_count": 1,
   "id": "1ba8c984",
   "metadata": {},
   "outputs": [],
   "source": [
    "import numpy as np\n",
    "\n",
    "from datetime import datetime\n",
    "import os\n",
    "import sys\n",
    "import pickle\n",
    "import time\n",
    "import pandas as pd\n",
    "from tqdm.notebook import tqdm \n",
    "import math\n",
    "\n",
    "import tensorflow as tf\n",
    "\n",
    "# IMPORTANT: SET RANDOM SEEDS FOR REPRODUCIBILITY\n",
    "os.environ['PYTHONHASHSEED'] = str(420)\n",
    "import random\n",
    "random.seed(420)\n",
    "np.random.seed(420)\n",
    "\n",
    "import matplotlib.pyplot as plt\n",
    "from matplotlib.backends.backend_pdf import PdfPages\n",
    "plt.style.use('clean.mplstyle')"
   ]
  },
  {
   "cell_type": "markdown",
   "id": "bd27ed09",
   "metadata": {},
   "source": [
    "# Directories "
   ]
  },
  {
   "cell_type": "code",
   "execution_count": 2,
   "id": "1a3c04dd",
   "metadata": {},
   "outputs": [],
   "source": [
    "# Experiment Directories\n",
    "exp_dirs = {'ECG': '../ecg/experiments',\n",
    "            'Retinal Fundus Imaging': '../diabetic_retinopathy/experiments' , \n",
    "            'Discharge Summaries': '../mimic/experiments',\n",
    "#             'Retinal Fundus Imaging (Sampled)': '../diabetic_retinopathy/experiments' , \n",
    "#             'Retinal Fundus Imaging (Permuted)': '../diabetic_retinopathy/experiments' , \n",
    "           }\n",
    "\n",
    "# Methods\n",
    "methods = {'gradcam':'GradCAM', \n",
    "           'integratedgradients':'IntGrad', \n",
    "           'smoothgrad':'SmoothGrad', \n",
    "           'kernelshap':'SHAP', \n",
    "           'kernelshap_s':'SHAP-S',\n",
    "           'kernelshap_s-dkl':'SHAP-KL',\n",
    "           'lime':'LIME', \n",
    "           'fastshap':'FastSHAP', \n",
    "           'fastshap-dkl':'FastSHAP-KL', \n",
    "           'realx':'REAL-X'}"
   ]
  },
  {
   "cell_type": "markdown",
   "id": "f8c8ba6c",
   "metadata": {},
   "source": [
    "# Load Results"
   ]
  },
  {
   "cell_type": "code",
   "execution_count": 3,
   "id": "49041e97",
   "metadata": {},
   "outputs": [
    {
     "name": "stderr",
     "output_type": "stream",
     "text": [
      "2022-05-18 17:37:01.481028: I tensorflow/core/platform/cpu_feature_guard.cc:142] This TensorFlow binary is optimized with oneAPI Deep Neural Network Library (oneDNN) to use the following CPU instructions in performance-critical operations:  SSE3 SSE4.1 SSE4.2 AVX AVX2 FMA\n",
      "To enable them in other operations, rebuild TensorFlow with the appropriate compiler flags.\n",
      "2022-05-18 17:37:01.481466: I tensorflow/core/common_runtime/gpu/gpu_device.cc:1510] Created device /job:localhost/replica:0/task:0/device:GPU:0 with 32252 MB memory:  -> device: 0, name: Vega 20, pci bus id: 0000:48:00.0\n"
     ]
    }
   ],
   "source": [
    "results = {}\n",
    "for exp, exp_dir in exp_dirs.items():\n",
    "\n",
    "    results_dir = os.path.join(exp_dir, 'evaluation') \n",
    "    if exp == 'Retinal Fundus Imaging':\n",
    "        with open(os.path.join(results_dir, 'results_fixed.pkl'), 'rb') as f:\n",
    "            results[exp] = pickle.load(f)\n",
    "    elif exp == 'Retinal Fundus Imaging (Sampled)':\n",
    "        with open(os.path.join(results_dir, 'results_sampled.pkl'), 'rb') as f:\n",
    "            results[exp] = pickle.load(f)\n",
    "    else:\n",
    "        with open(os.path.join(results_dir, 'results.pkl'), 'rb') as f:\n",
    "            results[exp] = pickle.load(f)\n",
    "    "
   ]
  },
  {
   "cell_type": "markdown",
   "id": "9842ab26",
   "metadata": {},
   "source": [
    "# Get Bootstrap Results"
   ]
  },
  {
   "cell_type": "code",
   "execution_count": 4,
   "id": "325a7bf8",
   "metadata": {},
   "outputs": [],
   "source": [
    "sys.path.insert(0, '/vast/nj594/xai/helpers')\n",
    "from evaluate import metrics, vote_metrics"
   ]
  },
  {
   "cell_type": "markdown",
   "id": "2360b763",
   "metadata": {},
   "source": [
    "### Load Ys"
   ]
  },
  {
   "cell_type": "code",
   "execution_count": 5,
   "id": "30769f9f",
   "metadata": {},
   "outputs": [
    {
     "name": "stderr",
     "output_type": "stream",
     "text": [
      "2022-05-18 17:37:03.085074: I tensorflow/compiler/mlir/mlir_graph_optimization_pass.cc:185] None of the MLIR Optimization Passes are enabled (registered 2)\n",
      "2022-05-18 17:37:03.104157: I tensorflow/core/common_runtime/gpu_fusion_pass.cc:507] ROCm Fusion is enabled.\n",
      "2022-05-18 17:37:03.106368: I tensorflow/core/common_runtime/gpu_fusion_pass.cc:507] ROCm Fusion is enabled.\n"
     ]
    }
   ],
   "source": [
    "y_dict = {}\n",
    "for exp, exp_dir in exp_dirs.items():\n",
    "    data_dir = os.path.join(exp_dir, 'data')\n",
    "    \n",
    "    # Load Preds\n",
    "    if exp == 'Discharge Summaries':\n",
    "        test_dir = os.path.join(data_dir, 'test_dataset')\n",
    "        element_spec = ({'input_ids': tf.TensorSpec(shape=(128,), dtype=tf.int32, name=None),\n",
    "                         'attention_mask': tf.TensorSpec(shape=(128,), dtype=tf.int32, name=None),\n",
    "                         'token_type_ids': tf.TensorSpec(shape=(128,), dtype=tf.int32, name=None)},\n",
    "                        tf.TensorSpec(shape=(2,), dtype=tf.int32, name=None))\n",
    "        test_data = tf.data.experimental.load(test_dir, element_spec)\n",
    "        y = np.vstack([y.numpy() for x,y in test_data])\n",
    "    elif exp == 'Retinal Fundus Imaging':\n",
    "        y = np.load(os.path.join(data_dir, 'y_test_fixed.npy'), allow_pickle=True)\n",
    "    else:\n",
    "        y = np.load(os.path.join(data_dir, 'y_test.npy'), allow_pickle=True)\n",
    "        \n",
    "    y_dict[exp] = y\n",
    "    \n",
    "    # Load MIMIC Test DF\n",
    "    if exp == 'Discharge Summaries':\n",
    "        df_test = pd.read_csv(os.path.join(data_dir, \"test.csv\"))"
   ]
  },
  {
   "cell_type": "markdown",
   "id": "e1a9b3e2",
   "metadata": {},
   "source": [
    "### Get Bootstrap Results"
   ]
  },
  {
   "cell_type": "code",
   "execution_count": null,
   "id": "826012ed",
   "metadata": {
    "scrolled": true
   },
   "outputs": [
    {
     "name": "stdout",
     "output_type": "stream",
     "text": [
      "ECG\n",
      "fastshap\n"
     ]
    },
    {
     "data": {
      "application/vnd.jupyter.widget-view+json": {
       "model_id": "1345701756e74f33969918d0c7a5e6af",
       "version_major": 2,
       "version_minor": 0
      },
      "text/plain": [
       "  0%|          | 0/13 [00:00<?, ?it/s]"
      ]
     },
     "metadata": {},
     "output_type": "display_data"
    },
    {
     "data": {
      "application/vnd.jupyter.widget-view+json": {
       "model_id": "ea518bfac0854981a0b4917f3d6a45be",
       "version_major": 2,
       "version_minor": 0
      },
      "text/plain": [
       "  0%|          | 0/13 [00:00<?, ?it/s]"
      ]
     },
     "metadata": {},
     "output_type": "display_data"
    },
    {
     "data": {
      "application/vnd.jupyter.widget-view+json": {
       "model_id": "22eb0bbcc3174427a65e8e96aa4c4c64",
       "version_major": 2,
       "version_minor": 0
      },
      "text/plain": [
       "  0%|          | 0/13 [00:00<?, ?it/s]"
      ]
     },
     "metadata": {},
     "output_type": "display_data"
    },
    {
     "data": {
      "application/vnd.jupyter.widget-view+json": {
       "model_id": "54a54835d6e54bc8aebf8b45dd5633e7",
       "version_major": 2,
       "version_minor": 0
      },
      "text/plain": [
       "  0%|          | 0/13 [00:00<?, ?it/s]"
      ]
     },
     "metadata": {},
     "output_type": "display_data"
    },
    {
     "name": "stdout",
     "output_type": "stream",
     "text": [
      "fastshap-data\n"
     ]
    },
    {
     "data": {
      "application/vnd.jupyter.widget-view+json": {
       "model_id": "48614b2896974a4e9fd77a5e729e183e",
       "version_major": 2,
       "version_minor": 0
      },
      "text/plain": [
       "  0%|          | 0/13 [00:00<?, ?it/s]"
      ]
     },
     "metadata": {},
     "output_type": "display_data"
    },
    {
     "data": {
      "application/vnd.jupyter.widget-view+json": {
       "model_id": "835695fbe05c4848a0ff194a4bf0f4ac",
       "version_major": 2,
       "version_minor": 0
      },
      "text/plain": [
       "  0%|          | 0/13 [00:00<?, ?it/s]"
      ]
     },
     "metadata": {},
     "output_type": "display_data"
    },
    {
     "data": {
      "application/vnd.jupyter.widget-view+json": {
       "model_id": "83fff0fd476c44bb9f93e6dc13440022",
       "version_major": 2,
       "version_minor": 0
      },
      "text/plain": [
       "  0%|          | 0/13 [00:00<?, ?it/s]"
      ]
     },
     "metadata": {},
     "output_type": "display_data"
    },
    {
     "data": {
      "application/vnd.jupyter.widget-view+json": {
       "model_id": "57866f68e403408095794b01e66eecaa",
       "version_major": 2,
       "version_minor": 0
      },
      "text/plain": [
       "  0%|          | 0/13 [00:00<?, ?it/s]"
      ]
     },
     "metadata": {},
     "output_type": "display_data"
    },
    {
     "name": "stdout",
     "output_type": "stream",
     "text": [
      "kernelshap\n"
     ]
    },
    {
     "data": {
      "application/vnd.jupyter.widget-view+json": {
       "model_id": "5d3092c01bba41028e71590ae998ef66",
       "version_major": 2,
       "version_minor": 0
      },
      "text/plain": [
       "  0%|          | 0/13 [00:00<?, ?it/s]"
      ]
     },
     "metadata": {},
     "output_type": "display_data"
    },
    {
     "data": {
      "application/vnd.jupyter.widget-view+json": {
       "model_id": "5e93c92233a34ae39af7bc0bc26ca145",
       "version_major": 2,
       "version_minor": 0
      },
      "text/plain": [
       "  0%|          | 0/13 [00:00<?, ?it/s]"
      ]
     },
     "metadata": {},
     "output_type": "display_data"
    },
    {
     "data": {
      "application/vnd.jupyter.widget-view+json": {
       "model_id": "0bce58e0c5a14011b35f38c11b547c9b",
       "version_major": 2,
       "version_minor": 0
      },
      "text/plain": [
       "  0%|          | 0/13 [00:00<?, ?it/s]"
      ]
     },
     "metadata": {},
     "output_type": "display_data"
    },
    {
     "data": {
      "application/vnd.jupyter.widget-view+json": {
       "model_id": "a246c583c4a64e9e943f2683088e62fb",
       "version_major": 2,
       "version_minor": 0
      },
      "text/plain": [
       "  0%|          | 0/13 [00:00<?, ?it/s]"
      ]
     },
     "metadata": {},
     "output_type": "display_data"
    },
    {
     "name": "stdout",
     "output_type": "stream",
     "text": [
      "smoothgrad\n"
     ]
    },
    {
     "data": {
      "application/vnd.jupyter.widget-view+json": {
       "model_id": "18eea076e52b489dba993664eb269df6",
       "version_major": 2,
       "version_minor": 0
      },
      "text/plain": [
       "  0%|          | 0/13 [00:00<?, ?it/s]"
      ]
     },
     "metadata": {},
     "output_type": "display_data"
    },
    {
     "data": {
      "application/vnd.jupyter.widget-view+json": {
       "model_id": "6bd077c859ba4d08a7953f723260d2f7",
       "version_major": 2,
       "version_minor": 0
      },
      "text/plain": [
       "  0%|          | 0/13 [00:00<?, ?it/s]"
      ]
     },
     "metadata": {},
     "output_type": "display_data"
    },
    {
     "data": {
      "application/vnd.jupyter.widget-view+json": {
       "model_id": "656d1961172e4342b5b0acdbfb1a74e5",
       "version_major": 2,
       "version_minor": 0
      },
      "text/plain": [
       "  0%|          | 0/13 [00:00<?, ?it/s]"
      ]
     },
     "metadata": {},
     "output_type": "display_data"
    },
    {
     "data": {
      "application/vnd.jupyter.widget-view+json": {
       "model_id": "60221fadfc7e4a26b519c75843299328",
       "version_major": 2,
       "version_minor": 0
      },
      "text/plain": [
       "  0%|          | 0/13 [00:00<?, ?it/s]"
      ]
     },
     "metadata": {},
     "output_type": "display_data"
    },
    {
     "name": "stdout",
     "output_type": "stream",
     "text": [
      "integratedgradients\n"
     ]
    },
    {
     "data": {
      "application/vnd.jupyter.widget-view+json": {
       "model_id": "b84cdbd992af427992603d89b0e8dfdd",
       "version_major": 2,
       "version_minor": 0
      },
      "text/plain": [
       "  0%|          | 0/13 [00:00<?, ?it/s]"
      ]
     },
     "metadata": {},
     "output_type": "display_data"
    },
    {
     "data": {
      "application/vnd.jupyter.widget-view+json": {
       "model_id": "170c79b27e9f4cbdae763d0449a6fb6f",
       "version_major": 2,
       "version_minor": 0
      },
      "text/plain": [
       "  0%|          | 0/13 [00:00<?, ?it/s]"
      ]
     },
     "metadata": {},
     "output_type": "display_data"
    },
    {
     "data": {
      "application/vnd.jupyter.widget-view+json": {
       "model_id": "537722f7a87e4f98ba6a0119c8b7e717",
       "version_major": 2,
       "version_minor": 0
      },
      "text/plain": [
       "  0%|          | 0/13 [00:00<?, ?it/s]"
      ]
     },
     "metadata": {},
     "output_type": "display_data"
    },
    {
     "data": {
      "application/vnd.jupyter.widget-view+json": {
       "model_id": "b4ea7b1d098d439388d4981379626f7e",
       "version_major": 2,
       "version_minor": 0
      },
      "text/plain": [
       "  0%|          | 0/13 [00:00<?, ?it/s]"
      ]
     },
     "metadata": {},
     "output_type": "display_data"
    },
    {
     "name": "stdout",
     "output_type": "stream",
     "text": [
      "kernelshap_s\n"
     ]
    },
    {
     "data": {
      "application/vnd.jupyter.widget-view+json": {
       "model_id": "5708be3aa923412787219563a6474506",
       "version_major": 2,
       "version_minor": 0
      },
      "text/plain": [
       "  0%|          | 0/13 [00:00<?, ?it/s]"
      ]
     },
     "metadata": {},
     "output_type": "display_data"
    },
    {
     "data": {
      "application/vnd.jupyter.widget-view+json": {
       "model_id": "0d7101253efa4b01b02f1b2643d87315",
       "version_major": 2,
       "version_minor": 0
      },
      "text/plain": [
       "  0%|          | 0/13 [00:00<?, ?it/s]"
      ]
     },
     "metadata": {},
     "output_type": "display_data"
    },
    {
     "data": {
      "application/vnd.jupyter.widget-view+json": {
       "model_id": "ac149454170744358c35eb79adefbe90",
       "version_major": 2,
       "version_minor": 0
      },
      "text/plain": [
       "  0%|          | 0/13 [00:00<?, ?it/s]"
      ]
     },
     "metadata": {},
     "output_type": "display_data"
    },
    {
     "data": {
      "application/vnd.jupyter.widget-view+json": {
       "model_id": "1470330e969e42d6b4714a0f1642a5dc",
       "version_major": 2,
       "version_minor": 0
      },
      "text/plain": [
       "  0%|          | 0/13 [00:00<?, ?it/s]"
      ]
     },
     "metadata": {},
     "output_type": "display_data"
    },
    {
     "name": "stdout",
     "output_type": "stream",
     "text": [
      "kernelshap_s-data\n"
     ]
    },
    {
     "data": {
      "application/vnd.jupyter.widget-view+json": {
       "model_id": "1dc7341c69e644288683fe31a6455394",
       "version_major": 2,
       "version_minor": 0
      },
      "text/plain": [
       "  0%|          | 0/13 [00:00<?, ?it/s]"
      ]
     },
     "metadata": {},
     "output_type": "display_data"
    },
    {
     "data": {
      "application/vnd.jupyter.widget-view+json": {
       "model_id": "75c70ce9fcc44ba3bf36b17c37410809",
       "version_major": 2,
       "version_minor": 0
      },
      "text/plain": [
       "  0%|          | 0/13 [00:00<?, ?it/s]"
      ]
     },
     "metadata": {},
     "output_type": "display_data"
    },
    {
     "data": {
      "application/vnd.jupyter.widget-view+json": {
       "model_id": "b97d292d371b43f9911a0811f23ad807",
       "version_major": 2,
       "version_minor": 0
      },
      "text/plain": [
       "  0%|          | 0/13 [00:00<?, ?it/s]"
      ]
     },
     "metadata": {},
     "output_type": "display_data"
    },
    {
     "data": {
      "application/vnd.jupyter.widget-view+json": {
       "model_id": "e7668fd7e0ce40cc8df43e65b51c5167",
       "version_major": 2,
       "version_minor": 0
      },
      "text/plain": [
       "  0%|          | 0/13 [00:00<?, ?it/s]"
      ]
     },
     "metadata": {},
     "output_type": "display_data"
    },
    {
     "name": "stdout",
     "output_type": "stream",
     "text": [
      "realx\n"
     ]
    },
    {
     "data": {
      "application/vnd.jupyter.widget-view+json": {
       "model_id": "455a5e8344314741807ff09f53233170",
       "version_major": 2,
       "version_minor": 0
      },
      "text/plain": [
       "  0%|          | 0/13 [00:00<?, ?it/s]"
      ]
     },
     "metadata": {},
     "output_type": "display_data"
    },
    {
     "data": {
      "application/vnd.jupyter.widget-view+json": {
       "model_id": "d7780dbb451f4939986187e813bcbcdb",
       "version_major": 2,
       "version_minor": 0
      },
      "text/plain": [
       "  0%|          | 0/13 [00:00<?, ?it/s]"
      ]
     },
     "metadata": {},
     "output_type": "display_data"
    },
    {
     "data": {
      "application/vnd.jupyter.widget-view+json": {
       "model_id": "1816e2087f184cde836c0e5652535579",
       "version_major": 2,
       "version_minor": 0
      },
      "text/plain": [
       "  0%|          | 0/13 [00:00<?, ?it/s]"
      ]
     },
     "metadata": {},
     "output_type": "display_data"
    },
    {
     "data": {
      "application/vnd.jupyter.widget-view+json": {
       "model_id": "656910b5d7464d2b81a3242f164402b4",
       "version_major": 2,
       "version_minor": 0
      },
      "text/plain": [
       "  0%|          | 0/13 [00:00<?, ?it/s]"
      ]
     },
     "metadata": {},
     "output_type": "display_data"
    },
    {
     "name": "stdout",
     "output_type": "stream",
     "text": [
      "realx-data\n"
     ]
    },
    {
     "data": {
      "application/vnd.jupyter.widget-view+json": {
       "model_id": "d0da40be04a04929a63688f61415a1be",
       "version_major": 2,
       "version_minor": 0
      },
      "text/plain": [
       "  0%|          | 0/13 [00:00<?, ?it/s]"
      ]
     },
     "metadata": {},
     "output_type": "display_data"
    },
    {
     "data": {
      "application/vnd.jupyter.widget-view+json": {
       "model_id": "cf147715341145118266ded3bcf5c048",
       "version_major": 2,
       "version_minor": 0
      },
      "text/plain": [
       "  0%|          | 0/13 [00:00<?, ?it/s]"
      ]
     },
     "metadata": {},
     "output_type": "display_data"
    },
    {
     "data": {
      "application/vnd.jupyter.widget-view+json": {
       "model_id": "2ca85b70c8484c149dfedc58f145727a",
       "version_major": 2,
       "version_minor": 0
      },
      "text/plain": [
       "  0%|          | 0/13 [00:00<?, ?it/s]"
      ]
     },
     "metadata": {},
     "output_type": "display_data"
    },
    {
     "data": {
      "application/vnd.jupyter.widget-view+json": {
       "model_id": "ffd863445d9b4bd98b85acbb9249a3b6",
       "version_major": 2,
       "version_minor": 0
      },
      "text/plain": [
       "  0%|          | 0/13 [00:00<?, ?it/s]"
      ]
     },
     "metadata": {},
     "output_type": "display_data"
    },
    {
     "name": "stdout",
     "output_type": "stream",
     "text": [
      "gradcam\n"
     ]
    },
    {
     "data": {
      "application/vnd.jupyter.widget-view+json": {
       "model_id": "33776456247646c5b9c5eb6a640461b2",
       "version_major": 2,
       "version_minor": 0
      },
      "text/plain": [
       "  0%|          | 0/13 [00:00<?, ?it/s]"
      ]
     },
     "metadata": {},
     "output_type": "display_data"
    },
    {
     "data": {
      "application/vnd.jupyter.widget-view+json": {
       "model_id": "a00660704a9a4929b8ee39a368f686af",
       "version_major": 2,
       "version_minor": 0
      },
      "text/plain": [
       "  0%|          | 0/13 [00:00<?, ?it/s]"
      ]
     },
     "metadata": {},
     "output_type": "display_data"
    },
    {
     "data": {
      "application/vnd.jupyter.widget-view+json": {
       "model_id": "39e359eca6914b6aa381ffb3fb477923",
       "version_major": 2,
       "version_minor": 0
      },
      "text/plain": [
       "  0%|          | 0/13 [00:00<?, ?it/s]"
      ]
     },
     "metadata": {},
     "output_type": "display_data"
    },
    {
     "data": {
      "application/vnd.jupyter.widget-view+json": {
       "model_id": "ce5e1ca80fc34efaaf79cd641587e7ca",
       "version_major": 2,
       "version_minor": 0
      },
      "text/plain": [
       "  0%|          | 0/13 [00:00<?, ?it/s]"
      ]
     },
     "metadata": {},
     "output_type": "display_data"
    },
    {
     "name": "stdout",
     "output_type": "stream",
     "text": [
      "lime\n"
     ]
    },
    {
     "data": {
      "application/vnd.jupyter.widget-view+json": {
       "model_id": "30e642417fa04e3f9bf30a45e3e8582b",
       "version_major": 2,
       "version_minor": 0
      },
      "text/plain": [
       "  0%|          | 0/13 [00:00<?, ?it/s]"
      ]
     },
     "metadata": {},
     "output_type": "display_data"
    },
    {
     "data": {
      "application/vnd.jupyter.widget-view+json": {
       "model_id": "4a66daff8e6944e98b2d6424669bfcca",
       "version_major": 2,
       "version_minor": 0
      },
      "text/plain": [
       "  0%|          | 0/13 [00:00<?, ?it/s]"
      ]
     },
     "metadata": {},
     "output_type": "display_data"
    },
    {
     "data": {
      "application/vnd.jupyter.widget-view+json": {
       "model_id": "cd303c219e944db4836e4e511caad4af",
       "version_major": 2,
       "version_minor": 0
      },
      "text/plain": [
       "  0%|          | 0/13 [00:00<?, ?it/s]"
      ]
     },
     "metadata": {},
     "output_type": "display_data"
    },
    {
     "data": {
      "application/vnd.jupyter.widget-view+json": {
       "model_id": "9e959de6c9d44c778eae4ca74650aaca",
       "version_major": 2,
       "version_minor": 0
      },
      "text/plain": [
       "  0%|          | 0/13 [00:00<?, ?it/s]"
      ]
     },
     "metadata": {},
     "output_type": "display_data"
    },
    {
     "name": "stdout",
     "output_type": "stream",
     "text": [
      "fastshap-dkl\n"
     ]
    },
    {
     "data": {
      "application/vnd.jupyter.widget-view+json": {
       "model_id": "7290c796e7ec4a2d9e01f0bf8dd50607",
       "version_major": 2,
       "version_minor": 0
      },
      "text/plain": [
       "  0%|          | 0/13 [00:00<?, ?it/s]"
      ]
     },
     "metadata": {},
     "output_type": "display_data"
    },
    {
     "data": {
      "application/vnd.jupyter.widget-view+json": {
       "model_id": "3aa469aa906e4f98b0dc5fd6eb09d23f",
       "version_major": 2,
       "version_minor": 0
      },
      "text/plain": [
       "  0%|          | 0/13 [00:00<?, ?it/s]"
      ]
     },
     "metadata": {},
     "output_type": "display_data"
    },
    {
     "data": {
      "application/vnd.jupyter.widget-view+json": {
       "model_id": "c0b4f346612447aea6463849e78bc5a9",
       "version_major": 2,
       "version_minor": 0
      },
      "text/plain": [
       "  0%|          | 0/13 [00:00<?, ?it/s]"
      ]
     },
     "metadata": {},
     "output_type": "display_data"
    },
    {
     "data": {
      "application/vnd.jupyter.widget-view+json": {
       "model_id": "8fc32d01cd63444092f597fa5bf218fa",
       "version_major": 2,
       "version_minor": 0
      },
      "text/plain": [
       "  0%|          | 0/13 [00:00<?, ?it/s]"
      ]
     },
     "metadata": {},
     "output_type": "display_data"
    },
    {
     "name": "stdout",
     "output_type": "stream",
     "text": [
      "kernelshap_s-dkl\n"
     ]
    },
    {
     "data": {
      "application/vnd.jupyter.widget-view+json": {
       "model_id": "94d6f2385f154001aded0205427e8312",
       "version_major": 2,
       "version_minor": 0
      },
      "text/plain": [
       "  0%|          | 0/13 [00:00<?, ?it/s]"
      ]
     },
     "metadata": {},
     "output_type": "display_data"
    },
    {
     "data": {
      "application/vnd.jupyter.widget-view+json": {
       "model_id": "81dd2164ad4c4aa2a25080c47c5ea435",
       "version_major": 2,
       "version_minor": 0
      },
      "text/plain": [
       "  0%|          | 0/13 [00:00<?, ?it/s]"
      ]
     },
     "metadata": {},
     "output_type": "display_data"
    },
    {
     "data": {
      "application/vnd.jupyter.widget-view+json": {
       "model_id": "1e4ae37850bd46498d6a2388a758d9d5",
       "version_major": 2,
       "version_minor": 0
      },
      "text/plain": [
       "  0%|          | 0/13 [00:00<?, ?it/s]"
      ]
     },
     "metadata": {},
     "output_type": "display_data"
    },
    {
     "data": {
      "application/vnd.jupyter.widget-view+json": {
       "model_id": "767e77ddc8384b589c63d01d9df1211d",
       "version_major": 2,
       "version_minor": 0
      },
      "text/plain": [
       "  0%|          | 0/13 [00:00<?, ?it/s]"
      ]
     },
     "metadata": {},
     "output_type": "display_data"
    },
    {
     "name": "stdout",
     "output_type": "stream",
     "text": [
      "Retinal Fundus Imaging\n",
      "fastshap\n"
     ]
    },
    {
     "data": {
      "application/vnd.jupyter.widget-view+json": {
       "model_id": "0d5595f2bb8e43b5b0b200f96418bd4d",
       "version_major": 2,
       "version_minor": 0
      },
      "text/plain": [
       "  0%|          | 0/13 [00:00<?, ?it/s]"
      ]
     },
     "metadata": {},
     "output_type": "display_data"
    },
    {
     "data": {
      "application/vnd.jupyter.widget-view+json": {
       "model_id": "8eb7dc28f6694eeea561fb008e019576",
       "version_major": 2,
       "version_minor": 0
      },
      "text/plain": [
       "  0%|          | 0/13 [00:00<?, ?it/s]"
      ]
     },
     "metadata": {},
     "output_type": "display_data"
    },
    {
     "data": {
      "application/vnd.jupyter.widget-view+json": {
       "model_id": "7963f9079bb146e1b5b4226035971e54",
       "version_major": 2,
       "version_minor": 0
      },
      "text/plain": [
       "  0%|          | 0/13 [00:00<?, ?it/s]"
      ]
     },
     "metadata": {},
     "output_type": "display_data"
    },
    {
     "data": {
      "application/vnd.jupyter.widget-view+json": {
       "model_id": "1f3b4f921db244adb3ffbf8638d6099b",
       "version_major": 2,
       "version_minor": 0
      },
      "text/plain": [
       "  0%|          | 0/13 [00:00<?, ?it/s]"
      ]
     },
     "metadata": {},
     "output_type": "display_data"
    },
    {
     "name": "stdout",
     "output_type": "stream",
     "text": [
      "fastshap-data\n"
     ]
    },
    {
     "data": {
      "application/vnd.jupyter.widget-view+json": {
       "model_id": "27276610d99449c9ab8c2cd2a749af6c",
       "version_major": 2,
       "version_minor": 0
      },
      "text/plain": [
       "  0%|          | 0/13 [00:00<?, ?it/s]"
      ]
     },
     "metadata": {},
     "output_type": "display_data"
    },
    {
     "data": {
      "application/vnd.jupyter.widget-view+json": {
       "model_id": "ead0dccc6e264c1cbb71c036aa751d88",
       "version_major": 2,
       "version_minor": 0
      },
      "text/plain": [
       "  0%|          | 0/13 [00:00<?, ?it/s]"
      ]
     },
     "metadata": {},
     "output_type": "display_data"
    },
    {
     "data": {
      "application/vnd.jupyter.widget-view+json": {
       "model_id": "c476e2e1dd3844f8b7d73ac7708eac87",
       "version_major": 2,
       "version_minor": 0
      },
      "text/plain": [
       "  0%|          | 0/13 [00:00<?, ?it/s]"
      ]
     },
     "metadata": {},
     "output_type": "display_data"
    },
    {
     "data": {
      "application/vnd.jupyter.widget-view+json": {
       "model_id": "5a7735dd437c4fee8a14de15b786a6dc",
       "version_major": 2,
       "version_minor": 0
      },
      "text/plain": [
       "  0%|          | 0/13 [00:00<?, ?it/s]"
      ]
     },
     "metadata": {},
     "output_type": "display_data"
    },
    {
     "name": "stdout",
     "output_type": "stream",
     "text": [
      "kernelshap\n"
     ]
    },
    {
     "data": {
      "application/vnd.jupyter.widget-view+json": {
       "model_id": "85d51a7ed4944ec0ba97ddf3dc218e1e",
       "version_major": 2,
       "version_minor": 0
      },
      "text/plain": [
       "  0%|          | 0/13 [00:00<?, ?it/s]"
      ]
     },
     "metadata": {},
     "output_type": "display_data"
    },
    {
     "data": {
      "application/vnd.jupyter.widget-view+json": {
       "model_id": "685ad895c53b4e16901fc1839bb0da58",
       "version_major": 2,
       "version_minor": 0
      },
      "text/plain": [
       "  0%|          | 0/13 [00:00<?, ?it/s]"
      ]
     },
     "metadata": {},
     "output_type": "display_data"
    },
    {
     "data": {
      "application/vnd.jupyter.widget-view+json": {
       "model_id": "a75bc6e24caf44d48384c6a5ee4ae572",
       "version_major": 2,
       "version_minor": 0
      },
      "text/plain": [
       "  0%|          | 0/13 [00:00<?, ?it/s]"
      ]
     },
     "metadata": {},
     "output_type": "display_data"
    },
    {
     "data": {
      "application/vnd.jupyter.widget-view+json": {
       "model_id": "fda81491825942ef88c66965ee5bca1c",
       "version_major": 2,
       "version_minor": 0
      },
      "text/plain": [
       "  0%|          | 0/13 [00:00<?, ?it/s]"
      ]
     },
     "metadata": {},
     "output_type": "display_data"
    },
    {
     "name": "stdout",
     "output_type": "stream",
     "text": [
      "smoothgrad\n"
     ]
    },
    {
     "data": {
      "application/vnd.jupyter.widget-view+json": {
       "model_id": "7c6318a3b9a946a89c91631d8416a941",
       "version_major": 2,
       "version_minor": 0
      },
      "text/plain": [
       "  0%|          | 0/13 [00:00<?, ?it/s]"
      ]
     },
     "metadata": {},
     "output_type": "display_data"
    },
    {
     "data": {
      "application/vnd.jupyter.widget-view+json": {
       "model_id": "9627d8710151447480b060aec45ad1e6",
       "version_major": 2,
       "version_minor": 0
      },
      "text/plain": [
       "  0%|          | 0/13 [00:00<?, ?it/s]"
      ]
     },
     "metadata": {},
     "output_type": "display_data"
    },
    {
     "data": {
      "application/vnd.jupyter.widget-view+json": {
       "model_id": "3f8e784837f94e18ae17c701a49e3a08",
       "version_major": 2,
       "version_minor": 0
      },
      "text/plain": [
       "  0%|          | 0/13 [00:00<?, ?it/s]"
      ]
     },
     "metadata": {},
     "output_type": "display_data"
    },
    {
     "data": {
      "application/vnd.jupyter.widget-view+json": {
       "model_id": "4060f6b0650641a7bacc382037679b28",
       "version_major": 2,
       "version_minor": 0
      },
      "text/plain": [
       "  0%|          | 0/13 [00:00<?, ?it/s]"
      ]
     },
     "metadata": {},
     "output_type": "display_data"
    },
    {
     "name": "stdout",
     "output_type": "stream",
     "text": [
      "gradcam\n"
     ]
    },
    {
     "data": {
      "application/vnd.jupyter.widget-view+json": {
       "model_id": "073b966a464b4223af5172730c32775a",
       "version_major": 2,
       "version_minor": 0
      },
      "text/plain": [
       "  0%|          | 0/13 [00:00<?, ?it/s]"
      ]
     },
     "metadata": {},
     "output_type": "display_data"
    },
    {
     "data": {
      "application/vnd.jupyter.widget-view+json": {
       "model_id": "444385e9ea984a63b0b8c3847cb33472",
       "version_major": 2,
       "version_minor": 0
      },
      "text/plain": [
       "  0%|          | 0/13 [00:00<?, ?it/s]"
      ]
     },
     "metadata": {},
     "output_type": "display_data"
    },
    {
     "data": {
      "application/vnd.jupyter.widget-view+json": {
       "model_id": "553a5d54f3744456b6b06eca4c0aca3f",
       "version_major": 2,
       "version_minor": 0
      },
      "text/plain": [
       "  0%|          | 0/13 [00:00<?, ?it/s]"
      ]
     },
     "metadata": {},
     "output_type": "display_data"
    },
    {
     "data": {
      "application/vnd.jupyter.widget-view+json": {
       "model_id": "1ce20ba5e3f547f98ed5e2c7d93fbb56",
       "version_major": 2,
       "version_minor": 0
      },
      "text/plain": [
       "  0%|          | 0/13 [00:00<?, ?it/s]"
      ]
     },
     "metadata": {},
     "output_type": "display_data"
    },
    {
     "name": "stdout",
     "output_type": "stream",
     "text": [
      "lime\n"
     ]
    },
    {
     "data": {
      "application/vnd.jupyter.widget-view+json": {
       "model_id": "a50d89c06ddb46d481b9f027df3ec3a7",
       "version_major": 2,
       "version_minor": 0
      },
      "text/plain": [
       "  0%|          | 0/13 [00:00<?, ?it/s]"
      ]
     },
     "metadata": {},
     "output_type": "display_data"
    },
    {
     "data": {
      "application/vnd.jupyter.widget-view+json": {
       "model_id": "86863f4978e74c7d9386e5b696da78e6",
       "version_major": 2,
       "version_minor": 0
      },
      "text/plain": [
       "  0%|          | 0/13 [00:00<?, ?it/s]"
      ]
     },
     "metadata": {},
     "output_type": "display_data"
    },
    {
     "data": {
      "application/vnd.jupyter.widget-view+json": {
       "model_id": "95280b3740b14e7a90d033b3eb11d6ae",
       "version_major": 2,
       "version_minor": 0
      },
      "text/plain": [
       "  0%|          | 0/13 [00:00<?, ?it/s]"
      ]
     },
     "metadata": {},
     "output_type": "display_data"
    },
    {
     "data": {
      "application/vnd.jupyter.widget-view+json": {
       "model_id": "2a001da860f940dabc0d5b455cf6ba1d",
       "version_major": 2,
       "version_minor": 0
      },
      "text/plain": [
       "  0%|          | 0/13 [00:00<?, ?it/s]"
      ]
     },
     "metadata": {},
     "output_type": "display_data"
    },
    {
     "name": "stdout",
     "output_type": "stream",
     "text": [
      "integratedgradients\n"
     ]
    },
    {
     "data": {
      "application/vnd.jupyter.widget-view+json": {
       "model_id": "548f1d5983fd4136909974989616c059",
       "version_major": 2,
       "version_minor": 0
      },
      "text/plain": [
       "  0%|          | 0/13 [00:00<?, ?it/s]"
      ]
     },
     "metadata": {},
     "output_type": "display_data"
    },
    {
     "data": {
      "application/vnd.jupyter.widget-view+json": {
       "model_id": "8f386bc0c9c4411c99d3dd7524a83265",
       "version_major": 2,
       "version_minor": 0
      },
      "text/plain": [
       "  0%|          | 0/13 [00:00<?, ?it/s]"
      ]
     },
     "metadata": {},
     "output_type": "display_data"
    },
    {
     "data": {
      "application/vnd.jupyter.widget-view+json": {
       "model_id": "af3996339dd1498e9a152613d85714fe",
       "version_major": 2,
       "version_minor": 0
      },
      "text/plain": [
       "  0%|          | 0/13 [00:00<?, ?it/s]"
      ]
     },
     "metadata": {},
     "output_type": "display_data"
    }
   ],
   "source": [
    "for exp, exp_result in results.items():\n",
    "    print(exp)\n",
    "    y = y_dict[exp]\n",
    "    \n",
    "    for method, method_result in exp_result.items():\n",
    "        print(method)\n",
    "        for evaluation, eval_result in method_result.items():\n",
    "            results[exp][method][evaluation]['bootstrap_acc'] = {}\n",
    "            results[exp][method][evaluation]['bootstrap_auroc'] = {}\n",
    "            results[exp][method][evaluation]['bootstrap_log_odds'] = {}\n",
    "            results[exp][method][evaluation]['bootstrap_log_likelihood'] = {}\n",
    "            for p in tqdm(eval_result['acc'].keys()):\n",
    "                results[exp][method][evaluation]['bootstrap_acc'][p] = []\n",
    "                results[exp][method][evaluation]['bootstrap_auroc'][p] = []\n",
    "                results[exp][method][evaluation]['bootstrap_log_odds'][p] = []\n",
    "                results[exp][method][evaluation]['bootstrap_log_likelihood'][p] = []\n",
    "                \n",
    "                # Bootstrap\n",
    "                for i in range(1000):\n",
    "                    # Get Bootstrap Indices\n",
    "                    inds = np.random.choice(np.arange(len(y)), len(y), replace=True)\n",
    "                    # Masked Prediction\n",
    "                    y_m_boot =  np.array(eval_result['preds'][p])[inds]\n",
    "                    #Label\n",
    "                    y_boot = y[inds]\n",
    "                    \n",
    "                    if exp == 'Discharge Summaries':\n",
    "                        df_boot = df_test.loc[inds]\n",
    "                        auroc, acc, ll, lo = vote_metrics(df_boot, y_m_boot[:,1], y_boot[:,1])\n",
    "                    else:\n",
    "                         auroc, acc, ll, lo = metrics(y_m_boot, y_boot)\n",
    "                            \n",
    "                    results[exp][method][evaluation]['bootstrap_acc'][p].append(acc)\n",
    "                    results[exp][method][evaluation]['bootstrap_auroc'][p].append(auroc)\n",
    "                    results[exp][method][evaluation]['bootstrap_log_odds'][p].append(lo)\n",
    "                    results[exp][method][evaluation]['bootstrap_log_likelihood'][p].append(ll)"
   ]
  },
  {
   "cell_type": "code",
   "execution_count": null,
   "id": "1e252b54",
   "metadata": {},
   "outputs": [],
   "source": [
    "# Save\n",
    "with open('results.pkl', 'wb') as f:\n",
    "    pickle.dump(results, f)"
   ]
  },
  {
   "cell_type": "markdown",
   "id": "1dfa5038",
   "metadata": {},
   "source": [
    "# Load Bootstraped Results"
   ]
  },
  {
   "cell_type": "code",
   "execution_count": null,
   "id": "726148ad",
   "metadata": {},
   "outputs": [],
   "source": [
    "with open('results.pkl', 'rb') as f:\n",
    "    results = pickle.load(f)"
   ]
  },
  {
   "cell_type": "markdown",
   "id": "22c4371c",
   "metadata": {},
   "source": [
    "# Plot Curves"
   ]
  },
  {
   "cell_type": "markdown",
   "id": "12536f92",
   "metadata": {},
   "source": [
    "### Colors"
   ]
  },
  {
   "cell_type": "code",
   "execution_count": null,
   "id": "b9b202e8",
   "metadata": {},
   "outputs": [],
   "source": [
    "colors = [\"f94144\",\"f3722c\",\"f8961e\",\"f9844a\",\"f9c74f\",\"90be6d\",\"43aa8b\",\"4d908e\",\"577590\",\"277da1\", '7209b7']\n",
    "colors = ['#'+c for c in colors]\n",
    "#['#ffca3a', '#ff595e', '#6a4c93', '#1982c4', '#8ac926']\n",
    "plt.figure(figsize=(15, 1))\n",
    "plt.bar(np.arange(len(colors)), np.ones(len(colors)), color=colors)\n",
    "plt.xticks(range(len(colors)), colors, rotation=12)\n",
    "plt.show()"
   ]
  },
  {
   "cell_type": "code",
   "execution_count": null,
   "id": "16dba13b",
   "metadata": {},
   "outputs": [],
   "source": [
    "colors = {'FastSHAP':'#7209b7', 'FastSHAP-KL':'#7209b7', \n",
    "          'SHAP-S':'#277da1', 'SHAP':'#277da1', 'SHAP-KL':'#277da1', \n",
    "          'REAL-X':'#43aa8b',\n",
    "          'LIME': '#90be6d',\n",
    "          'GradCAM':'#f9c74f', 'IntGrad':'#f9844a', \n",
    "          'SmoothGrad':'#f94144'}\n",
    "line_types = {'FastSHAP':'-', 'FastSHAP-KL':'--', \n",
    "              'SHAP-S':':', 'SHAP':'-', 'SHAP-KL':'--', \n",
    "              'REAL-X':'-',\n",
    "              'LIME': '-',\n",
    "              'GradCAM':'-', 'IntGrad':'-', \n",
    "              'SmoothGrad':'-'}\n",
    "method_order = ['smoothgrad', 'integratedgradients', 'gradcam', \n",
    "                'lime','kernelshap', 'kernelshap_s', 'kernelshap_s-dkl', \n",
    "                'fastshap', 'fastshap-dkl', 'realx']"
   ]
  },
  {
   "cell_type": "markdown",
   "id": "ba0355cd",
   "metadata": {},
   "source": [
    "## Accuracy"
   ]
  },
  {
   "cell_type": "code",
   "execution_count": null,
   "id": "2fc7a798",
   "metadata": {
    "scrolled": false
   },
   "outputs": [],
   "source": [
    "#### FIGURE ####\n",
    "fig, axs = plt.subplots(3, 4, figsize=(4*7*.8, 3*7*.7), sharex=True)\n",
    "\n",
    "row = 0\n",
    "for exp, exp_result in results.items():\n",
    "    for i, method in enumerate(method_order):\n",
    "        if (method in methods.keys()) and (method in exp_result.keys()):\n",
    "            method_result = exp_result[method]\n",
    "            col = 0\n",
    "            for metric, metric_result in method_result.items():\n",
    "                #Create DataFrame for Accuracy w/ CI \n",
    "                acc_df =  pd.DataFrame([(int(k), metric_result['acc'][k], \n",
    "                                         np.percentile(v, 2.5), np.percentile(v, 97.5)) \n",
    "                                        for k, v in metric_result['bootstrap_acc'].items()])\n",
    "                acc_df.columns = ['Percent', 'Accuracy', 'lower', 'upper']\n",
    "\n",
    "\n",
    "                # Plot Curve\n",
    "                axs[row,col].plot(acc_df['Percent'], acc_df['Accuracy'],\n",
    "                                  label=methods[method], color=colors[methods[method]], \n",
    "                                  linestyle=line_types[methods[method]])\n",
    "                axs[row,col].fill_between(acc_df['Percent'],\n",
    "                                          acc_df['lower'],\n",
    "                                          acc_df['upper'],\n",
    "                                          color=colors[methods[method]], \n",
    "                                          linestyle=line_types[methods[method]], \n",
    "                                          alpha=0.2)\n",
    "                col+=1 \n",
    "    row+=1\n",
    "    \n",
    "#Labeling\n",
    "axs[0,0].set_title('Retrospective Exclusion Curves')\n",
    "axs[0,1].set_title('Retrospective Inclusion Curves')\n",
    "axs[0,2].set_title('Prospective Exclusion Curves')\n",
    "axs[0,3].set_title('Prospective Inclusion Curves')\n",
    "\n",
    "axs[2,1].set_xlabel('Inclusion %')\n",
    "axs[2,0].set_xlabel('Exclusion %')\n",
    "axs[2,3].set_xlabel('Inclusion %')\n",
    "axs[2,2].set_xlabel('Exclusion %')\n",
    "for i in range(3):\n",
    "    axs[i,0].set_ylabel('Top 1 Accuracy')\n",
    "\n",
    "    leg = axs[i,3].legend(loc='right',\n",
    "                          bbox_to_anchor=(1, 0.4),\n",
    "                          fancybox=False,\n",
    "                          shadow=False,\n",
    "                          ncol=1,\n",
    "                          fontsize=14,\n",
    "                          frameon=False)\n",
    "    for legobj in leg.legendHandles:\n",
    "        legobj.set_linewidth(3.0)\n",
    "\n",
    "plt.tight_layout()\n",
    "plt.show()"
   ]
  },
  {
   "cell_type": "markdown",
   "id": "22a90093",
   "metadata": {},
   "source": [
    "## AUROC"
   ]
  },
  {
   "cell_type": "code",
   "execution_count": null,
   "id": "a47efa67",
   "metadata": {
    "scrolled": false
   },
   "outputs": [],
   "source": [
    "#### FIGURE ####\n",
    "\n",
    "fig, axs = plt.subplots(3, 4, figsize=(4*7*.8, 3*7*.7), sharex=True)\n",
    "\n",
    "row = 0\n",
    "for exp, exp_result in results.items():\n",
    "    for i, method in enumerate(method_order):\n",
    "        if (method in methods.keys()) and (method in exp_result.keys()):\n",
    "            method_result = exp_result[method]\n",
    "            col = 0\n",
    "            for metric, metric_result in method_result.items():\n",
    "                #Create DataFrame for Accuracy w/ CI \n",
    "                acc_df =  pd.DataFrame([(int(k), metric_result['auroc'][k], \n",
    "                                         np.percentile(v, 2.5), np.percentile(v, 97.5)) \n",
    "                                        for k, v in metric_result['bootstrap_auroc'].items()])\n",
    "                acc_df.columns = ['Percent', 'AUROC', 'lower', 'upper']\n",
    "\n",
    "                # Plot Curve\n",
    "                axs[row,col].plot(acc_df['Percent'], acc_df['AUROC'],\n",
    "                                  label=methods[method], color=colors[methods[method]],\n",
    "                                  linestyle=line_types[methods[method]])\n",
    "                axs[row,col].fill_between(acc_df['Percent'],\n",
    "                                          acc_df['lower'],\n",
    "                                          acc_df['upper'],\n",
    "                                          color=colors[methods[method]], \n",
    "                                          linestyle=line_types[methods[method]], \n",
    "                                          alpha=0.2)\n",
    "                col+=1 \n",
    "    row+=1\n",
    "    \n",
    "#Labeling\n",
    "axs[0,0].set_title('Retrospective Exclusion Curves')\n",
    "axs[0,1].set_title('Retrospective Inclusion Curves')\n",
    "axs[0,2].set_title('Prospective Exclusion Curves')\n",
    "axs[0,3].set_title('Prospective Inclusion Curves')\n",
    "\n",
    "axs[1,1].set_xlabel('Inclusion %')\n",
    "axs[1,0].set_xlabel('Exclusion %')\n",
    "axs[1,3].set_xlabel('Inclusion %')\n",
    "axs[1,2].set_xlabel('Exclusion %')\n",
    "for i in range(3):\n",
    "    axs[i,0].set_ylabel('AUROC')\n",
    "\n",
    "    leg = axs[i,3].legend(loc='right',\n",
    "                          bbox_to_anchor=(1, 0.4),\n",
    "                          fancybox=False,\n",
    "                          shadow=False,\n",
    "                          ncol=1,\n",
    "                          fontsize=14,\n",
    "                          frameon=False)\n",
    "    for legobj in leg.legendHandles:\n",
    "        legobj.set_linewidth(3.0)\n",
    "\n",
    "plt.tight_layout()\n",
    "plt.show()"
   ]
  },
  {
   "cell_type": "markdown",
   "id": "8a8ae6a2",
   "metadata": {},
   "source": [
    "#### Independently"
   ]
  },
  {
   "cell_type": "code",
   "execution_count": null,
   "id": "97878a7b",
   "metadata": {},
   "outputs": [],
   "source": [
    "#### FIGURE ####\n",
    "for n, (exp, exp_result) in enumerate(results.items()):\n",
    "    if n ==2:\n",
    "        fig, axs = plt.subplots(1, 4, figsize=(28*.8, 7.5*.7))\n",
    "    else:\n",
    "        fig, axs = plt.subplots(1, 4, figsize=(28*.8, 7*.7))\n",
    "    lines = []\n",
    "    for j, method in enumerate(method_order):\n",
    "        if (method in methods.keys()) and (method in exp_result.keys()):\n",
    "            method_result = exp_result[method]\n",
    "            for i, (metric, metric_result) in enumerate(method_result.items()):\n",
    "                #Create DataFrame for Accuracy w/ CI \n",
    "                acc_df =  pd.DataFrame([(int(k), np.percentile(v, 50.),\n",
    "                                         np.percentile(v, 2.5), np.percentile(v, 97.5)) \n",
    "                                        for k, v in metric_result['bootstrap_auroc'].items()])\n",
    "                acc_df.columns = ['Percent', 'AUROC', 'lower', 'upper']\n",
    "                # Plot Curve\n",
    "                if (i==0):\n",
    "                    line, = axs[1-i].plot(acc_df['Percent'], acc_df['AUROC'],\n",
    "                                          label=methods[method], \n",
    "                                          linestyle=line_types[methods[method]],\n",
    "                                          color=colors[methods[method]])\n",
    "                    lines.append(line)\n",
    "                else:\n",
    "                    axs[1-i].plot(acc_df['Percent'], acc_df['AUROC'],\n",
    "                                  label=methods[method], \n",
    "                                  linestyle=line_types[methods[method]],\n",
    "                                  color=colors[methods[method]])\n",
    "#                 axs[1-i].fill_between(acc_df['Percent'],\n",
    "#                                       acc_df['lower'],\n",
    "#                                       acc_df['upper'],\n",
    "#                                       color=colors[methods[method]], \n",
    "#                                       linestyle=line_types[methods[method]], \n",
    "#                                       alpha=0.2)\n",
    "            \n",
    "#     if n==0:\n",
    "    axs[1].set_title('Retrospective Exclusion Curves')\n",
    "    axs[0].set_title('Retrospective Inclusion Curves')\n",
    "    axs[3].set_title('Prospective Exclusion Curves')\n",
    "    axs[2].set_title('Prospective Inclusion Curves')\n",
    "    \n",
    "#     if n==2:\n",
    "    axs[0].set_xlabel('Inclusion %')\n",
    "    axs[1].set_xlabel('Exclusion %')\n",
    "    axs[2].set_xlabel('Inclusion %')\n",
    "    axs[3].set_xlabel('Exclusion %')\n",
    "    \n",
    "    axs[0].set_ylim(.65, )\n",
    "    axs[2].set_ylim(.65, )\n",
    "        \n",
    "#         fig.subplots_adjust(bottom=.8)\n",
    "    fig.legend(handles = lines, loc='upper center', \n",
    "               bbox_to_anchor=(0.5, 0.0), frameon=False,\n",
    "               fancybox=False, shadow=False, ncol=10)\n",
    "        \n",
    "    axs[0].set_ylabel('AUROC')\n",
    "    \n",
    "    plt.xlim(0, 100)\n",
    "    plt.tick_params(labelsize=14)       \n",
    "    plt.tight_layout()\n",
    "    \n",
    "    pdf = PdfPages(exp.replace(' ', '_').lower()+'_curve.pdf')\n",
    "    pdf.savefig(pad_inches=0, bbox_inches='tight')\n",
    "    pdf.close()\n",
    "    \n",
    "    plt.show()"
   ]
  },
  {
   "cell_type": "markdown",
   "id": "c4c7a4a3",
   "metadata": {},
   "source": [
    "# Prob"
   ]
  },
  {
   "cell_type": "code",
   "execution_count": null,
   "id": "20232d9e",
   "metadata": {},
   "outputs": [],
   "source": [
    "#### FIGURE ####\n",
    "fig, axs = plt.subplots(3, 4, figsize=(4*7*.8, 3*7*.7), sharex=True)\n",
    "\n",
    "row = 0\n",
    "for exp, exp_result in results.items():\n",
    "    for i, method in enumerate(method_order):\n",
    "        if (method in methods.keys()) and (method in exp_result.keys()):\n",
    "            method_result = exp_result[method]\n",
    "            col = 0\n",
    "            for metric, metric_result in method_result.items():\n",
    "                #Create DataFrame for Accuracy w/ CI \n",
    "                acc_df =  pd.DataFrame([(int(k), np.exp(metric_result['log_likelihood'][k]), \n",
    "                                         np.exp(np.percentile(v, 2.5)), np.exp(np.percentile(v, 97.5))) \n",
    "                                        for k, v in metric_result['bootstrap_log_likelihood'].items()])\n",
    "                acc_df.columns = ['Percent', 'Accuracy', 'lower', 'upper']\n",
    "\n",
    "\n",
    "                # Plot Curve\n",
    "                axs[row,col].plot(acc_df['Percent'], acc_df['Accuracy'],\n",
    "                                  label=methods[method], \n",
    "                                  linestyle=line_types[methods[method]],\n",
    "                                  color=colors[methods[method]])\n",
    "#                 axs[row,col].fill_between(acc_df['Percent'],\n",
    "#                                           acc_df['lower'],\n",
    "#                                           acc_df['upper'],\n",
    "#                                           linestyle=line_types[methods[method]], \n",
    "#                                           color=colors[methods[method]], alpha=0.2)\n",
    "                col+=1 \n",
    "    row+=1\n",
    "    \n",
    "#Labeling\n",
    "axs[0,0].set_title('Retrospective Exclusion Curves')\n",
    "axs[0,1].set_title('Retrospective Inclusion Curves')\n",
    "axs[0,2].set_title('Prospective Exclusion Curves')\n",
    "axs[0,3].set_title('Prospective Inclusion Curves')\n",
    "\n",
    "axs[2,1].set_xlabel('Inclusion %')\n",
    "axs[2,0].set_xlabel('Exclusion %')\n",
    "axs[2,3].set_xlabel('Inclusion %')\n",
    "axs[2,2].set_xlabel('Exclusion %')\n",
    "for i in range(3):\n",
    "    axs[i,0].set_ylabel('Likelihood')\n",
    "\n",
    "    leg = axs[i,3].legend(loc='right',\n",
    "                          bbox_to_anchor=(1, 0.4),\n",
    "                          fancybox=False,\n",
    "                          shadow=False,\n",
    "                          ncol=1,\n",
    "                          fontsize=14,\n",
    "                          frameon=False)\n",
    "    for legobj in leg.legendHandles:\n",
    "        legobj.set_linewidth(3.0)\n",
    "\n",
    "plt.tight_layout()\n",
    "plt.show()"
   ]
  },
  {
   "cell_type": "markdown",
   "id": "a33dc455",
   "metadata": {},
   "source": [
    "#### Independently"
   ]
  },
  {
   "cell_type": "code",
   "execution_count": null,
   "id": "26b262e2",
   "metadata": {
    "scrolled": false
   },
   "outputs": [],
   "source": [
    "#### FIGURE ####\n",
    "lines = []\n",
    "for n, (exp, exp_result) in enumerate(results.items()):\n",
    "    if n != 1:\n",
    "        fig, axs = plt.subplots(1, 4, figsize=(1.5*14*.8, 1.5*3.75*.7))\n",
    "    else:\n",
    "        fig, axs = plt.subplots(1, 4, figsize=(1.5*14*.8, 1.5*3.5*.7))\n",
    "    for j, method in enumerate(method_order):\n",
    "        if (method in methods.keys()) and (method in exp_result.keys()):\n",
    "            method_result = exp_result[method]\n",
    "            for i, (metric, metric_result) in enumerate(method_result.items()):\n",
    "                #Create DataFrame for Accuracy w/ CI \n",
    "                acc_df =  pd.DataFrame([(int(k), np.exp(metric_result['log_likelihood'][k]), \n",
    "                                         np.exp(np.percentile(v, 2.5)), np.exp(np.percentile(v, 97.5))) \n",
    "                                        for k, v in metric_result['bootstrap_log_likelihood'].items()])\n",
    "                acc_df.columns = ['Percent', 'AUROC', 'lower', 'upper']\n",
    "                # Plot Curve\n",
    "                if (n==0) & (i==0):\n",
    "                    line, = axs[1-i].plot(acc_df['Percent'], acc_df['AUROC'],\n",
    "                                          label=methods[method], \n",
    "                                          linestyle=line_types[methods[method]],\n",
    "                                          color=colors[methods[method]])\n",
    "                    lines.append(line)\n",
    "                else:\n",
    "                    axs[1-i].plot(acc_df['Percent'], acc_df['AUROC'],\n",
    "                                  label=methods[method], \n",
    "                                  linestyle=line_types[methods[method]],\n",
    "                                  color=colors[methods[method]])\n",
    "#                 axs[1-i].fill_between(acc_df['Percent'],\n",
    "#                                       acc_df['lower'],\n",
    "#                                       acc_df['upper'],\n",
    "#                                       color=colors[methods[method]], \n",
    "#                                       linestyle=line_types[methods[method]], \n",
    "#                                       alpha=0.2)\n",
    "            \n",
    "    if n==0:\n",
    "        axs[1].set_title('Retrospective \\n Exclusion Curves')\n",
    "        axs[0].set_title('Retrospective \\n Inclusion Curves')\n",
    "        axs[3].set_title('Prospective \\n Exclusion Curves')\n",
    "        axs[2].set_title('Prospective \\n Inclusion Curves')\n",
    "    \n",
    "    if n==2:\n",
    "        axs[0].set_xlabel('Inclusion %')\n",
    "        axs[1].set_xlabel('Exclusion %')\n",
    "        axs[2].set_xlabel('Inclusion %')\n",
    "        axs[3].set_xlabel('Exclusion %')\n",
    "        \n",
    "#         fig.subplots_adjust(bottom=.8)\n",
    "    if n==2:\n",
    "        fig.legend(handles = lines, loc='upper center', \n",
    "                   bbox_to_anchor=(0.5, 0.0), frameon=False,\n",
    "                   fancybox=False, shadow=False, ncol=5, fontsize='large')\n",
    "        \n",
    "    axs[0].set_ylabel('Likelihood')\n",
    "    \n",
    "    plt.xlim(0, 100)\n",
    "    plt.tick_params(labelsize=14)       \n",
    "    plt.tight_layout()\n",
    "    \n",
    "#     pdf = PdfPages(exp.replace(' ', '_').lower()+'_likelihood_curve.pdf')\n",
    "#     pdf.savefig(pad_inches=0, bbox_inches='tight')\n",
    "#     pdf.close()\n",
    "    \n",
    "    plt.show()"
   ]
  },
  {
   "cell_type": "markdown",
   "id": "f194253c",
   "metadata": {},
   "source": [
    "# AUCs"
   ]
  },
  {
   "cell_type": "code",
   "execution_count": null,
   "id": "46f3fb65",
   "metadata": {},
   "outputs": [],
   "source": [
    "from sklearn.metrics import auc"
   ]
  },
  {
   "cell_type": "markdown",
   "id": "b904b0d2",
   "metadata": {},
   "source": [
    "### AUROC"
   ]
  },
  {
   "cell_type": "code",
   "execution_count": null,
   "id": "7899c5e5",
   "metadata": {},
   "outputs": [],
   "source": [
    "for exp, exp_result in results.items():\n",
    "    for method in methods.keys():\n",
    "        text = methods[method]\n",
    "        if method not in exp_result.keys():\n",
    "            text += ' & --- (---, ---) & --- (---, ---)  & --- (---, ---) & --- (---, ---)'\n",
    "        else:\n",
    "            method_result = exp_result[method]\n",
    "            for metric in ['retro_ex', 'retro_in', 'pro_ex', 'pro_in']:\n",
    "                metric_result = method_result[metric]\n",
    "                text += ' & ' \n",
    "                aucs = []\n",
    "                for i in range(1000):\n",
    "                    x = []\n",
    "                    y = []\n",
    "                    for p in metric_result['bootstrap_auroc'].keys():\n",
    "                        x.append(float(p))\n",
    "                        y.append(metric_result['bootstrap_auroc'][p][i])\n",
    "                    aucs.append(auc(np.array(x), np.array(y)))\n",
    "                aucs = np.array(aucs)/100\n",
    "                text += '{:.3f} ({:.3f}, {:.3f})'.format(aucs.mean(), \n",
    "                                                         np.percentile(aucs, 2.5),\n",
    "                                                         np.percentile(aucs, 97.5))\n",
    "\n",
    "        # Print\n",
    "        print(text + '\\\\\\\\')     \n",
    "    print('')"
   ]
  },
  {
   "cell_type": "markdown",
   "id": "37f0bc0e",
   "metadata": {},
   "source": [
    "### Likelihood"
   ]
  },
  {
   "cell_type": "code",
   "execution_count": null,
   "id": "d0b25cd3",
   "metadata": {},
   "outputs": [],
   "source": [
    "for exp, exp_result in results.items():\n",
    "    for method in methods.keys():\n",
    "        text = '& ' + methods[method]\n",
    "        if method not in exp_result.keys():\n",
    "            text += ' & --- (---, ---) & --- (---, ---)  & --- (---, ---) & --- (---, ---)'\n",
    "        else:\n",
    "            method_result = exp_result[method]\n",
    "            for metric in ['retro_ex', 'retro_in', 'pro_ex', 'pro_in']:\n",
    "                metric_result = method_result[metric]\n",
    "                text += ' & ' \n",
    "                aucs = []\n",
    "                for i in range(1000):\n",
    "                    x = []\n",
    "                    y = []\n",
    "                    for p in metric_result['bootstrap_log_likelihood'].keys():\n",
    "                        x.append(float(p))\n",
    "                        y.append(np.exp(metric_result['bootstrap_log_likelihood'][p][i]))\n",
    "                    aucs.append(auc(np.array(x), np.array(y)))\n",
    "                aucs = np.array(aucs)/100\n",
    "                text += '{:.3f} ({:.3f}, {:.3f})'.format(np.percentile(aucs, 50.), \n",
    "                                                         np.percentile(aucs, 2.5),\n",
    "                                                         np.percentile(aucs, 97.5))\n",
    "\n",
    "        # Print\n",
    "        print(text + '\\\\\\\\')     \n",
    "    print('')"
   ]
  },
  {
   "cell_type": "markdown",
   "id": "865dc7c1",
   "metadata": {},
   "source": [
    "# Runtimes"
   ]
  },
  {
   "cell_type": "code",
   "execution_count": null,
   "id": "816d5efc",
   "metadata": {},
   "outputs": [],
   "source": [
    "times"
   ]
  },
  {
   "cell_type": "code",
   "execution_count": 78,
   "id": "5713adac",
   "metadata": {},
   "outputs": [],
   "source": [
    "times = {}\n",
    "for exp, exp_dir in exp_dirs.items():\n",
    "    times[exp] = {}\n",
    "    \n",
    "    with open(os.path.join(exp_dir, 'surrogate', 'training_time.pkl'), 'rb') as f:\n",
    "        surrogate_time = pickle.load(f)  \n",
    "    times[exp]['surrogate'] = surrogate_time/60\n",
    "    \n",
    "    for method, name in methods.items():\n",
    "        \n",
    "        if method not in results[exp].keys():\n",
    "            continue\n",
    "        \n",
    "        times[exp][name] = {}\n",
    "        \n",
    "        method_dir = os.path.join(exp_dir, method) \n",
    "        \n",
    "        # Load Times\n",
    "        with open(os.path.join(method_dir, 'explaining_time.pkl'), 'rb') as f:\n",
    "            explaining_time = pickle.load(f)\n",
    "            if name in ['SHAP', 'LIME', 'SHAP-S', 'SHAP-KL']:\n",
    "                explaining_time*=60\n",
    "            elif (name in ['IntGrad', 'SmoothGrad']) and exp != 'ECG':\n",
    "                explaining_time*=60\n",
    "            else:\n",
    "                explaining_time/=60\n",
    "            times[exp][name]['explaining'] = explaining_time\n",
    "            \n",
    "        if method in ['fastshap-dkl', 'fastshap', 'realx']:\n",
    "            with open(os.path.join(method_dir, 'training_time.pkl'), 'rb') as f:\n",
    "                times[exp][name]['training'] = pickle.load(f)/60 "
   ]
  },
  {
   "cell_type": "code",
   "execution_count": 79,
   "id": "dd8fe30e",
   "metadata": {},
   "outputs": [
    {
     "name": "stdout",
     "output_type": "stream",
     "text": [
      "GradCAM & 56.39 & 31.11 & ---\\\\\n",
      "IntGrad & 15.82 & 3902.53 & 717.18\\\\\n",
      "SmoothGrad & 63.17 & 2398.13 & 415.74\\\\\n",
      "SHAP & 143.02 & 6389.12 & 1343.03\\\\\n",
      "SHAP-S & 150.49 & 6909.33 & 1354.13\\\\\n",
      "SHAP-KL & 144.47 & 6348.32 & 1356.01\\\\\n",
      "LIME & 138.08 & 6649.19 & 1340.14\\\\\n",
      "FastSHAP & 0.01 & 0.66 & 0.30\\\\\n",
      "FastSHAP-KL & 0.02 & 0.51 & ---\\\\\n",
      "REAL-X & 0.01 & 0.51 & ---\\\\\n"
     ]
    }
   ],
   "source": [
    "# Explainging Time\n",
    "for method, name in methods.items():\n",
    "    text = name\n",
    "    for exp, time in times.items():\n",
    "        text += ' & '\n",
    "        if method not in results[exp].keys():\n",
    "            text += '---'\n",
    "            continue\n",
    "        text += '{:.2f}'.format(time[name]['explaining'])\n",
    "    print(text+'\\\\\\\\')"
   ]
  },
  {
   "cell_type": "code",
   "execution_count": 80,
   "id": "ac22fbc9",
   "metadata": {},
   "outputs": [
    {
     "name": "stdout",
     "output_type": "stream",
     "text": [
      "\n",
      "FastSHAP & 54.67 & 3597.14 & 2038.53\\\\\n",
      "FastSHAP-KL & 76.51 & 2918.45 & ---\\\\\n",
      "REAL-X & 89.27 & 3611.14 & ---\\\\\n",
      "SHAP-S & 16.73 & 1320.97 & 38.63\\\\\n",
      "SHAP-KL & 16.73 & 1320.97 & 38.63\\\\\n"
     ]
    }
   ],
   "source": [
    "print('')\n",
    "# Training Time\n",
    "for method, name in zip(['fastshap', 'fastshap-dkl', 'realx'], ['FastSHAP', 'FastSHAP-KL', 'REAL-X']):\n",
    "    text = name\n",
    "    for exp, time in times.items():\n",
    "        text += ' & '\n",
    "        if method not in results[exp].keys():\n",
    "            text += '---'\n",
    "            continue\n",
    "        text += '{:.2f}'.format(time[name]['training'])\n",
    "    print(text+'\\\\\\\\')\n",
    "\n",
    "for name in ['SHAP-S', 'SHAP-KL']:\n",
    "    text = name\n",
    "    for exp, time in times.items():\n",
    "        text += ' & '\n",
    "        text += '{:.2f}'.format(time['surrogate'])\n",
    "    print(text+'\\\\\\\\')"
   ]
  },
  {
   "cell_type": "markdown",
   "id": "bbdee925",
   "metadata": {},
   "source": [
    "# Permuted Results"
   ]
  },
  {
   "cell_type": "code",
   "execution_count": 44,
   "id": "a06d4a4c",
   "metadata": {},
   "outputs": [
    {
     "data": {
      "image/png": "[encoded data removed]",
      "text/plain": [
       "<Figure size 691.2x302.4 with 2 Axes>"
      ]
     },
     "metadata": {
      "needs_background": "light"
     },
     "output_type": "display_data"
    }
   ],
   "source": [
    "#### FIGURE ####\n",
    "\n",
    "fig, axs = plt.subplots(1, 2, figsize=(2*6*.8, 1*6*.7), sharex=True)\n",
    "\n",
    "exp = 'Retinal Fundus Imaging (Permuted)'\n",
    "exp_result = results[exp]\n",
    "lines = []\n",
    "for i, method in enumerate(method_order):\n",
    "    if (method in methods.keys()) and (method in exp_result.keys()):\n",
    "        method_result = exp_result[method]\n",
    "        col = 0\n",
    "        for metric, metric_result in method_result.items():\n",
    "            if 'in' in metric:\n",
    "                #Create DataFrame for Accuracy w/ CI \n",
    "                acc_df =  pd.DataFrame([(int(k), metric_result['auroc'][k], \n",
    "                                         np.percentile(v, 2.5), np.percentile(v, 97.5)) \n",
    "                                        for k, v in metric_result['bootstrap_auroc'].items()])\n",
    "                acc_df.columns = ['Percent', 'AUROC', 'lower', 'upper']\n",
    "\n",
    "                # Plot Curve\n",
    "                line, = axs[col].plot(acc_df['Percent'], acc_df['AUROC'],\n",
    "                                  label=methods[method], color=colors[methods[method]],\n",
    "                                  linestyle=line_types[methods[method]])\n",
    "                if col == 0:\n",
    "                    lines.append(line)\n",
    "                axs[col].fill_between(acc_df['Percent'],\n",
    "                                          acc_df['lower'],\n",
    "                                          acc_df['upper'],\n",
    "                                          color=colors[methods[method]], \n",
    "                                          linestyle=line_types[methods[method]], \n",
    "                                          alpha=0.2)\n",
    "                col+=1 \n",
    "    \n",
    "#Labeling\n",
    "axs[0].set_title('Retrospective Inclusion Curves', fontsize=16)\n",
    "axs[1].set_title('Prospective Inclusion Curves', fontsize=16)\n",
    "\n",
    "axs[0].set_xlabel('Inclusion %', fontsize=16)\n",
    "axs[1].set_xlabel('Inclusion %', fontsize=16)\n",
    "axs[0].set_ylabel('AUROC', fontsize=16)\n",
    "\n",
    "leg = fig.legend(handles = lines, loc='upper center', \n",
    "                 bbox_to_anchor=(1.1, .8), frameon=False,\n",
    "                 fancybox=False, shadow=False, ncol=1, fontsize='small')\n",
    "for legobj in leg.legendHandles:\n",
    "    legobj.set_linewidth(3.0)\n",
    "    \n",
    "plt.tick_params(labelsize=14)       \n",
    "\n",
    "plt.tight_layout()\n",
    "    \n",
    "pdf = PdfPages(exp.replace(' ', '_').lower()+'_inclusion_curve.pdf')\n",
    "pdf.savefig(pad_inches=0, bbox_inches='tight')\n",
    "pdf.close()\n",
    "\n",
    "plt.show()"
   ]
  }
 ],
 "metadata": {
  "kernelspec": {
   "display_name": "Python 3 (ipykernel)",
   "language": "python",
   "name": "python3"
  },
  "language_info": {
   "codemirror_mode": {
    "name": "ipython",
    "version": 3
   },
   "file_extension": ".py",
   "mimetype": "text/x-python",
   "name": "python",
   "nbconvert_exporter": "python",
   "pygments_lexer": "ipython3",
   "version": "3.7.9"
  }
 },
 "nbformat": 4,
 "nbformat_minor": 5
}
