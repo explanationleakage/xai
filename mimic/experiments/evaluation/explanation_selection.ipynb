{
 "cells": [
  {
   "cell_type": "code",
   "execution_count": 1,
   "id": "016ca0bf",
   "metadata": {},
   "outputs": [],
   "source": [
    "import pickle\n",
    "import numpy as np\n",
    "import pandas as pd\n",
    "import os\n",
    "from tqdm.notebook import tqdm\n",
    "pd.set_option('display.max_rows', 500)\n",
    "pd.set_option('display.max_columns', 500)\n",
    "pd.set_option('display.width', 1000)"
   ]
  },
  {
   "cell_type": "code",
   "execution_count": 2,
   "id": "05816ea2",
   "metadata": {},
   "outputs": [],
   "source": [
    "methods = ['fastshap', 'fastshap-data', 'kernelshap', 'lime', 'smoothgrad', \n",
    "           'integratedgradients', 'kernelshap_s', 'kernelshap_s-data']"
   ]
  },
  {
   "cell_type": "code",
   "execution_count": 4,
   "id": "8ebea271",
   "metadata": {
    "scrolled": true
   },
   "outputs": [
    {
     "name": "stdout",
     "output_type": "stream",
     "text": [
      "kernelshap_s-dkl/test/8192 AUC_auroc-retro_ex_val 0.3945180429326771\n",
      "kernelshap_s-dkl/test/8192 AUC_auroc-pro_ex_val 0.3945180429326771\n",
      "fastshap-dkl/3 AUC_auroc-retro_ex_val 0.4497453156599497\n",
      "fastshap-dkl/3 AUC_auroc-pro_ex_val 0.4497453156599497\n"
     ]
    }
   ],
   "source": [
    "for method in ['kernelshap_s-dkl', 'fastshap-dkl']:\n",
    "    # Load Tunning Results\n",
    "    results_dir = '../' + method\n",
    "    results_file = os.path.join(results_dir, 'results.csv')\n",
    "    results = pd.read_csv(results_file)\n",
    "    \n",
    "    for metric, evaluation in zip(['AUC_auroc-retro_ex_val', 'AUC_auroc-pro_ex_val'], \n",
    "                                  ['retrospective', 'prospective']):\n",
    "    \n",
    "        # Get Best Explanations\n",
    "        model_dir = results['model_dir'].iloc[results[metric].idxmin()]\n",
    "        print(model_dir, metric, results[metric].min())\n",
    "        if method  not in ['smoothgrad', 'integratedgradients']:\n",
    "            exp_dir = os.path.join('..', model_dir, 'shap_values.pkl')\n",
    "        else:\n",
    "            exp_dir = os.path.join('..', model_dir, 'explanations.pkl')\n",
    "\n",
    "        with open(exp_dir, 'rb') as f:\n",
    "            explanations = pickle.load(f)\n",
    "\n",
    "        # Get Times\n",
    "        explaining_time = results['explaining_time'].iloc[results[metric].idxmin()]\n",
    "        if method in ['fastshap', 'fastshap-data']:\n",
    "            training_time = results['training_time'].iloc[results[metric].idxmin()]\n",
    "\n",
    "        # Save Results\n",
    "        ## Times\n",
    "        with open(os.path.join(results_dir, 'explaining_time.pkl'), 'wb') as f:\n",
    "            pickle.dump(explaining_time, f)\n",
    "        if method in ['fastshap', 'fastshap-data', 'fastshap-kl']:\n",
    "            with open(os.path.join(results_dir, 'training_time.pkl'), 'wb') as f:\n",
    "                pickle.dump(training_time, f)\n",
    "\n",
    "        ## Explanations\n",
    "        if method  not in ['smoothgrad', 'integratedgradients']:\n",
    "            exp_file = os.path.join(results_dir, 'shap_values-{}.pkl'.format(evaluation))\n",
    "        else:\n",
    "            exp_file = os.path.join(results_dir, 'explanations-{}.pkl'.format(evaluation))\n",
    "\n",
    "        with open(exp_file, 'wb') as f:\n",
    "            pickle.dump(explanations, f)"
   ]
  },
  {
   "cell_type": "code",
   "execution_count": null,
   "id": "30a8f857",
   "metadata": {},
   "outputs": [],
   "source": [
    "fastshap/2 AUC_auroc-retro_ex_val 0.0331573304744036\n",
    "fastshap/2 AUC_auroc-pro_ex_val 0.3432918301210984\n",
    "fastshap-data/2 AUC_auroc-retro_ex_val 0.0344138788041227\n",
    "fastshap-data/2 AUC_auroc-pro_ex_val 0.3416853268682537\n",
    "kernelshap/test/8192 AUC_auroc-retro_ex_val 0.0185602811822324\n",
    "kernelshap/test/8192 AUC_auroc-pro_ex_val 0.329239540946858\n",
    "lime/test/8192 AUC_auroc-retro_ex_val 0.0175635340269486\n",
    "lime/test/8192 AUC_auroc-pro_ex_val 0.3190600862552082\n",
    "smoothgrad/test/1024 AUC_auroc-retro_ex_val 0.5889000633512829\n",
    "smoothgrad/test/256 AUC_auroc-pro_ex_val 0.5963186204039862\n",
    "integratedgradients/test/1024 AUC_auroc-retro_ex_val 0.5727366840476596\n",
    "integratedgradients/test/512 AUC_auroc-pro_ex_val 0.5822015484515485\n",
    "kernelshap_s/test/8192 AUC_auroc-retro_ex_val 0.0175430666894081\n",
    "kernelshap_s/test/8192 AUC_auroc-pro_ex_val 0.3262368728832143\n",
    "kernelshap_s-data/test/8192 AUC_auroc-retro_ex_val 0.0169989766331229\n",
    "kernelshap_s-data/test/8192 AUC_auroc-pro_ex_val 0.3240164104188494"
   ]
  }
 ],
 "metadata": {
  "kernelspec": {
   "display_name": "Python 3 (ipykernel)",
   "language": "python",
   "name": "python3"
  },
  "language_info": {
   "codemirror_mode": {
    "name": "ipython",
    "version": 3
   },
   "file_extension": ".py",
   "mimetype": "text/x-python",
   "name": "python",
   "nbconvert_exporter": "python",
   "pygments_lexer": "ipython3",
   "version": "3.7.9"
  }
 },
 "nbformat": 4,
 "nbformat_minor": 5
}
