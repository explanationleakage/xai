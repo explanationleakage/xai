{
 "cells": [
  {
   "cell_type": "code",
   "execution_count": 1,
   "id": "e93750de",
   "metadata": {},
   "outputs": [],
   "source": [
    "import tensorflow as tf\n",
    "from tensorflow.keras.models import Model, Sequential\n",
    "from tensorflow.keras import regularizers\n",
    "from tensorflow.keras import backend as K\n",
    "from tensorflow.keras.callbacks import ModelCheckpoint, EarlyStopping, ReduceLROnPlateau\n",
    "from tensorflow.keras.layers import Input, Dense, GlobalAveragePooling1D, Conv1D, AveragePooling1D, UpSampling1D\n",
    "\n",
    "import numpy as np\n",
    "import pandas as pd\n",
    "\n",
    "from datetime import datetime\n",
    "import os\n",
    "import sys\n",
    "import pickle\n",
    "import time\n",
    "import argparse\n",
    "from tqdm import tqdm\n",
    "\n",
    "sys.path.insert(0, '/vast/nj594/xai/helpers')\n",
    "from evaluate import evaluate\n",
    "\n",
    "# IMPORTANT: SET RANDOM SEEDS FOR REPRODUCIBILITY\n",
    "os.environ['PYTHONHASHSEED'] = str(420)\n",
    "import random\n",
    "random.seed(420)\n",
    "np.random.seed(420)\n",
    "tf.random.set_seed(420)"
   ]
  },
  {
   "cell_type": "code",
   "execution_count": 2,
   "id": "f04ec183",
   "metadata": {},
   "outputs": [],
   "source": [
    "# Load Data\n",
    "\n",
    "data_dir = '../data'\n",
    "\n",
    "X_val = np.load(os.path.join(data_dir, 'X_val.npy'), allow_pickle=True)\n",
    "X_test = np.load(os.path.join(data_dir, 'X_test.npy'), allow_pickle=True)\n",
    "\n",
    "y_val = np.load(os.path.join(data_dir, 'y_val.npy'), allow_pickle=True)\n",
    "y_test = np.load(os.path.join(data_dir, 'y_test.npy'), allow_pickle=True)\n",
    "\n",
    "preds = np.load(os.path.join(data_dir, 'predictions.npy'), allow_pickle=True)\n",
    "preds_discrete = np.eye(2)[preds.argmax(1)]\n",
    "\n",
    "preds_val = np.load(os.path.join(data_dir, 'predictions_val.npy'), allow_pickle=True)\n",
    "preds_discrete_val = np.eye(2)[preds_val.argmax(1)]"
   ]
  },
  {
   "cell_type": "code",
   "execution_count": 3,
   "id": "f5d8cab0",
   "metadata": {},
   "outputs": [
    {
     "name": "stderr",
     "output_type": "stream",
     "text": [
      "/ext3/miniconda3/lib/python3.7/site-packages/keras/layers/core.py:1045: UserWarning: network is not loaded, but a Lambda layer uses it. It may cause errors.\n",
      "  , UserWarning)\n",
      "2022-05-05 13:36:40.434730: I tensorflow/core/platform/cpu_feature_guard.cc:142] This TensorFlow binary is optimized with oneAPI Deep Neural Network Library (oneDNN) to use the following CPU instructions in performance-critical operations:  SSE3 SSE4.1 SSE4.2 AVX AVX2 FMA\n",
      "To enable them in other operations, rebuild TensorFlow with the appropriate compiler flags.\n",
      "2022-05-05 13:36:40.435245: I tensorflow/core/common_runtime/gpu/gpu_device.cc:1510] Created device /job:localhost/replica:0/task:0/device:GPU:0 with 32252 MB memory:  -> device: 0, name: Vega 20, pci bus id: 0000:c5:00.0\n"
     ]
    },
    {
     "name": "stdout",
     "output_type": "stream",
     "text": [
      "WARNING:tensorflow:No training configuration found in the save file, so the model was *not* compiled. Compile it manually.\n"
     ]
    }
   ],
   "source": [
    "# Load Evaluator Model\n",
    "\n",
    "eval_dir = os.path.join(os.getcwd(), 'evaluator-data')\n",
    "evaluator_model = tf.keras.models.load_model(os.path.join(eval_dir, 'surrogate.h5'))\n",
    "\n",
    "OPTIMIZER = tf.keras.optimizers.Adam(1e-3)\n",
    "METRICS = [ \n",
    "  tf.keras.metrics.AUC(name='auroc'),\n",
    "  tf.keras.metrics.AUC(curve='PR', name='auprc'),\n",
    "  tf.keras.metrics.TopKCategoricalAccuracy(k=1, name='accuracy'),\n",
    "]\n",
    "\n",
    "evaluator_model.compile(\n",
    "    loss='categorical_crossentropy',\n",
    "    optimizer=OPTIMIZER,\n",
    "    metrics=METRICS,\n",
    ")"
   ]
  },
  {
   "cell_type": "code",
   "execution_count": 4,
   "id": "2c695051",
   "metadata": {
    "scrolled": true
   },
   "outputs": [
    {
     "name": "stdout",
     "output_type": "stream",
     "text": [
      "fastshap-dkl\n",
      "100\n"
     ]
    },
    {
     "name": "stderr",
     "output_type": "stream",
     "text": [
      "2022-05-05 13:36:43.294905: I tensorflow/compiler/mlir/mlir_graph_optimization_pass.cc:185] None of the MLIR Optimization Passes are enabled (registered 2)\n",
      "2022-05-05 13:36:43.313424: I tensorflow/core/common_runtime/gpu_fusion_pass.cc:507] ROCm Fusion is enabled.\n",
      "2022-05-05 13:36:43.317129: I tensorflow/core/common_runtime/gpu_fusion_pass.cc:507] ROCm Fusion is enabled.\n",
      "2022-05-05 13:36:43.319353: I tensorflow/core/common_runtime/gpu_fusion_pass.cc:507] ROCm Fusion is enabled.\n",
      "2022-05-05 13:36:43.937786: I tensorflow/core/common_runtime/gpu_fusion_pass.cc:507] ROCm Fusion is enabled.\n"
     ]
    },
    {
     "name": "stdout",
     "output_type": "stream",
     "text": [
      "99\n"
     ]
    },
    {
     "name": "stderr",
     "output_type": "stream",
     "text": [
      "2022-05-05 13:36:51.801349: I tensorflow/core/common_runtime/gpu_fusion_pass.cc:507] ROCm Fusion is enabled.\n",
      "2022-05-05 13:36:51.805055: I tensorflow/core/common_runtime/gpu_fusion_pass.cc:507] ROCm Fusion is enabled.\n",
      "2022-05-05 13:36:51.807289: I tensorflow/core/common_runtime/gpu_fusion_pass.cc:507] ROCm Fusion is enabled.\n"
     ]
    },
    {
     "name": "stdout",
     "output_type": "stream",
     "text": [
      "95\n"
     ]
    },
    {
     "name": "stderr",
     "output_type": "stream",
     "text": [
      "2022-05-05 13:36:52.725860: I tensorflow/core/common_runtime/gpu_fusion_pass.cc:507] ROCm Fusion is enabled.\n",
      "2022-05-05 13:36:52.729540: I tensorflow/core/common_runtime/gpu_fusion_pass.cc:507] ROCm Fusion is enabled.\n",
      "2022-05-05 13:36:52.731800: I tensorflow/core/common_runtime/gpu_fusion_pass.cc:507] ROCm Fusion is enabled.\n"
     ]
    },
    {
     "name": "stdout",
     "output_type": "stream",
     "text": [
      "90\n"
     ]
    },
    {
     "name": "stderr",
     "output_type": "stream",
     "text": [
      "2022-05-05 13:36:53.623326: I tensorflow/core/common_runtime/gpu_fusion_pass.cc:507] ROCm Fusion is enabled.\n",
      "2022-05-05 13:36:53.627092: I tensorflow/core/common_runtime/gpu_fusion_pass.cc:507] ROCm Fusion is enabled.\n",
      "2022-05-05 13:36:53.629362: I tensorflow/core/common_runtime/gpu_fusion_pass.cc:507] ROCm Fusion is enabled.\n"
     ]
    },
    {
     "name": "stdout",
     "output_type": "stream",
     "text": [
      "85\n"
     ]
    },
    {
     "name": "stderr",
     "output_type": "stream",
     "text": [
      "2022-05-05 13:36:54.526961: I tensorflow/core/common_runtime/gpu_fusion_pass.cc:507] ROCm Fusion is enabled.\n",
      "2022-05-05 13:36:54.530608: I tensorflow/core/common_runtime/gpu_fusion_pass.cc:507] ROCm Fusion is enabled.\n",
      "2022-05-05 13:36:54.532842: I tensorflow/core/common_runtime/gpu_fusion_pass.cc:507] ROCm Fusion is enabled.\n"
     ]
    },
    {
     "name": "stdout",
     "output_type": "stream",
     "text": [
      "75\n"
     ]
    },
    {
     "name": "stderr",
     "output_type": "stream",
     "text": [
      "2022-05-05 13:36:55.446265: I tensorflow/core/common_runtime/gpu_fusion_pass.cc:507] ROCm Fusion is enabled.\n",
      "2022-05-05 13:36:55.449946: I tensorflow/core/common_runtime/gpu_fusion_pass.cc:507] ROCm Fusion is enabled.\n",
      "2022-05-05 13:36:55.452184: I tensorflow/core/common_runtime/gpu_fusion_pass.cc:507] ROCm Fusion is enabled.\n"
     ]
    },
    {
     "name": "stdout",
     "output_type": "stream",
     "text": [
      "50\n"
     ]
    },
    {
     "name": "stderr",
     "output_type": "stream",
     "text": [
      "2022-05-05 13:36:56.381232: I tensorflow/core/common_runtime/gpu_fusion_pass.cc:507] ROCm Fusion is enabled.\n",
      "2022-05-05 13:36:56.384940: I tensorflow/core/common_runtime/gpu_fusion_pass.cc:507] ROCm Fusion is enabled.\n",
      "2022-05-05 13:36:56.387183: I tensorflow/core/common_runtime/gpu_fusion_pass.cc:507] ROCm Fusion is enabled.\n"
     ]
    },
    {
     "name": "stdout",
     "output_type": "stream",
     "text": [
      "25\n"
     ]
    },
    {
     "name": "stderr",
     "output_type": "stream",
     "text": [
      "2022-05-05 13:36:57.288257: I tensorflow/core/common_runtime/gpu_fusion_pass.cc:507] ROCm Fusion is enabled.\n",
      "2022-05-05 13:36:57.291919: I tensorflow/core/common_runtime/gpu_fusion_pass.cc:507] ROCm Fusion is enabled.\n",
      "2022-05-05 13:36:57.294149: I tensorflow/core/common_runtime/gpu_fusion_pass.cc:507] ROCm Fusion is enabled.\n"
     ]
    },
    {
     "name": "stdout",
     "output_type": "stream",
     "text": [
      "15\n"
     ]
    },
    {
     "name": "stderr",
     "output_type": "stream",
     "text": [
      "2022-05-05 13:36:58.223918: I tensorflow/core/common_runtime/gpu_fusion_pass.cc:507] ROCm Fusion is enabled.\n",
      "2022-05-05 13:36:58.227695: I tensorflow/core/common_runtime/gpu_fusion_pass.cc:507] ROCm Fusion is enabled.\n",
      "2022-05-05 13:36:58.229980: I tensorflow/core/common_runtime/gpu_fusion_pass.cc:507] ROCm Fusion is enabled.\n"
     ]
    },
    {
     "name": "stdout",
     "output_type": "stream",
     "text": [
      "10\n"
     ]
    },
    {
     "name": "stderr",
     "output_type": "stream",
     "text": [
      "2022-05-05 13:36:59.142473: I tensorflow/core/common_runtime/gpu_fusion_pass.cc:507] ROCm Fusion is enabled.\n",
      "2022-05-05 13:36:59.146207: I tensorflow/core/common_runtime/gpu_fusion_pass.cc:507] ROCm Fusion is enabled.\n",
      "2022-05-05 13:36:59.148449: I tensorflow/core/common_runtime/gpu_fusion_pass.cc:507] ROCm Fusion is enabled.\n"
     ]
    },
    {
     "name": "stdout",
     "output_type": "stream",
     "text": [
      "5\n"
     ]
    },
    {
     "name": "stderr",
     "output_type": "stream",
     "text": [
      "2022-05-05 13:37:00.054180: I tensorflow/core/common_runtime/gpu_fusion_pass.cc:507] ROCm Fusion is enabled.\n",
      "2022-05-05 13:37:00.057885: I tensorflow/core/common_runtime/gpu_fusion_pass.cc:507] ROCm Fusion is enabled.\n",
      "2022-05-05 13:37:00.060130: I tensorflow/core/common_runtime/gpu_fusion_pass.cc:507] ROCm Fusion is enabled.\n"
     ]
    },
    {
     "name": "stdout",
     "output_type": "stream",
     "text": [
      "1\n"
     ]
    },
    {
     "name": "stderr",
     "output_type": "stream",
     "text": [
      "2022-05-05 13:37:00.965733: I tensorflow/core/common_runtime/gpu_fusion_pass.cc:507] ROCm Fusion is enabled.\n",
      "2022-05-05 13:37:00.969394: I tensorflow/core/common_runtime/gpu_fusion_pass.cc:507] ROCm Fusion is enabled.\n",
      "2022-05-05 13:37:00.971668: I tensorflow/core/common_runtime/gpu_fusion_pass.cc:507] ROCm Fusion is enabled.\n"
     ]
    },
    {
     "name": "stdout",
     "output_type": "stream",
     "text": [
      "0\n"
     ]
    },
    {
     "name": "stderr",
     "output_type": "stream",
     "text": [
      "2022-05-05 13:37:01.837785: I tensorflow/core/common_runtime/gpu_fusion_pass.cc:507] ROCm Fusion is enabled.\n",
      "2022-05-05 13:37:01.841428: I tensorflow/core/common_runtime/gpu_fusion_pass.cc:507] ROCm Fusion is enabled.\n",
      "2022-05-05 13:37:01.843662: I tensorflow/core/common_runtime/gpu_fusion_pass.cc:507] ROCm Fusion is enabled.\n",
      "/vast/nj594/xai/helpers/evaluate.py:59: VisibleDeprecationWarning: Creating an ndarray from ragged nested sequences (which is a list-or-tuple of lists-or-tuples-or ndarrays with different lengths or shapes) is deprecated. If you meant to do this, you must specify 'dtype=object' when creating the ndarray\n",
      "  r_ = np.array([[float(p), n] for p,n in r.items()])\n",
      "2022-05-05 13:37:02.711541: I tensorflow/core/common_runtime/gpu_fusion_pass.cc:507] ROCm Fusion is enabled.\n",
      "2022-05-05 13:37:02.715175: I tensorflow/core/common_runtime/gpu_fusion_pass.cc:507] ROCm Fusion is enabled.\n",
      "2022-05-05 13:37:02.717447: I tensorflow/core/common_runtime/gpu_fusion_pass.cc:507] ROCm Fusion is enabled.\n"
     ]
    },
    {
     "name": "stdout",
     "output_type": "stream",
     "text": [
      "100\n",
      "99\n"
     ]
    },
    {
     "name": "stderr",
     "output_type": "stream",
     "text": [
      "2022-05-05 13:37:03.605427: I tensorflow/core/common_runtime/gpu_fusion_pass.cc:507] ROCm Fusion is enabled.\n",
      "2022-05-05 13:37:03.609155: I tensorflow/core/common_runtime/gpu_fusion_pass.cc:507] ROCm Fusion is enabled.\n",
      "2022-05-05 13:37:03.611430: I tensorflow/core/common_runtime/gpu_fusion_pass.cc:507] ROCm Fusion is enabled.\n"
     ]
    },
    {
     "name": "stdout",
     "output_type": "stream",
     "text": [
      "95\n"
     ]
    },
    {
     "name": "stderr",
     "output_type": "stream",
     "text": [
      "2022-05-05 13:37:04.494579: I tensorflow/core/common_runtime/gpu_fusion_pass.cc:507] ROCm Fusion is enabled.\n",
      "2022-05-05 13:37:04.498225: I tensorflow/core/common_runtime/gpu_fusion_pass.cc:507] ROCm Fusion is enabled.\n",
      "2022-05-05 13:37:04.500463: I tensorflow/core/common_runtime/gpu_fusion_pass.cc:507] ROCm Fusion is enabled.\n"
     ]
    },
    {
     "name": "stdout",
     "output_type": "stream",
     "text": [
      "90\n"
     ]
    },
    {
     "name": "stderr",
     "output_type": "stream",
     "text": [
      "2022-05-05 13:37:05.403674: I tensorflow/core/common_runtime/gpu_fusion_pass.cc:507] ROCm Fusion is enabled.\n",
      "2022-05-05 13:37:05.407372: I tensorflow/core/common_runtime/gpu_fusion_pass.cc:507] ROCm Fusion is enabled.\n",
      "2022-05-05 13:37:05.409626: I tensorflow/core/common_runtime/gpu_fusion_pass.cc:507] ROCm Fusion is enabled.\n"
     ]
    },
    {
     "name": "stdout",
     "output_type": "stream",
     "text": [
      "85\n"
     ]
    },
    {
     "name": "stderr",
     "output_type": "stream",
     "text": [
      "2022-05-05 13:37:06.311688: I tensorflow/core/common_runtime/gpu_fusion_pass.cc:507] ROCm Fusion is enabled.\n",
      "2022-05-05 13:37:06.315416: I tensorflow/core/common_runtime/gpu_fusion_pass.cc:507] ROCm Fusion is enabled.\n",
      "2022-05-05 13:37:06.317649: I tensorflow/core/common_runtime/gpu_fusion_pass.cc:507] ROCm Fusion is enabled.\n"
     ]
    },
    {
     "name": "stdout",
     "output_type": "stream",
     "text": [
      "75\n"
     ]
    },
    {
     "name": "stderr",
     "output_type": "stream",
     "text": [
      "2022-05-05 13:37:07.213286: I tensorflow/core/common_runtime/gpu_fusion_pass.cc:507] ROCm Fusion is enabled.\n",
      "2022-05-05 13:37:07.217204: I tensorflow/core/common_runtime/gpu_fusion_pass.cc:507] ROCm Fusion is enabled.\n",
      "2022-05-05 13:37:07.219475: I tensorflow/core/common_runtime/gpu_fusion_pass.cc:507] ROCm Fusion is enabled.\n"
     ]
    },
    {
     "name": "stdout",
     "output_type": "stream",
     "text": [
      "50\n"
     ]
    },
    {
     "name": "stderr",
     "output_type": "stream",
     "text": [
      "2022-05-05 13:37:08.123263: I tensorflow/core/common_runtime/gpu_fusion_pass.cc:507] ROCm Fusion is enabled.\n",
      "2022-05-05 13:37:08.126956: I tensorflow/core/common_runtime/gpu_fusion_pass.cc:507] ROCm Fusion is enabled.\n",
      "2022-05-05 13:37:08.129200: I tensorflow/core/common_runtime/gpu_fusion_pass.cc:507] ROCm Fusion is enabled.\n"
     ]
    },
    {
     "name": "stdout",
     "output_type": "stream",
     "text": [
      "25\n"
     ]
    },
    {
     "name": "stderr",
     "output_type": "stream",
     "text": [
      "2022-05-05 13:37:09.023400: I tensorflow/core/common_runtime/gpu_fusion_pass.cc:507] ROCm Fusion is enabled.\n",
      "2022-05-05 13:37:09.027064: I tensorflow/core/common_runtime/gpu_fusion_pass.cc:507] ROCm Fusion is enabled.\n",
      "2022-05-05 13:37:09.029290: I tensorflow/core/common_runtime/gpu_fusion_pass.cc:507] ROCm Fusion is enabled.\n"
     ]
    },
    {
     "name": "stdout",
     "output_type": "stream",
     "text": [
      "15\n"
     ]
    },
    {
     "name": "stderr",
     "output_type": "stream",
     "text": [
      "2022-05-05 13:37:09.925359: I tensorflow/core/common_runtime/gpu_fusion_pass.cc:507] ROCm Fusion is enabled.\n",
      "2022-05-05 13:37:09.929156: I tensorflow/core/common_runtime/gpu_fusion_pass.cc:507] ROCm Fusion is enabled.\n",
      "2022-05-05 13:37:09.931433: I tensorflow/core/common_runtime/gpu_fusion_pass.cc:507] ROCm Fusion is enabled.\n"
     ]
    },
    {
     "name": "stdout",
     "output_type": "stream",
     "text": [
      "10\n"
     ]
    },
    {
     "name": "stderr",
     "output_type": "stream",
     "text": [
      "2022-05-05 13:37:10.826172: I tensorflow/core/common_runtime/gpu_fusion_pass.cc:507] ROCm Fusion is enabled.\n",
      "2022-05-05 13:37:10.829839: I tensorflow/core/common_runtime/gpu_fusion_pass.cc:507] ROCm Fusion is enabled.\n",
      "2022-05-05 13:37:10.832041: I tensorflow/core/common_runtime/gpu_fusion_pass.cc:507] ROCm Fusion is enabled.\n"
     ]
    },
    {
     "name": "stdout",
     "output_type": "stream",
     "text": [
      "5\n"
     ]
    },
    {
     "name": "stderr",
     "output_type": "stream",
     "text": [
      "2022-05-05 13:37:11.738993: I tensorflow/core/common_runtime/gpu_fusion_pass.cc:507] ROCm Fusion is enabled.\n",
      "2022-05-05 13:37:11.742642: I tensorflow/core/common_runtime/gpu_fusion_pass.cc:507] ROCm Fusion is enabled.\n",
      "2022-05-05 13:37:11.744896: I tensorflow/core/common_runtime/gpu_fusion_pass.cc:507] ROCm Fusion is enabled.\n"
     ]
    },
    {
     "name": "stdout",
     "output_type": "stream",
     "text": [
      "1\n"
     ]
    },
    {
     "name": "stderr",
     "output_type": "stream",
     "text": [
      "2022-05-05 13:37:12.647294: I tensorflow/core/common_runtime/gpu_fusion_pass.cc:507] ROCm Fusion is enabled.\n",
      "2022-05-05 13:37:12.651013: I tensorflow/core/common_runtime/gpu_fusion_pass.cc:507] ROCm Fusion is enabled.\n",
      "2022-05-05 13:37:12.653292: I tensorflow/core/common_runtime/gpu_fusion_pass.cc:507] ROCm Fusion is enabled.\n"
     ]
    },
    {
     "name": "stdout",
     "output_type": "stream",
     "text": [
      "0\n"
     ]
    },
    {
     "name": "stderr",
     "output_type": "stream",
     "text": [
      "2022-05-05 13:37:13.523313: I tensorflow/core/common_runtime/gpu_fusion_pass.cc:507] ROCm Fusion is enabled.\n",
      "2022-05-05 13:37:13.526992: I tensorflow/core/common_runtime/gpu_fusion_pass.cc:507] ROCm Fusion is enabled.\n",
      "2022-05-05 13:37:13.529225: I tensorflow/core/common_runtime/gpu_fusion_pass.cc:507] ROCm Fusion is enabled.\n",
      "/vast/nj594/xai/helpers/evaluate.py:59: VisibleDeprecationWarning: Creating an ndarray from ragged nested sequences (which is a list-or-tuple of lists-or-tuples-or ndarrays with different lengths or shapes) is deprecated. If you meant to do this, you must specify 'dtype=object' when creating the ndarray\n",
      "  r_ = np.array([[float(p), n] for p,n in r.items()])\n",
      "2022-05-05 13:37:14.388732: I tensorflow/core/common_runtime/gpu_fusion_pass.cc:507] ROCm Fusion is enabled.\n",
      "2022-05-05 13:37:14.392448: I tensorflow/core/common_runtime/gpu_fusion_pass.cc:507] ROCm Fusion is enabled.\n",
      "2022-05-05 13:37:14.394696: I tensorflow/core/common_runtime/gpu_fusion_pass.cc:507] ROCm Fusion is enabled.\n"
     ]
    },
    {
     "name": "stdout",
     "output_type": "stream",
     "text": [
      "100\n",
      "99\n"
     ]
    },
    {
     "name": "stderr",
     "output_type": "stream",
     "text": [
      "2022-05-05 13:37:15.301145: I tensorflow/core/common_runtime/gpu_fusion_pass.cc:507] ROCm Fusion is enabled.\n",
      "2022-05-05 13:37:15.304789: I tensorflow/core/common_runtime/gpu_fusion_pass.cc:507] ROCm Fusion is enabled.\n",
      "2022-05-05 13:37:15.307110: I tensorflow/core/common_runtime/gpu_fusion_pass.cc:507] ROCm Fusion is enabled.\n"
     ]
    },
    {
     "name": "stdout",
     "output_type": "stream",
     "text": [
      "95\n"
     ]
    },
    {
     "name": "stderr",
     "output_type": "stream",
     "text": [
      "2022-05-05 13:37:16.206714: I tensorflow/core/common_runtime/gpu_fusion_pass.cc:507] ROCm Fusion is enabled.\n",
      "2022-05-05 13:37:16.210463: I tensorflow/core/common_runtime/gpu_fusion_pass.cc:507] ROCm Fusion is enabled.\n",
      "2022-05-05 13:37:16.212725: I tensorflow/core/common_runtime/gpu_fusion_pass.cc:507] ROCm Fusion is enabled.\n"
     ]
    },
    {
     "name": "stdout",
     "output_type": "stream",
     "text": [
      "90\n"
     ]
    },
    {
     "name": "stderr",
     "output_type": "stream",
     "text": [
      "2022-05-05 13:37:17.134470: I tensorflow/core/common_runtime/gpu_fusion_pass.cc:507] ROCm Fusion is enabled.\n",
      "2022-05-05 13:37:17.138168: I tensorflow/core/common_runtime/gpu_fusion_pass.cc:507] ROCm Fusion is enabled.\n",
      "2022-05-05 13:37:17.140399: I tensorflow/core/common_runtime/gpu_fusion_pass.cc:507] ROCm Fusion is enabled.\n"
     ]
    },
    {
     "name": "stdout",
     "output_type": "stream",
     "text": [
      "85\n"
     ]
    },
    {
     "name": "stderr",
     "output_type": "stream",
     "text": [
      "2022-05-05 13:37:18.046494: I tensorflow/core/common_runtime/gpu_fusion_pass.cc:507] ROCm Fusion is enabled.\n",
      "2022-05-05 13:37:18.050199: I tensorflow/core/common_runtime/gpu_fusion_pass.cc:507] ROCm Fusion is enabled.\n",
      "2022-05-05 13:37:18.052463: I tensorflow/core/common_runtime/gpu_fusion_pass.cc:507] ROCm Fusion is enabled.\n"
     ]
    },
    {
     "name": "stdout",
     "output_type": "stream",
     "text": [
      "75\n"
     ]
    },
    {
     "name": "stderr",
     "output_type": "stream",
     "text": [
      "2022-05-05 13:37:18.978711: I tensorflow/core/common_runtime/gpu_fusion_pass.cc:507] ROCm Fusion is enabled.\n",
      "2022-05-05 13:37:18.982400: I tensorflow/core/common_runtime/gpu_fusion_pass.cc:507] ROCm Fusion is enabled.\n",
      "2022-05-05 13:37:18.984701: I tensorflow/core/common_runtime/gpu_fusion_pass.cc:507] ROCm Fusion is enabled.\n"
     ]
    },
    {
     "name": "stdout",
     "output_type": "stream",
     "text": [
      "50\n"
     ]
    },
    {
     "name": "stderr",
     "output_type": "stream",
     "text": [
      "2022-05-05 13:37:19.925233: I tensorflow/core/common_runtime/gpu_fusion_pass.cc:507] ROCm Fusion is enabled.\n",
      "2022-05-05 13:37:19.928889: I tensorflow/core/common_runtime/gpu_fusion_pass.cc:507] ROCm Fusion is enabled.\n",
      "2022-05-05 13:37:19.931242: I tensorflow/core/common_runtime/gpu_fusion_pass.cc:507] ROCm Fusion is enabled.\n"
     ]
    },
    {
     "name": "stdout",
     "output_type": "stream",
     "text": [
      "25\n"
     ]
    },
    {
     "name": "stderr",
     "output_type": "stream",
     "text": [
      "2022-05-05 13:37:20.863557: I tensorflow/core/common_runtime/gpu_fusion_pass.cc:507] ROCm Fusion is enabled.\n",
      "2022-05-05 13:37:20.867297: I tensorflow/core/common_runtime/gpu_fusion_pass.cc:507] ROCm Fusion is enabled.\n",
      "2022-05-05 13:37:20.869604: I tensorflow/core/common_runtime/gpu_fusion_pass.cc:507] ROCm Fusion is enabled.\n"
     ]
    },
    {
     "name": "stdout",
     "output_type": "stream",
     "text": [
      "15\n"
     ]
    },
    {
     "name": "stderr",
     "output_type": "stream",
     "text": [
      "2022-05-05 13:37:21.774093: I tensorflow/core/common_runtime/gpu_fusion_pass.cc:507] ROCm Fusion is enabled.\n",
      "2022-05-05 13:37:21.777776: I tensorflow/core/common_runtime/gpu_fusion_pass.cc:507] ROCm Fusion is enabled.\n",
      "2022-05-05 13:37:21.780043: I tensorflow/core/common_runtime/gpu_fusion_pass.cc:507] ROCm Fusion is enabled.\n"
     ]
    },
    {
     "name": "stdout",
     "output_type": "stream",
     "text": [
      "10\n"
     ]
    },
    {
     "name": "stderr",
     "output_type": "stream",
     "text": [
      "2022-05-05 13:37:22.663053: I tensorflow/core/common_runtime/gpu_fusion_pass.cc:507] ROCm Fusion is enabled.\n",
      "2022-05-05 13:37:22.666795: I tensorflow/core/common_runtime/gpu_fusion_pass.cc:507] ROCm Fusion is enabled.\n",
      "2022-05-05 13:37:22.669057: I tensorflow/core/common_runtime/gpu_fusion_pass.cc:507] ROCm Fusion is enabled.\n"
     ]
    },
    {
     "name": "stdout",
     "output_type": "stream",
     "text": [
      "5\n"
     ]
    },
    {
     "name": "stderr",
     "output_type": "stream",
     "text": [
      "2022-05-05 13:37:23.580414: I tensorflow/core/common_runtime/gpu_fusion_pass.cc:507] ROCm Fusion is enabled.\n",
      "2022-05-05 13:37:23.584067: I tensorflow/core/common_runtime/gpu_fusion_pass.cc:507] ROCm Fusion is enabled.\n",
      "2022-05-05 13:37:23.586293: I tensorflow/core/common_runtime/gpu_fusion_pass.cc:507] ROCm Fusion is enabled.\n"
     ]
    },
    {
     "name": "stdout",
     "output_type": "stream",
     "text": [
      "1\n"
     ]
    },
    {
     "name": "stderr",
     "output_type": "stream",
     "text": [
      "2022-05-05 13:37:24.482480: I tensorflow/core/common_runtime/gpu_fusion_pass.cc:507] ROCm Fusion is enabled.\n",
      "2022-05-05 13:37:24.486236: I tensorflow/core/common_runtime/gpu_fusion_pass.cc:507] ROCm Fusion is enabled.\n",
      "2022-05-05 13:37:24.488493: I tensorflow/core/common_runtime/gpu_fusion_pass.cc:507] ROCm Fusion is enabled.\n"
     ]
    },
    {
     "name": "stdout",
     "output_type": "stream",
     "text": [
      "0\n"
     ]
    },
    {
     "name": "stderr",
     "output_type": "stream",
     "text": [
      "2022-05-05 13:37:25.358499: I tensorflow/core/common_runtime/gpu_fusion_pass.cc:507] ROCm Fusion is enabled.\n",
      "2022-05-05 13:37:25.362179: I tensorflow/core/common_runtime/gpu_fusion_pass.cc:507] ROCm Fusion is enabled.\n",
      "2022-05-05 13:37:25.364401: I tensorflow/core/common_runtime/gpu_fusion_pass.cc:507] ROCm Fusion is enabled.\n",
      "/vast/nj594/xai/helpers/evaluate.py:59: VisibleDeprecationWarning: Creating an ndarray from ragged nested sequences (which is a list-or-tuple of lists-or-tuples-or ndarrays with different lengths or shapes) is deprecated. If you meant to do this, you must specify 'dtype=object' when creating the ndarray\n",
      "  r_ = np.array([[float(p), n] for p,n in r.items()])\n",
      "2022-05-05 13:37:26.220816: I tensorflow/core/common_runtime/gpu_fusion_pass.cc:507] ROCm Fusion is enabled.\n",
      "2022-05-05 13:37:26.224496: I tensorflow/core/common_runtime/gpu_fusion_pass.cc:507] ROCm Fusion is enabled.\n",
      "2022-05-05 13:37:26.226740: I tensorflow/core/common_runtime/gpu_fusion_pass.cc:507] ROCm Fusion is enabled.\n"
     ]
    },
    {
     "name": "stdout",
     "output_type": "stream",
     "text": [
      "100\n",
      "99\n"
     ]
    },
    {
     "name": "stderr",
     "output_type": "stream",
     "text": [
      "2022-05-05 13:37:27.122476: I tensorflow/core/common_runtime/gpu_fusion_pass.cc:507] ROCm Fusion is enabled.\n",
      "2022-05-05 13:37:27.126116: I tensorflow/core/common_runtime/gpu_fusion_pass.cc:507] ROCm Fusion is enabled.\n",
      "2022-05-05 13:37:27.128341: I tensorflow/core/common_runtime/gpu_fusion_pass.cc:507] ROCm Fusion is enabled.\n"
     ]
    },
    {
     "name": "stdout",
     "output_type": "stream",
     "text": [
      "95\n"
     ]
    },
    {
     "name": "stderr",
     "output_type": "stream",
     "text": [
      "2022-05-05 13:37:28.049324: I tensorflow/core/common_runtime/gpu_fusion_pass.cc:507] ROCm Fusion is enabled.\n",
      "2022-05-05 13:37:28.053016: I tensorflow/core/common_runtime/gpu_fusion_pass.cc:507] ROCm Fusion is enabled.\n",
      "2022-05-05 13:37:28.055250: I tensorflow/core/common_runtime/gpu_fusion_pass.cc:507] ROCm Fusion is enabled.\n"
     ]
    },
    {
     "name": "stdout",
     "output_type": "stream",
     "text": [
      "90\n"
     ]
    },
    {
     "name": "stderr",
     "output_type": "stream",
     "text": [
      "2022-05-05 13:37:28.969310: I tensorflow/core/common_runtime/gpu_fusion_pass.cc:507] ROCm Fusion is enabled.\n",
      "2022-05-05 13:37:28.973035: I tensorflow/core/common_runtime/gpu_fusion_pass.cc:507] ROCm Fusion is enabled.\n",
      "2022-05-05 13:37:28.975351: I tensorflow/core/common_runtime/gpu_fusion_pass.cc:507] ROCm Fusion is enabled.\n"
     ]
    },
    {
     "name": "stdout",
     "output_type": "stream",
     "text": [
      "85\n"
     ]
    },
    {
     "name": "stderr",
     "output_type": "stream",
     "text": [
      "2022-05-05 13:37:29.887464: I tensorflow/core/common_runtime/gpu_fusion_pass.cc:507] ROCm Fusion is enabled.\n",
      "2022-05-05 13:37:29.891121: I tensorflow/core/common_runtime/gpu_fusion_pass.cc:507] ROCm Fusion is enabled.\n",
      "2022-05-05 13:37:29.893361: I tensorflow/core/common_runtime/gpu_fusion_pass.cc:507] ROCm Fusion is enabled.\n"
     ]
    },
    {
     "name": "stdout",
     "output_type": "stream",
     "text": [
      "75\n"
     ]
    },
    {
     "name": "stderr",
     "output_type": "stream",
     "text": [
      "2022-05-05 13:37:30.815297: I tensorflow/core/common_runtime/gpu_fusion_pass.cc:507] ROCm Fusion is enabled.\n",
      "2022-05-05 13:37:30.819080: I tensorflow/core/common_runtime/gpu_fusion_pass.cc:507] ROCm Fusion is enabled.\n",
      "2022-05-05 13:37:30.821404: I tensorflow/core/common_runtime/gpu_fusion_pass.cc:507] ROCm Fusion is enabled.\n"
     ]
    },
    {
     "name": "stdout",
     "output_type": "stream",
     "text": [
      "50\n"
     ]
    },
    {
     "name": "stderr",
     "output_type": "stream",
     "text": [
      "2022-05-05 13:37:31.755822: I tensorflow/core/common_runtime/gpu_fusion_pass.cc:507] ROCm Fusion is enabled.\n",
      "2022-05-05 13:37:31.759589: I tensorflow/core/common_runtime/gpu_fusion_pass.cc:507] ROCm Fusion is enabled.\n",
      "2022-05-05 13:37:31.761933: I tensorflow/core/common_runtime/gpu_fusion_pass.cc:507] ROCm Fusion is enabled.\n"
     ]
    },
    {
     "name": "stdout",
     "output_type": "stream",
     "text": [
      "25\n"
     ]
    },
    {
     "name": "stderr",
     "output_type": "stream",
     "text": [
      "2022-05-05 13:37:32.672113: I tensorflow/core/common_runtime/gpu_fusion_pass.cc:507] ROCm Fusion is enabled.\n",
      "2022-05-05 13:37:32.675796: I tensorflow/core/common_runtime/gpu_fusion_pass.cc:507] ROCm Fusion is enabled.\n",
      "2022-05-05 13:37:32.678024: I tensorflow/core/common_runtime/gpu_fusion_pass.cc:507] ROCm Fusion is enabled.\n"
     ]
    },
    {
     "name": "stdout",
     "output_type": "stream",
     "text": [
      "15\n"
     ]
    },
    {
     "name": "stderr",
     "output_type": "stream",
     "text": [
      "2022-05-05 13:37:33.576360: I tensorflow/core/common_runtime/gpu_fusion_pass.cc:507] ROCm Fusion is enabled.\n",
      "2022-05-05 13:37:33.580048: I tensorflow/core/common_runtime/gpu_fusion_pass.cc:507] ROCm Fusion is enabled.\n",
      "2022-05-05 13:37:33.582288: I tensorflow/core/common_runtime/gpu_fusion_pass.cc:507] ROCm Fusion is enabled.\n"
     ]
    },
    {
     "name": "stdout",
     "output_type": "stream",
     "text": [
      "10\n"
     ]
    },
    {
     "name": "stderr",
     "output_type": "stream",
     "text": [
      "2022-05-05 13:37:34.467393: I tensorflow/core/common_runtime/gpu_fusion_pass.cc:507] ROCm Fusion is enabled.\n",
      "2022-05-05 13:37:34.471081: I tensorflow/core/common_runtime/gpu_fusion_pass.cc:507] ROCm Fusion is enabled.\n",
      "2022-05-05 13:37:34.473319: I tensorflow/core/common_runtime/gpu_fusion_pass.cc:507] ROCm Fusion is enabled.\n"
     ]
    },
    {
     "name": "stdout",
     "output_type": "stream",
     "text": [
      "5\n"
     ]
    },
    {
     "name": "stderr",
     "output_type": "stream",
     "text": [
      "2022-05-05 13:37:35.372715: I tensorflow/core/common_runtime/gpu_fusion_pass.cc:507] ROCm Fusion is enabled.\n",
      "2022-05-05 13:37:35.376442: I tensorflow/core/common_runtime/gpu_fusion_pass.cc:507] ROCm Fusion is enabled.\n",
      "2022-05-05 13:37:35.378674: I tensorflow/core/common_runtime/gpu_fusion_pass.cc:507] ROCm Fusion is enabled.\n"
     ]
    },
    {
     "name": "stdout",
     "output_type": "stream",
     "text": [
      "1\n"
     ]
    },
    {
     "name": "stderr",
     "output_type": "stream",
     "text": [
      "2022-05-05 13:37:36.269476: I tensorflow/core/common_runtime/gpu_fusion_pass.cc:507] ROCm Fusion is enabled.\n",
      "2022-05-05 13:37:36.273150: I tensorflow/core/common_runtime/gpu_fusion_pass.cc:507] ROCm Fusion is enabled.\n",
      "2022-05-05 13:37:36.275373: I tensorflow/core/common_runtime/gpu_fusion_pass.cc:507] ROCm Fusion is enabled.\n"
     ]
    },
    {
     "name": "stdout",
     "output_type": "stream",
     "text": [
      "0\n"
     ]
    },
    {
     "name": "stderr",
     "output_type": "stream",
     "text": [
      "2022-05-05 13:37:37.148676: I tensorflow/core/common_runtime/gpu_fusion_pass.cc:507] ROCm Fusion is enabled.\n",
      "2022-05-05 13:37:37.152340: I tensorflow/core/common_runtime/gpu_fusion_pass.cc:507] ROCm Fusion is enabled.\n",
      "2022-05-05 13:37:37.154580: I tensorflow/core/common_runtime/gpu_fusion_pass.cc:507] ROCm Fusion is enabled.\n",
      "/vast/nj594/xai/helpers/evaluate.py:59: VisibleDeprecationWarning: Creating an ndarray from ragged nested sequences (which is a list-or-tuple of lists-or-tuples-or ndarrays with different lengths or shapes) is deprecated. If you meant to do this, you must specify 'dtype=object' when creating the ndarray\n",
      "  r_ = np.array([[float(p), n] for p,n in r.items()])\n",
      "2022-05-05 13:37:38.132173: I tensorflow/core/common_runtime/gpu_fusion_pass.cc:507] ROCm Fusion is enabled.\n",
      "2022-05-05 13:37:38.135850: I tensorflow/core/common_runtime/gpu_fusion_pass.cc:507] ROCm Fusion is enabled.\n",
      "2022-05-05 13:37:38.138089: I tensorflow/core/common_runtime/gpu_fusion_pass.cc:507] ROCm Fusion is enabled.\n"
     ]
    },
    {
     "name": "stdout",
     "output_type": "stream",
     "text": [
      "{'fastshap-dkl': {'retro_ex': {'acc': {100: 0.9232547387887193, 99: 0.9232547387887193, 95: 0.9195561719833565, 90: 0.919093851132686, 85: 0.917706888580675, 75: 0.9204808136846971, 50: 0.9232547387887193, 25: 0.9288025889967637, 15: 0.9445214979195562, 10: 0.960702727693019, 5: 0.9727230698104484, 1: 0.9713361072584373, 0: 0.970873786407767}, 'auroc': {100: 0.5264643953882631, 99: 0.42490995529438735, 95: 0.4566111215015294, 90: 0.4345614807753799, 85: 0.4812625564853304, 75: 0.5244078467098237, 50: 0.6631513535363285, 25: 0.9240306242496275, 15: 0.9685280933448366, 10: 0.9822896996096555, 5: 0.9890649226852326, 1: 0.9897074527453831, 0: 0.9897165024645402}, 'preds': {100: array([[0.90076786, 0.09923208],\n",
      "       [0.90076786, 0.09923208],\n",
      "       [0.90076786, 0.09923208],\n",
      "       ...,\n",
      "       [0.90076786, 0.09923208],\n",
      "       [0.90076786, 0.09923208],\n",
      "       [0.90076786, 0.09923208]], dtype=float32), 99: array([[0.90024287, 0.09975714],\n",
      "       [0.9002466 , 0.09975336],\n",
      "       [0.90030277, 0.09969725],\n",
      "       ...,\n",
      "       [0.90074295, 0.0992571 ],\n",
      "       [0.9017058 , 0.09829414],\n",
      "       [0.89970475, 0.10029525]], dtype=float32), 95: array([[0.9002226 , 0.09977742],\n",
      "       [0.9005141 , 0.0994859 ],\n",
      "       [0.9015303 , 0.09846963],\n",
      "       ...,\n",
      "       [0.89658815, 0.10341185],\n",
      "       [0.9641187 , 0.0358813 ],\n",
      "       [0.8995916 , 0.10040839]], dtype=float32), 90: array([[0.8988697 , 0.10113031],\n",
      "       [0.9003857 , 0.09961428],\n",
      "       [0.9037658 , 0.09623414],\n",
      "       ...,\n",
      "       [0.89377695, 0.10622308],\n",
      "       [0.99352455, 0.00647546],\n",
      "       [0.9026608 , 0.09733923]], dtype=float32), 85: array([[0.90054065, 0.09945932],\n",
      "       [0.90055907, 0.0994409 ],\n",
      "       [0.90428734, 0.09571262],\n",
      "       ...,\n",
      "       [0.8939349 , 0.10606509],\n",
      "       [0.995327  , 0.00467301],\n",
      "       [0.9206036 , 0.0793964 ]], dtype=float32), 75: array([[0.90179044, 0.09820955],\n",
      "       [0.93345726, 0.06654274],\n",
      "       [0.89641756, 0.1035825 ],\n",
      "       ...,\n",
      "       [0.9235888 , 0.07641122],\n",
      "       [0.99530506, 0.00469502],\n",
      "       [0.92334074, 0.07665926]], dtype=float32), 50: array([[0.9139512 , 0.08604883],\n",
      "       [0.9124746 , 0.0875254 ],\n",
      "       [0.9254606 , 0.07453947],\n",
      "       ...,\n",
      "       [0.99027526, 0.00972474],\n",
      "       [0.93440837, 0.06559166],\n",
      "       [0.9523235 , 0.04767656]], dtype=float32), 25: array([[9.9930656e-01, 6.9339259e-04],\n",
      "       [9.9973184e-01, 2.6818097e-04],\n",
      "       [9.9999630e-01, 3.7376160e-06],\n",
      "       ...,\n",
      "       [9.9925607e-01, 7.4391550e-04],\n",
      "       [6.5803683e-01, 3.4196317e-01],\n",
      "       [9.9555850e-01, 4.4414797e-03]], dtype=float32), 15: array([[9.9995112e-01, 4.8887799e-05],\n",
      "       [9.9996936e-01, 3.0689844e-05],\n",
      "       [9.9999928e-01, 7.5574286e-07],\n",
      "       ...,\n",
      "       [9.9981958e-01, 1.8039606e-04],\n",
      "       [3.3664533e-01, 6.6335469e-01],\n",
      "       [9.9776232e-01, 2.2376922e-03]], dtype=float32), 10: array([[9.9999237e-01, 7.5911717e-06],\n",
      "       [1.0000000e+00, 7.6947773e-09],\n",
      "       [9.9999928e-01, 7.4914254e-07],\n",
      "       ...,\n",
      "       [9.9986279e-01, 1.3715125e-04],\n",
      "       [3.4954005e-01, 6.5045989e-01],\n",
      "       [9.9963057e-01, 3.6945031e-04]], dtype=float32), 5: array([[9.9999821e-01, 1.8235014e-06],\n",
      "       [1.0000000e+00, 1.9270738e-10],\n",
      "       [9.9999928e-01, 7.6248784e-07],\n",
      "       ...,\n",
      "       [9.9995530e-01, 4.4732020e-05],\n",
      "       [2.5583425e-01, 7.4416572e-01],\n",
      "       [9.9959022e-01, 4.0981197e-04]], dtype=float32), 1: array([[9.9999845e-01, 1.5920768e-06],\n",
      "       [1.0000000e+00, 1.0900523e-11],\n",
      "       [9.9999928e-01, 7.4858980e-07],\n",
      "       ...,\n",
      "       [9.9985564e-01, 1.4435453e-04],\n",
      "       [2.0200250e-01, 7.9799747e-01],\n",
      "       [9.9980682e-01, 1.9324118e-04]], dtype=float32), 0: array([[9.9999797e-01, 1.9824442e-06],\n",
      "       [1.0000000e+00, 1.5539488e-12],\n",
      "       [9.9999928e-01, 7.4386162e-07],\n",
      "       ...,\n",
      "       [9.9990880e-01, 9.1238806e-05],\n",
      "       [1.7494811e-01, 8.2505190e-01],\n",
      "       [9.9978656e-01, 2.1347396e-04]], dtype=float32)}, 'log_likelihood': {100: -0.27379127058630676, 99: -0.2752546196068468, 95: -0.2845860518037393, 90: -0.29182831382002616, 85: -0.29233171938878916, 75: -0.2918933855760537, 50: -0.2695325489026627, 25: -0.1790383716753422, 15: -0.12978325523722725, 10: -0.09133115822832456, 5: -0.06737428142929691, 1: -0.06374792713650979, 0: -0.06440445023965348}, 'log_odds': {100: 1.8672186, 99: 1.852661, 95: 1.8011618, 90: 1.7809066, 85: 1.8025012, 75: 1.8953367, 50: 2.5781739, 25: 5.0466566, 15: 6.225713, 10: 6.6933393, 5: 7.0350523, 1: 7.122414, 0: 7.0810423}, 'AUC_acc': 0.9300832177531209, 'AUC_auroc': 0.7068431902371628, 'AUC_preds': array([[0.94117963, 0.05882043],\n",
      "       [0.9465188 , 0.05348121],\n",
      "       [0.9438275 , 0.05617249],\n",
      "       ...,\n",
      "       [0.963143  , 0.03685695],\n",
      "       [0.7778572 , 0.22214277],\n",
      "       [0.955334  , 0.04466602]], dtype=float32), 'AUC_log_likelihood': -0.22661704871222907, 'AUC_log_odds': 3.551968465447426}, 'retro_in': {'acc': {100: 0.970873786407767, 99: 0.9704114655570967, 95: 0.9713361072584373, 90: 0.970873786407767, 85: 0.9717984281091078, 75: 0.9713361072584373, 50: 0.9731853906611189, 25: 0.9704114655570967, 15: 0.9630143319463708, 10: 0.9639389736477115, 5: 0.9588534442903375, 1: 0.9500693481276006, 0: 0.9232547387887193}, 'auroc': {100: 0.9897165024645402, 99: 0.9896622041495978, 95: 0.9897074527453831, 90: 0.9899879940392516, 85: 0.9899336957243093, 75: 0.9899457620165188, 50: 0.9898190659483201, 25: 0.9834721962461765, 15: 0.9767512714855415, 10: 0.9716592961731754, 5: 0.9657106141139419, 1: 0.9590711368257205, 0: 0.4805325458066618}, 'preds': {100: array([[9.9999797e-01, 1.9824442e-06],\n",
      "       [1.0000000e+00, 1.5539488e-12],\n",
      "       [9.9999928e-01, 7.4386094e-07],\n",
      "       ...,\n",
      "       [9.9990880e-01, 9.1238806e-05],\n",
      "       [1.7494811e-01, 8.2505190e-01],\n",
      "       [9.9978656e-01, 2.1347415e-04]], dtype=float32), 99: array([[9.9999797e-01, 2.0225743e-06],\n",
      "       [1.0000000e+00, 1.2877554e-12],\n",
      "       [9.9999928e-01, 7.5131766e-07],\n",
      "       ...,\n",
      "       [9.9991000e-01, 9.0031594e-05],\n",
      "       [1.7505595e-01, 8.2494402e-01],\n",
      "       [9.9976653e-01, 2.3345571e-04]], dtype=float32), 95: array([[9.9999785e-01, 2.1129426e-06],\n",
      "       [1.0000000e+00, 1.1705705e-12],\n",
      "       [9.9999952e-01, 4.5716462e-07],\n",
      "       ...,\n",
      "       [9.9990177e-01, 9.8228207e-05],\n",
      "       [1.9557346e-01, 8.0442649e-01],\n",
      "       [9.9974924e-01, 2.5075296e-04]], dtype=float32), 90: array([[9.9999774e-01, 2.2889560e-06],\n",
      "       [1.0000000e+00, 1.0107515e-12],\n",
      "       [9.9999964e-01, 3.6635103e-07],\n",
      "       ...,\n",
      "       [9.9989593e-01, 1.0402578e-04],\n",
      "       [1.8979929e-01, 8.1020075e-01],\n",
      "       [9.9971229e-01, 2.8766418e-04]], dtype=float32), 85: array([[9.99997973e-01, 2.07191306e-06],\n",
      "       [1.00000000e+00, 9.16533451e-13],\n",
      "       [9.99999642e-01, 3.17866608e-07],\n",
      "       ...,\n",
      "       [9.99891877e-01, 1.08156564e-04],\n",
      "       [2.04103440e-01, 7.95896530e-01],\n",
      "       [9.99749243e-01, 2.50796758e-04]], dtype=float32), 75: array([[9.9999797e-01, 2.0181542e-06],\n",
      "       [1.0000000e+00, 7.0870024e-13],\n",
      "       [9.9999976e-01, 2.7676953e-07],\n",
      "       ...,\n",
      "       [9.9986863e-01, 1.3139765e-04],\n",
      "       [2.4036141e-01, 7.5963861e-01],\n",
      "       [9.9969518e-01, 3.0484804e-04]], dtype=float32), 50: array([[9.9999714e-01, 2.9200471e-06],\n",
      "       [1.0000000e+00, 3.5136130e-12],\n",
      "       [9.9999654e-01, 3.4763943e-06],\n",
      "       ...,\n",
      "       [9.9979621e-01, 2.0379739e-04],\n",
      "       [1.9878469e-01, 8.0121529e-01],\n",
      "       [9.9978513e-01, 2.1489532e-04]], dtype=float32), 25: array([[9.99989271e-01, 1.06949492e-05],\n",
      "       [9.99570549e-01, 4.29463835e-04],\n",
      "       [9.95623529e-01, 4.37649805e-03],\n",
      "       ...,\n",
      "       [9.99048889e-01, 9.51112772e-04],\n",
      "       [2.70817310e-01, 7.29182661e-01],\n",
      "       [9.99897122e-01, 1.02862316e-04]], dtype=float32), 15: array([[9.9998963e-01, 1.0330494e-05],\n",
      "       [9.9961048e-01, 3.8956138e-04],\n",
      "       [8.9328498e-01, 1.0671500e-01],\n",
      "       ...,\n",
      "       [9.9804139e-01, 1.9586347e-03],\n",
      "       [3.0662605e-01, 6.9337398e-01],\n",
      "       [9.9945766e-01, 5.4229080e-04]], dtype=float32), 10: array([[9.9996841e-01, 3.1632680e-05],\n",
      "       [9.9969077e-01, 3.0922354e-04],\n",
      "       [8.9280772e-01, 1.0719231e-01],\n",
      "       ...,\n",
      "       [9.9842536e-01, 1.5746092e-03],\n",
      "       [3.7224230e-01, 6.2775767e-01],\n",
      "       [9.9949086e-01, 5.0915789e-04]], dtype=float32), 5: array([[9.95385468e-01, 4.61448403e-03],\n",
      "       [9.89324868e-01, 1.06752105e-02],\n",
      "       [8.92926395e-01, 1.07073627e-01],\n",
      "       ...,\n",
      "       [9.99084592e-01, 9.15379962e-04],\n",
      "       [5.14031768e-01, 4.85968202e-01],\n",
      "       [9.99484658e-01, 5.15298627e-04]], dtype=float32), 1: array([[0.90080744, 0.09919254],\n",
      "       [0.98737013, 0.01262986],\n",
      "       [0.89958686, 0.10041308],\n",
      "       ...,\n",
      "       [0.98347694, 0.01652306],\n",
      "       [0.6733753 , 0.32662466],\n",
      "       [0.9930091 , 0.0069909 ]], dtype=float32), 0: array([[0.90076786, 0.09923208],\n",
      "       [0.90076786, 0.09923208],\n",
      "       [0.90076786, 0.09923208],\n",
      "       ...,\n",
      "       [0.90076786, 0.09923208],\n",
      "       [0.90076786, 0.09923208],\n",
      "       [0.90076786, 0.09923208]], dtype=float32)}, 'log_likelihood': {100: -0.06440445052612372, 99: -0.06468772508082823, 95: -0.06469130114258059, 90: -0.06427991896262814, 85: -0.06429534731651394, 75: -0.06416471320330065, 50: -0.06556992421028257, 25: -0.07500745143319688, 15: -0.08974569472441732, 10: -0.10012332428647706, 5: -0.11098556036990787, 1: -0.14413951888720192, 0: -0.2737912706689762}, 'log_odds': {100: 7.081043, 99: 7.08465, 95: 7.0879345, 90: 7.080331, 85: 7.070799, 75: 7.0918612, 50: 7.2097, 25: 6.879213, 15: 6.289151, 10: 5.8604636, 5: 5.0703144, 1: 3.3418076, 0: 1.8672186}, 'AUC_acc': 0.9692949607027276, 'AUC_auroc': 0.9824500380088206, 'AUC_preds': array([[9.9681067e-01, 3.1893624e-03],\n",
      "       [9.9858785e-01, 1.4121258e-03],\n",
      "       [9.7804511e-01, 2.1954931e-02],\n",
      "       ...,\n",
      "       [9.9856317e-01, 1.4368860e-03],\n",
      "       [2.6408082e-01, 7.3591912e-01],\n",
      "       [9.9906319e-01, 9.3670486e-04]], dtype=float32), 'AUC_log_likelihood': -0.07533796865272105, 'AUC_log_odds': 6.74892292201519}, 'pro_ex': {'acc': {100: 0.9232547387887193, 99: 0.9232547387887193, 95: 0.9195561719833565, 90: 0.919093851132686, 85: 0.917706888580675, 75: 0.9204808136846971, 50: 0.9232547387887193, 25: 0.9288025889967637, 15: 0.9445214979195562, 10: 0.960702727693019, 5: 0.9727230698104484, 1: 0.9713361072584373, 0: 0.970873786407767}, 'auroc': {100: 0.48324896984030263, 99: 0.4249092011511243, 95: 0.4566111215015294, 90: 0.43456223491864304, 85: 0.4812633106285934, 75: 0.5244078467098237, 50: 0.6631513535363285, 25: 0.9240306242496275, 15: 0.9685280933448366, 10: 0.9822896996096554, 5: 0.9890649226852326, 1: 0.9897074527453831, 0: 0.9897165024645402}, 'preds': {100: array([[0.90076786, 0.09923208],\n",
      "       [0.90076786, 0.09923208],\n",
      "       [0.90076786, 0.09923208],\n",
      "       ...,\n",
      "       [0.90076786, 0.09923208],\n",
      "       [0.90076786, 0.09923208],\n",
      "       [0.90076786, 0.09923208]], dtype=float32), 99: array([[0.90024287, 0.09975714],\n",
      "       [0.9002466 , 0.09975336],\n",
      "       [0.90030277, 0.09969725],\n",
      "       ...,\n",
      "       [0.90074295, 0.0992571 ],\n",
      "       [0.9017058 , 0.09829414],\n",
      "       [0.89970475, 0.10029525]], dtype=float32), 95: array([[0.9002226 , 0.0997774 ],\n",
      "       [0.9005141 , 0.09948591],\n",
      "       [0.9015303 , 0.09846963],\n",
      "       ...,\n",
      "       [0.89658815, 0.10341185],\n",
      "       [0.9641187 , 0.0358813 ],\n",
      "       [0.8995916 , 0.10040839]], dtype=float32), 90: array([[0.8988697 , 0.10113031],\n",
      "       [0.9003857 , 0.09961428],\n",
      "       [0.9037658 , 0.09623414],\n",
      "       ...,\n",
      "       [0.89377695, 0.10622308],\n",
      "       [0.99352455, 0.00647547],\n",
      "       [0.9026608 , 0.09733923]], dtype=float32), 85: array([[0.90054065, 0.09945932],\n",
      "       [0.90055907, 0.0994409 ],\n",
      "       [0.90428734, 0.09571262],\n",
      "       ...,\n",
      "       [0.8939349 , 0.10606509],\n",
      "       [0.995327  , 0.00467301],\n",
      "       [0.9206036 , 0.0793964 ]], dtype=float32), 75: array([[0.90179044, 0.09820955],\n",
      "       [0.93345726, 0.06654274],\n",
      "       [0.89641744, 0.10358252],\n",
      "       ...,\n",
      "       [0.9235888 , 0.07641122],\n",
      "       [0.99530506, 0.00469502],\n",
      "       [0.92334074, 0.07665926]], dtype=float32), 50: array([[0.9139512 , 0.08604883],\n",
      "       [0.9124746 , 0.0875254 ],\n",
      "       [0.9254606 , 0.07453945],\n",
      "       ...,\n",
      "       [0.99027526, 0.00972473],\n",
      "       [0.93440837, 0.06559166],\n",
      "       [0.9523235 , 0.04767656]], dtype=float32), 25: array([[9.9930656e-01, 6.9339294e-04],\n",
      "       [9.9973184e-01, 2.6818097e-04],\n",
      "       [9.9999630e-01, 3.7376160e-06],\n",
      "       ...,\n",
      "       [9.9925607e-01, 7.4391550e-04],\n",
      "       [6.5803683e-01, 3.4196317e-01],\n",
      "       [9.9555850e-01, 4.4414797e-03]], dtype=float32), 15: array([[9.9995112e-01, 4.8887799e-05],\n",
      "       [9.9996936e-01, 3.0689844e-05],\n",
      "       [9.9999928e-01, 7.5574286e-07],\n",
      "       ...,\n",
      "       [9.9981958e-01, 1.8039606e-04],\n",
      "       [3.3664533e-01, 6.6335469e-01],\n",
      "       [9.9776232e-01, 2.2376922e-03]], dtype=float32), 10: array([[9.9999237e-01, 7.5911717e-06],\n",
      "       [1.0000000e+00, 7.6947773e-09],\n",
      "       [9.9999928e-01, 7.4914254e-07],\n",
      "       ...,\n",
      "       [9.9986279e-01, 1.3715125e-04],\n",
      "       [3.4954005e-01, 6.5045989e-01],\n",
      "       [9.9963057e-01, 3.6945031e-04]], dtype=float32), 5: array([[9.9999821e-01, 1.8235014e-06],\n",
      "       [1.0000000e+00, 1.9270738e-10],\n",
      "       [9.9999928e-01, 7.6248864e-07],\n",
      "       ...,\n",
      "       [9.9995530e-01, 4.4732020e-05],\n",
      "       [2.5583425e-01, 7.4416572e-01],\n",
      "       [9.9959022e-01, 4.0981197e-04]], dtype=float32), 1: array([[9.9999845e-01, 1.5920768e-06],\n",
      "       [1.0000000e+00, 1.0900543e-11],\n",
      "       [9.9999928e-01, 7.4858980e-07],\n",
      "       ...,\n",
      "       [9.9985564e-01, 1.4435468e-04],\n",
      "       [2.0200250e-01, 7.9799747e-01],\n",
      "       [9.9980682e-01, 1.9324118e-04]], dtype=float32), 0: array([[9.9999797e-01, 1.9824442e-06],\n",
      "       [1.0000000e+00, 1.5539488e-12],\n",
      "       [9.9999928e-01, 7.4386162e-07],\n",
      "       ...,\n",
      "       [9.9990880e-01, 9.1238806e-05],\n",
      "       [1.7494811e-01, 8.2505190e-01],\n",
      "       [9.9978656e-01, 2.1347396e-04]], dtype=float32)}, 'log_likelihood': {100: -0.2737912687124668, 99: -0.2752546197308509, 95: -0.2845860521378615, 90: -0.29182831274532384, 85: -0.29233171919503276, 75: -0.29189338542104853, 50: -0.26953254942666616, 25: -0.17903837141952988, 15: -0.1297832562495575, 10: -0.09133115829108013, 5: -0.06737428129506677, 1: -0.0637479271984042, 0: -0.06440445055257685}, 'log_odds': {100: 1.8672187, 99: 1.852661, 95: 1.8011618, 90: 1.7809064, 85: 1.8025012, 75: 1.8953367, 50: 2.578174, 25: 5.046657, 15: 6.225713, 10: 6.6933393, 5: 7.0350523, 1: 7.122414, 0: 7.081043}, 'AUC_acc': 0.9300832177531209, 'AUC_auroc': 0.7066271885237494, 'AUC_preds': array([[0.94117963, 0.05882042],\n",
      "       [0.9465188 , 0.05348121],\n",
      "       [0.9438275 , 0.05617249],\n",
      "       ...,\n",
      "       [0.963143  , 0.03685695],\n",
      "       [0.7778572 , 0.22214277],\n",
      "       [0.955334  , 0.04466602]], dtype=float32), 'AUC_log_likelihood': -0.2266170487879706, 'AUC_log_odds': 3.5519686055183413}, 'pro_in': {'acc': {100: 0.970873786407767, 99: 0.9704114655570967, 95: 0.9713361072584373, 90: 0.970873786407767, 85: 0.9717984281091078, 75: 0.9713361072584373, 50: 0.9731853906611189, 25: 0.9704114655570967, 15: 0.9630143319463708, 10: 0.9639389736477115, 5: 0.9588534442903375, 1: 0.9500693481276006, 0: 0.9232547387887193}, 'auroc': {100: 0.9897165024645402, 99: 0.9896622041495978, 95: 0.9897074527453831, 90: 0.9899879940392516, 85: 0.9899336957243093, 75: 0.9899457620165188, 50: 0.9898190659483201, 25: 0.9834721962461765, 15: 0.9767512714855415, 10: 0.9716592961731754, 5: 0.9657106141139419, 1: 0.9590711368257205, 0: 0.49361240656164973}, 'preds': {100: array([[9.9999797e-01, 1.9824442e-06],\n",
      "       [1.0000000e+00, 1.5539488e-12],\n",
      "       [9.9999928e-01, 7.4386162e-07],\n",
      "       ...,\n",
      "       [9.9990880e-01, 9.1238806e-05],\n",
      "       [1.7494811e-01, 8.2505190e-01],\n",
      "       [9.9978656e-01, 2.1347396e-04]], dtype=float32), 99: array([[9.9999797e-01, 2.0225725e-06],\n",
      "       [1.0000000e+00, 1.2877554e-12],\n",
      "       [9.9999928e-01, 7.5131766e-07],\n",
      "       ...,\n",
      "       [9.9991000e-01, 9.0031594e-05],\n",
      "       [1.7505595e-01, 8.2494402e-01],\n",
      "       [9.9976653e-01, 2.3345571e-04]], dtype=float32), 95: array([[9.9999785e-01, 2.1129426e-06],\n",
      "       [1.0000000e+00, 1.1705705e-12],\n",
      "       [9.9999952e-01, 4.5716462e-07],\n",
      "       ...,\n",
      "       [9.9990177e-01, 9.8228113e-05],\n",
      "       [1.9557349e-01, 8.0442649e-01],\n",
      "       [9.9974924e-01, 2.5075296e-04]], dtype=float32), 90: array([[9.9999774e-01, 2.2889581e-06],\n",
      "       [1.0000000e+00, 1.0107515e-12],\n",
      "       [9.9999964e-01, 3.6635103e-07],\n",
      "       ...,\n",
      "       [9.9989593e-01, 1.0402578e-04],\n",
      "       [1.8979929e-01, 8.1020069e-01],\n",
      "       [9.9971229e-01, 2.8766418e-04]], dtype=float32), 85: array([[9.99997973e-01, 2.07191306e-06],\n",
      "       [1.00000000e+00, 9.16531716e-13],\n",
      "       [9.99999642e-01, 3.17866608e-07],\n",
      "       ...,\n",
      "       [9.99891877e-01, 1.08156564e-04],\n",
      "       [2.04103440e-01, 7.95896530e-01],\n",
      "       [9.99749243e-01, 2.50796758e-04]], dtype=float32), 75: array([[9.9999797e-01, 2.0181542e-06],\n",
      "       [1.0000000e+00, 7.0870165e-13],\n",
      "       [9.9999976e-01, 2.7676953e-07],\n",
      "       ...,\n",
      "       [9.9986863e-01, 1.3139765e-04],\n",
      "       [2.4036142e-01, 7.5963855e-01],\n",
      "       [9.9969518e-01, 3.0484804e-04]], dtype=float32), 50: array([[9.9999714e-01, 2.9200471e-06],\n",
      "       [1.0000000e+00, 3.5136130e-12],\n",
      "       [9.9999654e-01, 3.4763943e-06],\n",
      "       ...,\n",
      "       [9.9979621e-01, 2.0379739e-04],\n",
      "       [1.9878469e-01, 8.0121529e-01],\n",
      "       [9.9978513e-01, 2.1489532e-04]], dtype=float32), 25: array([[9.99989271e-01, 1.06949492e-05],\n",
      "       [9.99570549e-01, 4.29464038e-04],\n",
      "       [9.95623529e-01, 4.37649805e-03],\n",
      "       ...,\n",
      "       [9.99048889e-01, 9.51112772e-04],\n",
      "       [2.70817280e-01, 7.29182661e-01],\n",
      "       [9.99897122e-01, 1.02862316e-04]], dtype=float32), 15: array([[9.9998963e-01, 1.0330494e-05],\n",
      "       [9.9961048e-01, 3.8956138e-04],\n",
      "       [8.9328498e-01, 1.0671500e-01],\n",
      "       ...,\n",
      "       [9.9804139e-01, 1.9586347e-03],\n",
      "       [3.0662605e-01, 6.9337398e-01],\n",
      "       [9.9945766e-01, 5.4229057e-04]], dtype=float32), 10: array([[9.9996841e-01, 3.1632651e-05],\n",
      "       [9.9969077e-01, 3.0922354e-04],\n",
      "       [8.9280772e-01, 1.0719231e-01],\n",
      "       ...,\n",
      "       [9.9842536e-01, 1.5746092e-03],\n",
      "       [3.7224230e-01, 6.2775767e-01],\n",
      "       [9.9949086e-01, 5.0915789e-04]], dtype=float32), 5: array([[9.95385468e-01, 4.61448403e-03],\n",
      "       [9.89324868e-01, 1.06752105e-02],\n",
      "       [8.92926395e-01, 1.07073627e-01],\n",
      "       ...,\n",
      "       [9.99084592e-01, 9.15380369e-04],\n",
      "       [5.14031768e-01, 4.85968202e-01],\n",
      "       [9.99484658e-01, 5.15298627e-04]], dtype=float32), 1: array([[0.90080744, 0.09919254],\n",
      "       [0.98737013, 0.01262986],\n",
      "       [0.89958686, 0.10041308],\n",
      "       ...,\n",
      "       [0.98347694, 0.01652306],\n",
      "       [0.6733753 , 0.32662466],\n",
      "       [0.9930091 , 0.0069909 ]], dtype=float32), 0: array([[0.90076786, 0.09923208],\n",
      "       [0.90076786, 0.09923208],\n",
      "       [0.90076786, 0.09923208],\n",
      "       ...,\n",
      "       [0.90076786, 0.09923208],\n",
      "       [0.90076786, 0.09923208],\n",
      "       [0.90076786, 0.09923208]], dtype=float32)}, 'log_likelihood': {100: -0.06440445051923459, 99: -0.06468772512192074, 95: -0.06469130141556187, 90: -0.0642799184920153, 85: -0.06429534730338156, 75: -0.0641647135354853, 50: -0.0655699241762541, 25: -0.07500745024421862, 15: -0.08974569541790388, 10: -0.10012332454175789, 5: -0.11098556013443998, 1: -0.14413951858257376, 0: -0.27379127188146085}, 'log_odds': {100: 7.081043, 99: 7.08465, 95: 7.0879345, 90: 7.080331, 85: 7.070799, 75: 7.0918612, 50: 7.2096996, 25: 6.879213, 15: 6.289151, 10: 5.860464, 5: 5.0703144, 1: 3.3418076, 0: 1.8672185}, 'AUC_acc': 0.9692949607027276, 'AUC_auroc': 0.9825154373125955, 'AUC_preds': array([[9.9681067e-01, 3.1893624e-03],\n",
      "       [9.9858785e-01, 1.4121258e-03],\n",
      "       [9.7804511e-01, 2.1954931e-02],\n",
      "       ...,\n",
      "       [9.9856317e-01, 1.4368861e-03],\n",
      "       [2.6408082e-01, 7.3591912e-01],\n",
      "       [9.9906319e-01, 9.3670486e-04]], dtype=float32), 'AUC_log_likelihood': -0.0753379685356627, 'AUC_log_odds': 6.748922826051712}}}\n",
      "kernelshap_s-dkl\n",
      "100\n"
     ]
    },
    {
     "name": "stdout",
     "output_type": "stream",
     "text": [
      "99\n"
     ]
    },
    {
     "name": "stderr",
     "output_type": "stream",
     "text": [
      "2022-05-05 13:37:39.073745: I tensorflow/core/common_runtime/gpu_fusion_pass.cc:507] ROCm Fusion is enabled.\n",
      "2022-05-05 13:37:39.077409: I tensorflow/core/common_runtime/gpu_fusion_pass.cc:507] ROCm Fusion is enabled.\n",
      "2022-05-05 13:37:39.079628: I tensorflow/core/common_runtime/gpu_fusion_pass.cc:507] ROCm Fusion is enabled.\n"
     ]
    },
    {
     "name": "stdout",
     "output_type": "stream",
     "text": [
      "95\n"
     ]
    },
    {
     "name": "stderr",
     "output_type": "stream",
     "text": [
      "2022-05-05 13:37:39.990139: I tensorflow/core/common_runtime/gpu_fusion_pass.cc:507] ROCm Fusion is enabled.\n",
      "2022-05-05 13:37:39.993903: I tensorflow/core/common_runtime/gpu_fusion_pass.cc:507] ROCm Fusion is enabled.\n",
      "2022-05-05 13:37:39.996145: I tensorflow/core/common_runtime/gpu_fusion_pass.cc:507] ROCm Fusion is enabled.\n"
     ]
    },
    {
     "name": "stdout",
     "output_type": "stream",
     "text": [
      "90\n"
     ]
    },
    {
     "name": "stderr",
     "output_type": "stream",
     "text": [
      "2022-05-05 13:37:40.907170: I tensorflow/core/common_runtime/gpu_fusion_pass.cc:507] ROCm Fusion is enabled.\n",
      "2022-05-05 13:37:40.910750: I tensorflow/core/common_runtime/gpu_fusion_pass.cc:507] ROCm Fusion is enabled.\n",
      "2022-05-05 13:37:40.913175: I tensorflow/core/common_runtime/gpu_fusion_pass.cc:507] ROCm Fusion is enabled.\n"
     ]
    },
    {
     "name": "stdout",
     "output_type": "stream",
     "text": [
      "85\n"
     ]
    },
    {
     "name": "stderr",
     "output_type": "stream",
     "text": [
      "2022-05-05 13:37:41.789863: I tensorflow/core/common_runtime/gpu_fusion_pass.cc:507] ROCm Fusion is enabled.\n",
      "2022-05-05 13:37:41.793508: I tensorflow/core/common_runtime/gpu_fusion_pass.cc:507] ROCm Fusion is enabled.\n",
      "2022-05-05 13:37:41.795790: I tensorflow/core/common_runtime/gpu_fusion_pass.cc:507] ROCm Fusion is enabled.\n"
     ]
    },
    {
     "name": "stdout",
     "output_type": "stream",
     "text": [
      "75\n"
     ]
    },
    {
     "name": "stderr",
     "output_type": "stream",
     "text": [
      "2022-05-05 13:37:42.687824: I tensorflow/core/common_runtime/gpu_fusion_pass.cc:507] ROCm Fusion is enabled.\n",
      "2022-05-05 13:37:42.691486: I tensorflow/core/common_runtime/gpu_fusion_pass.cc:507] ROCm Fusion is enabled.\n",
      "2022-05-05 13:37:42.693725: I tensorflow/core/common_runtime/gpu_fusion_pass.cc:507] ROCm Fusion is enabled.\n"
     ]
    },
    {
     "name": "stdout",
     "output_type": "stream",
     "text": [
      "50\n"
     ]
    },
    {
     "name": "stderr",
     "output_type": "stream",
     "text": [
      "2022-05-05 13:37:43.646364: I tensorflow/core/common_runtime/gpu_fusion_pass.cc:507] ROCm Fusion is enabled.\n",
      "2022-05-05 13:37:43.650231: I tensorflow/core/common_runtime/gpu_fusion_pass.cc:507] ROCm Fusion is enabled.\n",
      "2022-05-05 13:37:43.652532: I tensorflow/core/common_runtime/gpu_fusion_pass.cc:507] ROCm Fusion is enabled.\n"
     ]
    },
    {
     "name": "stdout",
     "output_type": "stream",
     "text": [
      "25\n"
     ]
    },
    {
     "name": "stderr",
     "output_type": "stream",
     "text": [
      "2022-05-05 13:37:44.568561: I tensorflow/core/common_runtime/gpu_fusion_pass.cc:507] ROCm Fusion is enabled.\n",
      "2022-05-05 13:37:44.572241: I tensorflow/core/common_runtime/gpu_fusion_pass.cc:507] ROCm Fusion is enabled.\n",
      "2022-05-05 13:37:44.574486: I tensorflow/core/common_runtime/gpu_fusion_pass.cc:507] ROCm Fusion is enabled.\n"
     ]
    },
    {
     "name": "stdout",
     "output_type": "stream",
     "text": [
      "15\n"
     ]
    },
    {
     "name": "stderr",
     "output_type": "stream",
     "text": [
      "2022-05-05 13:37:45.486808: I tensorflow/core/common_runtime/gpu_fusion_pass.cc:507] ROCm Fusion is enabled.\n",
      "2022-05-05 13:37:45.490522: I tensorflow/core/common_runtime/gpu_fusion_pass.cc:507] ROCm Fusion is enabled.\n",
      "2022-05-05 13:37:45.492820: I tensorflow/core/common_runtime/gpu_fusion_pass.cc:507] ROCm Fusion is enabled.\n"
     ]
    },
    {
     "name": "stdout",
     "output_type": "stream",
     "text": [
      "10\n"
     ]
    },
    {
     "name": "stderr",
     "output_type": "stream",
     "text": [
      "2022-05-05 13:37:46.377005: I tensorflow/core/common_runtime/gpu_fusion_pass.cc:507] ROCm Fusion is enabled.\n",
      "2022-05-05 13:37:46.380641: I tensorflow/core/common_runtime/gpu_fusion_pass.cc:507] ROCm Fusion is enabled.\n",
      "2022-05-05 13:37:46.382882: I tensorflow/core/common_runtime/gpu_fusion_pass.cc:507] ROCm Fusion is enabled.\n"
     ]
    },
    {
     "name": "stdout",
     "output_type": "stream",
     "text": [
      "5\n"
     ]
    },
    {
     "name": "stderr",
     "output_type": "stream",
     "text": [
      "2022-05-05 13:37:47.258018: I tensorflow/core/common_runtime/gpu_fusion_pass.cc:507] ROCm Fusion is enabled.\n",
      "2022-05-05 13:37:47.261732: I tensorflow/core/common_runtime/gpu_fusion_pass.cc:507] ROCm Fusion is enabled.\n",
      "2022-05-05 13:37:47.263995: I tensorflow/core/common_runtime/gpu_fusion_pass.cc:507] ROCm Fusion is enabled.\n"
     ]
    },
    {
     "name": "stdout",
     "output_type": "stream",
     "text": [
      "1\n"
     ]
    },
    {
     "name": "stderr",
     "output_type": "stream",
     "text": [
      "2022-05-05 13:37:48.136280: I tensorflow/core/common_runtime/gpu_fusion_pass.cc:507] ROCm Fusion is enabled.\n",
      "2022-05-05 13:37:48.139951: I tensorflow/core/common_runtime/gpu_fusion_pass.cc:507] ROCm Fusion is enabled.\n",
      "2022-05-05 13:37:48.142189: I tensorflow/core/common_runtime/gpu_fusion_pass.cc:507] ROCm Fusion is enabled.\n"
     ]
    },
    {
     "name": "stdout",
     "output_type": "stream",
     "text": [
      "0\n"
     ]
    },
    {
     "name": "stderr",
     "output_type": "stream",
     "text": [
      "2022-05-05 13:37:48.991983: I tensorflow/core/common_runtime/gpu_fusion_pass.cc:507] ROCm Fusion is enabled.\n",
      "2022-05-05 13:37:48.995579: I tensorflow/core/common_runtime/gpu_fusion_pass.cc:507] ROCm Fusion is enabled.\n",
      "2022-05-05 13:37:48.998046: I tensorflow/core/common_runtime/gpu_fusion_pass.cc:507] ROCm Fusion is enabled.\n",
      "/vast/nj594/xai/helpers/evaluate.py:59: VisibleDeprecationWarning: Creating an ndarray from ragged nested sequences (which is a list-or-tuple of lists-or-tuples-or ndarrays with different lengths or shapes) is deprecated. If you meant to do this, you must specify 'dtype=object' when creating the ndarray\n",
      "  r_ = np.array([[float(p), n] for p,n in r.items()])\n",
      "2022-05-05 13:37:49.873053: I tensorflow/core/common_runtime/gpu_fusion_pass.cc:507] ROCm Fusion is enabled.\n",
      "2022-05-05 13:37:49.876669: I tensorflow/core/common_runtime/gpu_fusion_pass.cc:507] ROCm Fusion is enabled.\n",
      "2022-05-05 13:37:49.878927: I tensorflow/core/common_runtime/gpu_fusion_pass.cc:507] ROCm Fusion is enabled.\n"
     ]
    },
    {
     "name": "stdout",
     "output_type": "stream",
     "text": [
      "100\n",
      "99\n"
     ]
    },
    {
     "name": "stderr",
     "output_type": "stream",
     "text": [
      "2022-05-05 13:37:50.788318: I tensorflow/core/common_runtime/gpu_fusion_pass.cc:507] ROCm Fusion is enabled.\n",
      "2022-05-05 13:37:50.791971: I tensorflow/core/common_runtime/gpu_fusion_pass.cc:507] ROCm Fusion is enabled.\n",
      "2022-05-05 13:37:50.794203: I tensorflow/core/common_runtime/gpu_fusion_pass.cc:507] ROCm Fusion is enabled.\n"
     ]
    },
    {
     "name": "stdout",
     "output_type": "stream",
     "text": [
      "95\n"
     ]
    },
    {
     "name": "stderr",
     "output_type": "stream",
     "text": [
      "2022-05-05 13:37:51.697130: I tensorflow/core/common_runtime/gpu_fusion_pass.cc:507] ROCm Fusion is enabled.\n",
      "2022-05-05 13:37:51.700788: I tensorflow/core/common_runtime/gpu_fusion_pass.cc:507] ROCm Fusion is enabled.\n",
      "2022-05-05 13:37:51.703025: I tensorflow/core/common_runtime/gpu_fusion_pass.cc:507] ROCm Fusion is enabled.\n"
     ]
    },
    {
     "name": "stdout",
     "output_type": "stream",
     "text": [
      "90\n"
     ]
    },
    {
     "name": "stderr",
     "output_type": "stream",
     "text": [
      "2022-05-05 13:37:52.579416: I tensorflow/core/common_runtime/gpu_fusion_pass.cc:507] ROCm Fusion is enabled.\n",
      "2022-05-05 13:37:52.583060: I tensorflow/core/common_runtime/gpu_fusion_pass.cc:507] ROCm Fusion is enabled.\n",
      "2022-05-05 13:37:52.585286: I tensorflow/core/common_runtime/gpu_fusion_pass.cc:507] ROCm Fusion is enabled.\n"
     ]
    },
    {
     "name": "stdout",
     "output_type": "stream",
     "text": [
      "85\n"
     ]
    },
    {
     "name": "stderr",
     "output_type": "stream",
     "text": [
      "2022-05-05 13:37:53.490730: I tensorflow/core/common_runtime/gpu_fusion_pass.cc:507] ROCm Fusion is enabled.\n",
      "2022-05-05 13:37:53.494416: I tensorflow/core/common_runtime/gpu_fusion_pass.cc:507] ROCm Fusion is enabled.\n",
      "2022-05-05 13:37:53.496757: I tensorflow/core/common_runtime/gpu_fusion_pass.cc:507] ROCm Fusion is enabled.\n"
     ]
    },
    {
     "name": "stdout",
     "output_type": "stream",
     "text": [
      "75\n"
     ]
    },
    {
     "name": "stderr",
     "output_type": "stream",
     "text": [
      "2022-05-05 13:37:54.402946: I tensorflow/core/common_runtime/gpu_fusion_pass.cc:507] ROCm Fusion is enabled.\n",
      "2022-05-05 13:37:54.406607: I tensorflow/core/common_runtime/gpu_fusion_pass.cc:507] ROCm Fusion is enabled.\n",
      "2022-05-05 13:37:54.408844: I tensorflow/core/common_runtime/gpu_fusion_pass.cc:507] ROCm Fusion is enabled.\n"
     ]
    },
    {
     "name": "stdout",
     "output_type": "stream",
     "text": [
      "50\n"
     ]
    },
    {
     "name": "stderr",
     "output_type": "stream",
     "text": [
      "2022-05-05 13:37:55.314422: I tensorflow/core/common_runtime/gpu_fusion_pass.cc:507] ROCm Fusion is enabled.\n",
      "2022-05-05 13:37:55.318217: I tensorflow/core/common_runtime/gpu_fusion_pass.cc:507] ROCm Fusion is enabled.\n",
      "2022-05-05 13:37:55.320510: I tensorflow/core/common_runtime/gpu_fusion_pass.cc:507] ROCm Fusion is enabled.\n"
     ]
    },
    {
     "name": "stdout",
     "output_type": "stream",
     "text": [
      "25\n"
     ]
    },
    {
     "name": "stderr",
     "output_type": "stream",
     "text": [
      "2022-05-05 13:37:56.229760: I tensorflow/core/common_runtime/gpu_fusion_pass.cc:507] ROCm Fusion is enabled.\n",
      "2022-05-05 13:37:56.233673: I tensorflow/core/common_runtime/gpu_fusion_pass.cc:507] ROCm Fusion is enabled.\n",
      "2022-05-05 13:37:56.235986: I tensorflow/core/common_runtime/gpu_fusion_pass.cc:507] ROCm Fusion is enabled.\n"
     ]
    },
    {
     "name": "stdout",
     "output_type": "stream",
     "text": [
      "15\n"
     ]
    },
    {
     "name": "stderr",
     "output_type": "stream",
     "text": [
      "2022-05-05 13:37:57.134649: I tensorflow/core/common_runtime/gpu_fusion_pass.cc:507] ROCm Fusion is enabled.\n",
      "2022-05-05 13:37:57.138374: I tensorflow/core/common_runtime/gpu_fusion_pass.cc:507] ROCm Fusion is enabled.\n",
      "2022-05-05 13:37:57.140677: I tensorflow/core/common_runtime/gpu_fusion_pass.cc:507] ROCm Fusion is enabled.\n"
     ]
    },
    {
     "name": "stdout",
     "output_type": "stream",
     "text": [
      "10\n"
     ]
    },
    {
     "name": "stderr",
     "output_type": "stream",
     "text": [
      "2022-05-05 13:37:58.065714: I tensorflow/core/common_runtime/gpu_fusion_pass.cc:507] ROCm Fusion is enabled.\n",
      "2022-05-05 13:37:58.069555: I tensorflow/core/common_runtime/gpu_fusion_pass.cc:507] ROCm Fusion is enabled.\n",
      "2022-05-05 13:37:58.071796: I tensorflow/core/common_runtime/gpu_fusion_pass.cc:507] ROCm Fusion is enabled.\n"
     ]
    },
    {
     "name": "stdout",
     "output_type": "stream",
     "text": [
      "5\n"
     ]
    },
    {
     "name": "stderr",
     "output_type": "stream",
     "text": [
      "2022-05-05 13:37:58.965121: I tensorflow/core/common_runtime/gpu_fusion_pass.cc:507] ROCm Fusion is enabled.\n",
      "2022-05-05 13:37:58.968762: I tensorflow/core/common_runtime/gpu_fusion_pass.cc:507] ROCm Fusion is enabled.\n",
      "2022-05-05 13:37:58.971015: I tensorflow/core/common_runtime/gpu_fusion_pass.cc:507] ROCm Fusion is enabled.\n"
     ]
    },
    {
     "name": "stdout",
     "output_type": "stream",
     "text": [
      "1\n"
     ]
    },
    {
     "name": "stderr",
     "output_type": "stream",
     "text": [
      "2022-05-05 13:37:59.890845: I tensorflow/core/common_runtime/gpu_fusion_pass.cc:507] ROCm Fusion is enabled.\n",
      "2022-05-05 13:37:59.894492: I tensorflow/core/common_runtime/gpu_fusion_pass.cc:507] ROCm Fusion is enabled.\n",
      "2022-05-05 13:37:59.896715: I tensorflow/core/common_runtime/gpu_fusion_pass.cc:507] ROCm Fusion is enabled.\n"
     ]
    },
    {
     "name": "stdout",
     "output_type": "stream",
     "text": [
      "0\n"
     ]
    },
    {
     "name": "stderr",
     "output_type": "stream",
     "text": [
      "2022-05-05 13:38:00.774117: I tensorflow/core/common_runtime/gpu_fusion_pass.cc:507] ROCm Fusion is enabled.\n",
      "2022-05-05 13:38:00.777776: I tensorflow/core/common_runtime/gpu_fusion_pass.cc:507] ROCm Fusion is enabled.\n",
      "2022-05-05 13:38:00.780003: I tensorflow/core/common_runtime/gpu_fusion_pass.cc:507] ROCm Fusion is enabled.\n",
      "/vast/nj594/xai/helpers/evaluate.py:59: VisibleDeprecationWarning: Creating an ndarray from ragged nested sequences (which is a list-or-tuple of lists-or-tuples-or ndarrays with different lengths or shapes) is deprecated. If you meant to do this, you must specify 'dtype=object' when creating the ndarray\n",
      "  r_ = np.array([[float(p), n] for p,n in r.items()])\n",
      "2022-05-05 13:38:01.668575: I tensorflow/core/common_runtime/gpu_fusion_pass.cc:507] ROCm Fusion is enabled.\n",
      "2022-05-05 13:38:01.672329: I tensorflow/core/common_runtime/gpu_fusion_pass.cc:507] ROCm Fusion is enabled.\n",
      "2022-05-05 13:38:01.674657: I tensorflow/core/common_runtime/gpu_fusion_pass.cc:507] ROCm Fusion is enabled.\n"
     ]
    },
    {
     "name": "stdout",
     "output_type": "stream",
     "text": [
      "100\n",
      "99\n"
     ]
    },
    {
     "name": "stderr",
     "output_type": "stream",
     "text": [
      "2022-05-05 13:38:02.586929: I tensorflow/core/common_runtime/gpu_fusion_pass.cc:507] ROCm Fusion is enabled.\n",
      "2022-05-05 13:38:02.590519: I tensorflow/core/common_runtime/gpu_fusion_pass.cc:507] ROCm Fusion is enabled.\n",
      "2022-05-05 13:38:02.592933: I tensorflow/core/common_runtime/gpu_fusion_pass.cc:507] ROCm Fusion is enabled.\n"
     ]
    },
    {
     "name": "stdout",
     "output_type": "stream",
     "text": [
      "95\n"
     ]
    },
    {
     "name": "stderr",
     "output_type": "stream",
     "text": [
      "2022-05-05 13:38:03.504324: I tensorflow/core/common_runtime/gpu_fusion_pass.cc:507] ROCm Fusion is enabled.\n",
      "2022-05-05 13:38:03.508003: I tensorflow/core/common_runtime/gpu_fusion_pass.cc:507] ROCm Fusion is enabled.\n",
      "2022-05-05 13:38:03.510244: I tensorflow/core/common_runtime/gpu_fusion_pass.cc:507] ROCm Fusion is enabled.\n"
     ]
    },
    {
     "name": "stdout",
     "output_type": "stream",
     "text": [
      "90\n"
     ]
    },
    {
     "name": "stderr",
     "output_type": "stream",
     "text": [
      "2022-05-05 13:38:04.443956: I tensorflow/core/common_runtime/gpu_fusion_pass.cc:507] ROCm Fusion is enabled.\n",
      "2022-05-05 13:38:04.447691: I tensorflow/core/common_runtime/gpu_fusion_pass.cc:507] ROCm Fusion is enabled.\n",
      "2022-05-05 13:38:04.449986: I tensorflow/core/common_runtime/gpu_fusion_pass.cc:507] ROCm Fusion is enabled.\n"
     ]
    },
    {
     "name": "stdout",
     "output_type": "stream",
     "text": [
      "85\n"
     ]
    },
    {
     "name": "stderr",
     "output_type": "stream",
     "text": [
      "2022-05-05 13:38:05.385898: I tensorflow/core/common_runtime/gpu_fusion_pass.cc:507] ROCm Fusion is enabled.\n",
      "2022-05-05 13:38:05.389541: I tensorflow/core/common_runtime/gpu_fusion_pass.cc:507] ROCm Fusion is enabled.\n",
      "2022-05-05 13:38:05.391782: I tensorflow/core/common_runtime/gpu_fusion_pass.cc:507] ROCm Fusion is enabled.\n"
     ]
    },
    {
     "name": "stdout",
     "output_type": "stream",
     "text": [
      "75\n"
     ]
    },
    {
     "name": "stderr",
     "output_type": "stream",
     "text": [
      "2022-05-05 13:38:06.297212: I tensorflow/core/common_runtime/gpu_fusion_pass.cc:507] ROCm Fusion is enabled.\n",
      "2022-05-05 13:38:06.300893: I tensorflow/core/common_runtime/gpu_fusion_pass.cc:507] ROCm Fusion is enabled.\n",
      "2022-05-05 13:38:06.303123: I tensorflow/core/common_runtime/gpu_fusion_pass.cc:507] ROCm Fusion is enabled.\n"
     ]
    },
    {
     "name": "stdout",
     "output_type": "stream",
     "text": [
      "50\n"
     ]
    },
    {
     "name": "stderr",
     "output_type": "stream",
     "text": [
      "2022-05-05 13:38:07.209781: I tensorflow/core/common_runtime/gpu_fusion_pass.cc:507] ROCm Fusion is enabled.\n",
      "2022-05-05 13:38:07.213435: I tensorflow/core/common_runtime/gpu_fusion_pass.cc:507] ROCm Fusion is enabled.\n",
      "2022-05-05 13:38:07.215666: I tensorflow/core/common_runtime/gpu_fusion_pass.cc:507] ROCm Fusion is enabled.\n"
     ]
    },
    {
     "name": "stdout",
     "output_type": "stream",
     "text": [
      "25\n"
     ]
    },
    {
     "name": "stderr",
     "output_type": "stream",
     "text": [
      "2022-05-05 13:38:08.097604: I tensorflow/core/common_runtime/gpu_fusion_pass.cc:507] ROCm Fusion is enabled.\n",
      "2022-05-05 13:38:08.101261: I tensorflow/core/common_runtime/gpu_fusion_pass.cc:507] ROCm Fusion is enabled.\n",
      "2022-05-05 13:38:08.103487: I tensorflow/core/common_runtime/gpu_fusion_pass.cc:507] ROCm Fusion is enabled.\n"
     ]
    },
    {
     "name": "stdout",
     "output_type": "stream",
     "text": [
      "15\n"
     ]
    },
    {
     "name": "stderr",
     "output_type": "stream",
     "text": [
      "2022-05-05 13:38:08.995524: I tensorflow/core/common_runtime/gpu_fusion_pass.cc:507] ROCm Fusion is enabled.\n",
      "2022-05-05 13:38:08.999263: I tensorflow/core/common_runtime/gpu_fusion_pass.cc:507] ROCm Fusion is enabled.\n",
      "2022-05-05 13:38:09.001558: I tensorflow/core/common_runtime/gpu_fusion_pass.cc:507] ROCm Fusion is enabled.\n"
     ]
    },
    {
     "name": "stdout",
     "output_type": "stream",
     "text": [
      "10\n"
     ]
    },
    {
     "name": "stderr",
     "output_type": "stream",
     "text": [
      "2022-05-05 13:38:09.897317: I tensorflow/core/common_runtime/gpu_fusion_pass.cc:507] ROCm Fusion is enabled.\n",
      "2022-05-05 13:38:09.901009: I tensorflow/core/common_runtime/gpu_fusion_pass.cc:507] ROCm Fusion is enabled.\n",
      "2022-05-05 13:38:09.903246: I tensorflow/core/common_runtime/gpu_fusion_pass.cc:507] ROCm Fusion is enabled.\n"
     ]
    },
    {
     "name": "stdout",
     "output_type": "stream",
     "text": [
      "5\n"
     ]
    },
    {
     "name": "stderr",
     "output_type": "stream",
     "text": [
      "2022-05-05 13:38:10.798401: I tensorflow/core/common_runtime/gpu_fusion_pass.cc:507] ROCm Fusion is enabled.\n",
      "2022-05-05 13:38:10.802116: I tensorflow/core/common_runtime/gpu_fusion_pass.cc:507] ROCm Fusion is enabled.\n",
      "2022-05-05 13:38:10.804385: I tensorflow/core/common_runtime/gpu_fusion_pass.cc:507] ROCm Fusion is enabled.\n"
     ]
    },
    {
     "name": "stdout",
     "output_type": "stream",
     "text": [
      "1\n"
     ]
    },
    {
     "name": "stderr",
     "output_type": "stream",
     "text": [
      "2022-05-05 13:38:11.697991: I tensorflow/core/common_runtime/gpu_fusion_pass.cc:507] ROCm Fusion is enabled.\n",
      "2022-05-05 13:38:11.701708: I tensorflow/core/common_runtime/gpu_fusion_pass.cc:507] ROCm Fusion is enabled.\n",
      "2022-05-05 13:38:11.703953: I tensorflow/core/common_runtime/gpu_fusion_pass.cc:507] ROCm Fusion is enabled.\n"
     ]
    },
    {
     "name": "stdout",
     "output_type": "stream",
     "text": [
      "0\n"
     ]
    },
    {
     "name": "stderr",
     "output_type": "stream",
     "text": [
      "2022-05-05 13:38:12.576174: I tensorflow/core/common_runtime/gpu_fusion_pass.cc:507] ROCm Fusion is enabled.\n",
      "2022-05-05 13:38:12.579838: I tensorflow/core/common_runtime/gpu_fusion_pass.cc:507] ROCm Fusion is enabled.\n",
      "2022-05-05 13:38:12.582078: I tensorflow/core/common_runtime/gpu_fusion_pass.cc:507] ROCm Fusion is enabled.\n",
      "/vast/nj594/xai/helpers/evaluate.py:59: VisibleDeprecationWarning: Creating an ndarray from ragged nested sequences (which is a list-or-tuple of lists-or-tuples-or ndarrays with different lengths or shapes) is deprecated. If you meant to do this, you must specify 'dtype=object' when creating the ndarray\n",
      "  r_ = np.array([[float(p), n] for p,n in r.items()])\n",
      "2022-05-05 13:38:13.468982: I tensorflow/core/common_runtime/gpu_fusion_pass.cc:507] ROCm Fusion is enabled.\n",
      "2022-05-05 13:38:13.472697: I tensorflow/core/common_runtime/gpu_fusion_pass.cc:507] ROCm Fusion is enabled.\n",
      "2022-05-05 13:38:13.474989: I tensorflow/core/common_runtime/gpu_fusion_pass.cc:507] ROCm Fusion is enabled.\n"
     ]
    },
    {
     "name": "stdout",
     "output_type": "stream",
     "text": [
      "100\n",
      "99\n"
     ]
    },
    {
     "name": "stderr",
     "output_type": "stream",
     "text": [
      "2022-05-05 13:38:14.372715: I tensorflow/core/common_runtime/gpu_fusion_pass.cc:507] ROCm Fusion is enabled.\n",
      "2022-05-05 13:38:14.376392: I tensorflow/core/common_runtime/gpu_fusion_pass.cc:507] ROCm Fusion is enabled.\n",
      "2022-05-05 13:38:14.378658: I tensorflow/core/common_runtime/gpu_fusion_pass.cc:507] ROCm Fusion is enabled.\n"
     ]
    },
    {
     "name": "stdout",
     "output_type": "stream",
     "text": [
      "95\n"
     ]
    },
    {
     "name": "stderr",
     "output_type": "stream",
     "text": [
      "2022-05-05 13:38:15.273187: I tensorflow/core/common_runtime/gpu_fusion_pass.cc:507] ROCm Fusion is enabled.\n",
      "2022-05-05 13:38:15.276887: I tensorflow/core/common_runtime/gpu_fusion_pass.cc:507] ROCm Fusion is enabled.\n",
      "2022-05-05 13:38:15.279124: I tensorflow/core/common_runtime/gpu_fusion_pass.cc:507] ROCm Fusion is enabled.\n"
     ]
    },
    {
     "name": "stdout",
     "output_type": "stream",
     "text": [
      "90\n"
     ]
    },
    {
     "name": "stderr",
     "output_type": "stream",
     "text": [
      "2022-05-05 13:38:16.214408: I tensorflow/core/common_runtime/gpu_fusion_pass.cc:507] ROCm Fusion is enabled.\n",
      "2022-05-05 13:38:16.218079: I tensorflow/core/common_runtime/gpu_fusion_pass.cc:507] ROCm Fusion is enabled.\n",
      "2022-05-05 13:38:16.220333: I tensorflow/core/common_runtime/gpu_fusion_pass.cc:507] ROCm Fusion is enabled.\n"
     ]
    },
    {
     "name": "stdout",
     "output_type": "stream",
     "text": [
      "85\n"
     ]
    },
    {
     "name": "stderr",
     "output_type": "stream",
     "text": [
      "2022-05-05 13:38:17.165045: I tensorflow/core/common_runtime/gpu_fusion_pass.cc:507] ROCm Fusion is enabled.\n",
      "2022-05-05 13:38:17.168739: I tensorflow/core/common_runtime/gpu_fusion_pass.cc:507] ROCm Fusion is enabled.\n",
      "2022-05-05 13:38:17.170982: I tensorflow/core/common_runtime/gpu_fusion_pass.cc:507] ROCm Fusion is enabled.\n"
     ]
    },
    {
     "name": "stdout",
     "output_type": "stream",
     "text": [
      "75\n"
     ]
    },
    {
     "name": "stderr",
     "output_type": "stream",
     "text": [
      "2022-05-05 13:38:18.068027: I tensorflow/core/common_runtime/gpu_fusion_pass.cc:507] ROCm Fusion is enabled.\n",
      "2022-05-05 13:38:18.071792: I tensorflow/core/common_runtime/gpu_fusion_pass.cc:507] ROCm Fusion is enabled.\n",
      "2022-05-05 13:38:18.074094: I tensorflow/core/common_runtime/gpu_fusion_pass.cc:507] ROCm Fusion is enabled.\n"
     ]
    },
    {
     "name": "stdout",
     "output_type": "stream",
     "text": [
      "50\n"
     ]
    },
    {
     "name": "stderr",
     "output_type": "stream",
     "text": [
      "2022-05-05 13:38:18.965609: I tensorflow/core/common_runtime/gpu_fusion_pass.cc:507] ROCm Fusion is enabled.\n",
      "2022-05-05 13:38:18.969265: I tensorflow/core/common_runtime/gpu_fusion_pass.cc:507] ROCm Fusion is enabled.\n",
      "2022-05-05 13:38:18.971494: I tensorflow/core/common_runtime/gpu_fusion_pass.cc:507] ROCm Fusion is enabled.\n"
     ]
    },
    {
     "name": "stdout",
     "output_type": "stream",
     "text": [
      "25\n"
     ]
    },
    {
     "name": "stderr",
     "output_type": "stream",
     "text": [
      "2022-05-05 13:38:19.869747: I tensorflow/core/common_runtime/gpu_fusion_pass.cc:507] ROCm Fusion is enabled.\n",
      "2022-05-05 13:38:19.873417: I tensorflow/core/common_runtime/gpu_fusion_pass.cc:507] ROCm Fusion is enabled.\n",
      "2022-05-05 13:38:19.875659: I tensorflow/core/common_runtime/gpu_fusion_pass.cc:507] ROCm Fusion is enabled.\n"
     ]
    },
    {
     "name": "stdout",
     "output_type": "stream",
     "text": [
      "15\n"
     ]
    },
    {
     "name": "stderr",
     "output_type": "stream",
     "text": [
      "2022-05-05 13:38:20.760183: I tensorflow/core/common_runtime/gpu_fusion_pass.cc:507] ROCm Fusion is enabled.\n",
      "2022-05-05 13:38:20.763865: I tensorflow/core/common_runtime/gpu_fusion_pass.cc:507] ROCm Fusion is enabled.\n",
      "2022-05-05 13:38:20.766118: I tensorflow/core/common_runtime/gpu_fusion_pass.cc:507] ROCm Fusion is enabled.\n"
     ]
    },
    {
     "name": "stdout",
     "output_type": "stream",
     "text": [
      "10\n"
     ]
    },
    {
     "name": "stderr",
     "output_type": "stream",
     "text": [
      "2022-05-05 13:38:21.644942: I tensorflow/core/common_runtime/gpu_fusion_pass.cc:507] ROCm Fusion is enabled.\n",
      "2022-05-05 13:38:21.648611: I tensorflow/core/common_runtime/gpu_fusion_pass.cc:507] ROCm Fusion is enabled.\n",
      "2022-05-05 13:38:21.650844: I tensorflow/core/common_runtime/gpu_fusion_pass.cc:507] ROCm Fusion is enabled.\n"
     ]
    },
    {
     "name": "stdout",
     "output_type": "stream",
     "text": [
      "5\n"
     ]
    },
    {
     "name": "stderr",
     "output_type": "stream",
     "text": [
      "2022-05-05 13:38:22.533890: I tensorflow/core/common_runtime/gpu_fusion_pass.cc:507] ROCm Fusion is enabled.\n",
      "2022-05-05 13:38:22.537569: I tensorflow/core/common_runtime/gpu_fusion_pass.cc:507] ROCm Fusion is enabled.\n",
      "2022-05-05 13:38:22.539812: I tensorflow/core/common_runtime/gpu_fusion_pass.cc:507] ROCm Fusion is enabled.\n"
     ]
    },
    {
     "name": "stdout",
     "output_type": "stream",
     "text": [
      "1\n"
     ]
    },
    {
     "name": "stderr",
     "output_type": "stream",
     "text": [
      "2022-05-05 13:38:23.453380: I tensorflow/core/common_runtime/gpu_fusion_pass.cc:507] ROCm Fusion is enabled.\n",
      "2022-05-05 13:38:23.457022: I tensorflow/core/common_runtime/gpu_fusion_pass.cc:507] ROCm Fusion is enabled.\n",
      "2022-05-05 13:38:23.459240: I tensorflow/core/common_runtime/gpu_fusion_pass.cc:507] ROCm Fusion is enabled.\n"
     ]
    },
    {
     "name": "stdout",
     "output_type": "stream",
     "text": [
      "0\n"
     ]
    },
    {
     "name": "stderr",
     "output_type": "stream",
     "text": [
      "2022-05-05 13:38:24.347097: I tensorflow/core/common_runtime/gpu_fusion_pass.cc:507] ROCm Fusion is enabled.\n",
      "2022-05-05 13:38:24.350919: I tensorflow/core/common_runtime/gpu_fusion_pass.cc:507] ROCm Fusion is enabled.\n",
      "2022-05-05 13:38:24.353145: I tensorflow/core/common_runtime/gpu_fusion_pass.cc:507] ROCm Fusion is enabled.\n"
     ]
    },
    {
     "name": "stdout",
     "output_type": "stream",
     "text": [
      "{'fastshap-dkl': {'retro_ex': {'acc': {100: 0.9232547387887193, 99: 0.9232547387887193, 95: 0.9195561719833565, 90: 0.919093851132686, 85: 0.917706888580675, 75: 0.9204808136846971, 50: 0.9232547387887193, 25: 0.9288025889967637, 15: 0.9445214979195562, 10: 0.960702727693019, 5: 0.9727230698104484, 1: 0.9713361072584373, 0: 0.970873786407767}, 'auroc': {100: 0.5264643953882631, 99: 0.42490995529438735, 95: 0.4566111215015294, 90: 0.4345614807753799, 85: 0.4812625564853304, 75: 0.5244078467098237, 50: 0.6631513535363285, 25: 0.9240306242496275, 15: 0.9685280933448366, 10: 0.9822896996096555, 5: 0.9890649226852326, 1: 0.9897074527453831, 0: 0.9897165024645402}, 'preds': {100: array([[0.90076786, 0.09923208],\n",
      "       [0.90076786, 0.09923208],\n",
      "       [0.90076786, 0.09923208],\n",
      "       ...,\n",
      "       [0.90076786, 0.09923208],\n",
      "       [0.90076786, 0.09923208],\n",
      "       [0.90076786, 0.09923208]], dtype=float32), 99: array([[0.90024287, 0.09975714],\n",
      "       [0.9002466 , 0.09975336],\n",
      "       [0.90030277, 0.09969725],\n",
      "       ...,\n",
      "       [0.90074295, 0.0992571 ],\n",
      "       [0.9017058 , 0.09829414],\n",
      "       [0.89970475, 0.10029525]], dtype=float32), 95: array([[0.9002226 , 0.09977742],\n",
      "       [0.9005141 , 0.0994859 ],\n",
      "       [0.9015303 , 0.09846963],\n",
      "       ...,\n",
      "       [0.89658815, 0.10341185],\n",
      "       [0.9641187 , 0.0358813 ],\n",
      "       [0.8995916 , 0.10040839]], dtype=float32), 90: array([[0.8988697 , 0.10113031],\n",
      "       [0.9003857 , 0.09961428],\n",
      "       [0.9037658 , 0.09623414],\n",
      "       ...,\n",
      "       [0.89377695, 0.10622308],\n",
      "       [0.99352455, 0.00647546],\n",
      "       [0.9026608 , 0.09733923]], dtype=float32), 85: array([[0.90054065, 0.09945932],\n",
      "       [0.90055907, 0.0994409 ],\n",
      "       [0.90428734, 0.09571262],\n",
      "       ...,\n",
      "       [0.8939349 , 0.10606509],\n",
      "       [0.995327  , 0.00467301],\n",
      "       [0.9206036 , 0.0793964 ]], dtype=float32), 75: array([[0.90179044, 0.09820955],\n",
      "       [0.93345726, 0.06654274],\n",
      "       [0.89641756, 0.1035825 ],\n",
      "       ...,\n",
      "       [0.9235888 , 0.07641122],\n",
      "       [0.99530506, 0.00469502],\n",
      "       [0.92334074, 0.07665926]], dtype=float32), 50: array([[0.9139512 , 0.08604883],\n",
      "       [0.9124746 , 0.0875254 ],\n",
      "       [0.9254606 , 0.07453947],\n",
      "       ...,\n",
      "       [0.99027526, 0.00972474],\n",
      "       [0.93440837, 0.06559166],\n",
      "       [0.9523235 , 0.04767656]], dtype=float32), 25: array([[9.9930656e-01, 6.9339259e-04],\n",
      "       [9.9973184e-01, 2.6818097e-04],\n",
      "       [9.9999630e-01, 3.7376160e-06],\n",
      "       ...,\n",
      "       [9.9925607e-01, 7.4391550e-04],\n",
      "       [6.5803683e-01, 3.4196317e-01],\n",
      "       [9.9555850e-01, 4.4414797e-03]], dtype=float32), 15: array([[9.9995112e-01, 4.8887799e-05],\n",
      "       [9.9996936e-01, 3.0689844e-05],\n",
      "       [9.9999928e-01, 7.5574286e-07],\n",
      "       ...,\n",
      "       [9.9981958e-01, 1.8039606e-04],\n",
      "       [3.3664533e-01, 6.6335469e-01],\n",
      "       [9.9776232e-01, 2.2376922e-03]], dtype=float32), 10: array([[9.9999237e-01, 7.5911717e-06],\n",
      "       [1.0000000e+00, 7.6947773e-09],\n",
      "       [9.9999928e-01, 7.4914254e-07],\n",
      "       ...,\n",
      "       [9.9986279e-01, 1.3715125e-04],\n",
      "       [3.4954005e-01, 6.5045989e-01],\n",
      "       [9.9963057e-01, 3.6945031e-04]], dtype=float32), 5: array([[9.9999821e-01, 1.8235014e-06],\n",
      "       [1.0000000e+00, 1.9270738e-10],\n",
      "       [9.9999928e-01, 7.6248784e-07],\n",
      "       ...,\n",
      "       [9.9995530e-01, 4.4732020e-05],\n",
      "       [2.5583425e-01, 7.4416572e-01],\n",
      "       [9.9959022e-01, 4.0981197e-04]], dtype=float32), 1: array([[9.9999845e-01, 1.5920768e-06],\n",
      "       [1.0000000e+00, 1.0900523e-11],\n",
      "       [9.9999928e-01, 7.4858980e-07],\n",
      "       ...,\n",
      "       [9.9985564e-01, 1.4435453e-04],\n",
      "       [2.0200250e-01, 7.9799747e-01],\n",
      "       [9.9980682e-01, 1.9324118e-04]], dtype=float32), 0: array([[9.9999797e-01, 1.9824442e-06],\n",
      "       [1.0000000e+00, 1.5539488e-12],\n",
      "       [9.9999928e-01, 7.4386162e-07],\n",
      "       ...,\n",
      "       [9.9990880e-01, 9.1238806e-05],\n",
      "       [1.7494811e-01, 8.2505190e-01],\n",
      "       [9.9978656e-01, 2.1347396e-04]], dtype=float32)}, 'log_likelihood': {100: -0.27379127058630676, 99: -0.2752546196068468, 95: -0.2845860518037393, 90: -0.29182831382002616, 85: -0.29233171938878916, 75: -0.2918933855760537, 50: -0.2695325489026627, 25: -0.1790383716753422, 15: -0.12978325523722725, 10: -0.09133115822832456, 5: -0.06737428142929691, 1: -0.06374792713650979, 0: -0.06440445023965348}, 'log_odds': {100: 1.8672186, 99: 1.852661, 95: 1.8011618, 90: 1.7809066, 85: 1.8025012, 75: 1.8953367, 50: 2.5781739, 25: 5.0466566, 15: 6.225713, 10: 6.6933393, 5: 7.0350523, 1: 7.122414, 0: 7.0810423}, 'AUC_acc': 0.9300832177531209, 'AUC_auroc': 0.7068431902371628, 'AUC_preds': array([[0.94117963, 0.05882043],\n",
      "       [0.9465188 , 0.05348121],\n",
      "       [0.9438275 , 0.05617249],\n",
      "       ...,\n",
      "       [0.963143  , 0.03685695],\n",
      "       [0.7778572 , 0.22214277],\n",
      "       [0.955334  , 0.04466602]], dtype=float32), 'AUC_log_likelihood': -0.22661704871222907, 'AUC_log_odds': 3.551968465447426}, 'retro_in': {'acc': {100: 0.970873786407767, 99: 0.9704114655570967, 95: 0.9713361072584373, 90: 0.970873786407767, 85: 0.9717984281091078, 75: 0.9713361072584373, 50: 0.9731853906611189, 25: 0.9704114655570967, 15: 0.9630143319463708, 10: 0.9639389736477115, 5: 0.9588534442903375, 1: 0.9500693481276006, 0: 0.9232547387887193}, 'auroc': {100: 0.9897165024645402, 99: 0.9896622041495978, 95: 0.9897074527453831, 90: 0.9899879940392516, 85: 0.9899336957243093, 75: 0.9899457620165188, 50: 0.9898190659483201, 25: 0.9834721962461765, 15: 0.9767512714855415, 10: 0.9716592961731754, 5: 0.9657106141139419, 1: 0.9590711368257205, 0: 0.4805325458066618}, 'preds': {100: array([[9.9999797e-01, 1.9824442e-06],\n",
      "       [1.0000000e+00, 1.5539488e-12],\n",
      "       [9.9999928e-01, 7.4386094e-07],\n",
      "       ...,\n",
      "       [9.9990880e-01, 9.1238806e-05],\n",
      "       [1.7494811e-01, 8.2505190e-01],\n",
      "       [9.9978656e-01, 2.1347415e-04]], dtype=float32), 99: array([[9.9999797e-01, 2.0225743e-06],\n",
      "       [1.0000000e+00, 1.2877554e-12],\n",
      "       [9.9999928e-01, 7.5131766e-07],\n",
      "       ...,\n",
      "       [9.9991000e-01, 9.0031594e-05],\n",
      "       [1.7505595e-01, 8.2494402e-01],\n",
      "       [9.9976653e-01, 2.3345571e-04]], dtype=float32), 95: array([[9.9999785e-01, 2.1129426e-06],\n",
      "       [1.0000000e+00, 1.1705705e-12],\n",
      "       [9.9999952e-01, 4.5716462e-07],\n",
      "       ...,\n",
      "       [9.9990177e-01, 9.8228207e-05],\n",
      "       [1.9557346e-01, 8.0442649e-01],\n",
      "       [9.9974924e-01, 2.5075296e-04]], dtype=float32), 90: array([[9.9999774e-01, 2.2889560e-06],\n",
      "       [1.0000000e+00, 1.0107515e-12],\n",
      "       [9.9999964e-01, 3.6635103e-07],\n",
      "       ...,\n",
      "       [9.9989593e-01, 1.0402578e-04],\n",
      "       [1.8979929e-01, 8.1020075e-01],\n",
      "       [9.9971229e-01, 2.8766418e-04]], dtype=float32), 85: array([[9.99997973e-01, 2.07191306e-06],\n",
      "       [1.00000000e+00, 9.16533451e-13],\n",
      "       [9.99999642e-01, 3.17866608e-07],\n",
      "       ...,\n",
      "       [9.99891877e-01, 1.08156564e-04],\n",
      "       [2.04103440e-01, 7.95896530e-01],\n",
      "       [9.99749243e-01, 2.50796758e-04]], dtype=float32), 75: array([[9.9999797e-01, 2.0181542e-06],\n",
      "       [1.0000000e+00, 7.0870024e-13],\n",
      "       [9.9999976e-01, 2.7676953e-07],\n",
      "       ...,\n",
      "       [9.9986863e-01, 1.3139765e-04],\n",
      "       [2.4036141e-01, 7.5963861e-01],\n",
      "       [9.9969518e-01, 3.0484804e-04]], dtype=float32), 50: array([[9.9999714e-01, 2.9200471e-06],\n",
      "       [1.0000000e+00, 3.5136130e-12],\n",
      "       [9.9999654e-01, 3.4763943e-06],\n",
      "       ...,\n",
      "       [9.9979621e-01, 2.0379739e-04],\n",
      "       [1.9878469e-01, 8.0121529e-01],\n",
      "       [9.9978513e-01, 2.1489532e-04]], dtype=float32), 25: array([[9.99989271e-01, 1.06949492e-05],\n",
      "       [9.99570549e-01, 4.29463835e-04],\n",
      "       [9.95623529e-01, 4.37649805e-03],\n",
      "       ...,\n",
      "       [9.99048889e-01, 9.51112772e-04],\n",
      "       [2.70817310e-01, 7.29182661e-01],\n",
      "       [9.99897122e-01, 1.02862316e-04]], dtype=float32), 15: array([[9.9998963e-01, 1.0330494e-05],\n",
      "       [9.9961048e-01, 3.8956138e-04],\n",
      "       [8.9328498e-01, 1.0671500e-01],\n",
      "       ...,\n",
      "       [9.9804139e-01, 1.9586347e-03],\n",
      "       [3.0662605e-01, 6.9337398e-01],\n",
      "       [9.9945766e-01, 5.4229080e-04]], dtype=float32), 10: array([[9.9996841e-01, 3.1632680e-05],\n",
      "       [9.9969077e-01, 3.0922354e-04],\n",
      "       [8.9280772e-01, 1.0719231e-01],\n",
      "       ...,\n",
      "       [9.9842536e-01, 1.5746092e-03],\n",
      "       [3.7224230e-01, 6.2775767e-01],\n",
      "       [9.9949086e-01, 5.0915789e-04]], dtype=float32), 5: array([[9.95385468e-01, 4.61448403e-03],\n",
      "       [9.89324868e-01, 1.06752105e-02],\n",
      "       [8.92926395e-01, 1.07073627e-01],\n",
      "       ...,\n",
      "       [9.99084592e-01, 9.15379962e-04],\n",
      "       [5.14031768e-01, 4.85968202e-01],\n",
      "       [9.99484658e-01, 5.15298627e-04]], dtype=float32), 1: array([[0.90080744, 0.09919254],\n",
      "       [0.98737013, 0.01262986],\n",
      "       [0.89958686, 0.10041308],\n",
      "       ...,\n",
      "       [0.98347694, 0.01652306],\n",
      "       [0.6733753 , 0.32662466],\n",
      "       [0.9930091 , 0.0069909 ]], dtype=float32), 0: array([[0.90076786, 0.09923208],\n",
      "       [0.90076786, 0.09923208],\n",
      "       [0.90076786, 0.09923208],\n",
      "       ...,\n",
      "       [0.90076786, 0.09923208],\n",
      "       [0.90076786, 0.09923208],\n",
      "       [0.90076786, 0.09923208]], dtype=float32)}, 'log_likelihood': {100: -0.06440445052612372, 99: -0.06468772508082823, 95: -0.06469130114258059, 90: -0.06427991896262814, 85: -0.06429534731651394, 75: -0.06416471320330065, 50: -0.06556992421028257, 25: -0.07500745143319688, 15: -0.08974569472441732, 10: -0.10012332428647706, 5: -0.11098556036990787, 1: -0.14413951888720192, 0: -0.2737912706689762}, 'log_odds': {100: 7.081043, 99: 7.08465, 95: 7.0879345, 90: 7.080331, 85: 7.070799, 75: 7.0918612, 50: 7.2097, 25: 6.879213, 15: 6.289151, 10: 5.8604636, 5: 5.0703144, 1: 3.3418076, 0: 1.8672186}, 'AUC_acc': 0.9692949607027276, 'AUC_auroc': 0.9824500380088206, 'AUC_preds': array([[9.9681067e-01, 3.1893624e-03],\n",
      "       [9.9858785e-01, 1.4121258e-03],\n",
      "       [9.7804511e-01, 2.1954931e-02],\n",
      "       ...,\n",
      "       [9.9856317e-01, 1.4368860e-03],\n",
      "       [2.6408082e-01, 7.3591912e-01],\n",
      "       [9.9906319e-01, 9.3670486e-04]], dtype=float32), 'AUC_log_likelihood': -0.07533796865272105, 'AUC_log_odds': 6.74892292201519}, 'pro_ex': {'acc': {100: 0.9232547387887193, 99: 0.9232547387887193, 95: 0.9195561719833565, 90: 0.919093851132686, 85: 0.917706888580675, 75: 0.9204808136846971, 50: 0.9232547387887193, 25: 0.9288025889967637, 15: 0.9445214979195562, 10: 0.960702727693019, 5: 0.9727230698104484, 1: 0.9713361072584373, 0: 0.970873786407767}, 'auroc': {100: 0.48324896984030263, 99: 0.4249092011511243, 95: 0.4566111215015294, 90: 0.43456223491864304, 85: 0.4812633106285934, 75: 0.5244078467098237, 50: 0.6631513535363285, 25: 0.9240306242496275, 15: 0.9685280933448366, 10: 0.9822896996096554, 5: 0.9890649226852326, 1: 0.9897074527453831, 0: 0.9897165024645402}, 'preds': {100: array([[0.90076786, 0.09923208],\n",
      "       [0.90076786, 0.09923208],\n",
      "       [0.90076786, 0.09923208],\n",
      "       ...,\n",
      "       [0.90076786, 0.09923208],\n",
      "       [0.90076786, 0.09923208],\n",
      "       [0.90076786, 0.09923208]], dtype=float32), 99: array([[0.90024287, 0.09975714],\n",
      "       [0.9002466 , 0.09975336],\n",
      "       [0.90030277, 0.09969725],\n",
      "       ...,\n",
      "       [0.90074295, 0.0992571 ],\n",
      "       [0.9017058 , 0.09829414],\n",
      "       [0.89970475, 0.10029525]], dtype=float32), 95: array([[0.9002226 , 0.0997774 ],\n",
      "       [0.9005141 , 0.09948591],\n",
      "       [0.9015303 , 0.09846963],\n",
      "       ...,\n",
      "       [0.89658815, 0.10341185],\n",
      "       [0.9641187 , 0.0358813 ],\n",
      "       [0.8995916 , 0.10040839]], dtype=float32), 90: array([[0.8988697 , 0.10113031],\n",
      "       [0.9003857 , 0.09961428],\n",
      "       [0.9037658 , 0.09623414],\n",
      "       ...,\n",
      "       [0.89377695, 0.10622308],\n",
      "       [0.99352455, 0.00647547],\n",
      "       [0.9026608 , 0.09733923]], dtype=float32), 85: array([[0.90054065, 0.09945932],\n",
      "       [0.90055907, 0.0994409 ],\n",
      "       [0.90428734, 0.09571262],\n",
      "       ...,\n",
      "       [0.8939349 , 0.10606509],\n",
      "       [0.995327  , 0.00467301],\n",
      "       [0.9206036 , 0.0793964 ]], dtype=float32), 75: array([[0.90179044, 0.09820955],\n",
      "       [0.93345726, 0.06654274],\n",
      "       [0.89641744, 0.10358252],\n",
      "       ...,\n",
      "       [0.9235888 , 0.07641122],\n",
      "       [0.99530506, 0.00469502],\n",
      "       [0.92334074, 0.07665926]], dtype=float32), 50: array([[0.9139512 , 0.08604883],\n",
      "       [0.9124746 , 0.0875254 ],\n",
      "       [0.9254606 , 0.07453945],\n",
      "       ...,\n",
      "       [0.99027526, 0.00972473],\n",
      "       [0.93440837, 0.06559166],\n",
      "       [0.9523235 , 0.04767656]], dtype=float32), 25: array([[9.9930656e-01, 6.9339294e-04],\n",
      "       [9.9973184e-01, 2.6818097e-04],\n",
      "       [9.9999630e-01, 3.7376160e-06],\n",
      "       ...,\n",
      "       [9.9925607e-01, 7.4391550e-04],\n",
      "       [6.5803683e-01, 3.4196317e-01],\n",
      "       [9.9555850e-01, 4.4414797e-03]], dtype=float32), 15: array([[9.9995112e-01, 4.8887799e-05],\n",
      "       [9.9996936e-01, 3.0689844e-05],\n",
      "       [9.9999928e-01, 7.5574286e-07],\n",
      "       ...,\n",
      "       [9.9981958e-01, 1.8039606e-04],\n",
      "       [3.3664533e-01, 6.6335469e-01],\n",
      "       [9.9776232e-01, 2.2376922e-03]], dtype=float32), 10: array([[9.9999237e-01, 7.5911717e-06],\n",
      "       [1.0000000e+00, 7.6947773e-09],\n",
      "       [9.9999928e-01, 7.4914254e-07],\n",
      "       ...,\n",
      "       [9.9986279e-01, 1.3715125e-04],\n",
      "       [3.4954005e-01, 6.5045989e-01],\n",
      "       [9.9963057e-01, 3.6945031e-04]], dtype=float32), 5: array([[9.9999821e-01, 1.8235014e-06],\n",
      "       [1.0000000e+00, 1.9270738e-10],\n",
      "       [9.9999928e-01, 7.6248864e-07],\n",
      "       ...,\n",
      "       [9.9995530e-01, 4.4732020e-05],\n",
      "       [2.5583425e-01, 7.4416572e-01],\n",
      "       [9.9959022e-01, 4.0981197e-04]], dtype=float32), 1: array([[9.9999845e-01, 1.5920768e-06],\n",
      "       [1.0000000e+00, 1.0900543e-11],\n",
      "       [9.9999928e-01, 7.4858980e-07],\n",
      "       ...,\n",
      "       [9.9985564e-01, 1.4435468e-04],\n",
      "       [2.0200250e-01, 7.9799747e-01],\n",
      "       [9.9980682e-01, 1.9324118e-04]], dtype=float32), 0: array([[9.9999797e-01, 1.9824442e-06],\n",
      "       [1.0000000e+00, 1.5539488e-12],\n",
      "       [9.9999928e-01, 7.4386162e-07],\n",
      "       ...,\n",
      "       [9.9990880e-01, 9.1238806e-05],\n",
      "       [1.7494811e-01, 8.2505190e-01],\n",
      "       [9.9978656e-01, 2.1347396e-04]], dtype=float32)}, 'log_likelihood': {100: -0.2737912687124668, 99: -0.2752546197308509, 95: -0.2845860521378615, 90: -0.29182831274532384, 85: -0.29233171919503276, 75: -0.29189338542104853, 50: -0.26953254942666616, 25: -0.17903837141952988, 15: -0.1297832562495575, 10: -0.09133115829108013, 5: -0.06737428129506677, 1: -0.0637479271984042, 0: -0.06440445055257685}, 'log_odds': {100: 1.8672187, 99: 1.852661, 95: 1.8011618, 90: 1.7809064, 85: 1.8025012, 75: 1.8953367, 50: 2.578174, 25: 5.046657, 15: 6.225713, 10: 6.6933393, 5: 7.0350523, 1: 7.122414, 0: 7.081043}, 'AUC_acc': 0.9300832177531209, 'AUC_auroc': 0.7066271885237494, 'AUC_preds': array([[0.94117963, 0.05882042],\n",
      "       [0.9465188 , 0.05348121],\n",
      "       [0.9438275 , 0.05617249],\n",
      "       ...,\n",
      "       [0.963143  , 0.03685695],\n",
      "       [0.7778572 , 0.22214277],\n",
      "       [0.955334  , 0.04466602]], dtype=float32), 'AUC_log_likelihood': -0.2266170487879706, 'AUC_log_odds': 3.5519686055183413}, 'pro_in': {'acc': {100: 0.970873786407767, 99: 0.9704114655570967, 95: 0.9713361072584373, 90: 0.970873786407767, 85: 0.9717984281091078, 75: 0.9713361072584373, 50: 0.9731853906611189, 25: 0.9704114655570967, 15: 0.9630143319463708, 10: 0.9639389736477115, 5: 0.9588534442903375, 1: 0.9500693481276006, 0: 0.9232547387887193}, 'auroc': {100: 0.9897165024645402, 99: 0.9896622041495978, 95: 0.9897074527453831, 90: 0.9899879940392516, 85: 0.9899336957243093, 75: 0.9899457620165188, 50: 0.9898190659483201, 25: 0.9834721962461765, 15: 0.9767512714855415, 10: 0.9716592961731754, 5: 0.9657106141139419, 1: 0.9590711368257205, 0: 0.49361240656164973}, 'preds': {100: array([[9.9999797e-01, 1.9824442e-06],\n",
      "       [1.0000000e+00, 1.5539488e-12],\n",
      "       [9.9999928e-01, 7.4386162e-07],\n",
      "       ...,\n",
      "       [9.9990880e-01, 9.1238806e-05],\n",
      "       [1.7494811e-01, 8.2505190e-01],\n",
      "       [9.9978656e-01, 2.1347396e-04]], dtype=float32), 99: array([[9.9999797e-01, 2.0225725e-06],\n",
      "       [1.0000000e+00, 1.2877554e-12],\n",
      "       [9.9999928e-01, 7.5131766e-07],\n",
      "       ...,\n",
      "       [9.9991000e-01, 9.0031594e-05],\n",
      "       [1.7505595e-01, 8.2494402e-01],\n",
      "       [9.9976653e-01, 2.3345571e-04]], dtype=float32), 95: array([[9.9999785e-01, 2.1129426e-06],\n",
      "       [1.0000000e+00, 1.1705705e-12],\n",
      "       [9.9999952e-01, 4.5716462e-07],\n",
      "       ...,\n",
      "       [9.9990177e-01, 9.8228113e-05],\n",
      "       [1.9557349e-01, 8.0442649e-01],\n",
      "       [9.9974924e-01, 2.5075296e-04]], dtype=float32), 90: array([[9.9999774e-01, 2.2889581e-06],\n",
      "       [1.0000000e+00, 1.0107515e-12],\n",
      "       [9.9999964e-01, 3.6635103e-07],\n",
      "       ...,\n",
      "       [9.9989593e-01, 1.0402578e-04],\n",
      "       [1.8979929e-01, 8.1020069e-01],\n",
      "       [9.9971229e-01, 2.8766418e-04]], dtype=float32), 85: array([[9.99997973e-01, 2.07191306e-06],\n",
      "       [1.00000000e+00, 9.16531716e-13],\n",
      "       [9.99999642e-01, 3.17866608e-07],\n",
      "       ...,\n",
      "       [9.99891877e-01, 1.08156564e-04],\n",
      "       [2.04103440e-01, 7.95896530e-01],\n",
      "       [9.99749243e-01, 2.50796758e-04]], dtype=float32), 75: array([[9.9999797e-01, 2.0181542e-06],\n",
      "       [1.0000000e+00, 7.0870165e-13],\n",
      "       [9.9999976e-01, 2.7676953e-07],\n",
      "       ...,\n",
      "       [9.9986863e-01, 1.3139765e-04],\n",
      "       [2.4036142e-01, 7.5963855e-01],\n",
      "       [9.9969518e-01, 3.0484804e-04]], dtype=float32), 50: array([[9.9999714e-01, 2.9200471e-06],\n",
      "       [1.0000000e+00, 3.5136130e-12],\n",
      "       [9.9999654e-01, 3.4763943e-06],\n",
      "       ...,\n",
      "       [9.9979621e-01, 2.0379739e-04],\n",
      "       [1.9878469e-01, 8.0121529e-01],\n",
      "       [9.9978513e-01, 2.1489532e-04]], dtype=float32), 25: array([[9.99989271e-01, 1.06949492e-05],\n",
      "       [9.99570549e-01, 4.29464038e-04],\n",
      "       [9.95623529e-01, 4.37649805e-03],\n",
      "       ...,\n",
      "       [9.99048889e-01, 9.51112772e-04],\n",
      "       [2.70817280e-01, 7.29182661e-01],\n",
      "       [9.99897122e-01, 1.02862316e-04]], dtype=float32), 15: array([[9.9998963e-01, 1.0330494e-05],\n",
      "       [9.9961048e-01, 3.8956138e-04],\n",
      "       [8.9328498e-01, 1.0671500e-01],\n",
      "       ...,\n",
      "       [9.9804139e-01, 1.9586347e-03],\n",
      "       [3.0662605e-01, 6.9337398e-01],\n",
      "       [9.9945766e-01, 5.4229057e-04]], dtype=float32), 10: array([[9.9996841e-01, 3.1632651e-05],\n",
      "       [9.9969077e-01, 3.0922354e-04],\n",
      "       [8.9280772e-01, 1.0719231e-01],\n",
      "       ...,\n",
      "       [9.9842536e-01, 1.5746092e-03],\n",
      "       [3.7224230e-01, 6.2775767e-01],\n",
      "       [9.9949086e-01, 5.0915789e-04]], dtype=float32), 5: array([[9.95385468e-01, 4.61448403e-03],\n",
      "       [9.89324868e-01, 1.06752105e-02],\n",
      "       [8.92926395e-01, 1.07073627e-01],\n",
      "       ...,\n",
      "       [9.99084592e-01, 9.15380369e-04],\n",
      "       [5.14031768e-01, 4.85968202e-01],\n",
      "       [9.99484658e-01, 5.15298627e-04]], dtype=float32), 1: array([[0.90080744, 0.09919254],\n",
      "       [0.98737013, 0.01262986],\n",
      "       [0.89958686, 0.10041308],\n",
      "       ...,\n",
      "       [0.98347694, 0.01652306],\n",
      "       [0.6733753 , 0.32662466],\n",
      "       [0.9930091 , 0.0069909 ]], dtype=float32), 0: array([[0.90076786, 0.09923208],\n",
      "       [0.90076786, 0.09923208],\n",
      "       [0.90076786, 0.09923208],\n",
      "       ...,\n",
      "       [0.90076786, 0.09923208],\n",
      "       [0.90076786, 0.09923208],\n",
      "       [0.90076786, 0.09923208]], dtype=float32)}, 'log_likelihood': {100: -0.06440445051923459, 99: -0.06468772512192074, 95: -0.06469130141556187, 90: -0.0642799184920153, 85: -0.06429534730338156, 75: -0.0641647135354853, 50: -0.0655699241762541, 25: -0.07500745024421862, 15: -0.08974569541790388, 10: -0.10012332454175789, 5: -0.11098556013443998, 1: -0.14413951858257376, 0: -0.27379127188146085}, 'log_odds': {100: 7.081043, 99: 7.08465, 95: 7.0879345, 90: 7.080331, 85: 7.070799, 75: 7.0918612, 50: 7.2096996, 25: 6.879213, 15: 6.289151, 10: 5.860464, 5: 5.0703144, 1: 3.3418076, 0: 1.8672185}, 'AUC_acc': 0.9692949607027276, 'AUC_auroc': 0.9825154373125955, 'AUC_preds': array([[9.9681067e-01, 3.1893624e-03],\n",
      "       [9.9858785e-01, 1.4121258e-03],\n",
      "       [9.7804511e-01, 2.1954931e-02],\n",
      "       ...,\n",
      "       [9.9856317e-01, 1.4368861e-03],\n",
      "       [2.6408082e-01, 7.3591912e-01],\n",
      "       [9.9906319e-01, 9.3670486e-04]], dtype=float32), 'AUC_log_likelihood': -0.0753379685356627, 'AUC_log_odds': 6.748922826051712}}, 'kernelshap_s-dkl': {'retro_ex': {'acc': {100: 0.9232547387887193, 99: 0.9158576051779935, 95: 0.8862690707350902, 90: 0.8793342579750347, 85: 0.8765603328710125, 75: 0.8733240869163199, 50: 0.9001386962552012, 25: 0.9361997226074896, 15: 0.9477577438742487, 10: 0.957004160887656, 5: 0.9676375404530745, 1: 0.9722607489597781, 0: 0.970873786407767}, 'auroc': {100: 0.5048868483448063, 99: 0.40628186255286547, 95: 0.43236541559326946, 90: 0.4382665866269283, 85: 0.44603350809346554, 75: 0.5142683905376136, 50: 0.69336233265561, 25: 0.8750444944525222, 15: 0.9318495816013176, 10: 0.9562898564714541, 5: 0.9839186490579241, 1: 0.9894510440359334, 0: 0.9897165024645402}, 'preds': {100: array([[0.90076786, 0.09923208],\n",
      "       [0.90076786, 0.09923208],\n",
      "       [0.90076786, 0.09923208],\n",
      "       ...,\n",
      "       [0.90076786, 0.09923208],\n",
      "       [0.90076786, 0.09923208],\n",
      "       [0.90076786, 0.09923208]], dtype=float32), 99: array([[0.90024287, 0.09975714],\n",
      "       [0.9009428 , 0.09905723],\n",
      "       [0.8560493 , 0.14395072],\n",
      "       ...,\n",
      "       [0.90148604, 0.09851395],\n",
      "       [0.8852799 , 0.11472012],\n",
      "       [0.9008773 , 0.09912275]], dtype=float32), 95: array([[0.89104444, 0.10895553],\n",
      "       [0.9000975 , 0.09990247],\n",
      "       [0.8197459 , 0.18025415],\n",
      "       ...,\n",
      "       [0.89986897, 0.10013102],\n",
      "       [0.888986  , 0.11101396],\n",
      "       [0.90124375, 0.09875624]], dtype=float32), 90: array([[0.8780926 , 0.12190744],\n",
      "       [0.90049654, 0.0995035 ],\n",
      "       [0.7915183 , 0.20848176],\n",
      "       ...,\n",
      "       [0.8981439 , 0.10185616],\n",
      "       [0.8968803 , 0.10311967],\n",
      "       [0.89533925, 0.10466079]], dtype=float32), 85: array([[0.89220315, 0.10779691],\n",
      "       [0.8868292 , 0.11317074],\n",
      "       [0.791944  , 0.20805594],\n",
      "       ...,\n",
      "       [0.899907  , 0.10009298],\n",
      "       [0.85550743, 0.1444926 ],\n",
      "       [0.8964096 , 0.10359042]], dtype=float32), 75: array([[0.89550185, 0.10449816],\n",
      "       [0.84210664, 0.1578934 ],\n",
      "       [0.80926275, 0.19073728],\n",
      "       ...,\n",
      "       [0.9396357 , 0.06036429],\n",
      "       [0.82979095, 0.1702091 ],\n",
      "       [0.9015737 , 0.09842628]], dtype=float32), 50: array([[0.90567636, 0.0943237 ],\n",
      "       [0.97449815, 0.02550182],\n",
      "       [0.71673405, 0.283266  ],\n",
      "       ...,\n",
      "       [0.96515775, 0.03484225],\n",
      "       [0.9510132 , 0.04898681],\n",
      "       [0.909233  , 0.090767  ]], dtype=float32), 25: array([[9.2404836e-01, 7.5951606e-02],\n",
      "       [9.9616796e-01, 3.8319717e-03],\n",
      "       [6.4203727e-01, 3.5796273e-01],\n",
      "       ...,\n",
      "       [9.9978775e-01, 2.1221813e-04],\n",
      "       [4.3397784e-01, 5.6602216e-01],\n",
      "       [9.9901211e-01, 9.8785409e-04]], dtype=float32), 15: array([[9.9982846e-01, 1.7147030e-04],\n",
      "       [9.9981052e-01, 1.8951221e-04],\n",
      "       [9.9934942e-01, 6.5062119e-04],\n",
      "       ...,\n",
      "       [9.9984074e-01, 1.5923785e-04],\n",
      "       [1.6403200e-01, 8.3596802e-01],\n",
      "       [9.9973887e-01, 2.6115146e-04]], dtype=float32), 10: array([[9.9976450e-01, 2.3551410e-04],\n",
      "       [9.9981683e-01, 1.8320719e-04],\n",
      "       [9.9969041e-01, 3.0959526e-04],\n",
      "       ...,\n",
      "       [9.9992347e-01, 7.6568140e-05],\n",
      "       [1.4501317e-01, 8.5498691e-01],\n",
      "       [9.9979800e-01, 2.0202983e-04]], dtype=float32), 5: array([[9.9994421e-01, 5.5809727e-05],\n",
      "       [9.9999273e-01, 7.2407934e-06],\n",
      "       [9.9998677e-01, 1.3285216e-05],\n",
      "       ...,\n",
      "       [9.9990487e-01, 9.5096184e-05],\n",
      "       [1.6507159e-01, 8.3492839e-01],\n",
      "       [9.9977583e-01, 2.2413921e-04]], dtype=float32), 1: array([[9.9999893e-01, 1.0381427e-06],\n",
      "       [1.0000000e+00, 2.0388613e-10],\n",
      "       [9.9999785e-01, 2.1675103e-06],\n",
      "       ...,\n",
      "       [9.9990201e-01, 9.8002361e-05],\n",
      "       [1.9647267e-01, 8.0352730e-01],\n",
      "       [9.9978691e-01, 2.1312558e-04]], dtype=float32), 0: array([[9.9999797e-01, 1.9824442e-06],\n",
      "       [1.0000000e+00, 1.5539488e-12],\n",
      "       [9.9999928e-01, 7.4386162e-07],\n",
      "       ...,\n",
      "       [9.9990880e-01, 9.1238806e-05],\n",
      "       [1.7494811e-01, 8.2505190e-01],\n",
      "       [9.9978656e-01, 2.1347396e-04]], dtype=float32)}, 'log_likelihood': {100: -0.2737912709720974, 99: -0.3223659413090812, 95: -0.37921778551949564, 90: -0.3840424218163918, 85: -0.38770094448406145, 75: -0.38012756596242375, 50: -0.3058905060408226, 25: -0.1884105459175543, 15: -0.14543461276300057, 10: -0.12010730440698869, 5: -0.07710783546496393, 1: -0.06486793916267351, 0: -0.06440445032124646}, 'log_odds': {100: 1.8672186, 99: 1.7454239, 95: 1.6643863, 90: 1.6689171, 85: 1.7058655, 75: 1.8370882, 50: 2.5508955, 25: 4.0342774, 15: 4.993719, 10: 5.581059, 5: 6.5389585, 1: 7.030037, 0: 7.0810423}, 'AUC_acc': 0.9104415164123902, 'AUC_auroc': 0.6956385142472744, 'AUC_preds': array([[0.9227399 , 0.07726004],\n",
      "       [0.94436765, 0.05563227],\n",
      "       [0.79486144, 0.2051386 ],\n",
      "       ...,\n",
      "       [0.9606009 , 0.03939909],\n",
      "       [0.66732806, 0.3326721 ],\n",
      "       [0.9394439 , 0.06055598]], dtype=float32), 'AUC_log_likelihood': -0.27306592775646177, 'AUC_log_odds': 3.1634588444232943}, 'retro_in': {'acc': {100: 0.970873786407767, 99: 0.9713361072584373, 95: 0.9736477115117892, 90: 0.9731853906611189, 85: 0.9727230698104484, 75: 0.9722607489597781, 50: 0.9699491447064262, 25: 0.9722607489597781, 15: 0.9717984281091078, 10: 0.9731853906611189, 5: 0.9699491447064262, 1: 0.9477577438742487, 0: 0.9232547387887193}, 'auroc': {100: 0.9897165024645402, 99: 0.9898492316788436, 95: 0.9897074527453831, 90: 0.9895053423508757, 85: 0.9894570771820381, 75: 0.9887421493686313, 50: 0.9868251171938631, 25: 0.9841267925985364, 15: 0.984865852996362, 10: 0.9812912139293277, 5: 0.973865165217706, 1: 0.9597287497511326, 0: 0.49332432383515035}, 'preds': {100: array([[9.9999797e-01, 1.9824442e-06],\n",
      "       [1.0000000e+00, 1.5539488e-12],\n",
      "       [9.9999928e-01, 7.4386094e-07],\n",
      "       ...,\n",
      "       [9.9990880e-01, 9.1238806e-05],\n",
      "       [1.7494811e-01, 8.2505190e-01],\n",
      "       [9.9978656e-01, 2.1347396e-04]], dtype=float32), 99: array([[9.9999797e-01, 2.0225743e-06],\n",
      "       [1.0000000e+00, 1.1440695e-12],\n",
      "       [9.9999928e-01, 7.0091164e-07],\n",
      "       ...,\n",
      "       [9.9990392e-01, 9.6132484e-05],\n",
      "       [1.5245534e-01, 8.4754467e-01],\n",
      "       [9.9979538e-01, 2.0468424e-04]], dtype=float32), 95: array([[9.9999809e-01, 1.9545112e-06],\n",
      "       [1.0000000e+00, 9.6148664e-13],\n",
      "       [9.9999917e-01, 7.8425796e-07],\n",
      "       ...,\n",
      "       [9.9991226e-01, 8.7711516e-05],\n",
      "       [1.6176914e-01, 8.3823085e-01],\n",
      "       [9.9978918e-01, 2.1079197e-04]], dtype=float32), 90: array([[9.9999928e-01, 7.2056702e-07],\n",
      "       [1.0000000e+00, 7.0100636e-13],\n",
      "       [9.9999940e-01, 5.6795517e-07],\n",
      "       ...,\n",
      "       [9.9991179e-01, 8.8256536e-05],\n",
      "       [1.7852059e-01, 8.2147944e-01],\n",
      "       [9.9978489e-01, 2.1513028e-04]], dtype=float32), 85: array([[9.9999881e-01, 1.1543056e-06],\n",
      "       [1.0000000e+00, 1.0261224e-12],\n",
      "       [9.9999940e-01, 5.4605027e-07],\n",
      "       ...,\n",
      "       [9.9991429e-01, 8.5644642e-05],\n",
      "       [1.7803720e-01, 8.2196283e-01],\n",
      "       [9.9980348e-01, 1.9651627e-04]], dtype=float32), 75: array([[9.9999869e-01, 1.3560555e-06],\n",
      "       [1.0000000e+00, 1.6991499e-12],\n",
      "       [9.9999952e-01, 4.5630173e-07],\n",
      "       ...,\n",
      "       [9.9993646e-01, 6.3539817e-05],\n",
      "       [1.7930733e-01, 8.2069272e-01],\n",
      "       [9.9984694e-01, 1.5302155e-04]], dtype=float32), 50: array([[9.9999845e-01, 1.5097305e-06],\n",
      "       [9.9999976e-01, 2.0103501e-07],\n",
      "       [9.9999976e-01, 2.3535698e-07],\n",
      "       ...,\n",
      "       [9.9990165e-01, 9.8359807e-05],\n",
      "       [3.0163330e-01, 6.9836676e-01],\n",
      "       [9.9986303e-01, 1.3693982e-04]], dtype=float32), 25: array([[9.99997735e-01, 2.30556907e-06],\n",
      "       [9.99984384e-01, 1.56199785e-05],\n",
      "       [9.99998331e-01, 1.60986997e-06],\n",
      "       ...,\n",
      "       [9.99895930e-01, 1.04032224e-04],\n",
      "       [3.74501318e-01, 6.25498712e-01],\n",
      "       [9.99641299e-01, 3.58715915e-04]], dtype=float32), 15: array([[9.9999380e-01, 6.2302979e-06],\n",
      "       [9.9911839e-01, 8.8160066e-04],\n",
      "       [9.9991584e-01, 8.4213956e-05],\n",
      "       ...,\n",
      "       [9.9990582e-01, 9.4190793e-05],\n",
      "       [5.5982494e-01, 4.4017512e-01],\n",
      "       [9.9971956e-01, 2.8036808e-04]], dtype=float32), 10: array([[9.9995339e-01, 4.6594036e-05],\n",
      "       [9.9883038e-01, 1.1695859e-03],\n",
      "       [9.9937648e-01, 6.2351307e-04],\n",
      "       ...,\n",
      "       [9.9969625e-01, 3.0377918e-04],\n",
      "       [5.6157535e-01, 4.3842471e-01],\n",
      "       [9.9979252e-01, 2.0749298e-04]], dtype=float32), 5: array([[9.9998033e-01, 1.9669586e-05],\n",
      "       [9.9642205e-01, 3.5779218e-03],\n",
      "       [9.9966955e-01, 3.3039984e-04],\n",
      "       ...,\n",
      "       [9.9896491e-01, 1.0351500e-03],\n",
      "       [6.1718619e-01, 3.8281378e-01],\n",
      "       [9.9945921e-01, 5.4080458e-04]], dtype=float32), 1: array([[9.9985909e-01, 1.4091656e-04],\n",
      "       [9.9679428e-01, 3.2056861e-03],\n",
      "       [9.3565571e-01, 6.4344354e-02],\n",
      "       ...,\n",
      "       [9.9104440e-01, 8.9555718e-03],\n",
      "       [7.1948820e-01, 2.8051177e-01],\n",
      "       [9.5121831e-01, 4.8781727e-02]], dtype=float32), 0: array([[0.90076786, 0.09923208],\n",
      "       [0.90076786, 0.09923208],\n",
      "       [0.90076786, 0.09923208],\n",
      "       ...,\n",
      "       [0.90076786, 0.09923208],\n",
      "       [0.90076786, 0.09923208],\n",
      "       [0.90076786, 0.09923208]], dtype=float32)}, 'log_likelihood': {100: -0.06440445051080484, 99: -0.0644366566102055, 95: -0.06474708382407092, 90: -0.0652238772994118, 85: -0.06571004232965716, 75: -0.06738993806672851, 50: -0.07169692213956629, 25: -0.07432321989559695, 15: -0.07344942508807498, 10: -0.07581726826663802, 5: -0.08382405233899681, 1: -0.12311419925564254, 0: -0.27379127025562916}, 'log_odds': {100: 7.0810423, 99: 7.1170664, 95: 7.206893, 90: 7.274626, 85: 7.3178945, 75: 7.35766, 50: 7.374073, 25: 7.101272, 15: 6.7409587, 10: 6.5076094, 5: 6.2951593, 1: 4.9748683, 0: 1.8672186}, 'AUC_acc': 0.9708460471567267, 'AUC_auroc': 0.9830878131956972, 'AUC_preds': array([[9.9949539e-01, 5.0465466e-04],\n",
      "       [9.9913538e-01, 8.6469221e-04],\n",
      "       [9.9784231e-01, 2.1576753e-03],\n",
      "       ...,\n",
      "       [9.9913955e-01, 8.6044247e-04],\n",
      "       [3.2689944e-01, 6.7310059e-01],\n",
      "       [9.9806356e-01, 1.9363964e-03]], dtype=float32), 'AUC_log_likelihood': -0.07327850164074735, 'AUC_log_odds': 7.071989112496376}, 'pro_ex': {'acc': {100: 0.9232547387887193, 99: 0.9158576051779935, 95: 0.8862690707350902, 90: 0.8793342579750347, 85: 0.8765603328710125, 75: 0.8733240869163199, 50: 0.9001386962552012, 25: 0.9361997226074896, 15: 0.9477577438742487, 10: 0.957004160887656, 5: 0.9676375404530745, 1: 0.9722607489597781, 0: 0.970873786407767}, 'auroc': {100: 0.5069124771494591, 99: 0.40628261669612853, 95: 0.43236541559326946, 90: 0.43826583248366524, 85: 0.44603350809346554, 75: 0.5142683905376136, 50: 0.69336233265561, 25: 0.8750444944525222, 15: 0.9318495816013176, 10: 0.9562898564714541, 5: 0.9839186490579241, 1: 0.9894510440359334, 0: 0.9897165024645402}, 'preds': {100: array([[0.90076786, 0.09923208],\n",
      "       [0.90076786, 0.09923208],\n",
      "       [0.90076786, 0.09923208],\n",
      "       ...,\n",
      "       [0.90076786, 0.09923208],\n",
      "       [0.90076786, 0.09923208],\n",
      "       [0.90076786, 0.09923208]], dtype=float32), 99: array([[0.90024287, 0.09975714],\n",
      "       [0.9009428 , 0.09905723],\n",
      "       [0.8560493 , 0.14395069],\n",
      "       ...,\n",
      "       [0.90148604, 0.09851396],\n",
      "       [0.8852799 , 0.11472012],\n",
      "       [0.9008772 , 0.09912277]], dtype=float32), 95: array([[0.89104444, 0.10895555],\n",
      "       [0.9000975 , 0.09990247],\n",
      "       [0.8197459 , 0.18025415],\n",
      "       ...,\n",
      "       [0.89986897, 0.10013102],\n",
      "       [0.888986  , 0.11101399],\n",
      "       [0.90124375, 0.09875624]], dtype=float32), 90: array([[0.8780926 , 0.12190744],\n",
      "       [0.90049654, 0.0995035 ],\n",
      "       [0.7915183 , 0.20848176],\n",
      "       ...,\n",
      "       [0.8981439 , 0.10185614],\n",
      "       [0.8968803 , 0.10311969],\n",
      "       [0.89533925, 0.10466079]], dtype=float32), 85: array([[0.89220315, 0.10779691],\n",
      "       [0.8868292 , 0.11317074],\n",
      "       [0.791944  , 0.20805594],\n",
      "       ...,\n",
      "       [0.899907  , 0.10009298],\n",
      "       [0.85550743, 0.1444926 ],\n",
      "       [0.8964096 , 0.1035904 ]], dtype=float32), 75: array([[0.89550185, 0.10449816],\n",
      "       [0.84210664, 0.1578934 ],\n",
      "       [0.80926275, 0.19073728],\n",
      "       ...,\n",
      "       [0.9396357 , 0.06036429],\n",
      "       [0.82979095, 0.1702091 ],\n",
      "       [0.9015737 , 0.09842628]], dtype=float32), 50: array([[0.90567625, 0.09432371],\n",
      "       [0.97449815, 0.02550182],\n",
      "       [0.71673405, 0.283266  ],\n",
      "       ...,\n",
      "       [0.96515775, 0.03484226],\n",
      "       [0.9510132 , 0.04898681],\n",
      "       [0.909233  , 0.090767  ]], dtype=float32), 25: array([[9.2404836e-01, 7.5951606e-02],\n",
      "       [9.9616796e-01, 3.8319717e-03],\n",
      "       [6.4203727e-01, 3.5796273e-01],\n",
      "       ...,\n",
      "       [9.9978775e-01, 2.1221794e-04],\n",
      "       [4.3397787e-01, 5.6602216e-01],\n",
      "       [9.9901211e-01, 9.8785490e-04]], dtype=float32), 15: array([[9.9982846e-01, 1.7147030e-04],\n",
      "       [9.9981052e-01, 1.8951221e-04],\n",
      "       [9.9934942e-01, 6.5062119e-04],\n",
      "       ...,\n",
      "       [9.9984074e-01, 1.5923785e-04],\n",
      "       [1.6403201e-01, 8.3596802e-01],\n",
      "       [9.9973887e-01, 2.6115146e-04]], dtype=float32), 10: array([[9.9976450e-01, 2.3551390e-04],\n",
      "       [9.9981683e-01, 1.8320719e-04],\n",
      "       [9.9969041e-01, 3.0959526e-04],\n",
      "       ...,\n",
      "       [9.9992347e-01, 7.6568140e-05],\n",
      "       [1.4501317e-01, 8.5498691e-01],\n",
      "       [9.9979800e-01, 2.0202964e-04]], dtype=float32), 5: array([[9.9994421e-01, 5.5809727e-05],\n",
      "       [9.9999273e-01, 7.2408002e-06],\n",
      "       [9.9998677e-01, 1.3285216e-05],\n",
      "       ...,\n",
      "       [9.9990487e-01, 9.5096184e-05],\n",
      "       [1.6507159e-01, 8.3492839e-01],\n",
      "       [9.9977583e-01, 2.2413921e-04]], dtype=float32), 1: array([[9.9999893e-01, 1.0381427e-06],\n",
      "       [1.0000000e+00, 2.0388653e-10],\n",
      "       [9.9999785e-01, 2.1675103e-06],\n",
      "       ...,\n",
      "       [9.9990201e-01, 9.8002536e-05],\n",
      "       [1.9647266e-01, 8.0352730e-01],\n",
      "       [9.9978691e-01, 2.1312578e-04]], dtype=float32), 0: array([[9.9999797e-01, 1.9824442e-06],\n",
      "       [1.0000000e+00, 1.5539488e-12],\n",
      "       [9.9999928e-01, 7.4386162e-07],\n",
      "       ...,\n",
      "       [9.9990880e-01, 9.1238806e-05],\n",
      "       [1.7494811e-01, 8.2505190e-01],\n",
      "       [9.9978656e-01, 2.1347396e-04]], dtype=float32)}, 'log_likelihood': {100: -0.2737912717436785, 99: -0.322365943655041, 95: -0.3792177865339182, 90: -0.3840424227567564, 85: -0.38770094400548305, 75: -0.3801275637556456, 50: -0.30589050502618476, 25: -0.18841054663625612, 15: -0.14543461328004767, 10: -0.12010730385814669, 5: -0.07710783625845033, 1: -0.06486793961896992, 0: -0.06440445077176381}, 'log_odds': {100: 1.8672186, 99: 1.7454239, 95: 1.6643863, 90: 1.6689171, 85: 1.7058655, 75: 1.8370882, 50: 2.5508955, 25: 4.0342774, 15: 4.993719, 10: 5.581059, 5: 6.5389585, 1: 7.0300374, 0: 7.081043}, 'AUC_acc': 0.9104415164123902, 'AUC_auroc': 0.6956486235377162, 'AUC_preds': array([[0.9227399 , 0.07726004],\n",
      "       [0.94436765, 0.05563227],\n",
      "       [0.79486144, 0.2051386 ],\n",
      "       ...,\n",
      "       [0.9606009 , 0.0393991 ],\n",
      "       [0.66732806, 0.3326721 ],\n",
      "       [0.9394439 , 0.06055597]], dtype=float32), 'AUC_log_likelihood': -0.273065927422373, 'AUC_log_odds': 3.1634588587284087}, 'pro_in': {'acc': {100: 0.970873786407767, 99: 0.9713361072584373, 95: 0.9736477115117892, 90: 0.9731853906611189, 85: 0.9727230698104484, 75: 0.9722607489597781, 50: 0.9699491447064262, 25: 0.9722607489597781, 15: 0.9717984281091078, 10: 0.9731853906611189, 5: 0.9699491447064262, 1: 0.9477577438742487, 0: 0.9232547387887193}, 'auroc': {100: 0.9897165024645402, 99: 0.9898492316788436, 95: 0.9897074527453831, 90: 0.9895053423508757, 85: 0.9894570771820381, 75: 0.9887421493686313, 50: 0.9868251171938631, 25: 0.9841267925985364, 15: 0.9848658529963621, 10: 0.9812912139293277, 5: 0.973865165217706, 1: 0.9597287497511326, 0: 0.5108958618650868}, 'preds': {100: array([[9.9999797e-01, 1.9824442e-06],\n",
      "       [1.0000000e+00, 1.5539488e-12],\n",
      "       [9.9999928e-01, 7.4386162e-07],\n",
      "       ...,\n",
      "       [9.9990880e-01, 9.1238806e-05],\n",
      "       [1.7494811e-01, 8.2505190e-01],\n",
      "       [9.9978656e-01, 2.1347396e-04]], dtype=float32), 99: array([[9.9999797e-01, 2.0225725e-06],\n",
      "       [1.0000000e+00, 1.1440695e-12],\n",
      "       [9.9999928e-01, 7.0091102e-07],\n",
      "       ...,\n",
      "       [9.9990392e-01, 9.6132484e-05],\n",
      "       [1.5245534e-01, 8.4754467e-01],\n",
      "       [9.9979538e-01, 2.0468424e-04]], dtype=float32), 95: array([[9.9999809e-01, 1.9545150e-06],\n",
      "       [1.0000000e+00, 9.6148480e-13],\n",
      "       [9.9999917e-01, 7.8425870e-07],\n",
      "       ...,\n",
      "       [9.9991226e-01, 8.7711516e-05],\n",
      "       [1.6176917e-01, 8.3823085e-01],\n",
      "       [9.9978918e-01, 2.1079177e-04]], dtype=float32), 90: array([[9.9999928e-01, 7.2056702e-07],\n",
      "       [1.0000000e+00, 7.0100636e-13],\n",
      "       [9.9999940e-01, 5.6795517e-07],\n",
      "       ...,\n",
      "       [9.9991179e-01, 8.8256536e-05],\n",
      "       [1.7852056e-01, 8.2147944e-01],\n",
      "       [9.9978489e-01, 2.1513028e-04]], dtype=float32), 85: array([[9.9999881e-01, 1.1543056e-06],\n",
      "       [1.0000000e+00, 1.0261224e-12],\n",
      "       [9.9999940e-01, 5.4605027e-07],\n",
      "       ...,\n",
      "       [9.9991429e-01, 8.5644642e-05],\n",
      "       [1.7803720e-01, 8.2196283e-01],\n",
      "       [9.9980348e-01, 1.9651608e-04]], dtype=float32), 75: array([[9.9999869e-01, 1.3560555e-06],\n",
      "       [1.0000000e+00, 1.6991499e-12],\n",
      "       [9.9999952e-01, 4.5630173e-07],\n",
      "       ...,\n",
      "       [9.9993646e-01, 6.3539817e-05],\n",
      "       [1.7930734e-01, 8.2069266e-01],\n",
      "       [9.9984694e-01, 1.5302155e-04]], dtype=float32), 50: array([[9.9999845e-01, 1.5097305e-06],\n",
      "       [9.9999976e-01, 2.0103501e-07],\n",
      "       [9.9999976e-01, 2.3535675e-07],\n",
      "       ...,\n",
      "       [9.9990165e-01, 9.8359807e-05],\n",
      "       [3.0163330e-01, 6.9836676e-01],\n",
      "       [9.9986303e-01, 1.3693982e-04]], dtype=float32), 25: array([[9.99997735e-01, 2.30556907e-06],\n",
      "       [9.99984384e-01, 1.56199785e-05],\n",
      "       [9.99998331e-01, 1.60986997e-06],\n",
      "       ...,\n",
      "       [9.99895930e-01, 1.04032224e-04],\n",
      "       [3.74501258e-01, 6.25498712e-01],\n",
      "       [9.99641299e-01, 3.58715915e-04]], dtype=float32), 15: array([[9.9999380e-01, 6.2302979e-06],\n",
      "       [9.9911839e-01, 8.8160066e-04],\n",
      "       [9.9991584e-01, 8.4213956e-05],\n",
      "       ...,\n",
      "       [9.9990582e-01, 9.4190793e-05],\n",
      "       [5.5982494e-01, 4.4017512e-01],\n",
      "       [9.9971956e-01, 2.8036808e-04]], dtype=float32), 10: array([[9.9995339e-01, 4.6594036e-05],\n",
      "       [9.9883038e-01, 1.1695859e-03],\n",
      "       [9.9937648e-01, 6.2351278e-04],\n",
      "       ...,\n",
      "       [9.9969625e-01, 3.0377918e-04],\n",
      "       [5.6157535e-01, 4.3842471e-01],\n",
      "       [9.9979252e-01, 2.0749298e-04]], dtype=float32), 5: array([[9.9998033e-01, 1.9669606e-05],\n",
      "       [9.9642205e-01, 3.5779234e-03],\n",
      "       [9.9966955e-01, 3.3039984e-04],\n",
      "       ...,\n",
      "       [9.9896491e-01, 1.0351500e-03],\n",
      "       [6.1718625e-01, 3.8281378e-01],\n",
      "       [9.9945921e-01, 5.4080406e-04]], dtype=float32), 1: array([[9.9985909e-01, 1.4091669e-04],\n",
      "       [9.9679428e-01, 3.2056861e-03],\n",
      "       [9.3565571e-01, 6.4344354e-02],\n",
      "       ...,\n",
      "       [9.9104440e-01, 8.9555718e-03],\n",
      "       [7.1948820e-01, 2.8051174e-01],\n",
      "       [9.5121825e-01, 4.8781741e-02]], dtype=float32), 0: array([[0.90076786, 0.09923208],\n",
      "       [0.90076786, 0.09923208],\n",
      "       [0.90076786, 0.09923208],\n",
      "       ...,\n",
      "       [0.90076786, 0.09923208],\n",
      "       [0.90076786, 0.09923208],\n",
      "       [0.90076786, 0.09923208]], dtype=float32)}, 'log_likelihood': {100: -0.06440445080879281, 99: -0.06443665630183676, 95: -0.06474708379500073, 90: -0.06522387752265553, 85: -0.06571004272761133, 75: -0.06738993801075444, 50: -0.07169692177829128, 25: -0.07432321928978476, 15: -0.0734494256826112, 10: -0.07581726783952619, 5: -0.08382405188307716, 1: -0.12311419870101475, 0: -0.2737912703107421}, 'log_odds': {100: 7.081043, 99: 7.1170664, 95: 7.2068934, 90: 7.2746253, 85: 7.3178945, 75: 7.35766, 50: 7.374073, 25: 7.101272, 15: 6.740959, 10: 6.5076094, 5: 6.2951593, 1: 4.9748683, 0: 1.8672185}, 'AUC_acc': 0.9708460471567267, 'AUC_auroc': 0.9831756708858468, 'AUC_preds': array([[9.9949539e-01, 5.0465466e-04],\n",
      "       [9.9913538e-01, 8.6469221e-04],\n",
      "       [9.9784231e-01, 2.1576753e-03],\n",
      "       ...,\n",
      "       [9.9913955e-01, 8.6044247e-04],\n",
      "       [3.2689944e-01, 6.7310059e-01],\n",
      "       [9.9806356e-01, 1.9363967e-03]], dtype=float32), 'AUC_log_likelihood': -0.07327850145722542, 'AUC_log_odds': 7.071989147663117}}}\n"
     ]
    },
    {
     "name": "stderr",
     "output_type": "stream",
     "text": [
      "/vast/nj594/xai/helpers/evaluate.py:59: VisibleDeprecationWarning: Creating an ndarray from ragged nested sequences (which is a list-or-tuple of lists-or-tuples-or ndarrays with different lengths or shapes) is deprecated. If you meant to do this, you must specify 'dtype=object' when creating the ndarray\n",
      "  r_ = np.array([[float(p), n] for p,n in r.items()])\n"
     ]
    }
   ],
   "source": [
    "methods = ['fastshap', 'fastshap-data', 'kernelshap', 'smoothgrad', \n",
    "           'integratedgradients', 'kernelshap_s', 'kernelshap_s-data', 'realx', 'realx-data']\n",
    "results = {}\n",
    "for method in ['fastshap-dkl', 'kernelshap_s-dkl']:\n",
    "    print(method)\n",
    "    results[method] = {} \n",
    "    ## Load Explanations\n",
    "    if method  not in ['smoothgrad', 'integratedgradients', 'realx', 'realx-data', 'gradcam']:\n",
    "        exp_file_retro = os.path.join('..', method, 'shap_values-retrospective.pkl')\n",
    "        exp_file_pro = os.path.join('..', method, 'shap_values-prospective.pkl')\n",
    "    elif method == 'gradcam':\n",
    "        exp_file_retro = os.path.join('..', method, 'explanations.pkl')\n",
    "        exp_file_pro = exp_file_retro\n",
    "    else:\n",
    "        exp_file_retro = os.path.join('..', method, 'explanations-retrospective.pkl')\n",
    "        exp_file_pro = os.path.join('..', method, 'explanations-prospective.pkl')\n",
    "        \n",
    "    with open(exp_file_retro, 'rb') as f:\n",
    "        explanations_retro = pickle.load(f)\n",
    "    with open(exp_file_pro, 'rb') as f:\n",
    "        explanations_pro = pickle.load(f)\n",
    "        \n",
    "    ## Evaluate Explanations\n",
    "    \n",
    "    ### Retrospective Evaluation\n",
    "\n",
    "    # Exclusion\n",
    "    results[method]['retro_ex'] = evaluate(X_test, explanations_retro, evaluator_model, y_test, y_test, \n",
    "                                           mode = 'exclude', method = method)\n",
    "    # Inclusion\n",
    "    results[method]['retro_in'] = evaluate(X_test, explanations_retro, evaluator_model, y_test, y_test, \n",
    "                                           mode = 'include', method = method)\n",
    "    \n",
    "    ### Prospective Evaluation \n",
    "\n",
    "    # Exclusion\n",
    "    results[method]['pro_ex'] = evaluate(X_test, explanations_pro, evaluator_model, preds_discrete, y_test, \n",
    "                                         mode = 'exclude', method = method)\n",
    "    # Inclusion\n",
    "    results[method]['pro_in'] = evaluate(X_test, explanations_pro, evaluator_model, preds_discrete, y_test, \n",
    "                                         mode = 'include', method = method) \n",
    "    print(results)\n",
    "    \n",
    "    with open('results-{}.pkl'.format(method), 'wb') as f:\n",
    "        pickle.dump(results[method], f)"
   ]
  },
  {
   "cell_type": "code",
   "execution_count": 9,
   "id": "8fcf07ff",
   "metadata": {},
   "outputs": [],
   "source": [
    "for method in ['fastshap-dkl', 'kernelshap_s-dkl']:\n",
    "    with open('results-{}.pkl'.format(method), 'rb') as f:\n",
    "        results[method] = pickle.load(f)"
   ]
  },
  {
   "cell_type": "code",
   "execution_count": 9,
   "id": "56ddb123",
   "metadata": {},
   "outputs": [],
   "source": [
    "# with open('results.pkl', 'wb') as f:\n",
    "#     pickle.dump(results, f)"
   ]
  },
  {
   "cell_type": "code",
   "execution_count": 8,
   "id": "c7557c4f",
   "metadata": {},
   "outputs": [],
   "source": [
    "with open('results.pkl', 'rb') as f:\n",
    "    results = pickle.load(f)"
   ]
  },
  {
   "cell_type": "code",
   "execution_count": 6,
   "id": "6d1ce23e",
   "metadata": {},
   "outputs": [],
   "source": [
    "results_master['gradcam'] = results['gradcam']"
   ]
  },
  {
   "cell_type": "code",
   "execution_count": 11,
   "id": "d49f9e8c",
   "metadata": {},
   "outputs": [],
   "source": [
    "with open('results.pkl', 'wb') as f:\n",
    "    pickle.dump(results, f)"
   ]
  },
  {
   "cell_type": "code",
   "execution_count": 10,
   "id": "c304dba4",
   "metadata": {},
   "outputs": [
    {
     "data": {
      "text/plain": [
       "dict_keys(['fastshap', 'fastshap-data', 'kernelshap', 'smoothgrad', 'integratedgradients', 'kernelshap_s', 'kernelshap_s-data', 'realx', 'realx-data', 'gradcam', 'lime', 'fastshap-dkl', 'kernelshap_s-dkl'])"
      ]
     },
     "execution_count": 10,
     "metadata": {},
     "output_type": "execute_result"
    }
   ],
   "source": [
    "results.keys()"
   ]
  },
  {
   "cell_type": "code",
   "execution_count": null,
   "id": "ea640914",
   "metadata": {},
   "outputs": [],
   "source": []
  }
 ],
 "metadata": {
  "kernelspec": {
   "display_name": "Python 3 (ipykernel)",
   "language": "python",
   "name": "python3"
  },
  "language_info": {
   "codemirror_mode": {
    "name": "ipython",
    "version": 3
   },
   "file_extension": ".py",
   "mimetype": "text/x-python",
   "name": "python",
   "nbconvert_exporter": "python",
   "pygments_lexer": "ipython3",
   "version": "3.7.9"
  }
 },
 "nbformat": 4,
 "nbformat_minor": 5
}
